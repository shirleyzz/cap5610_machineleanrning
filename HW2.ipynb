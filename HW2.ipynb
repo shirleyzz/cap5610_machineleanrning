{
  "nbformat": 4,
  "nbformat_minor": 0,
  "metadata": {
    "colab": {
      "name": "HW2.ipynb",
      "version": "0.3.2",
      "provenance": [],
      "collapsed_sections": [],
      "include_colab_link": true
    },
    "kernelspec": {
      "name": "python3",
      "display_name": "Python 3"
    }
  },
  "cells": [
    {
      "cell_type": "markdown",
      "metadata": {
        "id": "view-in-github",
        "colab_type": "text"
      },
      "source": [
        "<a href=\"https://colab.research.google.com/github/shirleyzz/cap5610_machineleanrning/blob/master/HW2.ipynb\" target=\"_parent\"><img src=\"https://colab.research.google.com/assets/colab-badge.svg\" alt=\"Open In Colab\"/></a>"
      ]
    },
    {
      "metadata": {
        "id": "4sOVBIfb8_E9",
        "colab_type": "code",
        "colab": {}
      },
      "cell_type": "code",
      "source": [
        "#Use logistic regression with binary cross entropy loss.\n",
        "def sigmoid(z):\n",
        "    s = 1/(1 + np.exp(-z))\n",
        "    return s\n",
        "def log_likelihood(features, target, weights):\n",
        "    scores = np.dot(features, weights)\n",
        "    ll = np.sum( target*scores - np.log(1 + np.exp(scores)) )\n",
        "    return ll\n",
        "  \n",
        "  \n",
        "def logistic_regression(features, target, num_steps, learning_rate, add_intercept = False):\n",
        "    if add_intercept:\n",
        "        intercept = np.ones((features.shape[0], 1))\n",
        "        features = np.hstack((intercept, features))\n",
        "        \n",
        "    weights = np.zeros(features.shape[1])\n",
        "    \n",
        "    for step in xrange(num_steps):\n",
        "        scores = np.dot(features, weights)\n",
        "        predictions = sigmoid(scores)\n",
        "\n",
        "        # Update weights with gradient\n",
        "        output_error_signal = target - predictions\n",
        "        gradient = np.dot(features.T, output_error_signal)\n",
        "        weights += learning_rate * gradient\n",
        "        \n",
        "        # Print log-likelihood every so often\n",
        "        if step % 10000 == 0:\n",
        "            print(log_likelihood(features, target, weights))\n",
        "        \n",
        "    return weights\n",
        "\n"
      ],
      "execution_count": 0,
      "outputs": []
    },
    {
      "metadata": {
        "id": "JME0t2EO982L",
        "colab_type": "code",
        "colab": {
          "base_uri": "https://localhost:8080/",
          "height": 163
        },
        "outputId": "f13bb6b3-3ace-4065-d2d2-e62363ffafaa"
      },
      "cell_type": "code",
      "source": [
        "simulated_separableish_features, \n",
        "weights = logistic_regression(simulated_separableish_features, simulated_labels, num_steps = 300000, learning_rate = 5e-5, add_intercept=True)"
      ],
      "execution_count": 3,
      "outputs": [
        {
          "output_type": "error",
          "ename": "NameError",
          "evalue": "ignored",
          "traceback": [
            "\u001b[0;31m---------------------------------------------------------------------------\u001b[0m",
            "\u001b[0;31mNameError\u001b[0m                                 Traceback (most recent call last)",
            "\u001b[0;32m<ipython-input-3-14bde5f8f01b>\u001b[0m in \u001b[0;36m<module>\u001b[0;34m()\u001b[0m\n\u001b[0;32m----> 1\u001b[0;31m \u001b[0mweights\u001b[0m \u001b[0;34m=\u001b[0m \u001b[0mlogistic_regression\u001b[0m\u001b[0;34m(\u001b[0m\u001b[0msimulated_separableish_features\u001b[0m\u001b[0;34m,\u001b[0m \u001b[0msimulated_labels\u001b[0m\u001b[0;34m,\u001b[0m \u001b[0mnum_steps\u001b[0m \u001b[0;34m=\u001b[0m \u001b[0;36m300000\u001b[0m\u001b[0;34m,\u001b[0m \u001b[0mlearning_rate\u001b[0m \u001b[0;34m=\u001b[0m \u001b[0;36m5e-5\u001b[0m\u001b[0;34m,\u001b[0m \u001b[0madd_intercept\u001b[0m\u001b[0;34m=\u001b[0m\u001b[0;32mTrue\u001b[0m\u001b[0;34m)\u001b[0m\u001b[0;34m\u001b[0m\u001b[0;34m\u001b[0m\u001b[0m\n\u001b[0m",
            "\u001b[0;31mNameError\u001b[0m: name 'simulated_separableish_features' is not defined"
          ]
        }
      ]
    },
    {
      "metadata": {
        "id": "EwA79rpN-DI6",
        "colab_type": "code",
        "colab": {}
      },
      "cell_type": "code",
      "source": [
        ""
      ],
      "execution_count": 0,
      "outputs": []
    }
  ]
}