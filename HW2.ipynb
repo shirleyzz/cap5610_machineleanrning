{
  "nbformat": 4,
  "nbformat_minor": 0,
  "metadata": {
    "colab": {
      "name": "HW2.ipynb",
      "version": "0.3.2",
      "provenance": [],
      "collapsed_sections": [],
      "include_colab_link": true
    },
    "kernelspec": {
      "name": "python3",
      "display_name": "Python 3"
    }
  },
  "cells": [
    {
      "cell_type": "markdown",
      "metadata": {
        "id": "view-in-github",
        "colab_type": "text"
      },
      "source": [
        "<a href=\"https://colab.research.google.com/github/shirleyzz/cap5610_machineleanrning/blob/master/HW2.ipynb\" target=\"_parent\"><img src=\"https://colab.research.google.com/assets/colab-badge.svg\" alt=\"Open In Colab\"/></a>"
      ]
    },
    {
      "metadata": {
        "id": "4sOVBIfb8_E9",
        "colab_type": "code",
        "colab": {}
      },
      "cell_type": "code",
      "source": [
        "import numpy as np\n",
        "#Use logistic regression with binary cross entropy loss.\n",
        "def sigmoid(x):\n",
        "    sig = 1/(1 + np.exp(-x))\n",
        "    return sig\n",
        "#calculate weights and bias  \n",
        "def forward(w, b, X, Y):\n",
        "    m = X.shape[1]\n",
        "    A = sigmoid(np.dot(w.T, X) + b)\n",
        "    loss = -1./m * np.sum(Y * np.log(A) + (1 - Y) * np.log(1-A)) \n",
        "    \n",
        "    dL = A - Y\n",
        "    dA = A * (1 - A) * dL\n",
        "    dw = (1/m) * np.dot(X, (A - Y).T)\n",
        "    db = (1/m) * np.sum(A - Y)\n",
        "    loss = np.squeeze(loss)\n",
        "    grads = {\"dw\": dw,\n",
        "             \"db\": db}\n",
        "    return grads, loss\n"
      ],
      "execution_count": 0,
      "outputs": []
    },
    {
      "metadata": {
        "id": "EwA79rpN-DI6",
        "colab_type": "code",
        "colab": {}
      },
      "cell_type": "code",
      "source": [
        ""
      ],
      "execution_count": 0,
      "outputs": []
    }
  ]
}