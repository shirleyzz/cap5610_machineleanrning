{
  "nbformat": 4,
  "nbformat_minor": 0,
  "metadata": {
    "colab": {
      "name": "HW4.ipynb",
      "version": "0.3.2",
      "provenance": [],
      "collapsed_sections": [],
      "include_colab_link": true
    },
    "kernelspec": {
      "name": "python3",
      "display_name": "Python 3"
    }
  },
  "cells": [
    {
      "cell_type": "markdown",
      "metadata": {
        "id": "view-in-github",
        "colab_type": "text"
      },
      "source": [
        "<a href=\"https://colab.research.google.com/github/shirleyzz/cap5610_machineleanrning/blob/master/HW4.ipynb\" target=\"_parent\"><img src=\"https://colab.research.google.com/assets/colab-badge.svg\" alt=\"Open In Colab\"/></a>"
      ]
    },
    {
      "metadata": {
        "id": "noWC8B-N9CdG",
        "colab_type": "code",
        "colab": {
          "base_uri": "https://localhost:8080/",
          "height": 765
        },
        "outputId": "d6570fbd-f924-45e7-a9ae-26e3afa18db9"
      },
      "cell_type": "code",
      "source": [
        "import numpy as np\n",
        "import tensorflow as tf\n",
        "import keras\n",
        "from keras.datasets import mnist\n",
        "from keras.utils import to_categorical\n",
        "from keras.models import Sequential\n",
        "from keras.layers import Dense\n",
        "\n",
        "\n",
        "# load train and test data\n",
        "(train_images_original, train_labels_original), (test_images_original, test_labels_original) = mnist.load_data()\n",
        "\n",
        "# preprocess data\n",
        "\n",
        "# this is a big mess\n",
        "# need to clean up\n",
        "\n",
        "train_images = train_images_original.reshape((60000, 28 * 28))\n",
        "train_images = train_images.astype('float32') / 255\n",
        "\n",
        "test_images = test_images_original.reshape((10000, 28 * 28))\n",
        "test_images = test_images.astype('float32') / 255\n",
        "\n",
        "#train_labels = to_categorical(train_labels_original)\n",
        "train_labels = to_categorical(train_labels_original, num_classes=10) \n",
        "#train_labels = train_labels.reshape((60000, 10, 1))\n",
        "\n",
        "#test_labels = to_categorical(test_labels_original)\n",
        "test_labels = to_categorical(test_labels_original, num_classes=10)\n",
        "#test_labels = test_labels.reshape(10000, 10, 1)\n",
        "\n",
        "\n",
        "# set up the layers\n",
        "\n",
        "model = keras.Sequential([\n",
        "    keras.layers.Dense(10, input_dim=784, activation=tf.nn.softmax)\n",
        "])\n",
        "\n",
        "\n",
        "# compile the model\n",
        "\n",
        "model.compile(optimizer='adam',\n",
        "             loss='categorical_crossentropy',\n",
        "             metrics=['accuracy'])\n",
        "\n",
        "# train the model\n",
        "epochs = 20\n",
        "history = model.fit(train_images, \n",
        "                      train_labels, \n",
        "                      epochs=epochs,  \n",
        "                      validation_data=(test_images, test_labels))"
      ],
      "execution_count": 14,
      "outputs": [
        {
          "output_type": "stream",
          "text": [
            "WARNING:tensorflow:From /usr/local/lib/python3.6/dist-packages/tensorflow/python/ops/math_ops.py:3066: to_int32 (from tensorflow.python.ops.math_ops) is deprecated and will be removed in a future version.\n",
            "Instructions for updating:\n",
            "Use tf.cast instead.\n",
            "Train on 60000 samples, validate on 10000 samples\n",
            "Epoch 1/20\n",
            "60000/60000 [==============================] - 4s 60us/step - loss: 0.4670 - acc: 0.8777 - val_loss: 0.3061 - val_acc: 0.9151\n",
            "Epoch 2/20\n",
            "60000/60000 [==============================] - 3s 49us/step - loss: 0.3035 - acc: 0.9149 - val_loss: 0.2823 - val_acc: 0.9201\n",
            "Epoch 3/20\n",
            "60000/60000 [==============================] - 3s 49us/step - loss: 0.2828 - acc: 0.9206 - val_loss: 0.2783 - val_acc: 0.9221\n",
            "Epoch 4/20\n",
            "60000/60000 [==============================] - 3s 49us/step - loss: 0.2728 - acc: 0.9242 - val_loss: 0.2668 - val_acc: 0.9251\n",
            "Epoch 5/20\n",
            "60000/60000 [==============================] - 3s 49us/step - loss: 0.2666 - acc: 0.9255 - val_loss: 0.2640 - val_acc: 0.9263\n",
            "Epoch 6/20\n",
            "60000/60000 [==============================] - 3s 49us/step - loss: 0.2614 - acc: 0.9274 - val_loss: 0.2653 - val_acc: 0.9268\n",
            "Epoch 7/20\n",
            "60000/60000 [==============================] - 3s 48us/step - loss: 0.2581 - acc: 0.9286 - val_loss: 0.2661 - val_acc: 0.9251\n",
            "Epoch 8/20\n",
            "60000/60000 [==============================] - 3s 49us/step - loss: 0.2546 - acc: 0.9292 - val_loss: 0.2675 - val_acc: 0.9278\n",
            "Epoch 9/20\n",
            "60000/60000 [==============================] - 3s 49us/step - loss: 0.2524 - acc: 0.9301 - val_loss: 0.2667 - val_acc: 0.9255\n",
            "Epoch 10/20\n",
            "60000/60000 [==============================] - 3s 49us/step - loss: 0.2509 - acc: 0.9300 - val_loss: 0.2664 - val_acc: 0.9269\n",
            "Epoch 11/20\n",
            "60000/60000 [==============================] - 3s 49us/step - loss: 0.2492 - acc: 0.9309 - val_loss: 0.2670 - val_acc: 0.9254\n",
            "Epoch 12/20\n",
            "60000/60000 [==============================] - 3s 49us/step - loss: 0.2473 - acc: 0.9322 - val_loss: 0.2667 - val_acc: 0.9259\n",
            "Epoch 13/20\n",
            "60000/60000 [==============================] - 3s 49us/step - loss: 0.2457 - acc: 0.9316 - val_loss: 0.2655 - val_acc: 0.9279\n",
            "Epoch 14/20\n",
            "60000/60000 [==============================] - 3s 49us/step - loss: 0.2451 - acc: 0.9319 - val_loss: 0.2660 - val_acc: 0.9273\n",
            "Epoch 15/20\n",
            "60000/60000 [==============================] - 3s 49us/step - loss: 0.2437 - acc: 0.9330 - val_loss: 0.2637 - val_acc: 0.9292\n",
            "Epoch 16/20\n",
            "60000/60000 [==============================] - 3s 49us/step - loss: 0.2426 - acc: 0.9333 - val_loss: 0.2667 - val_acc: 0.9284\n",
            "Epoch 17/20\n",
            "60000/60000 [==============================] - 3s 49us/step - loss: 0.2409 - acc: 0.9338 - val_loss: 0.2662 - val_acc: 0.9276\n",
            "Epoch 18/20\n",
            "60000/60000 [==============================] - 3s 49us/step - loss: 0.2408 - acc: 0.9335 - val_loss: 0.2700 - val_acc: 0.9259\n",
            "Epoch 19/20\n",
            "60000/60000 [==============================] - 3s 49us/step - loss: 0.2398 - acc: 0.9340 - val_loss: 0.2680 - val_acc: 0.9283\n",
            "Epoch 20/20\n",
            "60000/60000 [==============================] - 3s 49us/step - loss: 0.2389 - acc: 0.9340 - val_loss: 0.2713 - val_acc: 0.9255\n"
          ],
          "name": "stdout"
        }
      ]
    },
    {
      "metadata": {
        "id": "EYkVgzE2sJyO",
        "colab_type": "code",
        "colab": {}
      },
      "cell_type": "code",
      "source": [
        ""
      ],
      "execution_count": 0,
      "outputs": []
    }
  ]
}