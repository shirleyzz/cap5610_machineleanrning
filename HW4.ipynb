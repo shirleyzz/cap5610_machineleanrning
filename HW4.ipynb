{
  "nbformat": 4,
  "nbformat_minor": 0,
  "metadata": {
    "colab": {
      "name": "HW4.ipynb",
      "version": "0.3.2",
      "provenance": [],
      "collapsed_sections": [],
      "include_colab_link": true
    },
    "kernelspec": {
      "name": "python3",
      "display_name": "Python 3"
    }
  },
  "cells": [
    {
      "cell_type": "markdown",
      "metadata": {
        "id": "view-in-github",
        "colab_type": "text"
      },
      "source": [
        "<a href=\"https://colab.research.google.com/github/shirleyzz/cap5610_machineleanrning/blob/master/HW4.ipynb\" target=\"_parent\"><img src=\"https://colab.research.google.com/assets/colab-badge.svg\" alt=\"Open In Colab\"/></a>"
      ]
    },
    {
      "metadata": {
        "id": "noWC8B-N9CdG",
        "colab_type": "code",
        "outputId": "8f276f2c-a674-4515-a643-602408c354b0",
        "colab": {
          "base_uri": "https://localhost:8080/",
          "height": 714
        }
      },
      "cell_type": "code",
      "source": [
        "import numpy as np\n",
        "import tensorflow as tf\n",
        "import keras\n",
        "from keras.datasets import mnist\n",
        "from keras.utils import to_categorical\n",
        "from keras.models import Sequential\n",
        "from keras.layers import Dense\n",
        "from keras import optimizers\n",
        "\n",
        "\n",
        "\n",
        "# load train and test data\n",
        "(train_images_original, train_labels_original), (test_images_original, test_labels_original) = mnist.load_data()\n",
        "\n",
        "# preprocess data\n",
        "\n",
        "train_images = train_images_original.reshape((60000, 28 * 28))\n",
        "train_images = train_images.astype('float32') / 255\n",
        "\n",
        "test_images = test_images_original.reshape((10000, 28 * 28))\n",
        "test_images = test_images.astype('float32') / 255\n",
        "\n",
        "train_labels = to_categorical(train_labels_original, num_classes=10) \n",
        "test_labels = to_categorical(test_labels_original, num_classes=10)\n",
        "\n",
        "# set up layers\n",
        "model = keras.Sequential([\n",
        "    keras.layers.Dense(10, input_dim=784, activation=tf.nn.softmax)\n",
        "])\n",
        "\n",
        "sgd = optimizers.SGD(lr=0.01, decay=1e-6, momentum=0.9, nesterov=True)\n",
        "# compile the model\n",
        "model.compile(optimizer=sgd, loss='categorical_crossentropy',metrics=['accuracy'])\n",
        "\n",
        "# model.compile(optimizer='adam',\n",
        "#              loss='categorical_crossentropy',\n",
        "#              metrics=['accuracy'])\n",
        "\n",
        "# train the model\n",
        "epochs = 20\n",
        "history = model.fit(train_images, \n",
        "                      train_labels, \n",
        "                      epochs=epochs,  \n",
        "                      validation_data=(test_images, test_labels))"
      ],
      "execution_count": 7,
      "outputs": [
        {
          "output_type": "stream",
          "text": [
            "Train on 60000 samples, validate on 10000 samples\n",
            "Epoch 1/20\n",
            "60000/60000 [==============================] - 3s 54us/step - loss: 0.4178 - acc: 0.8855 - val_loss: 0.3102 - val_acc: 0.9128\n",
            "Epoch 2/20\n",
            "60000/60000 [==============================] - 3s 50us/step - loss: 0.3128 - acc: 0.9122 - val_loss: 0.2940 - val_acc: 0.9189\n",
            "Epoch 3/20\n",
            "60000/60000 [==============================] - 3s 49us/step - loss: 0.2965 - acc: 0.9165 - val_loss: 0.2803 - val_acc: 0.9215\n",
            "Epoch 4/20\n",
            "60000/60000 [==============================] - 3s 50us/step - loss: 0.2874 - acc: 0.9198 - val_loss: 0.2759 - val_acc: 0.9225\n",
            "Epoch 5/20\n",
            "60000/60000 [==============================] - 3s 49us/step - loss: 0.2817 - acc: 0.9216 - val_loss: 0.2761 - val_acc: 0.9214\n",
            "Epoch 6/20\n",
            "60000/60000 [==============================] - 3s 49us/step - loss: 0.2772 - acc: 0.9223 - val_loss: 0.2728 - val_acc: 0.9236\n",
            "Epoch 7/20\n",
            "60000/60000 [==============================] - 3s 49us/step - loss: 0.2733 - acc: 0.9236 - val_loss: 0.2739 - val_acc: 0.9214\n",
            "Epoch 8/20\n",
            "60000/60000 [==============================] - 3s 49us/step - loss: 0.2711 - acc: 0.9241 - val_loss: 0.2740 - val_acc: 0.9227\n",
            "Epoch 9/20\n",
            "60000/60000 [==============================] - 3s 50us/step - loss: 0.2687 - acc: 0.9249 - val_loss: 0.2659 - val_acc: 0.9238\n",
            "Epoch 10/20\n",
            "60000/60000 [==============================] - 3s 49us/step - loss: 0.2666 - acc: 0.9262 - val_loss: 0.2702 - val_acc: 0.9251\n",
            "Epoch 11/20\n",
            "60000/60000 [==============================] - 3s 49us/step - loss: 0.2649 - acc: 0.9267 - val_loss: 0.2683 - val_acc: 0.9258\n",
            "Epoch 12/20\n",
            "60000/60000 [==============================] - 3s 49us/step - loss: 0.2633 - acc: 0.9268 - val_loss: 0.2704 - val_acc: 0.9240\n",
            "Epoch 13/20\n",
            "60000/60000 [==============================] - 3s 49us/step - loss: 0.2616 - acc: 0.9271 - val_loss: 0.2707 - val_acc: 0.9243\n",
            "Epoch 14/20\n",
            "60000/60000 [==============================] - 3s 49us/step - loss: 0.2608 - acc: 0.9279 - val_loss: 0.2716 - val_acc: 0.9238\n",
            "Epoch 15/20\n",
            "60000/60000 [==============================] - 3s 49us/step - loss: 0.2596 - acc: 0.9274 - val_loss: 0.2687 - val_acc: 0.9253\n",
            "Epoch 16/20\n",
            "60000/60000 [==============================] - 3s 50us/step - loss: 0.2585 - acc: 0.9287 - val_loss: 0.2694 - val_acc: 0.9238\n",
            "Epoch 17/20\n",
            "60000/60000 [==============================] - 3s 49us/step - loss: 0.2576 - acc: 0.9281 - val_loss: 0.2696 - val_acc: 0.9234\n",
            "Epoch 18/20\n",
            "60000/60000 [==============================] - 3s 49us/step - loss: 0.2565 - acc: 0.9291 - val_loss: 0.2653 - val_acc: 0.9263\n",
            "Epoch 19/20\n",
            "60000/60000 [==============================] - 3s 49us/step - loss: 0.2555 - acc: 0.9294 - val_loss: 0.2717 - val_acc: 0.9231\n",
            "Epoch 20/20\n",
            "60000/60000 [==============================] - 3s 50us/step - loss: 0.2548 - acc: 0.9296 - val_loss: 0.2659 - val_acc: 0.9257\n"
          ],
          "name": "stdout"
        }
      ]
    },
    {
      "metadata": {
        "id": "EYkVgzE2sJyO",
        "colab_type": "code",
        "colab": {}
      },
      "cell_type": "code",
      "source": [
        ""
      ],
      "execution_count": 0,
      "outputs": []
    }
  ]
}