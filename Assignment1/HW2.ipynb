{
  "nbformat": 4,
  "nbformat_minor": 0,
  "metadata": {
    "colab": {
      "name": "HW2.ipynb",
      "version": "0.3.2",
      "provenance": [],
      "collapsed_sections": [],
      "include_colab_link": true
    },
    "kernelspec": {
      "name": "python3",
      "display_name": "Python 3"
    }
  },
  "cells": [
    {
      "cell_type": "markdown",
      "metadata": {
        "id": "view-in-github",
        "colab_type": "text"
      },
      "source": [
        "<a href=\"https://colab.research.google.com/github/shirleyzz/cap5610_machineleanrning/blob/master/HW2.ipynb\" target=\"_parent\"><img src=\"https://colab.research.google.com/assets/colab-badge.svg\" alt=\"Open In Colab\"/></a>"
      ]
    },
    {
      "metadata": {
        "id": "YxtoTwJz71fi",
        "colab_type": "code",
        "colab": {}
      },
      "cell_type": "code",
      "source": [
        "#using logistic regression with cross entropy\n",
        "from keras.datasets import mnist\n",
        "import numpy as np\n",
        "from keras import backend as K\n",
        "import keras\n",
        "from keras.utils import to_categorical"
      ],
      "execution_count": 0,
      "outputs": []
    },
    {
      "metadata": {
        "id": "bKebYiAev5mF",
        "colab_type": "code",
        "colab": {}
      },
      "cell_type": "code",
      "source": [
        "(x_train_origin, y_train_origin),(x_test_origin, y_test_origin) = mnist.load_data()"
      ],
      "execution_count": 0,
      "outputs": []
    },
    {
      "metadata": {
        "id": "DFGBm3h_CXOb",
        "colab_type": "code",
        "colab": {}
      },
      "cell_type": "code",
      "source": [
        "#classifier of flag, equals target number\n",
        "def convert_labels(df,flag=0):\n",
        "  for item in range(df.shape[0]):\n",
        "    if df[item] == flag:\n",
        "      df[item] = 1\n",
        "    else:\n",
        "      df[item] = 0\n",
        "  return df"
      ],
      "execution_count": 0,
      "outputs": []
    },
    {
      "metadata": {
        "id": "hVWJ8ysK-CmP",
        "colab_type": "code",
        "colab": {}
      },
      "cell_type": "code",
      "source": [
        "from imblearn.over_sampling import RandomOverSampler\n",
        "def preprocessing(flag=0,oversampling=False):\n",
        "  x_train = x_train_origin.reshape((60000, 28 * 28))\n",
        "  x_test = x_test_origin.reshape((10000, 28 * 28))\n",
        "  #set the flag to be the one classifier you choose\n",
        "  train_labels = convert_labels(y_train_origin,flag)\n",
        "  test_labels = convert_labels(y_test_origin,flag)\n",
        "  #set oversampling\n",
        "  if(oversampling):\n",
        "    ros = RandomOverSampler(random_state=3)\n",
        "    x_train, train_labels = ros.fit_resample(x_train, train_labels)\n",
        " # print(x_train.shape)\n",
        "  train_labels = train_labels.reshape(1,train_labels.shape[0])\n",
        "  test_labels = test_labels.reshape(1,test_labels.shape[0])\n",
        "  x_train = x_train.reshape(x_train.shape[0],-1).T\n",
        "  x_test = x_test.reshape(x_test.shape[0],-1).T\n",
        "  x_train = x_train.astype('float32') / 255.0\n",
        "  x_test = x_test.astype('float32') / 255.0\n",
        "  #print(x_train.shape)\n",
        "  #check whether labels are good\n",
        "  #print(len(train_labels[train_labels==1]))\n",
        "  return x_train,train_labels,x_test,test_labels"
      ],
      "execution_count": 0,
      "outputs": []
    },
    {
      "metadata": {
        "id": "jlFgDMdB-sHg",
        "colab_type": "text"
      },
      "cell_type": "markdown",
      "source": [
        "Each of the ten classifiers has an input layer consisting of 28 x 28 input neurons and an output layer consisting of a single output neuron.\n",
        "\n",
        "\n",
        "\n"
      ]
    },
    {
      "metadata": {
        "id": "LVDgI6FHHokM",
        "colab_type": "code",
        "colab": {}
      },
      "cell_type": "code",
      "source": [
        "def sigmoid(x):\n",
        "  z = 1.0/(1.0+np.exp(-x))\n",
        "  return z"
      ],
      "execution_count": 0,
      "outputs": []
    },
    {
      "metadata": {
        "id": "THW9q3YPc61M",
        "colab_type": "code",
        "colab": {}
      },
      "cell_type": "code",
      "source": [
        "def w_b_initialize(dim):\n",
        "    w = np.zeros((dim,1))\n",
        "    b = 0  \n",
        "    return w, b"
      ],
      "execution_count": 0,
      "outputs": []
    },
    {
      "metadata": {
        "id": "csh05ZwdzEYI",
        "colab_type": "code",
        "colab": {}
      },
      "cell_type": "code",
      "source": [
        "def forward_propagate(w, b, X, Y):\n",
        "    m = X.shape[1]\n",
        "    #print(\"m shape = \", str(m))\n",
        "    A = sigmoid(np.dot(w.T, X) + b)\n",
        "    loss = -1./m * np.sum(Y * np.log(A) + (1 - Y) * np.log(1-A))\n",
        "    dw = (1/m)*np.dot(X,(A-Y).T)\n",
        "    db = 1/m*np.sum(A-Y)\n",
        "    \n",
        "    loss = np.squeeze(loss)\n",
        "    grads = {\"dw\": dw,\n",
        "             \"db\": db}\n",
        "    return grads, loss"
      ],
      "execution_count": 0,
      "outputs": []
    },
    {
      "metadata": {
        "id": "n7-6XBUXTBRI",
        "colab_type": "code",
        "colab": {}
      },
      "cell_type": "code",
      "source": [
        "def optimize(w, b, X, Y, num_iters, batch_size, learning_rate, print_cost):\n",
        "   \n",
        "    costs = []\n",
        "    m = X.shape[1]\n",
        "    for i in range(num_iters):\n",
        "        #cost_batch is used to collect the cost during one iteration over different batches\n",
        "        cost_batch = []\n",
        "        #stochastic gradient descent\n",
        "        shuffled_indices = np.random.permutation(m)\n",
        "        X_shuffled = X[:,shuffled_indices]\n",
        "        y_shuffled = Y[:,shuffled_indices]\n",
        "        #apply mini-batch\n",
        "        for j in range(0, m, batch_size):\n",
        "            x_batch = X_shuffled[:, j:j+batch_size]\n",
        "            y_batch = y_shuffled[:, j:j+batch_size]\n",
        "            grads, cost = forward_propagate(w, b, x_batch, y_batch)\n",
        "            dw = grads[\"dw\"]\n",
        "            db = grads[\"db\"]\n",
        "            w = w - learning_rate *  dw    \n",
        "            b = b - learning_rate *  db\n",
        "            cost_batch.append(cost)\n",
        "            # the cost of one iteration is the average number over batches\n",
        "            cost = np.mean(cost_batch)\n",
        "        costs.append(cost)            \n",
        "        if print_cost:\n",
        "            print (\"Cost after iteration %i: %f\" % (i+1, cost))\n",
        "    \n",
        "    params = {\"w\": w,\n",
        "              \"b\": b}\n",
        "    \n",
        "    grads = {\"dw\": dw,\n",
        "             \"db\": db}\n",
        "    \n",
        "    return params, grads, costs"
      ],
      "execution_count": 0,
      "outputs": []
    },
    {
      "metadata": {
        "id": "TXSC79lMdoRk",
        "colab_type": "code",
        "colab": {}
      },
      "cell_type": "code",
      "source": [
        "#  predict\n",
        "def predict(w, b, X):\n",
        "    m = X.shape[1]\n",
        "    Y_pred = np.zeros((1, m))\n",
        "    w = w.reshape(X.shape[0], 1)\n",
        "    \n",
        "    \n",
        "    A = sigmoid(np.dot(w.T, X) + b)\n",
        "       \n",
        "    for i in range(A.shape[0]):\n",
        "        if A[0][i] <= 0.5:\n",
        "            Y_pred[0, i] = 0\n",
        "        else:\n",
        "            Y_pred[0, i] = 1\n",
        "    return Y_pred"
      ],
      "execution_count": 0,
      "outputs": []
    },
    {
      "metadata": {
        "id": "AfTknRu9dvQ9",
        "colab_type": "code",
        "colab": {}
      },
      "cell_type": "code",
      "source": [
        "def model(X_train, Y_train, X_test, Y_test, num_iters=2000, batch_size=20000, learning_rate=0.5, print_cost=False):\n",
        "\n",
        "    \n",
        "    w, b = w_b_initialize(X_train.shape[0])                          \n",
        "\n",
        "    parameters, grads, costs = optimize(w, b, X_train, Y_train, num_iters,batch_size, learning_rate, print_cost=False)     \n",
        "   \n",
        "\n",
        "    w = parameters[\"w\"]\n",
        "    b = parameters[\"b\"]\n",
        "    \n",
        "    # predict test/train set examples \n",
        "    Y_pred_test = predict(w, b, X_test)\n",
        "    Y_pred_train = predict(w, b, X_train)\n",
        "\n",
        "    # print train/test Errors\n",
        "    print(\"\")\n",
        "    print(\"train accuracy: {} %\".format(100 - np.mean(np.abs(Y_pred_train - Y_train)) * 100))\n",
        "    print(\"test accuracy: {} %\".format(100 - np.mean(np.abs(Y_pred_test - Y_test)) * 100))\n",
        "    repr('train accuracy')\n",
        "  \n",
        "    d = {\"costs\": costs,\n",
        "         \"Y_pred_test\": Y_pred_test, \n",
        "         \"Y_pred_train\" : Y_pred_train, \n",
        "         \"w\" : w, \n",
        "         \"b\" : b,\n",
        "         \"learning_rate\" : learning_rate,\n",
        "         \"num_iters\": num_iters}\n",
        "    \n",
        "    return d"
      ],
      "execution_count": 0,
      "outputs": []
    },
    {
      "metadata": {
        "id": "Sixc9gOhEoQo",
        "colab_type": "code",
        "outputId": "f4434147-7129-42a7-997c-e06de022168b",
        "colab": {
          "base_uri": "https://localhost:8080/",
          "height": 69
        }
      },
      "cell_type": "code",
      "source": [
        "#choose number=0, implement model without over-sampling\n",
        "x_train,train_labels,x_test,test_labels = preprocessing()\n",
        "d = model(x_train, train_labels, x_test, test_labels, num_iters=10, batch_size=10000, learning_rate=0.01, print_cost=True)"
      ],
      "execution_count": 54,
      "outputs": [
        {
          "output_type": "stream",
          "text": [
            "\n",
            "train accuracy: 90.12833333333333 %\n",
            "test accuracy: 90.2 %\n"
          ],
          "name": "stdout"
        }
      ]
    },
    {
      "metadata": {
        "id": "qrQFok5_dxAd",
        "colab_type": "code",
        "outputId": "c8b66487-555e-4fd4-e9c1-5bde28b18ba1",
        "colab": {
          "base_uri": "https://localhost:8080/",
          "height": 69
        }
      },
      "cell_type": "code",
      "source": [
        "#choose number=1, implement model with over-sampling\n",
        "x_train,train_labels,x_test,test_labels = preprocessing(flag=1,oversampling=True)\n",
        "d = model(x_train, train_labels, x_test, test_labels, num_iters=10,batch_size=20000, learning_rate=0.01, print_cost=True)"
      ],
      "execution_count": 55,
      "outputs": [
        {
          "output_type": "stream",
          "text": [
            "\n",
            "train accuracy: 50.0 %\n",
            "test accuracy: 90.2 %\n"
          ],
          "name": "stdout"
        }
      ]
    },
    {
      "metadata": {
        "id": "Wxwu8VXd3h0q",
        "colab_type": "code",
        "colab": {}
      },
      "cell_type": "code",
      "source": [
        ""
      ],
      "execution_count": 0,
      "outputs": []
    }
  ]
}
