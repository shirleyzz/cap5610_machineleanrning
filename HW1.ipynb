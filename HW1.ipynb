{
  "nbformat": 4,
  "nbformat_minor": 0,
  "metadata": {
    "colab": {
      "name": "HW1.ipynb",
      "version": "0.3.2",
      "provenance": [],
      "collapsed_sections": [],
      "include_colab_link": true
    },
    "kernelspec": {
      "name": "python3",
      "display_name": "Python 3"
    }
  },
  "cells": [
    {
      "cell_type": "markdown",
      "metadata": {
        "id": "view-in-github",
        "colab_type": "text"
      },
      "source": [
        "<a href=\"https://colab.research.google.com/github/shirleyzz/cap5610_machineleanrning/blob/master/HW1.ipynb\" target=\"_parent\"><img src=\"https://colab.research.google.com/assets/colab-badge.svg\" alt=\"Open In Colab\"/></a>"
      ]
    },
    {
      "metadata": {
        "id": "RW7rnoAV7Tz-",
        "colab_type": "code",
        "colab": {}
      },
      "cell_type": "code",
      "source": [
        "#using logistic regression with mean squared error loss.\n",
        "def sigmoid(z):\n",
        "    s = 1/(1 + np.exp(-z))\n",
        "    return s\n",
        "def log_likelihood(features, target, weights):\n",
        "    scores = np.dot(features, weights)\n",
        "    ll = np.sum( target*scores - np.log(1 + np.exp(scores)) )\n",
        "    return ll\n",
        "  \n",
        "  \n",
        "def logistic_regression(features, target, num_steps, learning_rate, add_intercept = False):\n",
        "    if add_intercept:\n",
        "        intercept = np.ones((features.shape[0], 1))\n",
        "        features = np.hstack((intercept, features))\n",
        "        \n",
        "    weights = np.zeros(features.shape[1])\n",
        "    \n",
        "    for step in xrange(num_steps):\n",
        "        scores = np.dot(features, weights)\n",
        "        predictions = sigmoid(scores)\n",
        "\n",
        "        # Update weights with gradient\n",
        "        output_error_signal = target - predictions\n",
        "        gradient = np.dot(features.T, output_error_signal)\n",
        "        weights += learning_rate * gradient\n",
        "        \n",
        "        # Print log-likelihood every so often\n",
        "        if step % 10000 == 0:\n",
        "            print log_likelihood(features, target, weights)\n",
        "        \n",
        "    return weights\n"
      ],
      "execution_count": 0,
      "outputs": []
    },
    {
      "metadata": {
        "id": "abT3Vg2x8tGO",
        "colab_type": "code",
        "colab": {}
      },
      "cell_type": "code",
      "source": [
        "weights = logistic_regression(simulated_separableish_features, simulated_labels, num_steps = 300000, learning_rate = 5e-5, add_intercept=True)"
      ],
      "execution_count": 0,
      "outputs": []
    }
  ]
}