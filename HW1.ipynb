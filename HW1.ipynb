{
  "nbformat": 4,
  "nbformat_minor": 0,
  "metadata": {
    "colab": {
      "name": "HW1.ipynb",
      "version": "0.3.2",
      "provenance": [],
      "collapsed_sections": [],
      "include_colab_link": true
    },
    "kernelspec": {
      "name": "python3",
      "display_name": "Python 3"
    }
  },
  "cells": [
    {
      "cell_type": "markdown",
      "metadata": {
        "id": "view-in-github",
        "colab_type": "text"
      },
      "source": [
        "<a href=\"https://colab.research.google.com/github/shirleyzz/cap5610_machineleanrning/blob/master/HW1.ipynb\" target=\"_parent\"><img src=\"https://colab.research.google.com/assets/colab-badge.svg\" alt=\"Open In Colab\"/></a>"
      ]
    },
    {
      "metadata": {
        "id": "YxtoTwJz71fi",
        "colab_type": "code",
        "colab": {}
      },
      "cell_type": "code",
      "source": [
        "#using logistic regression with mean squared error loss\n",
        "from keras.datasets import mnist\n",
        "import numpy as np\n",
        "from keras import backend as K\n",
        "import keras\n",
        "from keras.utils import to_categorical"
      ],
      "execution_count": 0,
      "outputs": []
    },
    {
      "metadata": {
        "id": "bKebYiAev5mF",
        "colab_type": "code",
        "colab": {}
      },
      "cell_type": "code",
      "source": [
        "(x_train_origin, y_train_origin),(x_test_origin, y_test_origin) = mnist.load_data()"
      ],
      "execution_count": 0,
      "outputs": []
    },
    {
      "metadata": {
        "id": "hVWJ8ysK-CmP",
        "colab_type": "code",
        "colab": {}
      },
      "cell_type": "code",
      "source": [
        "x_train = x_train_origin.reshape((60000, 28 * 28))\n",
        "x_train = x_train_origin.astype('float32') / 255\n",
        "x_test = x_test_origin.reshape((10000, 28 * 28))\n",
        "x_test = x_test_origin.astype('float32') / 255"
      ],
      "execution_count": 0,
      "outputs": []
    },
    {
      "metadata": {
        "id": "DFGBm3h_CXOb",
        "colab_type": "code",
        "colab": {}
      },
      "cell_type": "code",
      "source": [
        "def convert_labels(df,flag=0):\n",
        "  for item in range(df.shape[0]):\n",
        "    #print(item)\n",
        "    if df[item] == flag:\n",
        "      df[item] = 1\n",
        "      #print('yes')\n",
        "    else:\n",
        "      df[item] = 0\n",
        "  return df"
      ],
      "execution_count": 0,
      "outputs": []
    },
    {
      "metadata": {
        "id": "kIL6b-DeDX7o",
        "colab_type": "code",
        "colab": {}
      },
      "cell_type": "code",
      "source": [
        "#set the flag to be the one classifier you choose\n",
        "train_labels = convert_labels(y_train_origin)\n",
        "test_labels = convert_labels(y_test_origin)\n",
        "#print(train_labels)"
      ],
      "execution_count": 0,
      "outputs": []
    },
    {
      "metadata": {
        "id": "8ux2HdzI2GLm",
        "colab_type": "code",
        "colab": {}
      },
      "cell_type": "code",
      "source": [
        "x_train = x_train.reshape(x_train.shape[0], -1).T\n",
        "x_test = x_test.reshape(x_test.shape[0], -1).T"
      ],
      "execution_count": 0,
      "outputs": []
    },
    {
      "metadata": {
        "id": "jlFgDMdB-sHg",
        "colab_type": "text"
      },
      "cell_type": "markdown",
      "source": [
        "Each of the ten classifiers has an input layer consisting of 28 x 28 input neurons and an output layer consisting of a single output neuron.\n",
        "\n",
        "\n",
        "\n"
      ]
    },
    {
      "metadata": {
        "id": "LVDgI6FHHokM",
        "colab_type": "code",
        "colab": {}
      },
      "cell_type": "code",
      "source": [
        "def sigmoid(x):\n",
        "  z = 1.0/(1.0+np.exp(-x))\n",
        "  return z"
      ],
      "execution_count": 0,
      "outputs": []
    },
    {
      "metadata": {
        "id": "THW9q3YPc61M",
        "colab_type": "code",
        "colab": {}
      },
      "cell_type": "code",
      "source": [
        "def w_b_initialize(dim):\n",
        "    \"\"\"\n",
        "    This function creates a vector of zeros of shape (dim, 1) for w and initializes b to 0.\n",
        "    \"\"\"\n",
        "    w = np.zeros((dim,1))\n",
        "    b = 0  \n",
        "    return w, b"
      ],
      "execution_count": 0,
      "outputs": []
    },
    {
      "metadata": {
        "id": "csh05ZwdzEYI",
        "colab_type": "code",
        "colab": {}
      },
      "cell_type": "code",
      "source": [
        "def propagate(w, b, X, Y):\n",
        "    m = X.shape[1]\n",
        "    A = sigmoid(np.dot(w.T, X) + b)\n",
        "    loss = (1/m) * np.sum(np.square(Y - A))\n",
        "   \n",
        "    dL = A - Y\n",
        "    dA = A * (1 - A) * dL\n",
        "    \n",
        "    dw = (1/m)*np.dot(X,dA.T)\n",
        "    db = 1/m*np.sum(dA)\n",
        "    \n",
        "    #cost = np.squeeze(cost)\n",
        "    #assert(cost.shape == ())\n",
        "    grads = {\"dw\": dw,\n",
        "             \"db\": db}\n",
        "    return grads, loss"
      ],
      "execution_count": 0,
      "outputs": []
    },
    {
      "metadata": {
        "id": "MwJQ5NXRdSp1",
        "colab_type": "code",
        "colab": {}
      },
      "cell_type": "code",
      "source": [
        "def optimize(w, b, X, Y, num_iters, learning_rate, print_cost=False):\n",
        "    costs = []\n",
        "    for i in range(num_iters):\n",
        "        \n",
        "        grads, cost = propagate(w, b, X, Y)                                 \n",
        "        \n",
        "        dw = grads[\"dw\"]\n",
        "        db = grads[\"db\"]\n",
        "        \n",
        "        w = w - learning_rate *  dw   \n",
        "        b = b - learning_rate *  db\n",
        "       \n",
        "        if i % 100 == 0:\n",
        "            costs.append(cost)\n",
        "        if print_cost and (i % 100 == 0 or i == num_iters - 1):\n",
        "            print (\"Cost after iteration %i: %f\" % (i, cost))\n",
        "    \n",
        "    params = {\"w\": w,\n",
        "              \"b\": b}\n",
        "    \n",
        "    grads = {\"dw\": dw,\n",
        "             \"db\": db}\n",
        "  \n",
        "    return params, grads, costs"
      ],
      "execution_count": 0,
      "outputs": []
    },
    {
      "metadata": {
        "id": "TXSC79lMdoRk",
        "colab_type": "code",
        "colab": {}
      },
      "cell_type": "code",
      "source": [
        "#  predict\n",
        "def predict(w, b, X):\n",
        "    m = X.shape[1]\n",
        "    Y_pred = np.zeros((1, m))\n",
        "    w = w.reshape(X.shape[0], 1)\n",
        "    \n",
        "    A = sigmoid(np.dot(w.T, X) + b)\n",
        "       \n",
        "    for i in range(A.shape[0]):\n",
        "        \n",
        "        if A[0][i] <= 0.5:\n",
        "            Y_pred[0, i] = 0\n",
        "        else:\n",
        "            Y_pred[0, i] = 1\n",
        "    return Y_pred"
      ],
      "execution_count": 0,
      "outputs": []
    },
    {
      "metadata": {
        "id": "AfTknRu9dvQ9",
        "colab_type": "code",
        "colab": {}
      },
      "cell_type": "code",
      "source": [
        "def model(X_train, Y_train, X_test, Y_test, num_iters=2000, learning_rate=0.5, print_cost=False):\n",
        "    # initialize parameters with zeros \n",
        "    w, b = w_b_initialize(X_train.shape[0])                          \n",
        "\n",
        "    # gradient descent \n",
        "    parameters, grads, costs = optimize(w, b, X_train, Y_train, num_iters, learning_rate, print_cost=False)     \n",
        "    \n",
        "    # retrieve parameters w and b from dictionary \"parameters\"\n",
        "    w = parameters[\"w\"]\n",
        "    b = parameters[\"b\"]\n",
        "    \n",
        "    # predict test/train set examples \n",
        "    Y_pred_test = predict(w, b, X_test)\n",
        "    Y_pred_train = predict(w, b, X_train)\n",
        "    print(\"\")\n",
        "    print(\"train accuracy: {} %\".format(100 - np.mean(np.abs(Y_pred_train - Y_train)) * 100))\n",
        "    print(\"test accuracy: {} %\".format(100 - np.mean(np.abs(Y_pred_test - Y_test)) * 100))\n",
        "    \n",
        "    d = {\"costs\": costs,\n",
        "         \"Y_pred_test\": Y_pred_test, \n",
        "         \"Y_pred_train\" : Y_pred_train, \n",
        "         \"w\" : w, \n",
        "         \"b\" : b,\n",
        "         \"learning_rate\" : learning_rate,\n",
        "         \"num_iters\": num_iters}\n",
        "    \n",
        "    return d"
      ],
      "execution_count": 0,
      "outputs": []
    },
    {
      "metadata": {
        "id": "qrQFok5_dxAd",
        "colab_type": "code",
        "outputId": "a62e5a80-22a1-4cc7-cb4c-b2fccde54550",
        "colab": {
          "base_uri": "https://localhost:8080/",
          "height": 68
        }
      },
      "cell_type": "code",
      "source": [
        "d = model(x_train, train_labels, x_test, test_labels, num_iters=10, learning_rate=0.5, print_cost=True)"
      ],
      "execution_count": 0,
      "outputs": [
        {
          "output_type": "stream",
          "text": [
            "\n",
            "train accuracy: 90.12833333333333 %\n",
            "test accuracy: 90.2 %\n"
          ],
          "name": "stdout"
        }
      ]
    },
    {
      "metadata": {
        "id": "nsWFAbpYeGEd",
        "colab_type": "code",
        "colab": {}
      },
      "cell_type": "code",
      "source": [
        ""
      ],
      "execution_count": 0,
      "outputs": []
    }
  ]
}