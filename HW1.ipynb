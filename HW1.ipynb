{
  "nbformat": 4,
  "nbformat_minor": 0,
  "metadata": {
    "colab": {
      "name": "HW1.ipynb",
      "version": "0.3.2",
      "provenance": [],
      "collapsed_sections": [],
      "include_colab_link": true
    },
    "kernelspec": {
      "name": "python3",
      "display_name": "Python 3"
    }
  },
  "cells": [
    {
      "cell_type": "markdown",
      "metadata": {
        "id": "view-in-github",
        "colab_type": "text"
      },
      "source": [
        "<a href=\"https://colab.research.google.com/github/shirleyzz/cap5610_machineleanrning/blob/master/HW1.ipynb\" target=\"_parent\"><img src=\"https://colab.research.google.com/assets/colab-badge.svg\" alt=\"Open In Colab\"/></a>"
      ]
    },
    {
      "metadata": {
        "id": "YxtoTwJz71fi",
        "colab_type": "code",
        "colab": {}
      },
      "cell_type": "code",
      "source": [
        "#using logistic regression with mean squared error loss\n",
        "from keras.datasets import mnist\n",
        "import numpy as np\n",
        "from keras import backend as K\n",
        "import keras\n",
        "from keras.utils import to_categorical"
      ],
      "execution_count": 0,
      "outputs": []
    },
    {
      "metadata": {
        "id": "bKebYiAev5mF",
        "colab_type": "code",
        "colab": {}
      },
      "cell_type": "code",
      "source": [
        "(x_train_origin, y_train_origin),(x_test_origin, y_test_origin) = mnist.load_data()"
      ],
      "execution_count": 0,
      "outputs": []
    },
    {
      "metadata": {
        "id": "DFGBm3h_CXOb",
        "colab_type": "code",
        "colab": {}
      },
      "cell_type": "code",
      "source": [
        "#classifier of flag, equals target number\n",
        "def convert_labels(df,flag=0):\n",
        "  for item in range(df.shape[0]):\n",
        "    if df[item] == flag:\n",
        "      df[item] = 1\n",
        "    else:\n",
        "      df[item] = 0\n",
        "  return df"
      ],
      "execution_count": 0,
      "outputs": []
    },
    {
      "metadata": {
        "id": "hVWJ8ysK-CmP",
        "colab_type": "code",
        "colab": {}
      },
      "cell_type": "code",
      "source": [
        "from imblearn.over_sampling import RandomOverSampler\n",
        "def preprocessing(flag=0,oversampling=False):\n",
        "  x_train = x_train_origin.reshape((60000, 28 * 28))\n",
        "  x_test = x_test_origin.reshape((10000, 28 * 28))\n",
        "  #set the flag to be the one classifier you choose\n",
        "  train_labels = convert_labels(y_train_origin,flag)\n",
        "  test_labels = convert_labels(y_test_origin,flag)\n",
        "  #set oversampling\n",
        "  if(oversampling):\n",
        "    ros = RandomOverSampler(random_state=3)\n",
        "    x_train, train_labels = ros.fit_resample(x_train, train_labels)\n",
        "  print(x_train.shape)\n",
        "  train_labels = train_labels.reshape(1,train_labels.shape[0])\n",
        "  test_labels = test_labels.reshape(1,test_labels.shape[0])\n",
        "  x_train = x_train.reshape(x_train.shape[0],-1).T\n",
        "  x_test = x_test.reshape(x_test.shape[0],-1).T\n",
        "  x_train = x_train.astype('float32') / 255.0\n",
        "  x_test = x_test.astype('float32') / 255.0\n",
        "  print(x_train.shape)\n",
        "  #check whether labels are good\n",
        "  print(len(train_labels[train_labels==1]))\n",
        "  return x_train,train_labels,x_test,test_labels"
      ],
      "execution_count": 0,
      "outputs": []
    },
    {
      "metadata": {
        "id": "jlFgDMdB-sHg",
        "colab_type": "text"
      },
      "cell_type": "markdown",
      "source": [
        "Each of the ten classifiers has an input layer consisting of 28 x 28 input neurons and an output layer consisting of a single output neuron.\n",
        "\n",
        "\n",
        "\n"
      ]
    },
    {
      "metadata": {
        "id": "LVDgI6FHHokM",
        "colab_type": "code",
        "colab": {}
      },
      "cell_type": "code",
      "source": [
        "def sigmoid(x):\n",
        "  z = 1.0/(1.0+np.exp(-x))\n",
        "  return z"
      ],
      "execution_count": 0,
      "outputs": []
    },
    {
      "metadata": {
        "id": "THW9q3YPc61M",
        "colab_type": "code",
        "colab": {}
      },
      "cell_type": "code",
      "source": [
        "def w_b_initialize(dim):\n",
        "    w = np.zeros((dim,1))\n",
        "    b = 0  \n",
        "    return w, b"
      ],
      "execution_count": 0,
      "outputs": []
    },
    {
      "metadata": {
        "id": "csh05ZwdzEYI",
        "colab_type": "code",
        "colab": {}
      },
      "cell_type": "code",
      "source": [
        "def propagate(w, b, X, Y):\n",
        "    m = X.shape[1]\n",
        "    A = sigmoid(np.dot(w.T, X) + b)\n",
        "    loss = (1/m) * np.sum(np.square(Y - A))\n",
        "   \n",
        "    dL = A - Y\n",
        "    dA = A * (1 - A) * dL\n",
        "    \n",
        "    dw = (1/m)*np.dot(X,dA.T)\n",
        "    db = 1/m*np.sum(dA)\n",
        "  \n",
        "    grads = {\"dw\": dw,\n",
        "             \"db\": db}\n",
        "    return grads, loss"
      ],
      "execution_count": 0,
      "outputs": []
    },
    {
      "metadata": {
        "id": "n7-6XBUXTBRI",
        "colab_type": "code",
        "colab": {}
      },
      "cell_type": "code",
      "source": [
        "def optimize(w, b, X, Y, num_iters, batch_size, learning_rate, print_cost):\n",
        "    costs = []\n",
        "    n_samples = X.shape[1]\n",
        "    for i in range(num_iters):\n",
        "        cost_batch = []\n",
        "        shuffled_indices = np.random.permutation(n_samples)\n",
        "        X_shuffled = X[:,shuffled_indices]\n",
        "        y_shuffled = Y[:,shuffled_indices]\n",
        "        for j in range(0, n_samples, batch_size):\n",
        "            x_batch = X_shuffled[:, j:j+batch_size]\n",
        "            y_batch = y_shuffled[:, j:j+batch_size]\n",
        "            grads, cost = propagate(w, b, x_batch, y_batch)\n",
        "            dw = grads[\"dw\"]\n",
        "            db = grads[\"db\"]\n",
        "            w = w - learning_rate *  dw    \n",
        "            b = b - learning_rate *  db\n",
        "            cost_batch.append(cost)\n",
        "            cost = np.mean(cost_batch)\n",
        "        costs.append(cost)            \n",
        "        if print_cost:\n",
        "            print (\"Cost after iteration %i: %f\" % (i+1, cost))\n",
        "    \n",
        "    params = {\"w\": w,\n",
        "              \"b\": b}\n",
        "    \n",
        "    grads = {\"dw\": dw,\n",
        "             \"db\": db}\n",
        "    \n",
        "    return params, grads, costs"
      ],
      "execution_count": 0,
      "outputs": []
    },
    {
      "metadata": {
        "id": "TXSC79lMdoRk",
        "colab_type": "code",
        "colab": {}
      },
      "cell_type": "code",
      "source": [
        "def predict(w, b, X):\n",
        "    m = X.shape[1]\n",
        "    Y_pred = np.zeros((1, m))\n",
        "    w = w.reshape(X.shape[0], 1)\n",
        "    A = sigmoid(np.dot(w.T, X) + b)\n",
        "    for i in range(A.shape[0]):\n",
        "        if A[0][i] <= 0.5:\n",
        "            Y_pred[0, i] = 0\n",
        "        else:\n",
        "            Y_pred[0, i] = 1\n",
        "    return Y_pred"
      ],
      "execution_count": 0,
      "outputs": []
    },
    {
      "metadata": {
        "id": "AfTknRu9dvQ9",
        "colab_type": "code",
        "colab": {}
      },
      "cell_type": "code",
      "source": [
        "def model(X_train, Y_train, X_test, Y_test, batch, num_iters=20000, learning_rate=0.5, print_cost=False):\n",
        "    # initialize parameters\n",
        "    w, b = w_b_initialize(X_train.shape[0])                          \n",
        "    # stochastic gradient descent \n",
        "    parameters, grads, costs = optimize(w, b, X_train, Y_train,num_iters, batch, learning_rate, print_cost)     \n",
        "    w = parameters[\"w\"]\n",
        "    b = parameters[\"b\"]\n",
        "    Y_pred_test = predict(w, b, X_test)\n",
        "    Y_pred_train = predict(w, b, X_train)\n",
        "    print(\"\")\n",
        "    train_accuracy =  100 - np.mean(np.abs(Y_pred_train - Y_train)) * 100\n",
        "    test_accuracy = 100 - np.mean(np.abs(Y_pred_test - Y_test)) * 100\n",
        "    print(\"train accuracy: {} %\".format(train_accuracy))\n",
        "    print(\"test accuracy: {} %\".format(test_accuracy))\n",
        "    d = {\"costs\": costs,\n",
        "         \"Y_pred_test\": Y_pred_test, \n",
        "         \"Y_pred_train\" : Y_pred_train, \n",
        "         \"w\" : w, \n",
        "         \"b\" : b,\n",
        "         \"learning_rate\" : learning_rate,\n",
        "         \"num_iters\": num_iters}\n",
        "    return d,train_accuracy,test_accuracy"
      ],
      "execution_count": 0,
      "outputs": []
    },
    {
      "metadata": {
        "id": "Sixc9gOhEoQo",
        "colab_type": "code",
        "outputId": "c51f4c0f-8e28-4d22-970a-691423b5e5bd",
        "colab": {
          "base_uri": "https://localhost:8080/",
          "height": 295
        }
      },
      "cell_type": "code",
      "source": [
        "#choose number=0, implement model without over-sampling\n",
        "x_train,train_labels,x_test,test_labels = preprocessing()\n",
        "d = model(x_train, train_labels, x_test, test_labels, batch=20000, num_iters=10, learning_rate=0.01, print_cost=True)"
      ],
      "execution_count": 510,
      "outputs": [
        {
          "output_type": "stream",
          "text": [
            "(60000, 784)\n",
            "(784, 60000)\n",
            "5923\n",
            "Cost after iteration 1: 0.243237\n",
            "Cost after iteration 2: 0.224521\n",
            "Cost after iteration 3: 0.208458\n",
            "Cost after iteration 4: 0.194739\n",
            "Cost after iteration 5: 0.183031\n",
            "Cost after iteration 6: 0.173027\n",
            "Cost after iteration 7: 0.164451\n",
            "Cost after iteration 8: 0.157065\n",
            "Cost after iteration 9: 0.150670\n",
            "Cost after iteration 10: 0.145103\n",
            "\n",
            "train accuracy: 90.12833333333333 %\n",
            "test accuracy: 90.2 %\n"
          ],
          "name": "stdout"
        }
      ]
    },
    {
      "metadata": {
        "id": "qrQFok5_dxAd",
        "colab_type": "code",
        "outputId": "55d9ae93-4a2e-43cb-98d1-1191d13fbb4c",
        "colab": {
          "base_uri": "https://localhost:8080/",
          "height": 295
        }
      },
      "cell_type": "code",
      "source": [
        "#choose number=1, implement model with over-sampling\n",
        "x_train,train_labels,x_test,test_labels = preprocessing(flag=1,oversampling=True)\n",
        "d = model(x_train, train_labels, x_test, test_labels, num_iters=10,batch=20000, learning_rate=0.01, print_cost=True)"
      ],
      "execution_count": 511,
      "outputs": [
        {
          "output_type": "stream",
          "text": [
            "(108154, 784)\n",
            "(784, 108154)\n",
            "54077\n",
            "Cost after iteration 1: 0.245001\n",
            "Cost after iteration 2: 0.233978\n",
            "Cost after iteration 3: 0.224441\n",
            "Cost after iteration 4: 0.215875\n",
            "Cost after iteration 5: 0.208325\n",
            "Cost after iteration 6: 0.201174\n",
            "Cost after iteration 7: 0.194799\n",
            "Cost after iteration 8: 0.188901\n",
            "Cost after iteration 9: 0.183290\n",
            "Cost after iteration 10: 0.178016\n",
            "\n",
            "train accuracy: 50.0 %\n",
            "test accuracy: 90.2 %\n"
          ],
          "name": "stdout"
        }
      ]
    },
    {
      "metadata": {
        "id": "Wxwu8VXd3h0q",
        "colab_type": "code",
        "colab": {}
      },
      "cell_type": "code",
      "source": [
        ""
      ],
      "execution_count": 0,
      "outputs": []
    }
  ]
}