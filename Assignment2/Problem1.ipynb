{
  "nbformat": 4,
  "nbformat_minor": 0,
  "metadata": {
    "colab": {
      "name": "HW2.ipynb",
      "version": "0.3.2",
      "provenance": [],
      "collapsed_sections": [],
      "include_colab_link": true
    },
    "kernelspec": {
      "name": "python3",
      "display_name": "Python 3"
    },
    "accelerator": "GPU"
  },
  "cells": [
    {
      "cell_type": "markdown",
      "metadata": {
        "id": "view-in-github",
        "colab_type": "text"
      },
      "source": [
        "<a href=\"https://colab.research.google.com/github/shirleyzz/cap5610_machineleanrning/blob/master/Assignment2/HW2.ipynb\" target=\"_parent\"><img src=\"https://colab.research.google.com/assets/colab-badge.svg\" alt=\"Open In Colab\"/></a>"
      ]
    },
    {
      "metadata": {
        "id": "rt44vyY1xW9b",
        "colab_type": "text"
      },
      "cell_type": "markdown",
      "source": [
        "# CIFAR10 data set"
      ]
    },
    {
      "metadata": {
        "id": "l34GNy7tyNks",
        "colab_type": "text"
      },
      "cell_type": "markdown",
      "source": [
        "## Loading the CIFAR10 data set"
      ]
    },
    {
      "metadata": {
        "id": "8yBx1ElGWV8Y",
        "colab_type": "code",
        "colab": {}
      },
      "cell_type": "code",
      "source": [
        "import keras \n",
        "import numpy as np\n",
        "from keras.models import Sequential\n",
        "from keras.utils import np_utils\n",
        "from keras.preprocessing.image import ImageDataGenerator\n",
        "from keras.layers import Dense, Activation, Flatten, Dropout, BatchNormalization\n",
        "from keras.layers import Conv2D, MaxPooling2D\n",
        "from keras import regularizers\n",
        "from keras.callbacks import LearningRateScheduler\n",
        "from keras.datasets import cifar10\n",
        "import matplotlib.pyplot as plt"
      ],
      "execution_count": 0,
      "outputs": []
    },
    {
      "metadata": {
        "id": "FSJyddqGexl5",
        "colab_type": "code",
        "colab": {}
      },
      "cell_type": "code",
      "source": [
        "(train_images, train_labels), (test_images, test_labels) = cifar10.load_data()"
      ],
      "execution_count": 0,
      "outputs": []
    },
    {
      "metadata": {
        "id": "XuWVQX3CySIC",
        "colab_type": "text"
      },
      "cell_type": "markdown",
      "source": [
        "## Preprocessing"
      ]
    },
    {
      "metadata": {
        "id": "vFgjyYhGh_wj",
        "colab_type": "text"
      },
      "cell_type": "markdown",
      "source": [
        "Split train dataset into training and validation data at 7:3 ratio."
      ]
    },
    {
      "metadata": {
        "id": "r_W5QWBBHnCU",
        "colab_type": "code",
        "colab": {}
      },
      "cell_type": "code",
      "source": [
        "# train_images = train_images.reshape((50000, 32 * 32 * 3))\n",
        "train_images = train_images.astype('float32') / 255\n",
        "# test_images = test_images.reshape((10000, 32 * 32 * 3))\n",
        "test_images = test_images.astype('float32') / 255"
      ],
      "execution_count": 0,
      "outputs": []
    },
    {
      "metadata": {
        "id": "PSjQx_AfXC65",
        "colab_type": "code",
        "colab": {}
      },
      "cell_type": "code",
      "source": [
        "num_classes = 10\n",
        "train_labels = keras.utils.to_categorical(train_labels,num_classes)\n",
        "test_labels = keras.utils.to_categorical(test_labels,num_classes)"
      ],
      "execution_count": 0,
      "outputs": []
    },
    {
      "metadata": {
        "id": "1LVZVUCvEptS",
        "colab_type": "code",
        "colab": {}
      },
      "cell_type": "code",
      "source": [
        "#split into validation set and training set at the rate of 7:3\n",
        "i = 35000\n",
        "training_data = train_images[:i]\n",
        "val_data = train_images[:-i]\n",
        "training_labels = train_labels[:i]\n",
        "val_labels = train_labels[:-i]"
      ],
      "execution_count": 0,
      "outputs": []
    },
    {
      "metadata": {
        "id": "8t8rvnMYE8BI",
        "colab_type": "text"
      },
      "cell_type": "markdown",
      "source": [
        "## Network1 "
      ]
    },
    {
      "metadata": {
        "id": "ziKQU80Yh_uE",
        "colab_type": "code",
        "colab": {
          "base_uri": "https://localhost:8080/",
          "height": 781
        },
        "outputId": "2dd1cc0a-58fe-4e50-ec4c-e8065f18944f"
      },
      "cell_type": "code",
      "source": [
        "#network architecture \n",
        "network = Sequential()\n",
        "network.add(Conv2D(32, (3, 3), padding='same',input_shape=training_data.shape[1:]))\n",
        "network.add(Activation('softmax'))\n",
        "network.add(Flatten())\n",
        "network.add(Dense(512))\n",
        "network.add(Activation('relu'))\n",
        "network.add(Dropout(0.5))\n",
        "network.add(Dense(10))\n",
        "network.add(Activation('softmax'))\n",
        "network.summary()\n",
        "#compilation step\n",
        "opt = keras.optimizers.rmsprop(lr=0.0001, decay=1e-6)\n",
        "network.compile(optimizer=opt,\n",
        "                loss='categorical_crossentropy',\n",
        "                metrics=['accuracy'])\n",
        "#train the model\n",
        "epochs = 10\n",
        "history = network.fit(training_data, \n",
        "                      training_labels, \n",
        "                      epochs=epochs, \n",
        "                      batch_size=128, \n",
        "                      validation_data=(val_data, val_labels))"
      ],
      "execution_count": 40,
      "outputs": [
        {
          "output_type": "stream",
          "text": [
            "_________________________________________________________________\n",
            "Layer (type)                 Output Shape              Param #   \n",
            "=================================================================\n",
            "conv2d_3 (Conv2D)            (None, 32, 32, 32)        896       \n",
            "_________________________________________________________________\n",
            "activation_7 (Activation)    (None, 32, 32, 32)        0         \n",
            "_________________________________________________________________\n",
            "flatten_3 (Flatten)          (None, 32768)             0         \n",
            "_________________________________________________________________\n",
            "dense_5 (Dense)              (None, 512)               16777728  \n",
            "_________________________________________________________________\n",
            "activation_8 (Activation)    (None, 512)               0         \n",
            "_________________________________________________________________\n",
            "dropout_3 (Dropout)          (None, 512)               0         \n",
            "_________________________________________________________________\n",
            "dense_6 (Dense)              (None, 10)                5130      \n",
            "_________________________________________________________________\n",
            "activation_9 (Activation)    (None, 10)                0         \n",
            "=================================================================\n",
            "Total params: 16,783,754\n",
            "Trainable params: 16,783,754\n",
            "Non-trainable params: 0\n",
            "_________________________________________________________________\n",
            "Train on 35000 samples, validate on 15000 samples\n",
            "Epoch 1/10\n",
            "35000/35000 [==============================] - 12s 342us/step - loss: 2.3009 - acc: 0.1136 - val_loss: 2.2840 - val_acc: 0.1473\n",
            "Epoch 2/10\n",
            "35000/35000 [==============================] - 11s 324us/step - loss: 2.2578 - acc: 0.1451 - val_loss: 2.2116 - val_acc: 0.1631\n",
            "Epoch 3/10\n",
            "35000/35000 [==============================] - 11s 325us/step - loss: 2.1966 - acc: 0.1715 - val_loss: 2.1404 - val_acc: 0.2352\n",
            "Epoch 4/10\n",
            "35000/35000 [==============================] - 11s 324us/step - loss: 2.1352 - acc: 0.2009 - val_loss: 2.0678 - val_acc: 0.2285\n",
            "Epoch 5/10\n",
            "35000/35000 [==============================] - 11s 325us/step - loss: 2.0795 - acc: 0.2311 - val_loss: 2.0172 - val_acc: 0.2786\n",
            "Epoch 6/10\n",
            "35000/35000 [==============================] - 11s 325us/step - loss: 2.0347 - acc: 0.2520 - val_loss: 1.9642 - val_acc: 0.3095\n",
            "Epoch 7/10\n",
            "35000/35000 [==============================] - 11s 324us/step - loss: 1.9945 - acc: 0.2760 - val_loss: 1.9380 - val_acc: 0.3176\n",
            "Epoch 8/10\n",
            "35000/35000 [==============================] - 12s 329us/step - loss: 1.9677 - acc: 0.2893 - val_loss: 1.8996 - val_acc: 0.3339\n",
            "Epoch 9/10\n",
            "35000/35000 [==============================] - 11s 325us/step - loss: 1.9441 - acc: 0.2996 - val_loss: 1.8761 - val_acc: 0.3409\n",
            "Epoch 10/10\n",
            "35000/35000 [==============================] - 11s 325us/step - loss: 1.9219 - acc: 0.3099 - val_loss: 1.8621 - val_acc: 0.3480\n"
          ],
          "name": "stdout"
        }
      ]
    },
    {
      "metadata": {
        "id": "hgXzhC5WFm9I",
        "colab_type": "code",
        "colab": {}
      },
      "cell_type": "code",
      "source": [
        "#display result\n",
        "history_dict = history.history\n",
        "loss_values = history_dict['loss']\n",
        "test_loss_values = history_dict['val_loss']\n",
        "epochs_range = range(1, epochs + 1)"
      ],
      "execution_count": 0,
      "outputs": []
    },
    {
      "metadata": {
        "id": "JjOy8APyFrOM",
        "colab_type": "code",
        "colab": {
          "base_uri": "https://localhost:8080/",
          "height": 376
        },
        "outputId": "583897b4-2020-4212-d027-d070cd73c09a"
      },
      "cell_type": "code",
      "source": [
        "plt.plot(epochs_range, loss_values, 'bo', label='Training loss')\n",
        "plt.plot(epochs_range, test_loss_values, 'ro', label='Test loss')\n",
        "plt.title('Training and test loss')\n",
        "plt.xlabel('Epochs')\n",
        "plt.ylabel('Loss')\n",
        "plt.legend()\n",
        "plt.show()"
      ],
      "execution_count": 42,
      "outputs": [
        {
          "output_type": "display_data",
          "data": {
            "image/png": "[encoded data removed]",
            "text/plain": [
              "<Figure size 576x396 with 1 Axes>"
            ]
          },
          "metadata": {
            "tags": []
          }
        }
      ]
    },
    {
      "metadata": {
        "id": "ma6EATkXFzN2",
        "colab_type": "code",
        "colab": {
          "base_uri": "https://localhost:8080/",
          "height": 376
        },
        "outputId": "0e46ea26-3998-402a-fde7-c03b8025103c"
      },
      "cell_type": "code",
      "source": [
        "acc_values = history_dict['acc']\n",
        "test_acc_values = history_dict['val_acc']\n",
        "plt.plot(epochs_range, acc_values, 'bo', label='Training accuracy')\n",
        "plt.plot(epochs_range, test_acc_values, 'ro', label='Test accuracy')\n",
        "plt.title('Training and test accuracy')\n",
        "plt.xlabel('Epochs')\n",
        "plt.ylabel('Accuracy')\n",
        "plt.legend()\n",
        "plt.show()"
      ],
      "execution_count": 44,
      "outputs": [
        {
          "output_type": "display_data",
          "data": {
            "image/png": "[encoded data removed]",
            "text/plain": [
              "<Figure size 576x396 with 1 Axes>"
            ]
          },
          "metadata": {
            "tags": []
          }
        }
      ]
    },
    {
      "metadata": {
        "id": "zix-ezYKft_c",
        "colab_type": "text"
      },
      "cell_type": "markdown",
      "source": [
        "## Network2"
      ]
    },
    {
      "metadata": {
        "id": "V6cQg7PffyI3",
        "colab_type": "code",
        "colab": {
          "base_uri": "https://localhost:8080/",
          "height": 851
        },
        "outputId": "99a868c8-e370-4d76-d271-2d50f584cba5"
      },
      "cell_type": "code",
      "source": [
        "#network architecture \n",
        "network = Sequential()\n",
        "network.add(Conv2D(32, (3, 3), padding='same',input_shape=training_data.shape[1:]))\n",
        "network.add(Activation('relu'))\n",
        "network.add(Conv2D(32,(3,3)))\n",
        "network.add(Activation('relu'))\n",
        "\n",
        "network.add(Flatten())\n",
        "network.add(Dense(512))\n",
        "network.add(Activation('relu'))\n",
        "network.add(Dropout(0.5))\n",
        "network.add(Dense(10))\n",
        "network.add(Activation('softmax'))\n",
        "network.summary()\n",
        "\n",
        "#compilation step\n",
        "opt = keras.optimizers.rmsprop(lr=0.0001, decay=1e-6)\n",
        "network.compile(optimizer=opt,\n",
        "                loss='categorical_crossentropy',\n",
        "                metrics=['accuracy'])\n",
        "\n",
        "#train the model\n",
        "epochs = 10\n",
        "history = network.fit(training_data, \n",
        "                      training_labels, \n",
        "                      epochs=epochs, \n",
        "                      batch_size=128, \n",
        "                      validation_data=(val_data, val_labels))"
      ],
      "execution_count": 46,
      "outputs": [
        {
          "output_type": "stream",
          "text": [
            "_________________________________________________________________\n",
            "Layer (type)                 Output Shape              Param #   \n",
            "=================================================================\n",
            "conv2d_5 (Conv2D)            (None, 32, 32, 32)        896       \n",
            "_________________________________________________________________\n",
            "activation_11 (Activation)   (None, 32, 32, 32)        0         \n",
            "_________________________________________________________________\n",
            "conv2d_6 (Conv2D)            (None, 30, 30, 32)        9248      \n",
            "_________________________________________________________________\n",
            "activation_12 (Activation)   (None, 30, 30, 32)        0         \n",
            "_________________________________________________________________\n",
            "flatten_4 (Flatten)          (None, 28800)             0         \n",
            "_________________________________________________________________\n",
            "dense_7 (Dense)              (None, 512)               14746112  \n",
            "_________________________________________________________________\n",
            "activation_13 (Activation)   (None, 512)               0         \n",
            "_________________________________________________________________\n",
            "dropout_4 (Dropout)          (None, 512)               0         \n",
            "_________________________________________________________________\n",
            "dense_8 (Dense)              (None, 10)                5130      \n",
            "_________________________________________________________________\n",
            "activation_14 (Activation)   (None, 10)                0         \n",
            "=================================================================\n",
            "Total params: 14,761,386\n",
            "Trainable params: 14,761,386\n",
            "Non-trainable params: 0\n",
            "_________________________________________________________________\n",
            "Train on 35000 samples, validate on 15000 samples\n",
            "Epoch 1/10\n",
            "35000/35000 [==============================] - 11s 323us/step - loss: 1.7958 - acc: 0.3565 - val_loss: 1.5611 - val_acc: 0.4554\n",
            "Epoch 2/10\n",
            "35000/35000 [==============================] - 11s 300us/step - loss: 1.5171 - acc: 0.4612 - val_loss: 1.3751 - val_acc: 0.5192\n",
            "Epoch 3/10\n",
            "35000/35000 [==============================] - 10s 299us/step - loss: 1.3892 - acc: 0.5090 - val_loss: 1.2548 - val_acc: 0.5621\n",
            "Epoch 4/10\n",
            "35000/35000 [==============================] - 10s 299us/step - loss: 1.2994 - acc: 0.5408 - val_loss: 1.1740 - val_acc: 0.6001\n",
            "Epoch 5/10\n",
            "35000/35000 [==============================] - 10s 299us/step - loss: 1.2275 - acc: 0.5687 - val_loss: 1.1273 - val_acc: 0.6133\n",
            "Epoch 6/10\n",
            "35000/35000 [==============================] - 10s 299us/step - loss: 1.1623 - acc: 0.5913 - val_loss: 1.0587 - val_acc: 0.6357\n",
            "Epoch 7/10\n",
            "35000/35000 [==============================] - 10s 300us/step - loss: 1.1058 - acc: 0.6145 - val_loss: 1.0441 - val_acc: 0.6409\n",
            "Epoch 8/10\n",
            "35000/35000 [==============================] - 10s 299us/step - loss: 1.0565 - acc: 0.6316 - val_loss: 0.9575 - val_acc: 0.6723\n",
            "Epoch 9/10\n",
            "35000/35000 [==============================] - 11s 300us/step - loss: 1.0130 - acc: 0.6477 - val_loss: 0.9021 - val_acc: 0.6907\n",
            "Epoch 10/10\n",
            "35000/35000 [==============================] - 10s 299us/step - loss: 0.9647 - acc: 0.6649 - val_loss: 0.8671 - val_acc: 0.7092\n"
          ],
          "name": "stdout"
        }
      ]
    },
    {
      "metadata": {
        "id": "K1HPD4lEhhop",
        "colab_type": "code",
        "colab": {
          "base_uri": "https://localhost:8080/",
          "height": 376
        },
        "outputId": "ae49b3c9-81b6-4c05-a064-26a6f27009c7"
      },
      "cell_type": "code",
      "source": [
        "#display training and test loss\n",
        "history_dict = history.history\n",
        "loss_values = history_dict['loss']\n",
        "test_loss_values = history_dict['val_loss']\n",
        "epochs_range = range(1, epochs + 1)\n",
        "plt.plot(epochs_range, loss_values, 'bo', label='Training loss')\n",
        "plt.plot(epochs_range, test_loss_values, 'ro', label='Test loss')\n",
        "plt.title('Training and test loss(network2)')\n",
        "plt.xlabel('Epochs')\n",
        "plt.ylabel('Loss')\n",
        "plt.legend()\n",
        "plt.show()"
      ],
      "execution_count": 47,
      "outputs": [
        {
          "output_type": "display_data",
          "data": {
            "image/png": "[encoded data removed]",
            "text/plain": [
              "<Figure size 576x396 with 1 Axes>"
            ]
          },
          "metadata": {
            "tags": []
          }
        }
      ]
    },
    {
      "metadata": {
        "id": "26bSAcALhstE",
        "colab_type": "code",
        "colab": {
          "base_uri": "https://localhost:8080/",
          "height": 376
        },
        "outputId": "48eba83c-24bf-462c-cb65-b862490bd6f3"
      },
      "cell_type": "code",
      "source": [
        "#display training and test accuracy\n",
        "acc_values = history_dict['acc']\n",
        "test_acc_values = history_dict['val_acc']\n",
        "plt.plot(epochs_range, acc_values, 'bo', label='Training accuracy')\n",
        "plt.plot(epochs_range, test_acc_values, 'ro', label='Test accuracy')\n",
        "plt.title('Training and test accuracy(network2)')\n",
        "plt.xlabel('Epochs')\n",
        "plt.ylabel('Accuracy')\n",
        "plt.legend()\n",
        "plt.show()"
      ],
      "execution_count": 48,
      "outputs": [
        {
          "output_type": "display_data",
          "data": {
            "image/png": "[encoded data removed]",
            "text/plain": [
              "<Figure size 576x396 with 1 Axes>"
            ]
          },
          "metadata": {
            "tags": []
          }
        }
      ]
    },
    {
      "metadata": {
        "id": "Z9b-n1ACin3M",
        "colab_type": "code",
        "colab": {}
      },
      "cell_type": "code",
      "source": [
        ""
      ],
      "execution_count": 0,
      "outputs": []
    }
  ]
}
