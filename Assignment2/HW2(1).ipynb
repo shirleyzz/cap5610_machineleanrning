{
  "nbformat": 4,
  "nbformat_minor": 0,
  "metadata": {
    "colab": {
      "name": "HW2(1).ipynb",
      "version": "0.3.2",
      "provenance": [],
      "collapsed_sections": [],
      "include_colab_link": true
    },
    "kernelspec": {
      "name": "python3",
      "display_name": "Python 3"
    },
    "accelerator": "GPU"
  },
  "cells": [
    {
      "cell_type": "markdown",
      "metadata": {
        "id": "view-in-github",
        "colab_type": "text"
      },
      "source": [
        "<a href=\"https://colab.research.google.com/github/shirleyzz/cap5610_machineleanrning/blob/master/Assignment2/HW2(1).ipynb\" target=\"_parent\"><img src=\"https://colab.research.google.com/assets/colab-badge.svg\" alt=\"Open In Colab\"/></a>"
      ]
    },
    {
      "metadata": {
        "id": "rt44vyY1xW9b",
        "colab_type": "text"
      },
      "cell_type": "markdown",
      "source": [
        "# HW2(1)-network1-4"
      ]
    },
    {
      "metadata": {
        "id": "l34GNy7tyNks",
        "colab_type": "text"
      },
      "cell_type": "markdown",
      "source": [
        "## Loading the CIFAR10 data set"
      ]
    },
    {
      "metadata": {
        "id": "8yBx1ElGWV8Y",
        "colab_type": "code",
        "colab": {}
      },
      "cell_type": "code",
      "source": [
        "import keras \n",
        "import numpy as np\n",
        "from random import seed\n",
        "from random import randrange\n",
        "from keras.models import Sequential\n",
        "from keras.utils import np_utils\n",
        "from keras.preprocessing.image import ImageDataGenerator\n",
        "from keras.layers import Dense, Activation, Flatten, Dropout, BatchNormalization\n",
        "from keras.layers import Conv2D, MaxPooling2D\n",
        "from keras import regularizers\n",
        "from keras.callbacks import LearningRateScheduler\n",
        "from keras.datasets import cifar10\n",
        "import matplotlib.pyplot as plt"
      ],
      "execution_count": 0,
      "outputs": []
    },
    {
      "metadata": {
        "id": "FSJyddqGexl5",
        "colab_type": "code",
        "colab": {}
      },
      "cell_type": "code",
      "source": [
        "(train_images, train_labels), (test_images, test_labels) = cifar10.load_data()"
      ],
      "execution_count": 0,
      "outputs": []
    },
    {
      "metadata": {
        "id": "XuWVQX3CySIC",
        "colab_type": "text"
      },
      "cell_type": "markdown",
      "source": [
        "## Preprocessing"
      ]
    },
    {
      "metadata": {
        "id": "r_W5QWBBHnCU",
        "colab_type": "code",
        "colab": {}
      },
      "cell_type": "code",
      "source": [
        "# train_images = train_images.reshape((50000, 32 * 32 * 3))\n",
        "train_images = train_images.astype('float32') / 255\n",
        "# test_images = test_images.reshape((10000, 32 * 32 * 3))\n",
        "test_images = test_images.astype('float32') / 255\n",
        "num_classes = 10\n",
        "train_labels = keras.utils.to_categorical(train_labels,num_classes)\n",
        "test_labels = keras.utils.to_categorical(test_labels,num_classes)"
      ],
      "execution_count": 0,
      "outputs": []
    },
    {
      "metadata": {
        "id": "1LVZVUCvEptS",
        "colab_type": "code",
        "colab": {}
      },
      "cell_type": "code",
      "source": [
        "#split into validation set and training set at the rate of 8:2\n",
        "i = 40000\n",
        "training_images = train_images[:i]\n",
        "valid_images = train_images[:-i]\n",
        "training_labels = train_labels[:i]\n",
        "valid_labels = train_labels[:-i]"
      ],
      "execution_count": 0,
      "outputs": []
    },
    {
      "metadata": {
        "id": "s7jDpzH4mWrv",
        "colab_type": "code",
        "outputId": "ba586e55-219b-4126-bce3-6254e11238f1",
        "colab": {
          "base_uri": "https://localhost:8080/",
          "height": 86
        }
      },
      "cell_type": "code",
      "source": [
        "print(training_images.shape)\n",
        "print(training_labels.shape)\n",
        "print(valid_images.shape)\n",
        "print(valid_labels.shape)"
      ],
      "execution_count": 73,
      "outputs": [
        {
          "output_type": "stream",
          "text": [
            "(40000, 32, 32, 3)\n",
            "(40000, 10)\n",
            "(10000, 32, 32, 3)\n",
            "(10000, 10)\n"
          ],
          "name": "stdout"
        }
      ]
    },
    {
      "metadata": {
        "id": "8t8rvnMYE8BI",
        "colab_type": "text"
      },
      "cell_type": "markdown",
      "source": [
        "## Network1 "
      ]
    },
    {
      "metadata": {
        "id": "ziKQU80Yh_uE",
        "colab_type": "code",
        "outputId": "cd99c847-bb17-455f-a7fd-4ed27c2bd3db",
        "colab": {
          "base_uri": "https://localhost:8080/",
          "height": 1441
        }
      },
      "cell_type": "code",
      "source": [
        "#network architecture \n",
        "network = Sequential()\n",
        "network.add(Conv2D(32, (3, 3), padding='same',input_shape=training_images[0].shape))\n",
        "network.add(Activation('softmax'))\n",
        "network.add(Flatten())\n",
        "network.add(Dense(512))\n",
        "network.add(Activation('relu'))\n",
        "network.add(Dense(10))\n",
        "network.add(Activation('softmax'))\n",
        "network.summary()\n",
        "#compilation step\n",
        "opt = keras.optimizers.rmsprop(lr=0.0001, decay=1e-6)\n",
        "network.compile(optimizer=opt,\n",
        "                loss='categorical_crossentropy',\n",
        "                metrics=['accuracy'])\n",
        "#train the model\n",
        "epochs = 30\n",
        "history = network.fit(training_images, \n",
        "                      training_labels, \n",
        "                      epochs=epochs, \n",
        "                      batch_size=128, \n",
        "                      validation_data=(valid_images, valid_labels))"
      ],
      "execution_count": 0,
      "outputs": [
        {
          "output_type": "stream",
          "text": [
            "_________________________________________________________________\n",
            "Layer (type)                 Output Shape              Param #   \n",
            "=================================================================\n",
            "conv2d_42 (Conv2D)           (None, 32, 32, 32)        896       \n",
            "_________________________________________________________________\n",
            "activation_14 (Activation)   (None, 32, 32, 32)        0         \n",
            "_________________________________________________________________\n",
            "flatten_7 (Flatten)          (None, 32768)             0         \n",
            "_________________________________________________________________\n",
            "dense_13 (Dense)             (None, 512)               16777728  \n",
            "_________________________________________________________________\n",
            "activation_15 (Activation)   (None, 512)               0         \n",
            "_________________________________________________________________\n",
            "dense_14 (Dense)             (None, 10)                5130      \n",
            "_________________________________________________________________\n",
            "activation_16 (Activation)   (None, 10)                0         \n",
            "=================================================================\n",
            "Total params: 16,783,754\n",
            "Trainable params: 16,783,754\n",
            "Non-trainable params: 0\n",
            "_________________________________________________________________\n",
            "Train on 40000 samples, validate on 10000 samples\n",
            "Epoch 1/30\n",
            "40000/40000 [==============================] - 14s 354us/step - loss: 2.2561 - acc: 0.1643 - val_loss: 2.1731 - val_acc: 0.2135\n",
            "Epoch 2/30\n",
            "40000/40000 [==============================] - 13s 333us/step - loss: 2.1056 - acc: 0.2513 - val_loss: 2.0762 - val_acc: 0.2643\n",
            "Epoch 3/30\n",
            "40000/40000 [==============================] - 13s 335us/step - loss: 2.0085 - acc: 0.2882 - val_loss: 1.9910 - val_acc: 0.2731\n",
            "Epoch 4/30\n",
            "40000/40000 [==============================] - 13s 335us/step - loss: 1.9445 - acc: 0.3129 - val_loss: 1.9156 - val_acc: 0.3182\n",
            "Epoch 5/30\n",
            "40000/40000 [==============================] - 13s 334us/step - loss: 1.9004 - acc: 0.3311 - val_loss: 1.8837 - val_acc: 0.3376\n",
            "Epoch 6/30\n",
            "40000/40000 [==============================] - 13s 335us/step - loss: 1.8685 - acc: 0.3443 - val_loss: 1.8448 - val_acc: 0.3460\n",
            "Epoch 7/30\n",
            "40000/40000 [==============================] - 13s 317us/step - loss: 1.8399 - acc: 0.3526 - val_loss: 1.8226 - val_acc: 0.3610\n",
            "Epoch 8/30\n",
            "40000/40000 [==============================] - 13s 316us/step - loss: 1.8137 - acc: 0.3640 - val_loss: 1.8012 - val_acc: 0.3602\n",
            "Epoch 9/30\n",
            "40000/40000 [==============================] - 13s 315us/step - loss: 1.7893 - acc: 0.3716 - val_loss: 1.7639 - val_acc: 0.3742\n",
            "Epoch 10/30\n",
            "40000/40000 [==============================] - 13s 315us/step - loss: 1.7646 - acc: 0.3786 - val_loss: 1.7390 - val_acc: 0.3908\n",
            "Epoch 11/30\n",
            "40000/40000 [==============================] - 13s 315us/step - loss: 1.7430 - acc: 0.3887 - val_loss: 1.7297 - val_acc: 0.3878\n",
            "Epoch 12/30\n",
            "40000/40000 [==============================] - 13s 316us/step - loss: 1.7221 - acc: 0.3934 - val_loss: 1.7138 - val_acc: 0.3836\n",
            "Epoch 13/30\n",
            "40000/40000 [==============================] - 13s 314us/step - loss: 1.7044 - acc: 0.4002 - val_loss: 1.7012 - val_acc: 0.3933\n",
            "Epoch 14/30\n",
            "40000/40000 [==============================] - 13s 315us/step - loss: 1.6862 - acc: 0.4060 - val_loss: 1.6673 - val_acc: 0.4116\n",
            "Epoch 15/30\n",
            "40000/40000 [==============================] - 13s 316us/step - loss: 1.6711 - acc: 0.4120 - val_loss: 1.6530 - val_acc: 0.4191\n",
            "Epoch 16/30\n",
            "40000/40000 [==============================] - 13s 314us/step - loss: 1.6559 - acc: 0.4153 - val_loss: 1.6330 - val_acc: 0.4279\n",
            "Epoch 17/30\n",
            "40000/40000 [==============================] - 13s 316us/step - loss: 1.6437 - acc: 0.4192 - val_loss: 1.6191 - val_acc: 0.4298\n",
            "Epoch 18/30\n",
            "40000/40000 [==============================] - 13s 315us/step - loss: 1.6293 - acc: 0.4255 - val_loss: 1.6017 - val_acc: 0.4385\n",
            "Epoch 19/30\n",
            "40000/40000 [==============================] - 13s 315us/step - loss: 1.6169 - acc: 0.4311 - val_loss: 1.6002 - val_acc: 0.4380\n",
            "Epoch 20/30\n",
            "40000/40000 [==============================] - 13s 315us/step - loss: 1.6059 - acc: 0.4353 - val_loss: 1.6084 - val_acc: 0.4332\n",
            "Epoch 21/30\n",
            "40000/40000 [==============================] - 13s 316us/step - loss: 1.5940 - acc: 0.4383 - val_loss: 1.5643 - val_acc: 0.4500\n",
            "Epoch 22/30\n",
            "40000/40000 [==============================] - 13s 315us/step - loss: 1.5843 - acc: 0.4411 - val_loss: 1.5724 - val_acc: 0.4398\n",
            "Epoch 23/30\n",
            "40000/40000 [==============================] - 13s 313us/step - loss: 1.5733 - acc: 0.4439 - val_loss: 1.5686 - val_acc: 0.4496\n",
            "Epoch 24/30\n",
            "40000/40000 [==============================] - 13s 315us/step - loss: 1.5633 - acc: 0.4483 - val_loss: 1.5348 - val_acc: 0.4629\n",
            "Epoch 25/30\n",
            "40000/40000 [==============================] - 13s 313us/step - loss: 1.5558 - acc: 0.4545 - val_loss: 1.5351 - val_acc: 0.4588\n",
            "Epoch 26/30\n",
            "40000/40000 [==============================] - 13s 315us/step - loss: 1.5463 - acc: 0.4559 - val_loss: 1.5608 - val_acc: 0.4514\n",
            "Epoch 27/30\n",
            "40000/40000 [==============================] - 13s 314us/step - loss: 1.5383 - acc: 0.4579 - val_loss: 1.5146 - val_acc: 0.4626\n",
            "Epoch 28/30\n",
            "40000/40000 [==============================] - 13s 316us/step - loss: 1.5305 - acc: 0.4628 - val_loss: 1.5202 - val_acc: 0.4677\n",
            "Epoch 29/30\n",
            "40000/40000 [==============================] - 13s 315us/step - loss: 1.5237 - acc: 0.4627 - val_loss: 1.5086 - val_acc: 0.4677\n",
            "Epoch 30/30\n",
            "40000/40000 [==============================] - 13s 316us/step - loss: 1.5147 - acc: 0.4671 - val_loss: 1.5044 - val_acc: 0.4666\n"
          ],
          "name": "stdout"
        }
      ]
    },
    {
      "metadata": {
        "id": "hgXzhC5WFm9I",
        "colab_type": "code",
        "outputId": "a23acfd7-7a2c-4942-969b-b845f98ee882",
        "colab": {
          "base_uri": "https://localhost:8080/",
          "height": 376
        }
      },
      "cell_type": "code",
      "source": [
        "#display result\n",
        "history_dict = history.history\n",
        "loss_values = history_dict['loss']\n",
        "test_loss_values = history_dict['val_loss']\n",
        "epochs_range = range(1, epochs + 1)\n",
        "plt.plot(epochs_range, loss_values, 'bo', label='Training loss')\n",
        "plt.plot(epochs_range, test_loss_values, 'ro', label='Valid loss')\n",
        "plt.title('Training and validation loss')\n",
        "plt.xlabel('Epochs')\n",
        "plt.ylabel('Loss')\n",
        "plt.legend()\n",
        "plt.show()"
      ],
      "execution_count": 0,
      "outputs": [
        {
          "output_type": "display_data",
          "data": {
            "image/png": "[encoded data removed]",
            "text/plain": [
              "<Figure size 576x396 with 1 Axes>"
            ]
          },
          "metadata": {
            "tags": []
          }
        }
      ]
    },
    {
      "metadata": {
        "id": "ma6EATkXFzN2",
        "colab_type": "code",
        "outputId": "f7345304-f96e-4926-cbb5-bbc25734ad83",
        "colab": {
          "base_uri": "https://localhost:8080/",
          "height": 376
        }
      },
      "cell_type": "code",
      "source": [
        "acc_values = history_dict['acc']\n",
        "test_acc_values = history_dict['val_acc']\n",
        "plt.plot(epochs_range, acc_values, 'bo', label='Training accuracy')\n",
        "plt.plot(epochs_range, test_acc_values, 'ro', label='Valid accuracy')\n",
        "plt.title('Training and validation accuracy')\n",
        "plt.xlabel('Epochs')\n",
        "plt.ylabel('Accuracy')\n",
        "plt.legend()\n",
        "plt.show()"
      ],
      "execution_count": 0,
      "outputs": [
        {
          "output_type": "display_data",
          "data": {
            "image/png": "[encoded data removed]",
            "text/plain": [
              "<Figure size 576x396 with 1 Axes>"
            ]
          },
          "metadata": {
            "tags": []
          }
        }
      ]
    },
    {
      "metadata": {
        "id": "Ou2DH5canzZ7",
        "colab_type": "code",
        "outputId": "8f8b59ca-9b2e-443b-b5f0-45ad4bdd1bc7",
        "colab": {
          "base_uri": "https://localhost:8080/",
          "height": 69
        }
      },
      "cell_type": "code",
      "source": [
        "scores = network.evaluate(test_images, test_labels, verbose=1)\n",
        "print('Test loss:', scores[0])\n",
        "print('Test accuracy:', scores[1])"
      ],
      "execution_count": 0,
      "outputs": [
        {
          "output_type": "stream",
          "text": [
            "10000/10000 [==============================] - 1s 127us/step\n",
            "Test loss: 1.5505099699020386\n",
            "Test accuracy: 0.4505\n"
          ],
          "name": "stdout"
        }
      ]
    },
    {
      "metadata": {
        "id": "zix-ezYKft_c",
        "colab_type": "text"
      },
      "cell_type": "markdown",
      "source": [
        "## Network2"
      ]
    },
    {
      "metadata": {
        "id": "V6cQg7PffyI3",
        "colab_type": "code",
        "outputId": "004868e9-a16a-4530-e9be-ba01e6c1519a",
        "colab": {
          "base_uri": "https://localhost:8080/",
          "height": 1511
        }
      },
      "cell_type": "code",
      "source": [
        "#network architecture \n",
        "network = Sequential()\n",
        "network.add(Conv2D(32, (3, 3), padding='same',input_shape=training_images.shape[1:]))\n",
        "network.add(Activation('relu'))\n",
        "network.add(Conv2D(32,(3,3)))\n",
        "network.add(Activation('relu'))\n",
        "\n",
        "network.add(Flatten())\n",
        "network.add(Dense(512))\n",
        "network.add(Activation('relu'))\n",
        "network.add(Dense(10))\n",
        "network.add(Activation('softmax'))\n",
        "network.summary()\n",
        "\n",
        "#compilation step\n",
        "opt = keras.optimizers.rmsprop(lr=0.0001, decay=1e-6)\n",
        "network.compile(optimizer=opt,\n",
        "                loss='categorical_crossentropy',\n",
        "                metrics=['accuracy'])\n",
        "#train the model\n",
        "epochs = 30\n",
        "history = network.fit(training_images, \n",
        "                      training_labels, \n",
        "                      epochs=epochs, \n",
        "                      batch_size=128, \n",
        "                      validation_data=(valid_images, valid_labels))"
      ],
      "execution_count": 0,
      "outputs": [
        {
          "output_type": "stream",
          "text": [
            "_________________________________________________________________\n",
            "Layer (type)                 Output Shape              Param #   \n",
            "=================================================================\n",
            "conv2d_43 (Conv2D)           (None, 32, 32, 32)        896       \n",
            "_________________________________________________________________\n",
            "activation_17 (Activation)   (None, 32, 32, 32)        0         \n",
            "_________________________________________________________________\n",
            "conv2d_44 (Conv2D)           (None, 30, 30, 32)        9248      \n",
            "_________________________________________________________________\n",
            "activation_18 (Activation)   (None, 30, 30, 32)        0         \n",
            "_________________________________________________________________\n",
            "flatten_8 (Flatten)          (None, 28800)             0         \n",
            "_________________________________________________________________\n",
            "dense_15 (Dense)             (None, 512)               14746112  \n",
            "_________________________________________________________________\n",
            "activation_19 (Activation)   (None, 512)               0         \n",
            "_________________________________________________________________\n",
            "dense_16 (Dense)             (None, 10)                5130      \n",
            "_________________________________________________________________\n",
            "activation_20 (Activation)   (None, 10)                0         \n",
            "=================================================================\n",
            "Total params: 14,761,386\n",
            "Trainable params: 14,761,386\n",
            "Non-trainable params: 0\n",
            "_________________________________________________________________\n",
            "Train on 40000 samples, validate on 10000 samples\n",
            "Epoch 1/30\n",
            "40000/40000 [==============================] - 13s 323us/step - loss: 1.7010 - acc: 0.3964 - val_loss: 1.4575 - val_acc: 0.4750\n",
            "Epoch 2/30\n",
            "40000/40000 [==============================] - 12s 304us/step - loss: 1.3789 - acc: 0.5161 - val_loss: 1.2909 - val_acc: 0.5468\n",
            "Epoch 3/30\n",
            "40000/40000 [==============================] - 12s 304us/step - loss: 1.2413 - acc: 0.5684 - val_loss: 1.1673 - val_acc: 0.5856\n",
            "Epoch 4/30\n",
            "40000/40000 [==============================] - 12s 303us/step - loss: 1.1441 - acc: 0.6027 - val_loss: 1.0716 - val_acc: 0.6179\n",
            "Epoch 5/30\n",
            "40000/40000 [==============================] - 12s 306us/step - loss: 1.0656 - acc: 0.6312 - val_loss: 0.9892 - val_acc: 0.6658\n",
            "Epoch 6/30\n",
            "40000/40000 [==============================] - 12s 303us/step - loss: 0.9962 - acc: 0.6596 - val_loss: 0.9112 - val_acc: 0.6873\n",
            "Epoch 7/30\n",
            "40000/40000 [==============================] - 12s 304us/step - loss: 0.9298 - acc: 0.6823 - val_loss: 0.9330 - val_acc: 0.6686\n",
            "Epoch 8/30\n",
            "40000/40000 [==============================] - 12s 304us/step - loss: 0.8692 - acc: 0.7040 - val_loss: 0.8017 - val_acc: 0.7251\n",
            "Epoch 9/30\n",
            "40000/40000 [==============================] - 12s 302us/step - loss: 0.8128 - acc: 0.7242 - val_loss: 0.7682 - val_acc: 0.7315\n",
            "Epoch 10/30\n",
            "40000/40000 [==============================] - 12s 305us/step - loss: 0.7578 - acc: 0.7460 - val_loss: 0.7294 - val_acc: 0.7459\n",
            "Epoch 11/30\n",
            "40000/40000 [==============================] - 12s 304us/step - loss: 0.7057 - acc: 0.7650 - val_loss: 0.6676 - val_acc: 0.7770\n",
            "Epoch 12/30\n",
            "40000/40000 [==============================] - 12s 305us/step - loss: 0.6540 - acc: 0.7834 - val_loss: 0.5783 - val_acc: 0.8152\n",
            "Epoch 13/30\n",
            "40000/40000 [==============================] - 12s 303us/step - loss: 0.6023 - acc: 0.8040 - val_loss: 0.5493 - val_acc: 0.8237\n",
            "Epoch 14/30\n",
            "40000/40000 [==============================] - 12s 304us/step - loss: 0.5537 - acc: 0.8208 - val_loss: 0.4915 - val_acc: 0.8476\n",
            "Epoch 15/30\n",
            "40000/40000 [==============================] - 12s 305us/step - loss: 0.5080 - acc: 0.8391 - val_loss: 0.4347 - val_acc: 0.8731\n",
            "Epoch 16/30\n",
            "40000/40000 [==============================] - 12s 303us/step - loss: 0.4578 - acc: 0.8568 - val_loss: 0.4040 - val_acc: 0.8780\n",
            "Epoch 17/30\n",
            "40000/40000 [==============================] - 12s 304us/step - loss: 0.4105 - acc: 0.8773 - val_loss: 0.3574 - val_acc: 0.8979\n",
            "Epoch 18/30\n",
            "40000/40000 [==============================] - 12s 305us/step - loss: 0.3686 - acc: 0.8905 - val_loss: 0.3362 - val_acc: 0.9034\n",
            "Epoch 19/30\n",
            "40000/40000 [==============================] - 12s 305us/step - loss: 0.3291 - acc: 0.9063 - val_loss: 0.3635 - val_acc: 0.8852\n",
            "Epoch 20/30\n",
            "40000/40000 [==============================] - 12s 305us/step - loss: 0.2907 - acc: 0.9200 - val_loss: 0.2361 - val_acc: 0.9429\n",
            "Epoch 21/30\n",
            "40000/40000 [==============================] - 12s 306us/step - loss: 0.2533 - acc: 0.9313 - val_loss: 0.2047 - val_acc: 0.9561\n",
            "Epoch 22/30\n",
            "40000/40000 [==============================] - 12s 305us/step - loss: 0.2186 - acc: 0.9448 - val_loss: 0.2194 - val_acc: 0.9379\n",
            "Epoch 23/30\n",
            "40000/40000 [==============================] - 12s 304us/step - loss: 0.1901 - acc: 0.9526 - val_loss: 0.2146 - val_acc: 0.9309\n",
            "Epoch 24/30\n",
            "40000/40000 [==============================] - 12s 302us/step - loss: 0.1613 - acc: 0.9623 - val_loss: 0.1338 - val_acc: 0.9746\n",
            "Epoch 25/30\n",
            "40000/40000 [==============================] - 12s 306us/step - loss: 0.1374 - acc: 0.9688 - val_loss: 0.1598 - val_acc: 0.9543\n",
            "Epoch 26/30\n",
            "40000/40000 [==============================] - 12s 304us/step - loss: 0.1168 - acc: 0.9751 - val_loss: 0.0816 - val_acc: 0.9892\n",
            "Epoch 27/30\n",
            "40000/40000 [==============================] - 12s 306us/step - loss: 0.0967 - acc: 0.9815 - val_loss: 0.0938 - val_acc: 0.9804\n",
            "Epoch 28/30\n",
            "40000/40000 [==============================] - 12s 303us/step - loss: 0.0816 - acc: 0.9845 - val_loss: 0.0640 - val_acc: 0.9921\n",
            "Epoch 29/30\n",
            "40000/40000 [==============================] - 12s 305us/step - loss: 0.0678 - acc: 0.9874 - val_loss: 0.0374 - val_acc: 0.9977\n",
            "Epoch 30/30\n",
            "40000/40000 [==============================] - 12s 307us/step - loss: 0.0566 - acc: 0.9906 - val_loss: 0.0303 - val_acc: 0.9975\n"
          ],
          "name": "stdout"
        }
      ]
    },
    {
      "metadata": {
        "id": "K1HPD4lEhhop",
        "colab_type": "code",
        "outputId": "2fcad16c-222e-43f2-d0ab-2c546ced3f82",
        "colab": {
          "base_uri": "https://localhost:8080/",
          "height": 376
        }
      },
      "cell_type": "code",
      "source": [
        "#display training and test loss\n",
        "history_dict = history.history\n",
        "loss_values = history_dict['loss']\n",
        "test_loss_values = history_dict['val_loss']\n",
        "epochs_range = range(1, epochs + 1)\n",
        "plt.plot(epochs_range, loss_values, 'bo', label='Training loss')\n",
        "plt.plot(epochs_range, test_loss_values, 'ro', label='Valid loss')\n",
        "plt.title('Training and validation loss(network2)')\n",
        "plt.xlabel('Epochs')\n",
        "plt.ylabel('Loss')\n",
        "plt.legend()\n",
        "plt.show()"
      ],
      "execution_count": 0,
      "outputs": [
        {
          "output_type": "display_data",
          "data": {
            "image/png": "[encoded data removed]",
            "text/plain": [
              "<Figure size 576x396 with 1 Axes>"
            ]
          },
          "metadata": {
            "tags": []
          }
        }
      ]
    },
    {
      "metadata": {
        "id": "26bSAcALhstE",
        "colab_type": "code",
        "outputId": "039845db-723c-4b39-d9b2-aeb602c9d3a2",
        "colab": {
          "base_uri": "https://localhost:8080/",
          "height": 376
        }
      },
      "cell_type": "code",
      "source": [
        "#display training and test accuracy\n",
        "acc_values = history_dict['acc']\n",
        "test_acc_values = history_dict['val_acc']\n",
        "plt.plot(epochs_range, acc_values, 'bo', label='Training accuracy')\n",
        "plt.plot(epochs_range, test_acc_values, 'ro', label='Valid accuracy')\n",
        "plt.title('Training and valid accuracy(network2)')\n",
        "plt.xlabel('Epochs')\n",
        "plt.ylabel('Accuracy')\n",
        "plt.legend()\n",
        "plt.show()"
      ],
      "execution_count": 0,
      "outputs": [
        {
          "output_type": "display_data",
          "data": {
            "image/png": "[encoded data removed]",
            "text/plain": [
              "<Figure size 576x396 with 1 Axes>"
            ]
          },
          "metadata": {
            "tags": []
          }
        }
      ]
    },
    {
      "metadata": {
        "id": "Z9b-n1ACin3M",
        "colab_type": "code",
        "outputId": "e88aa1cf-d263-423a-e06c-c6107de6d7c1",
        "colab": {
          "base_uri": "https://localhost:8080/",
          "height": 69
        }
      },
      "cell_type": "code",
      "source": [
        "scores = network.evaluate(test_images, test_labels, verbose=1)\n",
        "print('Test loss:', scores[0])\n",
        "print('Test accuracy:', scores[1])"
      ],
      "execution_count": 0,
      "outputs": [
        {
          "output_type": "stream",
          "text": [
            "10000/10000 [==============================] - 1s 135us/step\n",
            "Test loss: 1.5735556926727294\n",
            "Test accuracy: 0.6381\n"
          ],
          "name": "stdout"
        }
      ]
    },
    {
      "metadata": {
        "id": "Fp6ecdyGq7xP",
        "colab_type": "text"
      },
      "cell_type": "markdown",
      "source": [
        "## Network 3: using dropout \n"
      ]
    },
    {
      "metadata": {
        "id": "K3nP5SXiq98D",
        "colab_type": "code",
        "outputId": "305c7104-3c0c-46a5-e879-358d6ebfed2f",
        "colab": {
          "base_uri": "https://localhost:8080/",
          "height": 1580
        }
      },
      "cell_type": "code",
      "source": [
        "#network architecture \n",
        "network = Sequential()\n",
        "network.add(Conv2D(32, (3, 3), padding='same',input_shape=training_images.shape[1:]))\n",
        "network.add(Activation('relu'))\n",
        "network.add(Dropout(0.5))\n",
        "network.add(Conv2D(32,(3,3)))\n",
        "network.add(Activation('relu'))\n",
        "\n",
        "network.add(Flatten())\n",
        "network.add(Dense(512))\n",
        "network.add(Activation('relu'))\n",
        "network.add(Dropout(0.5))\n",
        "network.add(Dense(10))\n",
        "network.add(Activation('softmax'))\n",
        "network.summary()\n",
        "\n",
        "#compilation step\n",
        "opt = keras.optimizers.rmsprop(lr=0.0001, decay=1e-6)\n",
        "network.compile(optimizer=opt,\n",
        "                loss='categorical_crossentropy',\n",
        "                metrics=['accuracy'])\n",
        "#train the model\n",
        "epochs = 30\n",
        "history = network.fit(training_images, \n",
        "                      training_labels, \n",
        "                      epochs=epochs, \n",
        "                      batch_size=128, \n",
        "                      validation_data=(valid_images, valid_labels))"
      ],
      "execution_count": 0,
      "outputs": [
        {
          "output_type": "stream",
          "text": [
            "_________________________________________________________________\n",
            "Layer (type)                 Output Shape              Param #   \n",
            "=================================================================\n",
            "conv2d_45 (Conv2D)           (None, 32, 32, 32)        896       \n",
            "_________________________________________________________________\n",
            "activation_21 (Activation)   (None, 32, 32, 32)        0         \n",
            "_________________________________________________________________\n",
            "dropout_7 (Dropout)          (None, 32, 32, 32)        0         \n",
            "_________________________________________________________________\n",
            "conv2d_46 (Conv2D)           (None, 30, 30, 32)        9248      \n",
            "_________________________________________________________________\n",
            "activation_22 (Activation)   (None, 30, 30, 32)        0         \n",
            "_________________________________________________________________\n",
            "flatten_9 (Flatten)          (None, 28800)             0         \n",
            "_________________________________________________________________\n",
            "dense_17 (Dense)             (None, 512)               14746112  \n",
            "_________________________________________________________________\n",
            "activation_23 (Activation)   (None, 512)               0         \n",
            "_________________________________________________________________\n",
            "dropout_8 (Dropout)          (None, 512)               0         \n",
            "_________________________________________________________________\n",
            "dense_18 (Dense)             (None, 10)                5130      \n",
            "_________________________________________________________________\n",
            "activation_24 (Activation)   (None, 10)                0         \n",
            "=================================================================\n",
            "Total params: 14,761,386\n",
            "Trainable params: 14,761,386\n",
            "Non-trainable params: 0\n",
            "_________________________________________________________________\n",
            "Train on 40000 samples, validate on 10000 samples\n",
            "Epoch 1/30\n",
            "40000/40000 [==============================] - 14s 340us/step - loss: 1.9827 - acc: 0.2827 - val_loss: 1.8082 - val_acc: 0.3355\n",
            "Epoch 2/30\n",
            "40000/40000 [==============================] - 13s 326us/step - loss: 1.6977 - acc: 0.3958 - val_loss: 1.6580 - val_acc: 0.4022\n",
            "Epoch 3/30\n",
            "40000/40000 [==============================] - 13s 313us/step - loss: 1.5704 - acc: 0.4395 - val_loss: 1.4488 - val_acc: 0.4974\n",
            "Epoch 4/30\n",
            "40000/40000 [==============================] - 13s 315us/step - loss: 1.4830 - acc: 0.4707 - val_loss: 1.3750 - val_acc: 0.5106\n",
            "Epoch 5/30\n",
            "40000/40000 [==============================] - 13s 314us/step - loss: 1.4102 - acc: 0.4984 - val_loss: 1.2840 - val_acc: 0.5505\n",
            "Epoch 6/30\n",
            "40000/40000 [==============================] - 13s 315us/step - loss: 1.3434 - acc: 0.5206 - val_loss: 1.2494 - val_acc: 0.5659\n",
            "Epoch 7/30\n",
            "40000/40000 [==============================] - 13s 314us/step - loss: 1.2915 - acc: 0.5407 - val_loss: 1.1657 - val_acc: 0.5868\n",
            "Epoch 8/30\n",
            "40000/40000 [==============================] - 13s 314us/step - loss: 1.2414 - acc: 0.5585 - val_loss: 1.1322 - val_acc: 0.6032\n",
            "Epoch 9/30\n",
            "40000/40000 [==============================] - 13s 314us/step - loss: 1.2007 - acc: 0.5757 - val_loss: 1.0882 - val_acc: 0.6222\n",
            "Epoch 10/30\n",
            "40000/40000 [==============================] - 13s 314us/step - loss: 1.1603 - acc: 0.5921 - val_loss: 1.0423 - val_acc: 0.6300\n",
            "Epoch 11/30\n",
            "40000/40000 [==============================] - 13s 314us/step - loss: 1.1223 - acc: 0.6040 - val_loss: 0.9759 - val_acc: 0.6675\n",
            "Epoch 12/30\n",
            "40000/40000 [==============================] - 13s 313us/step - loss: 1.0867 - acc: 0.6166 - val_loss: 1.0001 - val_acc: 0.6458\n",
            "Epoch 13/30\n",
            "40000/40000 [==============================] - 13s 313us/step - loss: 1.0532 - acc: 0.6306 - val_loss: 0.9112 - val_acc: 0.6819\n",
            "Epoch 14/30\n",
            "40000/40000 [==============================] - 13s 315us/step - loss: 1.0223 - acc: 0.6395 - val_loss: 0.8785 - val_acc: 0.7050\n",
            "Epoch 15/30\n",
            "40000/40000 [==============================] - 13s 313us/step - loss: 0.9905 - acc: 0.6529 - val_loss: 0.8443 - val_acc: 0.7151\n",
            "Epoch 16/30\n",
            "40000/40000 [==============================] - 12s 311us/step - loss: 0.9644 - acc: 0.6628 - val_loss: 0.8209 - val_acc: 0.7228\n",
            "Epoch 17/30\n",
            "40000/40000 [==============================] - 13s 313us/step - loss: 0.9352 - acc: 0.6749 - val_loss: 0.7858 - val_acc: 0.7343\n",
            "Epoch 18/30\n",
            "40000/40000 [==============================] - 13s 313us/step - loss: 0.9112 - acc: 0.6815 - val_loss: 0.7818 - val_acc: 0.7417\n",
            "Epoch 19/30\n",
            "40000/40000 [==============================] - 13s 313us/step - loss: 0.8841 - acc: 0.6910 - val_loss: 0.7375 - val_acc: 0.7591\n",
            "Epoch 20/30\n",
            "40000/40000 [==============================] - 13s 315us/step - loss: 0.8545 - acc: 0.7024 - val_loss: 0.7285 - val_acc: 0.7638\n",
            "Epoch 21/30\n",
            "40000/40000 [==============================] - 13s 314us/step - loss: 0.8299 - acc: 0.7103 - val_loss: 0.6901 - val_acc: 0.7793\n",
            "Epoch 22/30\n",
            "40000/40000 [==============================] - 13s 313us/step - loss: 0.8103 - acc: 0.7217 - val_loss: 0.6575 - val_acc: 0.7944\n",
            "Epoch 23/30\n",
            "40000/40000 [==============================] - 13s 313us/step - loss: 0.7848 - acc: 0.7274 - val_loss: 0.6616 - val_acc: 0.7954\n",
            "Epoch 24/30\n",
            "40000/40000 [==============================] - 13s 313us/step - loss: 0.7648 - acc: 0.7344 - val_loss: 0.6976 - val_acc: 0.7731\n",
            "Epoch 25/30\n",
            "40000/40000 [==============================] - 13s 314us/step - loss: 0.7444 - acc: 0.7437 - val_loss: 0.6477 - val_acc: 0.8106\n",
            "Epoch 26/30\n",
            "40000/40000 [==============================] - 13s 313us/step - loss: 0.7277 - acc: 0.7480 - val_loss: 0.6505 - val_acc: 0.8063\n",
            "Epoch 27/30\n",
            "40000/40000 [==============================] - 13s 313us/step - loss: 0.7094 - acc: 0.7545 - val_loss: 0.5915 - val_acc: 0.8324\n",
            "Epoch 28/30\n",
            "40000/40000 [==============================] - 13s 313us/step - loss: 0.6889 - acc: 0.7654 - val_loss: 0.5733 - val_acc: 0.8510\n",
            "Epoch 29/30\n",
            "40000/40000 [==============================] - 13s 313us/step - loss: 0.6657 - acc: 0.7724 - val_loss: 0.6605 - val_acc: 0.8132\n",
            "Epoch 30/30\n",
            "40000/40000 [==============================] - 13s 313us/step - loss: 0.6506 - acc: 0.7772 - val_loss: 0.5736 - val_acc: 0.8625\n"
          ],
          "name": "stdout"
        }
      ]
    },
    {
      "metadata": {
        "id": "NnNqieIBwrJj",
        "colab_type": "code",
        "outputId": "db33137b-7a3d-48c2-84b9-09d32678176a",
        "colab": {
          "base_uri": "https://localhost:8080/",
          "height": 376
        }
      },
      "cell_type": "code",
      "source": [
        "#display training and test loss\n",
        "history_dict = history.history\n",
        "loss_values = history_dict['loss']\n",
        "test_loss_values = history_dict['val_loss']\n",
        "epochs_range = range(1, epochs + 1)\n",
        "plt.plot(epochs_range, loss_values, 'bo', label='Training loss')\n",
        "plt.plot(epochs_range, test_loss_values, 'ro', label='Valid loss')\n",
        "plt.title('Training and validation loss(network3)')\n",
        "plt.xlabel('Epochs')\n",
        "plt.ylabel('Loss')\n",
        "plt.legend()\n",
        "plt.show()"
      ],
      "execution_count": 0,
      "outputs": [
        {
          "output_type": "display_data",
          "data": {
            "image/png": "[encoded data removed]",
            "text/plain": [
              "<Figure size 576x396 with 1 Axes>"
            ]
          },
          "metadata": {
            "tags": []
          }
        }
      ]
    },
    {
      "metadata": {
        "id": "6Eunad1ixeCx",
        "colab_type": "code",
        "outputId": "002d3ae9-7ca7-4353-9648-892e85a47b77",
        "colab": {
          "base_uri": "https://localhost:8080/",
          "height": 376
        }
      },
      "cell_type": "code",
      "source": [
        "#display training and test accuracy\n",
        "acc_values = history_dict['acc']\n",
        "test_acc_values = history_dict['val_acc']\n",
        "plt.plot(epochs_range, acc_values, 'bo', label='Training accuracy')\n",
        "plt.plot(epochs_range, test_acc_values, 'ro', label='Valid accuracy')\n",
        "plt.title('Training and validation accuracy(network3)')\n",
        "plt.xlabel('Epochs')\n",
        "plt.ylabel('Accuracy')\n",
        "plt.legend()\n",
        "plt.show()"
      ],
      "execution_count": 0,
      "outputs": [
        {
          "output_type": "display_data",
          "data": {
            "image/png": "[encoded data removed]",
            "text/plain": [
              "<Figure size 576x396 with 1 Axes>"
            ]
          },
          "metadata": {
            "tags": []
          }
        }
      ]
    },
    {
      "metadata": {
        "id": "Irvtx7qtn4Ut",
        "colab_type": "code",
        "outputId": "82697edb-d1b3-42f3-a289-3324eeb52d3b",
        "colab": {
          "base_uri": "https://localhost:8080/",
          "height": 69
        }
      },
      "cell_type": "code",
      "source": [
        "scores = network.evaluate(test_images, test_labels, verbose=1)\n",
        "print('Test loss:', scores[0])\n",
        "print('Test accuracy:', scores[1])"
      ],
      "execution_count": 0,
      "outputs": [
        {
          "output_type": "stream",
          "text": [
            "10000/10000 [==============================] - 2s 166us/step\n",
            "Test loss: 1.0217746564865113\n",
            "Test accuracy: 0.6473\n"
          ],
          "name": "stdout"
        }
      ]
    },
    {
      "metadata": {
        "id": "cAcOqmqQDmy-",
        "colab_type": "text"
      },
      "cell_type": "markdown",
      "source": [
        "## Network4"
      ]
    },
    {
      "metadata": {
        "id": "NEGOtUx9Dqh_",
        "colab_type": "code",
        "colab": {
          "base_uri": "https://localhost:8080/",
          "height": 1754
        },
        "outputId": "34fc9b56-9d52-4c17-84af-c4cb7343aadd"
      },
      "cell_type": "code",
      "source": [
        "#network architecture \n",
        "network = Sequential()\n",
        "network.add(Conv2D(32, (3, 3), padding='valid',input_shape=training_images.shape[1:]))\n",
        "network.add(Activation('relu'))\n",
        "network.add(Dropout(0.5))\n",
        "network.add(Conv2D(32,(3,3)))\n",
        "network.add(Activation('relu'))\n",
        "\n",
        "network.add(Conv2D(32, (3, 3), padding='valid'))\n",
        "network.add(Activation('relu'))\n",
        "network.add(Dropout(0.5))\n",
        "network.add(Conv2D(32,(3,3)))\n",
        "network.add(Activation('relu'))\n",
        "\n",
        "network.add(Flatten())\n",
        "network.add(Dense(512))\n",
        "network.add(Activation('relu'))\n",
        "network.add(Dropout(0.5))\n",
        "network.add(Dense(10))\n",
        "network.add(Activation('softmax'))\n",
        "network.summary()\n",
        "\n",
        "#compilation step\n",
        "opt = keras.optimizers.rmsprop(lr=0.0001, decay=1e-6)\n",
        "network.compile(optimizer=opt,\n",
        "                loss='categorical_crossentropy',\n",
        "                metrics=['accuracy'])\n",
        "#train the model\n",
        "epochs = 30\n",
        "history = network.fit(training_images, \n",
        "                      training_labels, \n",
        "                      epochs=epochs, \n",
        "                      batch_size=128, \n",
        "                      validation_data=(valid_images, valid_labels))"
      ],
      "execution_count": 74,
      "outputs": [
        {
          "output_type": "stream",
          "text": [
            "_________________________________________________________________\n",
            "Layer (type)                 Output Shape              Param #   \n",
            "=================================================================\n",
            "conv2d_47 (Conv2D)           (None, 30, 30, 32)        896       \n",
            "_________________________________________________________________\n",
            "activation_25 (Activation)   (None, 30, 30, 32)        0         \n",
            "_________________________________________________________________\n",
            "dropout_9 (Dropout)          (None, 30, 30, 32)        0         \n",
            "_________________________________________________________________\n",
            "conv2d_48 (Conv2D)           (None, 28, 28, 32)        9248      \n",
            "_________________________________________________________________\n",
            "activation_26 (Activation)   (None, 28, 28, 32)        0         \n",
            "_________________________________________________________________\n",
            "conv2d_49 (Conv2D)           (None, 26, 26, 32)        9248      \n",
            "_________________________________________________________________\n",
            "activation_27 (Activation)   (None, 26, 26, 32)        0         \n",
            "_________________________________________________________________\n",
            "dropout_10 (Dropout)         (None, 26, 26, 32)        0         \n",
            "_________________________________________________________________\n",
            "conv2d_50 (Conv2D)           (None, 24, 24, 32)        9248      \n",
            "_________________________________________________________________\n",
            "activation_28 (Activation)   (None, 24, 24, 32)        0         \n",
            "_________________________________________________________________\n",
            "flatten_10 (Flatten)         (None, 18432)             0         \n",
            "_________________________________________________________________\n",
            "dense_19 (Dense)             (None, 512)               9437696   \n",
            "_________________________________________________________________\n",
            "activation_29 (Activation)   (None, 512)               0         \n",
            "_________________________________________________________________\n",
            "dropout_11 (Dropout)         (None, 512)               0         \n",
            "_________________________________________________________________\n",
            "dense_20 (Dense)             (None, 10)                5130      \n",
            "_________________________________________________________________\n",
            "activation_30 (Activation)   (None, 10)                0         \n",
            "=================================================================\n",
            "Total params: 9,471,466\n",
            "Trainable params: 9,471,466\n",
            "Non-trainable params: 0\n",
            "_________________________________________________________________\n",
            "Train on 40000 samples, validate on 10000 samples\n",
            "Epoch 1/30\n",
            "40000/40000 [==============================] - 15s 380us/step - loss: 2.0306 - acc: 0.2567 - val_loss: 1.9190 - val_acc: 0.2960\n",
            "Epoch 2/30\n",
            "40000/40000 [==============================] - 15s 365us/step - loss: 1.7506 - acc: 0.3696 - val_loss: 1.8267 - val_acc: 0.3536\n",
            "Epoch 3/30\n",
            "40000/40000 [==============================] - 15s 364us/step - loss: 1.6408 - acc: 0.4100 - val_loss: 1.8890 - val_acc: 0.3580\n",
            "Epoch 4/30\n",
            "40000/40000 [==============================] - 15s 365us/step - loss: 1.5721 - acc: 0.4359 - val_loss: 1.5703 - val_acc: 0.4360\n",
            "Epoch 5/30\n",
            "40000/40000 [==============================] - 15s 366us/step - loss: 1.5127 - acc: 0.4600 - val_loss: 1.6082 - val_acc: 0.4293\n",
            "Epoch 6/30\n",
            "40000/40000 [==============================] - 14s 362us/step - loss: 1.4524 - acc: 0.4821 - val_loss: 1.4339 - val_acc: 0.4897\n",
            "Epoch 7/30\n",
            "40000/40000 [==============================] - 14s 351us/step - loss: 1.4005 - acc: 0.4990 - val_loss: 1.3775 - val_acc: 0.5119\n",
            "Epoch 8/30\n",
            "40000/40000 [==============================] - 14s 351us/step - loss: 1.3570 - acc: 0.5165 - val_loss: 1.3871 - val_acc: 0.5032\n",
            "Epoch 9/30\n",
            "40000/40000 [==============================] - 14s 352us/step - loss: 1.3106 - acc: 0.5332 - val_loss: 1.1795 - val_acc: 0.5726\n",
            "Epoch 10/30\n",
            "40000/40000 [==============================] - 14s 351us/step - loss: 1.2680 - acc: 0.5481 - val_loss: 1.1536 - val_acc: 0.5879\n",
            "Epoch 11/30\n",
            "40000/40000 [==============================] - 14s 351us/step - loss: 1.2351 - acc: 0.5627 - val_loss: 1.1150 - val_acc: 0.6017\n",
            "Epoch 12/30\n",
            "40000/40000 [==============================] - 14s 351us/step - loss: 1.1979 - acc: 0.5746 - val_loss: 1.0664 - val_acc: 0.6216\n",
            "Epoch 13/30\n",
            "40000/40000 [==============================] - 14s 351us/step - loss: 1.1695 - acc: 0.5856 - val_loss: 1.0682 - val_acc: 0.6246\n",
            "Epoch 14/30\n",
            "40000/40000 [==============================] - 14s 350us/step - loss: 1.1358 - acc: 0.6002 - val_loss: 0.9944 - val_acc: 0.6482\n",
            "Epoch 15/30\n",
            "40000/40000 [==============================] - 14s 350us/step - loss: 1.1098 - acc: 0.6069 - val_loss: 0.9569 - val_acc: 0.6604\n",
            "Epoch 16/30\n",
            "40000/40000 [==============================] - 14s 350us/step - loss: 1.0871 - acc: 0.6156 - val_loss: 0.9953 - val_acc: 0.6521\n",
            "Epoch 17/30\n",
            "40000/40000 [==============================] - 14s 351us/step - loss: 1.0604 - acc: 0.6273 - val_loss: 0.8917 - val_acc: 0.6927\n",
            "Epoch 18/30\n",
            "40000/40000 [==============================] - 14s 351us/step - loss: 1.0329 - acc: 0.6383 - val_loss: 0.8899 - val_acc: 0.6908\n",
            "Epoch 19/30\n",
            "40000/40000 [==============================] - 14s 350us/step - loss: 1.0077 - acc: 0.6457 - val_loss: 0.8274 - val_acc: 0.7087\n",
            "Epoch 20/30\n",
            "40000/40000 [==============================] - 14s 351us/step - loss: 0.9872 - acc: 0.6541 - val_loss: 0.8104 - val_acc: 0.7197\n",
            "Epoch 21/30\n",
            "40000/40000 [==============================] - 14s 350us/step - loss: 0.9622 - acc: 0.6627 - val_loss: 0.7954 - val_acc: 0.7184\n",
            "Epoch 22/30\n",
            "40000/40000 [==============================] - 14s 351us/step - loss: 0.9453 - acc: 0.6701 - val_loss: 0.7584 - val_acc: 0.7346\n",
            "Epoch 23/30\n",
            "40000/40000 [==============================] - 14s 350us/step - loss: 0.9282 - acc: 0.6764 - val_loss: 0.7285 - val_acc: 0.7574\n",
            "Epoch 24/30\n",
            "40000/40000 [==============================] - 14s 351us/step - loss: 0.9052 - acc: 0.6832 - val_loss: 0.7180 - val_acc: 0.7546\n",
            "Epoch 25/30\n",
            "40000/40000 [==============================] - 14s 349us/step - loss: 0.8838 - acc: 0.6916 - val_loss: 0.6711 - val_acc: 0.7707\n",
            "Epoch 26/30\n",
            "40000/40000 [==============================] - 14s 351us/step - loss: 0.8717 - acc: 0.6986 - val_loss: 0.6571 - val_acc: 0.7744\n",
            "Epoch 27/30\n",
            "40000/40000 [==============================] - 14s 350us/step - loss: 0.8529 - acc: 0.7034 - val_loss: 0.6525 - val_acc: 0.7821\n",
            "Epoch 28/30\n",
            "40000/40000 [==============================] - 14s 351us/step - loss: 0.8411 - acc: 0.7085 - val_loss: 0.6219 - val_acc: 0.8002\n",
            "Epoch 29/30\n",
            "40000/40000 [==============================] - 14s 351us/step - loss: 0.8224 - acc: 0.7146 - val_loss: 0.6168 - val_acc: 0.7964\n",
            "Epoch 30/30\n",
            "40000/40000 [==============================] - 14s 352us/step - loss: 0.8056 - acc: 0.7198 - val_loss: 0.5813 - val_acc: 0.8129\n"
          ],
          "name": "stdout"
        }
      ]
    },
    {
      "metadata": {
        "id": "pp0P5NbkEH5V",
        "colab_type": "code",
        "colab": {
          "base_uri": "https://localhost:8080/",
          "height": 376
        },
        "outputId": "86d9605a-ca9d-48ab-ca5d-7ba6f22a82b8"
      },
      "cell_type": "code",
      "source": [
        "#display training and test loss\n",
        "history_dict = history.history\n",
        "loss_values = history_dict['loss']\n",
        "test_loss_values = history_dict['val_loss']\n",
        "epochs_range = range(1, epochs + 1)\n",
        "plt.plot(epochs_range, loss_values, 'bo', label='Training loss')\n",
        "plt.plot(epochs_range, test_loss_values, 'ro', label='Valid loss')\n",
        "plt.title('Training and validation loss(network4)')\n",
        "plt.xlabel('Epochs')\n",
        "plt.ylabel('Loss')\n",
        "plt.legend()\n",
        "plt.show()"
      ],
      "execution_count": 75,
      "outputs": [
        {
          "output_type": "display_data",
          "data": {
            "image/png": "[encoded data removed]",
            "text/plain": [
              "<Figure size 576x396 with 1 Axes>"
            ]
          },
          "metadata": {
            "tags": []
          }
        }
      ]
    },
    {
      "metadata": {
        "id": "60D2aqlHELRo",
        "colab_type": "code",
        "colab": {
          "base_uri": "https://localhost:8080/",
          "height": 376
        },
        "outputId": "b6fb0fe3-49c3-4f6d-89c2-51c5dd38b66f"
      },
      "cell_type": "code",
      "source": [
        "#display training and test accuracy\n",
        "acc_values = history_dict['acc']\n",
        "test_acc_values = history_dict['val_acc']\n",
        "plt.plot(epochs_range, acc_values, 'bo', label='Training accuracy')\n",
        "plt.plot(epochs_range, test_acc_values, 'ro', label='Valid accuracy')\n",
        "plt.title('Training and validation accuracy(network4)')\n",
        "plt.xlabel('Epochs')\n",
        "plt.ylabel('Accuracy')\n",
        "plt.legend()\n",
        "plt.show()"
      ],
      "execution_count": 76,
      "outputs": [
        {
          "output_type": "display_data",
          "data": {
            "image/png": "[encoded data removed]",
            "text/plain": [
              "<Figure size 576x396 with 1 Axes>"
            ]
          },
          "metadata": {
            "tags": []
          }
        }
      ]
    },
    {
      "metadata": {
        "id": "jvA45X2YENqd",
        "colab_type": "code",
        "colab": {
          "base_uri": "https://localhost:8080/",
          "height": 69
        },
        "outputId": "52860180-3b9a-4165-8b3e-19ad2f8bfdd4"
      },
      "cell_type": "code",
      "source": [
        "scores = network.evaluate(test_images, test_labels, verbose=1)\n",
        "print('Test loss:', scores[0])\n",
        "print('Test accuracy:', scores[1])"
      ],
      "execution_count": 77,
      "outputs": [
        {
          "output_type": "stream",
          "text": [
            "10000/10000 [==============================] - 1s 146us/step\n",
            "Test loss: 0.9923214212417603\n",
            "Test accuracy: 0.6607\n"
          ],
          "name": "stdout"
        }
      ]
    },
    {
      "metadata": {
        "id": "mNBIzK6_IIVK",
        "colab_type": "text"
      },
      "cell_type": "markdown",
      "source": [
        "As the 4th network has the best performance, we can use all the data on this network."
      ]
    },
    {
      "metadata": {
        "id": "PEJNPEmvIl0k",
        "colab_type": "code",
        "colab": {
          "base_uri": "https://localhost:8080/",
          "height": 1754
        },
        "outputId": "6274e4de-28fe-4bd4-b35f-fd54f61ce33e"
      },
      "cell_type": "code",
      "source": [
        "#network architecture \n",
        "network = Sequential()\n",
        "network.add(Conv2D(32, (3, 3), padding='valid',input_shape=training_images.shape[1:]))\n",
        "network.add(Activation('relu'))\n",
        "network.add(Dropout(0.5))\n",
        "network.add(Conv2D(32,(3,3)))\n",
        "network.add(Activation('relu'))\n",
        "\n",
        "network.add(Conv2D(32, (3, 3), padding='valid'))\n",
        "network.add(Activation('relu'))\n",
        "network.add(Dropout(0.5))\n",
        "network.add(Conv2D(32,(3,3)))\n",
        "network.add(Activation('relu'))\n",
        "\n",
        "network.add(Flatten())\n",
        "network.add(Dense(512))\n",
        "network.add(Activation('relu'))\n",
        "network.add(Dropout(0.5))\n",
        "network.add(Dense(10))\n",
        "network.add(Activation('softmax'))\n",
        "network.summary()\n",
        "\n",
        "#compilation step\n",
        "opt = keras.optimizers.rmsprop(lr=0.0001, decay=1e-6)\n",
        "network.compile(optimizer=opt,\n",
        "                loss='categorical_crossentropy',\n",
        "                metrics=['accuracy'])\n",
        "#train the model\n",
        "epochs = 30\n",
        "history = network.fit(train_images, \n",
        "                      train_labels, \n",
        "                      epochs=epochs, \n",
        "                      batch_size=128, \n",
        "                      validation_data=(train_images, train_labels))"
      ],
      "execution_count": 78,
      "outputs": [
        {
          "output_type": "stream",
          "text": [
            "_________________________________________________________________\n",
            "Layer (type)                 Output Shape              Param #   \n",
            "=================================================================\n",
            "conv2d_51 (Conv2D)           (None, 30, 30, 32)        896       \n",
            "_________________________________________________________________\n",
            "activation_31 (Activation)   (None, 30, 30, 32)        0         \n",
            "_________________________________________________________________\n",
            "dropout_12 (Dropout)         (None, 30, 30, 32)        0         \n",
            "_________________________________________________________________\n",
            "conv2d_52 (Conv2D)           (None, 28, 28, 32)        9248      \n",
            "_________________________________________________________________\n",
            "activation_32 (Activation)   (None, 28, 28, 32)        0         \n",
            "_________________________________________________________________\n",
            "conv2d_53 (Conv2D)           (None, 26, 26, 32)        9248      \n",
            "_________________________________________________________________\n",
            "activation_33 (Activation)   (None, 26, 26, 32)        0         \n",
            "_________________________________________________________________\n",
            "dropout_13 (Dropout)         (None, 26, 26, 32)        0         \n",
            "_________________________________________________________________\n",
            "conv2d_54 (Conv2D)           (None, 24, 24, 32)        9248      \n",
            "_________________________________________________________________\n",
            "activation_34 (Activation)   (None, 24, 24, 32)        0         \n",
            "_________________________________________________________________\n",
            "flatten_11 (Flatten)         (None, 18432)             0         \n",
            "_________________________________________________________________\n",
            "dense_21 (Dense)             (None, 512)               9437696   \n",
            "_________________________________________________________________\n",
            "activation_35 (Activation)   (None, 512)               0         \n",
            "_________________________________________________________________\n",
            "dropout_14 (Dropout)         (None, 512)               0         \n",
            "_________________________________________________________________\n",
            "dense_22 (Dense)             (None, 10)                5130      \n",
            "_________________________________________________________________\n",
            "activation_36 (Activation)   (None, 10)                0         \n",
            "=================================================================\n",
            "Total params: 9,471,466\n",
            "Trainable params: 9,471,466\n",
            "Non-trainable params: 0\n",
            "_________________________________________________________________\n",
            "Train on 50000 samples, validate on 50000 samples\n",
            "Epoch 1/30\n",
            "50000/50000 [==============================] - 23s 453us/step - loss: 1.9621 - acc: 0.2824 - val_loss: 1.9660 - val_acc: 0.3190\n",
            "Epoch 2/30\n",
            "50000/50000 [==============================] - 21s 414us/step - loss: 1.6980 - acc: 0.3897 - val_loss: 1.7803 - val_acc: 0.3708\n",
            "Epoch 3/30\n",
            "50000/50000 [==============================] - 21s 423us/step - loss: 1.5799 - acc: 0.4318 - val_loss: 1.5179 - val_acc: 0.4612\n",
            "Epoch 4/30\n",
            "50000/50000 [==============================] - 21s 423us/step - loss: 1.4810 - acc: 0.4686 - val_loss: 1.4395 - val_acc: 0.4818\n",
            "Epoch 5/30\n",
            "50000/50000 [==============================] - 21s 414us/step - loss: 1.4101 - acc: 0.4948 - val_loss: 1.3475 - val_acc: 0.5110\n",
            "Epoch 6/30\n",
            "50000/50000 [==============================] - 21s 414us/step - loss: 1.3536 - acc: 0.5165 - val_loss: 1.2922 - val_acc: 0.5400\n",
            "Epoch 7/30\n",
            "50000/50000 [==============================] - 21s 413us/step - loss: 1.3050 - acc: 0.5352 - val_loss: 1.2162 - val_acc: 0.5705\n",
            "Epoch 8/30\n",
            "50000/50000 [==============================] - 21s 414us/step - loss: 1.2674 - acc: 0.5496 - val_loss: 1.1470 - val_acc: 0.5901\n",
            "Epoch 9/30\n",
            "50000/50000 [==============================] - 21s 414us/step - loss: 1.2255 - acc: 0.5683 - val_loss: 1.1041 - val_acc: 0.6107\n",
            "Epoch 10/30\n",
            "50000/50000 [==============================] - 21s 414us/step - loss: 1.1918 - acc: 0.5781 - val_loss: 1.0488 - val_acc: 0.6318\n",
            "Epoch 11/30\n",
            "50000/50000 [==============================] - 21s 415us/step - loss: 1.1579 - acc: 0.5908 - val_loss: 1.0303 - val_acc: 0.6365\n",
            "Epoch 12/30\n",
            "50000/50000 [==============================] - 21s 414us/step - loss: 1.1255 - acc: 0.6055 - val_loss: 0.9821 - val_acc: 0.6577\n",
            "Epoch 13/30\n",
            "50000/50000 [==============================] - 21s 414us/step - loss: 1.0998 - acc: 0.6151 - val_loss: 0.9633 - val_acc: 0.6640\n",
            "Epoch 14/30\n",
            "50000/50000 [==============================] - 21s 413us/step - loss: 1.0768 - acc: 0.6219 - val_loss: 0.9478 - val_acc: 0.6684\n",
            "Epoch 15/30\n",
            "50000/50000 [==============================] - 21s 413us/step - loss: 1.0515 - acc: 0.6349 - val_loss: 0.9022 - val_acc: 0.6851\n",
            "Epoch 16/30\n",
            "50000/50000 [==============================] - 21s 413us/step - loss: 1.0266 - acc: 0.6405 - val_loss: 0.8829 - val_acc: 0.6906\n",
            "Epoch 17/30\n",
            "50000/50000 [==============================] - 21s 413us/step - loss: 1.0114 - acc: 0.6475 - val_loss: 0.8867 - val_acc: 0.6944\n",
            "Epoch 18/30\n",
            "50000/50000 [==============================] - 21s 412us/step - loss: 0.9853 - acc: 0.6535 - val_loss: 0.8253 - val_acc: 0.7183\n",
            "Epoch 19/30\n",
            "50000/50000 [==============================] - 21s 413us/step - loss: 0.9665 - acc: 0.6625 - val_loss: 0.7941 - val_acc: 0.7271\n",
            "Epoch 20/30\n",
            "50000/50000 [==============================] - 21s 413us/step - loss: 0.9483 - acc: 0.6693 - val_loss: 0.7666 - val_acc: 0.7422\n",
            "Epoch 21/30\n",
            "50000/50000 [==============================] - 21s 412us/step - loss: 0.9309 - acc: 0.6766 - val_loss: 0.7447 - val_acc: 0.7462\n",
            "Epoch 22/30\n",
            "50000/50000 [==============================] - 21s 412us/step - loss: 0.9184 - acc: 0.6800 - val_loss: 0.7319 - val_acc: 0.7565\n",
            "Epoch 23/30\n",
            "50000/50000 [==============================] - 21s 412us/step - loss: 0.8961 - acc: 0.6866 - val_loss: 0.7770 - val_acc: 0.7355\n",
            "Epoch 24/30\n",
            "50000/50000 [==============================] - 21s 412us/step - loss: 0.8835 - acc: 0.6938 - val_loss: 0.7346 - val_acc: 0.7601\n",
            "Epoch 25/30\n",
            "50000/50000 [==============================] - 21s 412us/step - loss: 0.8714 - acc: 0.6970 - val_loss: 0.6738 - val_acc: 0.7792\n",
            "Epoch 26/30\n",
            "50000/50000 [==============================] - 21s 413us/step - loss: 0.8558 - acc: 0.7054 - val_loss: 0.7782 - val_acc: 0.7453\n",
            "Epoch 27/30\n",
            "50000/50000 [==============================] - 21s 412us/step - loss: 0.8397 - acc: 0.7096 - val_loss: 0.7050 - val_acc: 0.7746\n",
            "Epoch 28/30\n",
            "50000/50000 [==============================] - 21s 413us/step - loss: 0.8329 - acc: 0.7115 - val_loss: 0.6638 - val_acc: 0.7849\n",
            "Epoch 29/30\n",
            "50000/50000 [==============================] - 21s 414us/step - loss: 0.8276 - acc: 0.7143 - val_loss: 0.6790 - val_acc: 0.7986\n",
            "Epoch 30/30\n",
            "50000/50000 [==============================] - 22s 435us/step - loss: 0.8144 - acc: 0.7179 - val_loss: 0.6449 - val_acc: 0.8105\n"
          ],
          "name": "stdout"
        }
      ]
    },
    {
      "metadata": {
        "id": "2pKJAmNwI8gG",
        "colab_type": "code",
        "colab": {
          "base_uri": "https://localhost:8080/",
          "height": 376
        },
        "outputId": "a90f36a0-82b6-42b8-c7b7-ae29efd238af"
      },
      "cell_type": "code",
      "source": [
        "#display training and test loss\n",
        "history_dict = history.history\n",
        "loss_values = history_dict['loss']\n",
        "test_loss_values = history_dict['val_loss']\n",
        "epochs_range = range(1, epochs + 1)\n",
        "plt.plot(epochs_range, loss_values, 'bo', label='Training loss')\n",
        "plt.plot(epochs_range, test_loss_values, 'ro', label='Valid loss')\n",
        "plt.title('Training and validation loss(network4)')\n",
        "plt.xlabel('Epochs')\n",
        "plt.ylabel('Loss')\n",
        "plt.legend()\n",
        "plt.show()"
      ],
      "execution_count": 79,
      "outputs": [
        {
          "output_type": "display_data",
          "data": {
            "image/png": "[encoded data removed]",
            "text/plain": [
              "<Figure size 576x396 with 1 Axes>"
            ]
          },
          "metadata": {
            "tags": []
          }
        }
      ]
    },
    {
      "metadata": {
        "id": "Ujm9BzjdI_2R",
        "colab_type": "code",
        "colab": {
          "base_uri": "https://localhost:8080/",
          "height": 376
        },
        "outputId": "165c670a-b778-409a-ba88-1ed669cd56e2"
      },
      "cell_type": "code",
      "source": [
        "#display training and test accuracy\n",
        "acc_values = history_dict['acc']\n",
        "test_acc_values = history_dict['val_acc']\n",
        "plt.plot(epochs_range, acc_values, 'bo', label='Training accuracy')\n",
        "plt.plot(epochs_range, test_acc_values, 'ro', label='Valid accuracy')\n",
        "plt.title('Training and validation accuracy(network4)')\n",
        "plt.xlabel('Epochs')\n",
        "plt.ylabel('Accuracy')\n",
        "plt.legend()\n",
        "plt.show()"
      ],
      "execution_count": 80,
      "outputs": [
        {
          "output_type": "display_data",
          "data": {
            "image/png": "[encoded data removed]",
            "text/plain": [
              "<Figure size 576x396 with 1 Axes>"
            ]
          },
          "metadata": {
            "tags": []
          }
        }
      ]
    },
    {
      "metadata": {
        "id": "q2zQiWhuJCqK",
        "colab_type": "code",
        "colab": {
          "base_uri": "https://localhost:8080/",
          "height": 69
        },
        "outputId": "69a5d7cf-f8ed-4146-91e0-c06d60088f42"
      },
      "cell_type": "code",
      "source": [
        "scores = network.evaluate(test_images, test_labels, verbose=1)\n",
        "print('Test loss:', scores[0])\n",
        "print('Test accuracy:', scores[1])"
      ],
      "execution_count": 81,
      "outputs": [
        {
          "output_type": "stream",
          "text": [
            "10000/10000 [==============================] - 1s 144us/step\n",
            "Test loss: 0.9489208515167237\n",
            "Test accuracy: 0.6733\n"
          ],
          "name": "stdout"
        }
      ]
    }
  ]
}