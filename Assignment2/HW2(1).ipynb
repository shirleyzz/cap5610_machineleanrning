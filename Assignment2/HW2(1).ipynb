{
  "nbformat": 4,
  "nbformat_minor": 0,
  "metadata": {
    "colab": {
      "name": "HW2(1).ipynb",
      "version": "0.3.2",
      "provenance": [],
      "collapsed_sections": [],
      "include_colab_link": true
    },
    "kernelspec": {
      "name": "python3",
      "display_name": "Python 3"
    },
    "accelerator": "GPU"
  },
  "cells": [
    {
      "cell_type": "markdown",
      "metadata": {
        "id": "view-in-github",
        "colab_type": "text"
      },
      "source": [
        "<a href=\"https://colab.research.google.com/github/shirleyzz/cap5610_machineleanrning/blob/master/Assignment2/HW2(1).ipynb\" target=\"_parent\"><img src=\"https://colab.research.google.com/assets/colab-badge.svg\" alt=\"Open In Colab\"/></a>"
      ]
    },
    {
      "metadata": {
        "id": "rt44vyY1xW9b",
        "colab_type": "text"
      },
      "cell_type": "markdown",
      "source": [
        "# CIFAR10 data set"
      ]
    },
    {
      "metadata": {
        "id": "l34GNy7tyNks",
        "colab_type": "text"
      },
      "cell_type": "markdown",
      "source": [
        "## Loading the CIFAR10 data set"
      ]
    },
    {
      "metadata": {
        "id": "8yBx1ElGWV8Y",
        "colab_type": "code",
        "colab": {}
      },
      "cell_type": "code",
      "source": [
        "import keras \n",
        "import numpy as np\n",
        "from random import seed\n",
        "from random import randrange\n",
        "from keras.models import Sequential\n",
        "from keras.utils import np_utils\n",
        "from keras.preprocessing.image import ImageDataGenerator\n",
        "from keras.layers import Dense, Activation, Flatten, Dropout, BatchNormalization\n",
        "from keras.layers import Conv2D, MaxPooling2D\n",
        "from keras import regularizers\n",
        "from keras.callbacks import LearningRateScheduler\n",
        "from keras.datasets import cifar10\n",
        "import matplotlib.pyplot as plt"
      ],
      "execution_count": 0,
      "outputs": []
    },
    {
      "metadata": {
        "id": "FSJyddqGexl5",
        "colab_type": "code",
        "colab": {}
      },
      "cell_type": "code",
      "source": [
        "(train_images, train_labels), (test_images, test_labels) = cifar10.load_data()"
      ],
      "execution_count": 0,
      "outputs": []
    },
    {
      "metadata": {
        "id": "XuWVQX3CySIC",
        "colab_type": "text"
      },
      "cell_type": "markdown",
      "source": [
        "## Preprocessing"
      ]
    },
    {
      "metadata": {
        "id": "r_W5QWBBHnCU",
        "colab_type": "code",
        "colab": {}
      },
      "cell_type": "code",
      "source": [
        "# train_images = train_images.reshape((50000, 32 * 32 * 3))\n",
        "train_images = train_images.astype('float32') / 255\n",
        "# test_images = test_images.reshape((10000, 32 * 32 * 3))\n",
        "test_images = test_images.astype('float32') / 255\n",
        "num_classes = 10\n",
        "train_labels = keras.utils.to_categorical(train_labels,num_classes)\n",
        "test_labels = keras.utils.to_categorical(test_labels,num_classes)"
      ],
      "execution_count": 0,
      "outputs": []
    },
    {
      "metadata": {
        "id": "1LVZVUCvEptS",
        "colab_type": "code",
        "colab": {}
      },
      "cell_type": "code",
      "source": [
        "#split into validation set and training set at the rate of 8:2\n",
        "i = 40000\n",
        "training_images = train_images[:i]\n",
        "valid_images = train_images[:-i]\n",
        "training_labels = train_labels[:i]\n",
        "valid_labels = train_labels[:-i]"
      ],
      "execution_count": 0,
      "outputs": []
    },
    {
      "metadata": {
        "id": "s7jDpzH4mWrv",
        "colab_type": "code",
        "outputId": "8dfdff3a-1225-4ea8-dc01-bfac9176b0e1",
        "colab": {
          "base_uri": "https://localhost:8080/",
          "height": 86
        }
      },
      "cell_type": "code",
      "source": [
        "print(training_images.shape)\n",
        "print(training_labels.shape)\n",
        "print(valid_images.shape)\n",
        "print(valid_labels.shape)"
      ],
      "execution_count": 152,
      "outputs": [
        {
          "output_type": "stream",
          "text": [
            "(40000, 32, 32, 3)\n",
            "(40000, 10)\n",
            "(10000, 32, 32, 3)\n",
            "(10000, 10)\n"
          ],
          "name": "stdout"
        }
      ]
    },
    {
      "metadata": {
        "id": "Wn2PHD_kNcdt",
        "colab_type": "code",
        "colab": {}
      },
      "cell_type": "code",
      "source": [
        "# training_images = np.array(training_images)\n",
        "# training_labels = np.array(training_labels)\n",
        "# valid_images = np.array(valid_images)\n",
        "# valid_labels = np.array(valid_labels)"
      ],
      "execution_count": 0,
      "outputs": []
    },
    {
      "metadata": {
        "id": "8t8rvnMYE8BI",
        "colab_type": "text"
      },
      "cell_type": "markdown",
      "source": [
        "## Network1 "
      ]
    },
    {
      "metadata": {
        "id": "ziKQU80Yh_uE",
        "colab_type": "code",
        "outputId": "ff3a59dc-68fb-4796-93a1-30bbc5c5ce16",
        "colab": {
          "base_uri": "https://localhost:8080/",
          "height": 1476
        }
      },
      "cell_type": "code",
      "source": [
        "#network architecture \n",
        "network = Sequential()\n",
        "network.add(Conv2D(32, (3, 3), padding='same',input_shape=training_images[0].shape))\n",
        "network.add(Activation('softmax'))\n",
        "network.add(Flatten())\n",
        "network.add(Dense(512))\n",
        "network.add(Activation('relu'))\n",
        "network.add(Dropout(0.5))\n",
        "network.add(Dense(10))\n",
        "network.add(Activation('softmax'))\n",
        "network.summary()\n",
        "#compilation step\n",
        "opt = keras.optimizers.rmsprop(lr=0.0001, decay=1e-6)\n",
        "network.compile(optimizer=opt,\n",
        "                loss='categorical_crossentropy',\n",
        "                metrics=['accuracy'])\n",
        "#train the model\n",
        "epochs = 30\n",
        "history = network.fit(training_images, \n",
        "                      training_labels, \n",
        "                      epochs=epochs, \n",
        "                      batch_size=128, \n",
        "                      validation_data=(valid_images, valid_labels))"
      ],
      "execution_count": 154,
      "outputs": [
        {
          "output_type": "stream",
          "text": [
            "_________________________________________________________________\n",
            "Layer (type)                 Output Shape              Param #   \n",
            "=================================================================\n",
            "conv2d_20 (Conv2D)           (None, 32, 32, 32)        896       \n",
            "_________________________________________________________________\n",
            "activation_37 (Activation)   (None, 32, 32, 32)        0         \n",
            "_________________________________________________________________\n",
            "flatten_13 (Flatten)         (None, 32768)             0         \n",
            "_________________________________________________________________\n",
            "dense_25 (Dense)             (None, 512)               16777728  \n",
            "_________________________________________________________________\n",
            "activation_38 (Activation)   (None, 512)               0         \n",
            "_________________________________________________________________\n",
            "dropout_13 (Dropout)         (None, 512)               0         \n",
            "_________________________________________________________________\n",
            "dense_26 (Dense)             (None, 10)                5130      \n",
            "_________________________________________________________________\n",
            "activation_39 (Activation)   (None, 10)                0         \n",
            "=================================================================\n",
            "Total params: 16,783,754\n",
            "Trainable params: 16,783,754\n",
            "Non-trainable params: 0\n",
            "_________________________________________________________________\n",
            "Train on 40000 samples, validate on 10000 samples\n",
            "Epoch 1/30\n",
            "40000/40000 [==============================] - 20s 493us/step - loss: 2.2967 - acc: 0.1174 - val_loss: 2.2678 - val_acc: 0.1873\n",
            "Epoch 2/30\n",
            "40000/40000 [==============================] - 18s 441us/step - loss: 2.2441 - acc: 0.1613 - val_loss: 2.1833 - val_acc: 0.2368\n",
            "Epoch 3/30\n",
            "40000/40000 [==============================] - 18s 443us/step - loss: 2.1707 - acc: 0.1994 - val_loss: 2.0961 - val_acc: 0.2566\n",
            "Epoch 4/30\n",
            "40000/40000 [==============================] - 18s 459us/step - loss: 2.1066 - acc: 0.2327 - val_loss: 2.0291 - val_acc: 0.2799\n",
            "Epoch 5/30\n",
            "40000/40000 [==============================] - 17s 437us/step - loss: 2.0541 - acc: 0.2526 - val_loss: 1.9842 - val_acc: 0.3024\n",
            "Epoch 6/30\n",
            "40000/40000 [==============================] - 18s 440us/step - loss: 2.0177 - acc: 0.2675 - val_loss: 1.9435 - val_acc: 0.3216\n",
            "Epoch 7/30\n",
            "40000/40000 [==============================] - 18s 443us/step - loss: 1.9798 - acc: 0.2857 - val_loss: 1.9180 - val_acc: 0.3238\n",
            "Epoch 8/30\n",
            "40000/40000 [==============================] - 18s 442us/step - loss: 1.9527 - acc: 0.2974 - val_loss: 1.8808 - val_acc: 0.3379\n",
            "Epoch 9/30\n",
            "40000/40000 [==============================] - 18s 441us/step - loss: 1.9366 - acc: 0.3047 - val_loss: 1.8614 - val_acc: 0.3519\n",
            "Epoch 10/30\n",
            "40000/40000 [==============================] - 18s 448us/step - loss: 1.9140 - acc: 0.3175 - val_loss: 1.8434 - val_acc: 0.3610\n",
            "Epoch 11/30\n",
            "40000/40000 [==============================] - 18s 445us/step - loss: 1.8981 - acc: 0.3261 - val_loss: 1.8251 - val_acc: 0.3638\n",
            "Epoch 12/30\n",
            "40000/40000 [==============================] - 18s 444us/step - loss: 1.8794 - acc: 0.3305 - val_loss: 1.8018 - val_acc: 0.3696\n",
            "Epoch 13/30\n",
            "40000/40000 [==============================] - 18s 458us/step - loss: 1.8627 - acc: 0.3363 - val_loss: 1.7869 - val_acc: 0.3696\n",
            "Epoch 14/30\n",
            "40000/40000 [==============================] - 18s 440us/step - loss: 1.8542 - acc: 0.3436 - val_loss: 1.7724 - val_acc: 0.3814\n",
            "Epoch 15/30\n",
            "40000/40000 [==============================] - 18s 442us/step - loss: 1.8402 - acc: 0.3445 - val_loss: 1.7515 - val_acc: 0.3781\n",
            "Epoch 16/30\n",
            "40000/40000 [==============================] - 18s 443us/step - loss: 1.8277 - acc: 0.3462 - val_loss: 1.7357 - val_acc: 0.3852\n",
            "Epoch 17/30\n",
            "40000/40000 [==============================] - 13s 321us/step - loss: 1.8161 - acc: 0.3539 - val_loss: 1.7267 - val_acc: 0.3938\n",
            "Epoch 18/30\n",
            "40000/40000 [==============================] - 12s 308us/step - loss: 1.8026 - acc: 0.3588 - val_loss: 1.7166 - val_acc: 0.3920\n",
            "Epoch 19/30\n",
            "40000/40000 [==============================] - 12s 310us/step - loss: 1.7949 - acc: 0.3606 - val_loss: 1.7006 - val_acc: 0.4009\n",
            "Epoch 20/30\n",
            "40000/40000 [==============================] - 12s 309us/step - loss: 1.7866 - acc: 0.3673 - val_loss: 1.6913 - val_acc: 0.4012\n",
            "Epoch 21/30\n",
            "40000/40000 [==============================] - 12s 308us/step - loss: 1.7756 - acc: 0.3655 - val_loss: 1.6797 - val_acc: 0.4100\n",
            "Epoch 22/30\n",
            "40000/40000 [==============================] - 12s 307us/step - loss: 1.7689 - acc: 0.3714 - val_loss: 1.6695 - val_acc: 0.4110\n",
            "Epoch 23/30\n",
            "40000/40000 [==============================] - 12s 308us/step - loss: 1.7598 - acc: 0.3736 - val_loss: 1.6555 - val_acc: 0.4153\n",
            "Epoch 24/30\n",
            "40000/40000 [==============================] - 12s 310us/step - loss: 1.7511 - acc: 0.3794 - val_loss: 1.6508 - val_acc: 0.4192\n",
            "Epoch 25/30\n",
            "40000/40000 [==============================] - 12s 310us/step - loss: 1.7430 - acc: 0.3805 - val_loss: 1.6340 - val_acc: 0.4236\n",
            "Epoch 26/30\n",
            "40000/40000 [==============================] - 12s 309us/step - loss: 1.7357 - acc: 0.3839 - val_loss: 1.6346 - val_acc: 0.4210\n",
            "Epoch 27/30\n",
            "40000/40000 [==============================] - 12s 310us/step - loss: 1.7265 - acc: 0.3862 - val_loss: 1.6221 - val_acc: 0.4310\n",
            "Epoch 28/30\n",
            "40000/40000 [==============================] - 13s 315us/step - loss: 1.7241 - acc: 0.3907 - val_loss: 1.6126 - val_acc: 0.4311\n",
            "Epoch 29/30\n",
            "40000/40000 [==============================] - 12s 309us/step - loss: 1.7138 - acc: 0.3898 - val_loss: 1.6122 - val_acc: 0.4336\n",
            "Epoch 30/30\n",
            "40000/40000 [==============================] - 12s 311us/step - loss: 1.7129 - acc: 0.3917 - val_loss: 1.5964 - val_acc: 0.4371\n"
          ],
          "name": "stdout"
        }
      ]
    },
    {
      "metadata": {
        "id": "hgXzhC5WFm9I",
        "colab_type": "code",
        "outputId": "46316e22-121f-4ed4-e58e-d946494b0ec1",
        "colab": {
          "base_uri": "https://localhost:8080/",
          "height": 376
        }
      },
      "cell_type": "code",
      "source": [
        "#display result\n",
        "history_dict = history.history\n",
        "loss_values = history_dict['loss']\n",
        "test_loss_values = history_dict['val_loss']\n",
        "epochs_range = range(1, epochs + 1)\n",
        "plt.plot(epochs_range, loss_values, 'bo', label='Training loss')\n",
        "plt.plot(epochs_range, test_loss_values, 'ro', label='Test loss')\n",
        "plt.title('Training and test loss')\n",
        "plt.xlabel('Epochs')\n",
        "plt.ylabel('Loss')\n",
        "plt.legend()\n",
        "plt.show()"
      ],
      "execution_count": 155,
      "outputs": [
        {
          "output_type": "display_data",
          "data": {
            "image/png": "[encoded data removed]",
            "text/plain": [
              "<Figure size 576x396 with 1 Axes>"
            ]
          },
          "metadata": {
            "tags": []
          }
        }
      ]
    },
    {
      "metadata": {
        "id": "JjOy8APyFrOM",
        "colab_type": "code",
        "colab": {}
      },
      "cell_type": "code",
      "source": [
        ""
      ],
      "execution_count": 0,
      "outputs": []
    },
    {
      "metadata": {
        "id": "ma6EATkXFzN2",
        "colab_type": "code",
        "outputId": "6f7ea0d2-4570-469e-a892-e365af0393b2",
        "colab": {
          "base_uri": "https://localhost:8080/",
          "height": 376
        }
      },
      "cell_type": "code",
      "source": [
        "acc_values = history_dict['acc']\n",
        "test_acc_values = history_dict['val_acc']\n",
        "plt.plot(epochs_range, acc_values, 'bo', label='Training accuracy')\n",
        "plt.plot(epochs_range, test_acc_values, 'ro', label='Test accuracy')\n",
        "plt.title('Training and test accuracy')\n",
        "plt.xlabel('Epochs')\n",
        "plt.ylabel('Accuracy')\n",
        "plt.legend()\n",
        "plt.show()"
      ],
      "execution_count": 156,
      "outputs": [
        {
          "output_type": "display_data",
          "data": {
            "image/png": "[encoded data removed]",
            "text/plain": [
              "<Figure size 576x396 with 1 Axes>"
            ]
          },
          "metadata": {
            "tags": []
          }
        }
      ]
    },
    {
      "metadata": {
        "id": "zix-ezYKft_c",
        "colab_type": "text"
      },
      "cell_type": "markdown",
      "source": [
        "## Network2"
      ]
    },
    {
      "metadata": {
        "id": "V6cQg7PffyI3",
        "colab_type": "code",
        "outputId": "cc9f18d6-27d7-4943-d034-e7c5cfb8b9e3",
        "colab": {
          "base_uri": "https://localhost:8080/",
          "height": 1545
        }
      },
      "cell_type": "code",
      "source": [
        "#network architecture \n",
        "network = Sequential()\n",
        "network.add(Conv2D(32, (3, 3), padding='same',input_shape=training_images.shape[1:]))\n",
        "network.add(Activation('relu'))\n",
        "network.add(Conv2D(32,(3,3)))\n",
        "network.add(Activation('relu'))\n",
        "\n",
        "network.add(Flatten())\n",
        "network.add(Dense(512))\n",
        "network.add(Activation('relu'))\n",
        "network.add(Dropout(0.5))\n",
        "network.add(Dense(10))\n",
        "network.add(Activation('softmax'))\n",
        "network.summary()\n",
        "\n",
        "#compilation step\n",
        "opt = keras.optimizers.rmsprop(lr=0.0001, decay=1e-6)\n",
        "network.compile(optimizer=opt,\n",
        "                loss='categorical_crossentropy',\n",
        "                metrics=['accuracy'])\n",
        "#train the model\n",
        "epochs = 30\n",
        "history = network.fit(training_images, \n",
        "                      training_labels, \n",
        "                      epochs=epochs, \n",
        "                      batch_size=128, \n",
        "                      validation_data=(valid_images, valid_labels))"
      ],
      "execution_count": 157,
      "outputs": [
        {
          "output_type": "stream",
          "text": [
            "_________________________________________________________________\n",
            "Layer (type)                 Output Shape              Param #   \n",
            "=================================================================\n",
            "conv2d_21 (Conv2D)           (None, 32, 32, 32)        896       \n",
            "_________________________________________________________________\n",
            "activation_40 (Activation)   (None, 32, 32, 32)        0         \n",
            "_________________________________________________________________\n",
            "conv2d_22 (Conv2D)           (None, 30, 30, 32)        9248      \n",
            "_________________________________________________________________\n",
            "activation_41 (Activation)   (None, 30, 30, 32)        0         \n",
            "_________________________________________________________________\n",
            "flatten_14 (Flatten)         (None, 28800)             0         \n",
            "_________________________________________________________________\n",
            "dense_27 (Dense)             (None, 512)               14746112  \n",
            "_________________________________________________________________\n",
            "activation_42 (Activation)   (None, 512)               0         \n",
            "_________________________________________________________________\n",
            "dropout_14 (Dropout)         (None, 512)               0         \n",
            "_________________________________________________________________\n",
            "dense_28 (Dense)             (None, 10)                5130      \n",
            "_________________________________________________________________\n",
            "activation_43 (Activation)   (None, 10)                0         \n",
            "=================================================================\n",
            "Total params: 14,761,386\n",
            "Trainable params: 14,761,386\n",
            "Non-trainable params: 0\n",
            "_________________________________________________________________\n",
            "Train on 40000 samples, validate on 10000 samples\n",
            "Epoch 1/30\n",
            "40000/40000 [==============================] - 12s 309us/step - loss: 1.7930 - acc: 0.3630 - val_loss: 1.4945 - val_acc: 0.4855\n",
            "Epoch 2/30\n",
            "40000/40000 [==============================] - 11s 283us/step - loss: 1.4872 - acc: 0.4708 - val_loss: 1.3277 - val_acc: 0.5417\n",
            "Epoch 3/30\n",
            "40000/40000 [==============================] - 11s 285us/step - loss: 1.3447 - acc: 0.5253 - val_loss: 1.2158 - val_acc: 0.5789\n",
            "Epoch 4/30\n",
            "40000/40000 [==============================] - 11s 283us/step - loss: 1.2486 - acc: 0.5603 - val_loss: 1.1245 - val_acc: 0.6122\n",
            "Epoch 5/30\n",
            "40000/40000 [==============================] - 11s 284us/step - loss: 1.1831 - acc: 0.5820 - val_loss: 1.1426 - val_acc: 0.6027\n",
            "Epoch 6/30\n",
            "40000/40000 [==============================] - 11s 283us/step - loss: 1.1168 - acc: 0.6079 - val_loss: 0.9976 - val_acc: 0.6590\n",
            "Epoch 7/30\n",
            "40000/40000 [==============================] - 11s 286us/step - loss: 1.0646 - acc: 0.6275 - val_loss: 0.9599 - val_acc: 0.6671\n",
            "Epoch 8/30\n",
            "40000/40000 [==============================] - 11s 282us/step - loss: 1.0162 - acc: 0.6447 - val_loss: 0.9440 - val_acc: 0.6727\n",
            "Epoch 9/30\n",
            "40000/40000 [==============================] - 12s 288us/step - loss: 0.9690 - acc: 0.6630 - val_loss: 0.8897 - val_acc: 0.6867\n",
            "Epoch 10/30\n",
            "40000/40000 [==============================] - 11s 286us/step - loss: 0.9278 - acc: 0.6780 - val_loss: 0.8369 - val_acc: 0.7085\n",
            "Epoch 11/30\n",
            "40000/40000 [==============================] - 11s 286us/step - loss: 0.8871 - acc: 0.6939 - val_loss: 0.7852 - val_acc: 0.7291\n",
            "Epoch 12/30\n",
            "40000/40000 [==============================] - 11s 284us/step - loss: 0.8473 - acc: 0.7065 - val_loss: 0.7278 - val_acc: 0.7628\n",
            "Epoch 13/30\n",
            "40000/40000 [==============================] - 11s 286us/step - loss: 0.8080 - acc: 0.7224 - val_loss: 0.7128 - val_acc: 0.7635\n",
            "Epoch 14/30\n",
            "40000/40000 [==============================] - 11s 285us/step - loss: 0.7730 - acc: 0.7341 - val_loss: 0.6692 - val_acc: 0.7735\n",
            "Epoch 15/30\n",
            "40000/40000 [==============================] - 12s 288us/step - loss: 0.7391 - acc: 0.7456 - val_loss: 0.6246 - val_acc: 0.7966\n",
            "Epoch 16/30\n",
            "40000/40000 [==============================] - 12s 288us/step - loss: 0.6981 - acc: 0.7621 - val_loss: 0.5762 - val_acc: 0.8156\n",
            "Epoch 17/30\n",
            "40000/40000 [==============================] - 11s 287us/step - loss: 0.6708 - acc: 0.7726 - val_loss: 0.5647 - val_acc: 0.8292\n",
            "Epoch 18/30\n",
            "40000/40000 [==============================] - 12s 290us/step - loss: 0.6354 - acc: 0.7833 - val_loss: 0.4905 - val_acc: 0.8530\n",
            "Epoch 19/30\n",
            "40000/40000 [==============================] - 11s 286us/step - loss: 0.6076 - acc: 0.7924 - val_loss: 0.4773 - val_acc: 0.8515\n",
            "Epoch 20/30\n",
            "40000/40000 [==============================] - 12s 289us/step - loss: 0.5748 - acc: 0.8058 - val_loss: 0.4631 - val_acc: 0.8590\n",
            "Epoch 21/30\n",
            "40000/40000 [==============================] - 11s 287us/step - loss: 0.5474 - acc: 0.8189 - val_loss: 0.4078 - val_acc: 0.8866\n",
            "Epoch 22/30\n",
            "40000/40000 [==============================] - 12s 288us/step - loss: 0.5146 - acc: 0.8280 - val_loss: 0.3987 - val_acc: 0.8926\n",
            "Epoch 23/30\n",
            "40000/40000 [==============================] - 11s 286us/step - loss: 0.4936 - acc: 0.8344 - val_loss: 0.4404 - val_acc: 0.8533\n",
            "Epoch 24/30\n",
            "40000/40000 [==============================] - 12s 289us/step - loss: 0.4650 - acc: 0.8468 - val_loss: 0.3320 - val_acc: 0.9117\n",
            "Epoch 25/30\n",
            "40000/40000 [==============================] - 12s 290us/step - loss: 0.4354 - acc: 0.8565 - val_loss: 0.3066 - val_acc: 0.9331\n",
            "Epoch 26/30\n",
            "40000/40000 [==============================] - 11s 287us/step - loss: 0.4104 - acc: 0.8656 - val_loss: 0.2780 - val_acc: 0.9336\n",
            "Epoch 27/30\n",
            "40000/40000 [==============================] - 11s 287us/step - loss: 0.3838 - acc: 0.8756 - val_loss: 0.2473 - val_acc: 0.9405\n",
            "Epoch 28/30\n",
            "40000/40000 [==============================] - 12s 290us/step - loss: 0.3638 - acc: 0.8819 - val_loss: 0.2275 - val_acc: 0.9520\n",
            "Epoch 29/30\n",
            "40000/40000 [==============================] - 11s 287us/step - loss: 0.3389 - acc: 0.8907 - val_loss: 0.2247 - val_acc: 0.9528\n",
            "Epoch 30/30\n",
            "40000/40000 [==============================] - 11s 286us/step - loss: 0.3236 - acc: 0.8964 - val_loss: 0.1873 - val_acc: 0.9636\n"
          ],
          "name": "stdout"
        }
      ]
    },
    {
      "metadata": {
        "id": "K1HPD4lEhhop",
        "colab_type": "code",
        "outputId": "94d59aa9-68fc-440d-ae1c-3d46fa066708",
        "colab": {
          "base_uri": "https://localhost:8080/",
          "height": 376
        }
      },
      "cell_type": "code",
      "source": [
        "#display training and test loss\n",
        "history_dict = history.history\n",
        "loss_values = history_dict['loss']\n",
        "test_loss_values = history_dict['val_loss']\n",
        "epochs_range = range(1, epochs + 1)\n",
        "plt.plot(epochs_range, loss_values, 'bo', label='Training loss')\n",
        "plt.plot(epochs_range, test_loss_values, 'ro', label='Test loss')\n",
        "plt.title('Training and test loss(network2)')\n",
        "plt.xlabel('Epochs')\n",
        "plt.ylabel('Loss')\n",
        "plt.legend()\n",
        "plt.show()"
      ],
      "execution_count": 158,
      "outputs": [
        {
          "output_type": "display_data",
          "data": {
            "image/png": "[encoded data removed]",
            "text/plain": [
              "<Figure size 576x396 with 1 Axes>"
            ]
          },
          "metadata": {
            "tags": []
          }
        }
      ]
    },
    {
      "metadata": {
        "id": "26bSAcALhstE",
        "colab_type": "code",
        "outputId": "fdc0b4a0-3626-4a05-f1e0-f7c1e443d98e",
        "colab": {
          "base_uri": "https://localhost:8080/",
          "height": 376
        }
      },
      "cell_type": "code",
      "source": [
        "#display training and test accuracy\n",
        "acc_values = history_dict['acc']\n",
        "test_acc_values = history_dict['val_acc']\n",
        "plt.plot(epochs_range, acc_values, 'bo', label='Training accuracy')\n",
        "plt.plot(epochs_range, test_acc_values, 'ro', label='Test accuracy')\n",
        "plt.title('Training and test accuracy(network2)')\n",
        "plt.xlabel('Epochs')\n",
        "plt.ylabel('Accuracy')\n",
        "plt.legend()\n",
        "plt.show()"
      ],
      "execution_count": 159,
      "outputs": [
        {
          "output_type": "display_data",
          "data": {
            "image/png": "[encoded data removed]",
            "text/plain": [
              "<Figure size 576x396 with 1 Axes>"
            ]
          },
          "metadata": {
            "tags": []
          }
        }
      ]
    },
    {
      "metadata": {
        "id": "Z9b-n1ACin3M",
        "colab_type": "code",
        "colab": {}
      },
      "cell_type": "code",
      "source": [
        ""
      ],
      "execution_count": 0,
      "outputs": []
    },
    {
      "metadata": {
        "id": "Fp6ecdyGq7xP",
        "colab_type": "text"
      },
      "cell_type": "markdown",
      "source": [
        "## Network 3: using droplayer\n"
      ]
    },
    {
      "metadata": {
        "id": "K3nP5SXiq98D",
        "colab_type": "code",
        "outputId": "e9c9ab29-035b-47ae-eb3e-22a1b0a24100",
        "colab": {
          "base_uri": "https://localhost:8080/",
          "height": 1615
        }
      },
      "cell_type": "code",
      "source": [
        "\n",
        "from keras import layers\n",
        "from keras import models\n",
        "from keras import optimizers\n",
        "\n",
        "model = models.Sequential()\n",
        "# conv layers\n",
        "# 1\n",
        "model.add(layers.Conv2D(32, (3, 3), activation='relu', input_shape=(150, 150, 3)))\n",
        "model.add(layers.MaxPooling2D(2, 2))\n",
        "# 2\n",
        "model.add(layers.Conv2D(64, (3, 3), activation='relu'))\n",
        "model.add(layers.MaxPooling2D(2, 2))\n",
        "# 3\n",
        "model.add(layers.Conv2D(128, (3, 3), activation='relu'))\n",
        "model.add(layers.MaxPooling2D(2, 2))\n",
        "# 4\n",
        "model.add(layers.Conv2D(128, (3, 3), activation='relu'))\n",
        "model.add(layers.MaxPooling2D(2, 2))\n",
        "# dense layers\n",
        "model.add(layers.Flatten())\n",
        "# DROPOUT\n",
        "model.add(layers.Dropout(0.5))\n",
        "model.add(layers.Dense(512, activation='relu'))\n",
        "model.add(layers.Dense(1, activation='sigmoid'))\n",
        "model.summary()\n",
        "# model.compile(\n",
        "#     loss='binary_crossentropy', \n",
        "#     optimizer=optimizers.RMSprop(lr=1e-4), \n",
        "#     metrics=['acc'])\n",
        "# #compilation step\n",
        "opt = keras.optimizers.rmsprop(lr=0.0001, decay=1e-6)\n",
        "network.compile(optimizer=opt,\n",
        "                loss='categorical_crossentropy',\n",
        "                metrics=['accuracy'])\n",
        "#train the model\n",
        "epochs = 30\n",
        "history = network.fit(training_images, \n",
        "                      training_labels, \n",
        "                      epochs=epochs, \n",
        "                      batch_size=128, \n",
        "                      validation_data=(valid_images, valid_labels))"
      ],
      "execution_count": 160,
      "outputs": [
        {
          "output_type": "stream",
          "text": [
            "_________________________________________________________________\n",
            "Layer (type)                 Output Shape              Param #   \n",
            "=================================================================\n",
            "conv2d_23 (Conv2D)           (None, 148, 148, 32)      896       \n",
            "_________________________________________________________________\n",
            "max_pooling2d_5 (MaxPooling2 (None, 74, 74, 32)        0         \n",
            "_________________________________________________________________\n",
            "conv2d_24 (Conv2D)           (None, 72, 72, 64)        18496     \n",
            "_________________________________________________________________\n",
            "max_pooling2d_6 (MaxPooling2 (None, 36, 36, 64)        0         \n",
            "_________________________________________________________________\n",
            "conv2d_25 (Conv2D)           (None, 34, 34, 128)       73856     \n",
            "_________________________________________________________________\n",
            "max_pooling2d_7 (MaxPooling2 (None, 17, 17, 128)       0         \n",
            "_________________________________________________________________\n",
            "conv2d_26 (Conv2D)           (None, 15, 15, 128)       147584    \n",
            "_________________________________________________________________\n",
            "max_pooling2d_8 (MaxPooling2 (None, 7, 7, 128)         0         \n",
            "_________________________________________________________________\n",
            "flatten_15 (Flatten)         (None, 6272)              0         \n",
            "_________________________________________________________________\n",
            "dropout_15 (Dropout)         (None, 6272)              0         \n",
            "_________________________________________________________________\n",
            "dense_29 (Dense)             (None, 512)               3211776   \n",
            "_________________________________________________________________\n",
            "dense_30 (Dense)             (None, 1)                 513       \n",
            "=================================================================\n",
            "Total params: 3,453,121\n",
            "Trainable params: 3,453,121\n",
            "Non-trainable params: 0\n",
            "_________________________________________________________________\n",
            "Train on 40000 samples, validate on 10000 samples\n",
            "Epoch 1/30\n",
            "40000/40000 [==============================] - 13s 314us/step - loss: 0.3036 - acc: 0.9033 - val_loss: 0.1616 - val_acc: 0.9678\n",
            "Epoch 2/30\n",
            "40000/40000 [==============================] - 11s 287us/step - loss: 0.2836 - acc: 0.9105 - val_loss: 0.1523 - val_acc: 0.9683\n",
            "Epoch 3/30\n",
            "40000/40000 [==============================] - 11s 285us/step - loss: 0.2650 - acc: 0.9186 - val_loss: 0.1401 - val_acc: 0.9751\n",
            "Epoch 4/30\n",
            "40000/40000 [==============================] - 11s 284us/step - loss: 0.2535 - acc: 0.9199 - val_loss: 0.1541 - val_acc: 0.9794\n",
            "Epoch 5/30\n",
            "40000/40000 [==============================] - 11s 286us/step - loss: 0.2370 - acc: 0.9263 - val_loss: 0.1048 - val_acc: 0.9823\n",
            "Epoch 6/30\n",
            "40000/40000 [==============================] - 11s 285us/step - loss: 0.2228 - acc: 0.9312 - val_loss: 0.1009 - val_acc: 0.9872\n",
            "Epoch 7/30\n",
            "40000/40000 [==============================] - 11s 287us/step - loss: 0.2103 - acc: 0.9352 - val_loss: 0.0904 - val_acc: 0.9859\n",
            "Epoch 8/30\n",
            "40000/40000 [==============================] - 11s 284us/step - loss: 0.1974 - acc: 0.9396 - val_loss: 0.0835 - val_acc: 0.9860\n",
            "Epoch 9/30\n",
            "40000/40000 [==============================] - 11s 285us/step - loss: 0.1857 - acc: 0.9454 - val_loss: 0.0801 - val_acc: 0.9860\n",
            "Epoch 10/30\n",
            "40000/40000 [==============================] - 11s 284us/step - loss: 0.1748 - acc: 0.9486 - val_loss: 0.0802 - val_acc: 0.9933\n",
            "Epoch 11/30\n",
            "40000/40000 [==============================] - 11s 287us/step - loss: 0.1694 - acc: 0.9501 - val_loss: 0.0686 - val_acc: 0.9922\n",
            "Epoch 12/30\n",
            "40000/40000 [==============================] - 11s 283us/step - loss: 0.1624 - acc: 0.9520 - val_loss: 0.0611 - val_acc: 0.9924\n",
            "Epoch 13/30\n",
            "40000/40000 [==============================] - 11s 284us/step - loss: 0.1502 - acc: 0.9555 - val_loss: 0.0606 - val_acc: 0.9932\n",
            "Epoch 14/30\n",
            "40000/40000 [==============================] - 11s 286us/step - loss: 0.1483 - acc: 0.9569 - val_loss: 0.0442 - val_acc: 0.9943\n",
            "Epoch 15/30\n",
            "40000/40000 [==============================] - 11s 282us/step - loss: 0.1402 - acc: 0.9589 - val_loss: 0.0449 - val_acc: 0.9937\n",
            "Epoch 16/30\n",
            "40000/40000 [==============================] - 11s 287us/step - loss: 0.1388 - acc: 0.9595 - val_loss: 0.0870 - val_acc: 0.9947\n",
            "Epoch 17/30\n",
            "40000/40000 [==============================] - 11s 284us/step - loss: 0.1327 - acc: 0.9610 - val_loss: 0.0440 - val_acc: 0.9974\n",
            "Epoch 18/30\n",
            "40000/40000 [==============================] - 11s 283us/step - loss: 0.1299 - acc: 0.9631 - val_loss: 0.0371 - val_acc: 0.9958\n",
            "Epoch 19/30\n",
            "40000/40000 [==============================] - 11s 286us/step - loss: 0.1230 - acc: 0.9656 - val_loss: 0.0318 - val_acc: 0.9949\n",
            "Epoch 20/30\n",
            "40000/40000 [==============================] - 11s 283us/step - loss: 0.1219 - acc: 0.9659 - val_loss: 0.0345 - val_acc: 0.9973\n",
            "Epoch 21/30\n",
            "40000/40000 [==============================] - 12s 289us/step - loss: 0.1187 - acc: 0.9662 - val_loss: 0.0337 - val_acc: 0.9976\n",
            "Epoch 22/30\n",
            "40000/40000 [==============================] - 12s 288us/step - loss: 0.1199 - acc: 0.9655 - val_loss: 0.0320 - val_acc: 0.9986\n",
            "Epoch 23/30\n",
            "40000/40000 [==============================] - 11s 286us/step - loss: 0.1159 - acc: 0.9669 - val_loss: 0.0447 - val_acc: 0.9970\n",
            "Epoch 24/30\n",
            "40000/40000 [==============================] - 11s 287us/step - loss: 0.1150 - acc: 0.9672 - val_loss: 0.0280 - val_acc: 0.9993\n",
            "Epoch 25/30\n",
            "40000/40000 [==============================] - 11s 285us/step - loss: 0.1138 - acc: 0.9677 - val_loss: 0.0244 - val_acc: 0.9976\n",
            "Epoch 26/30\n",
            "40000/40000 [==============================] - 11s 286us/step - loss: 0.1133 - acc: 0.9665 - val_loss: 0.0483 - val_acc: 0.9982\n",
            "Epoch 27/30\n",
            "40000/40000 [==============================] - 11s 283us/step - loss: 0.1090 - acc: 0.9683 - val_loss: 0.0411 - val_acc: 0.9982\n",
            "Epoch 28/30\n",
            "40000/40000 [==============================] - 11s 287us/step - loss: 0.1097 - acc: 0.9692 - val_loss: 0.0197 - val_acc: 0.9982\n",
            "Epoch 29/30\n",
            "40000/40000 [==============================] - 11s 284us/step - loss: 0.1080 - acc: 0.9696 - val_loss: 0.0672 - val_acc: 0.9987\n",
            "Epoch 30/30\n",
            "40000/40000 [==============================] - 11s 285us/step - loss: 0.1124 - acc: 0.9687 - val_loss: 0.0223 - val_acc: 0.9976\n"
          ],
          "name": "stdout"
        }
      ]
    },
    {
      "metadata": {
        "id": "NnNqieIBwrJj",
        "colab_type": "code",
        "outputId": "0fae31b4-5b38-42ab-f026-b221026b1f12",
        "colab": {
          "base_uri": "https://localhost:8080/",
          "height": 376
        }
      },
      "cell_type": "code",
      "source": [
        "#display training and test loss\n",
        "history_dict = history.history\n",
        "loss_values = history_dict['loss']\n",
        "test_loss_values = history_dict['val_loss']\n",
        "epochs_range = range(1, epochs + 1)\n",
        "plt.plot(epochs_range, loss_values, 'bo', label='Training loss')\n",
        "plt.plot(epochs_range, test_loss_values, 'ro', label='Test loss')\n",
        "plt.title('Training and test loss(network3)')\n",
        "plt.xlabel('Epochs')\n",
        "plt.ylabel('Loss')\n",
        "plt.legend()\n",
        "plt.show()"
      ],
      "execution_count": 161,
      "outputs": [
        {
          "output_type": "display_data",
          "data": {
            "image/png": "[encoded data removed]",
            "text/plain": [
              "<Figure size 576x396 with 1 Axes>"
            ]
          },
          "metadata": {
            "tags": []
          }
        }
      ]
    },
    {
      "metadata": {
        "id": "6Eunad1ixeCx",
        "colab_type": "code",
        "outputId": "3e1c0870-3713-4c9d-e848-8a0e3f79f1f9",
        "colab": {
          "base_uri": "https://localhost:8080/",
          "height": 376
        }
      },
      "cell_type": "code",
      "source": [
        "#display training and test accuracy\n",
        "acc_values = history_dict['acc']\n",
        "test_acc_values = history_dict['val_acc']\n",
        "plt.plot(epochs_range, acc_values, 'bo', label='Training accuracy')\n",
        "plt.plot(epochs_range, test_acc_values, 'ro', label='Test accuracy')\n",
        "plt.title('Training and test accuracy(network3)')\n",
        "plt.xlabel('Epochs')\n",
        "plt.ylabel('Accuracy')\n",
        "plt.legend()\n",
        "plt.show()"
      ],
      "execution_count": 162,
      "outputs": [
        {
          "output_type": "display_data",
          "data": {
            "image/png": "[encoded data removed]",
            "text/plain": [
              "<Figure size 576x396 with 1 Axes>"
            ]
          },
          "metadata": {
            "tags": []
          }
        }
      ]
    },
    {
      "metadata": {
        "id": "UQKL-VY5wrjW",
        "colab_type": "text"
      },
      "cell_type": "markdown",
      "source": [
        "#compare woth K fold"
      ]
    },
    {
      "metadata": {
        "id": "veArbeU_JDcS",
        "colab_type": "code",
        "colab": {}
      },
      "cell_type": "code",
      "source": [
        "def k_fold_cross_split(data,folds):\n",
        "  new_data = list(data)\n",
        "  fold_size = int(data.shape[0]/folds)\n",
        "  dataset_split = []\n",
        "  for i in range(folds):\n",
        "    fold = []\n",
        "    for j in range(fold_size):\n",
        "      index = randrange(len(new_data))\n",
        "      fold.append(new_data.pop(index))\n",
        "    dataset_split.append(fold)\n",
        "  return dataset_split\n",
        "#split train into training and validation\n",
        "seed(1)\n",
        "num_folds = 6\n",
        "training_images = []\n",
        "training_labels = []\n",
        "folds_all = k_fold_cross_split(train_images, num_folds)\n",
        "folds_all_label = k_fold_cross_split(train_labels,num_folds)\n",
        "folds_all = np.array(folds_all)\n",
        "folds_all_label = np.array(folds_all_label)"
      ],
      "execution_count": 0,
      "outputs": []
    },
    {
      "metadata": {
        "id": "hQiHm9AwmM7_",
        "colab_type": "code",
        "colab": {}
      },
      "cell_type": "code",
      "source": [
        "training_images = np.concatenate((folds_all[0],folds_all[1],folds_all[2],folds_all[3],folds_all[4]))\n",
        "training_labels = np.concatenate((folds_all_label[0],folds_all_label[1],folds_all_label[2],folds_all_label[3],folds_all_label[4]))\n",
        "valid_images = folds_all[num_folds-1]\n",
        "valid_labels = folds_all_label[num_folds-1]"
      ],
      "execution_count": 0,
      "outputs": []
    },
    {
      "metadata": {
        "id": "QYtbP_vHxqHK",
        "colab_type": "code",
        "outputId": "41b37e8f-e51d-433b-f817-9e39d22b058a",
        "colab": {
          "base_uri": "https://localhost:8080/",
          "height": 1476
        }
      },
      "cell_type": "code",
      "source": [
        "#network architecture \n",
        "network = Sequential()\n",
        "network.add(Conv2D(32, (3, 3), padding='same',input_shape=training_images[0].shape))\n",
        "network.add(Activation('softmax'))\n",
        "network.add(Flatten())\n",
        "network.add(Dense(512))\n",
        "network.add(Activation('relu'))\n",
        "network.add(Dropout(0.5))\n",
        "network.add(Dense(10))\n",
        "network.add(Activation('softmax'))\n",
        "network.summary()\n",
        "#compilation step\n",
        "opt = keras.optimizers.rmsprop(lr=0.0001, decay=1e-6)\n",
        "network.compile(optimizer=opt,\n",
        "                loss='categorical_crossentropy',\n",
        "                metrics=['accuracy'])\n",
        "#train the model\n",
        "epochs = 30\n",
        "history = network.fit(training_images, \n",
        "                      training_labels, \n",
        "                      epochs=epochs, \n",
        "                      batch_size=128, \n",
        "                      validation_data=(valid_images, valid_labels))"
      ],
      "execution_count": 165,
      "outputs": [
        {
          "output_type": "stream",
          "text": [
            "_________________________________________________________________\n",
            "Layer (type)                 Output Shape              Param #   \n",
            "=================================================================\n",
            "conv2d_27 (Conv2D)           (None, 32, 32, 32)        896       \n",
            "_________________________________________________________________\n",
            "activation_44 (Activation)   (None, 32, 32, 32)        0         \n",
            "_________________________________________________________________\n",
            "flatten_16 (Flatten)         (None, 32768)             0         \n",
            "_________________________________________________________________\n",
            "dense_31 (Dense)             (None, 512)               16777728  \n",
            "_________________________________________________________________\n",
            "activation_45 (Activation)   (None, 512)               0         \n",
            "_________________________________________________________________\n",
            "dropout_16 (Dropout)         (None, 512)               0         \n",
            "_________________________________________________________________\n",
            "dense_32 (Dense)             (None, 10)                5130      \n",
            "_________________________________________________________________\n",
            "activation_46 (Activation)   (None, 10)                0         \n",
            "=================================================================\n",
            "Total params: 16,783,754\n",
            "Trainable params: 16,783,754\n",
            "Non-trainable params: 0\n",
            "_________________________________________________________________\n",
            "Train on 41665 samples, validate on 8333 samples\n",
            "Epoch 1/30\n",
            "41665/41665 [==============================] - 14s 327us/step - loss: 2.3061 - acc: 0.0968 - val_loss: 2.3026 - val_acc: 0.0978\n",
            "Epoch 2/30\n",
            "41665/41665 [==============================] - 12s 299us/step - loss: 2.3026 - acc: 0.0976 - val_loss: 2.3026 - val_acc: 0.0978\n",
            "Epoch 3/30\n",
            "41665/41665 [==============================] - 12s 297us/step - loss: 2.3026 - acc: 0.1003 - val_loss: 2.3026 - val_acc: 0.0980\n",
            "Epoch 4/30\n",
            "41665/41665 [==============================] - 12s 298us/step - loss: 2.3026 - acc: 0.0971 - val_loss: 2.3026 - val_acc: 0.0980\n",
            "Epoch 5/30\n",
            "41665/41665 [==============================] - 12s 299us/step - loss: 2.3026 - acc: 0.0997 - val_loss: 2.3026 - val_acc: 0.0979\n",
            "Epoch 6/30\n",
            "41665/41665 [==============================] - 12s 296us/step - loss: 2.3026 - acc: 0.0987 - val_loss: 2.3026 - val_acc: 0.0979\n",
            "Epoch 7/30\n",
            "41665/41665 [==============================] - 12s 298us/step - loss: 2.3026 - acc: 0.0979 - val_loss: 2.3026 - val_acc: 0.0979\n",
            "Epoch 8/30\n",
            "41665/41665 [==============================] - 12s 297us/step - loss: 2.3026 - acc: 0.0989 - val_loss: 2.3026 - val_acc: 0.0978\n",
            "Epoch 9/30\n",
            "41665/41665 [==============================] - 12s 298us/step - loss: 2.3026 - acc: 0.0987 - val_loss: 2.3026 - val_acc: 0.0979\n",
            "Epoch 10/30\n",
            "41665/41665 [==============================] - 12s 298us/step - loss: 2.3026 - acc: 0.0994 - val_loss: 2.3026 - val_acc: 0.0979\n",
            "Epoch 11/30\n",
            "41665/41665 [==============================] - 12s 297us/step - loss: 2.3026 - acc: 0.0986 - val_loss: 2.3026 - val_acc: 0.0979\n",
            "Epoch 12/30\n",
            "41665/41665 [==============================] - 12s 298us/step - loss: 2.3026 - acc: 0.1003 - val_loss: 2.3026 - val_acc: 0.0979\n",
            "Epoch 13/30\n",
            "41665/41665 [==============================] - 12s 297us/step - loss: 2.3026 - acc: 0.0979 - val_loss: 2.3026 - val_acc: 0.0979\n",
            "Epoch 14/30\n",
            "41665/41665 [==============================] - 12s 297us/step - loss: 2.3026 - acc: 0.1002 - val_loss: 2.3026 - val_acc: 0.0979\n",
            "Epoch 15/30\n",
            "41665/41665 [==============================] - 12s 298us/step - loss: 2.3026 - acc: 0.0998 - val_loss: 2.3026 - val_acc: 0.0979\n",
            "Epoch 16/30\n",
            "41665/41665 [==============================] - 12s 298us/step - loss: 2.3026 - acc: 0.0980 - val_loss: 2.3026 - val_acc: 0.0979\n",
            "Epoch 17/30\n",
            "41665/41665 [==============================] - 12s 298us/step - loss: 2.3026 - acc: 0.0989 - val_loss: 2.3027 - val_acc: 0.0979\n",
            "Epoch 18/30\n",
            "41665/41665 [==============================] - 12s 298us/step - loss: 2.3026 - acc: 0.0994 - val_loss: 2.3027 - val_acc: 0.0979\n",
            "Epoch 19/30\n",
            "41665/41665 [==============================] - 12s 298us/step - loss: 2.3026 - acc: 0.0999 - val_loss: 2.3027 - val_acc: 0.0979\n",
            "Epoch 20/30\n",
            "41665/41665 [==============================] - 12s 298us/step - loss: 2.3026 - acc: 0.0998 - val_loss: 2.3027 - val_acc: 0.0979\n",
            "Epoch 21/30\n",
            "41665/41665 [==============================] - 12s 298us/step - loss: 2.3026 - acc: 0.1000 - val_loss: 2.3027 - val_acc: 0.0979\n",
            "Epoch 22/30\n",
            "41665/41665 [==============================] - 12s 296us/step - loss: 2.3026 - acc: 0.0992 - val_loss: 2.3026 - val_acc: 0.0979\n",
            "Epoch 23/30\n",
            "41665/41665 [==============================] - 12s 298us/step - loss: 2.3026 - acc: 0.0992 - val_loss: 2.3026 - val_acc: 0.0979\n",
            "Epoch 24/30\n",
            "41665/41665 [==============================] - 12s 295us/step - loss: 2.3026 - acc: 0.0975 - val_loss: 2.3026 - val_acc: 0.0979\n",
            "Epoch 25/30\n",
            "41665/41665 [==============================] - 12s 297us/step - loss: 2.3026 - acc: 0.0996 - val_loss: 2.3026 - val_acc: 0.0978\n",
            "Epoch 26/30\n",
            "41665/41665 [==============================] - 12s 294us/step - loss: 2.3026 - acc: 0.0986 - val_loss: 2.3026 - val_acc: 0.0978\n",
            "Epoch 27/30\n",
            "41665/41665 [==============================] - 12s 297us/step - loss: 2.3026 - acc: 0.1004 - val_loss: 2.3026 - val_acc: 0.0978\n",
            "Epoch 28/30\n",
            "41665/41665 [==============================] - 12s 297us/step - loss: 2.3026 - acc: 0.0994 - val_loss: 2.3026 - val_acc: 0.0978\n",
            "Epoch 29/30\n",
            "41665/41665 [==============================] - 12s 296us/step - loss: 2.3026 - acc: 0.0990 - val_loss: 2.3027 - val_acc: 0.0979\n",
            "Epoch 30/30\n",
            "41665/41665 [==============================] - 12s 298us/step - loss: 2.3026 - acc: 0.0990 - val_loss: 2.3027 - val_acc: 0.0978\n"
          ],
          "name": "stdout"
        }
      ]
    },
    {
      "metadata": {
        "id": "UBRlWuyzx2Lt",
        "colab_type": "code",
        "outputId": "ac22428f-1541-4f2d-ce54-a5cf08e56bfd",
        "colab": {
          "base_uri": "https://localhost:8080/",
          "height": 376
        }
      },
      "cell_type": "code",
      "source": [
        "#display result\n",
        "history_dict = history.history\n",
        "loss_values = history_dict['loss']\n",
        "test_loss_values = history_dict['val_loss']\n",
        "epochs_range = range(1, epochs + 1)\n",
        "plt.plot(epochs_range, loss_values, 'bo', label='Training loss')\n",
        "plt.plot(epochs_range, test_loss_values, 'ro', label='Test loss')\n",
        "plt.title('Training and test loss')\n",
        "plt.xlabel('Epochs')\n",
        "plt.ylabel('Loss')\n",
        "plt.legend()\n",
        "plt.show()"
      ],
      "execution_count": 166,
      "outputs": [
        {
          "output_type": "display_data",
          "data": {
            "image/png": "[encoded data removed]",
            "text/plain": [
              "<Figure size 576x396 with 1 Axes>"
            ]
          },
          "metadata": {
            "tags": []
          }
        }
      ]
    },
    {
      "metadata": {
        "id": "icS1ivitx7Sh",
        "colab_type": "code",
        "outputId": "3d1de9d4-82e1-4b59-a1ea-d4d30f59976c",
        "colab": {
          "base_uri": "https://localhost:8080/",
          "height": 376
        }
      },
      "cell_type": "code",
      "source": [
        "acc_values = history_dict['acc']\n",
        "test_acc_values = history_dict['val_acc']\n",
        "plt.plot(epochs_range, acc_values, 'bo', label='Training accuracy')\n",
        "plt.plot(epochs_range, test_acc_values, 'ro', label='Test accuracy')\n",
        "plt.title('Training and test accuracy')\n",
        "plt.xlabel('Epochs')\n",
        "plt.ylabel('Accuracy')\n",
        "plt.legend()\n",
        "plt.show()"
      ],
      "execution_count": 167,
      "outputs": [
        {
          "output_type": "display_data",
          "data": {
            "image/png": "[encoded data removed]",
            "text/plain": [
              "<Figure size 576x396 with 1 Axes>"
            ]
          },
          "metadata": {
            "tags": []
          }
        }
      ]
    }
  ]
}