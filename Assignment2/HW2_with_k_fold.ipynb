{
  "nbformat": 4,
  "nbformat_minor": 0,
  "metadata": {
    "colab": {
      "name": "HW2-with k fold.ipynb",
      "version": "0.3.2",
      "provenance": [],
      "collapsed_sections": [],
      "include_colab_link": true
    },
    "kernelspec": {
      "name": "python3",
      "display_name": "Python 3"
    },
    "accelerator": "GPU"
  },
  "cells": [
    {
      "cell_type": "markdown",
      "metadata": {
        "id": "view-in-github",
        "colab_type": "text"
      },
      "source": [
        "<a href=\"https://colab.research.google.com/github/shirleyzz/cap5610_machineleanrning/blob/master/Assignment2/HW2_with_k_fold.ipynb\" target=\"_parent\"><img src=\"https://colab.research.google.com/assets/colab-badge.svg\" alt=\"Open In Colab\"/></a>"
      ]
    },
    {
      "metadata": {
        "id": "rt44vyY1xW9b",
        "colab_type": "text"
      },
      "cell_type": "markdown",
      "source": [
        "# HW2-with k-fold validation\n",
        "compare it with the network1"
      ]
    },
    {
      "metadata": {
        "id": "l34GNy7tyNks",
        "colab_type": "text"
      },
      "cell_type": "markdown",
      "source": [
        "## Loading the CIFAR10 data set"
      ]
    },
    {
      "metadata": {
        "id": "8yBx1ElGWV8Y",
        "colab_type": "code",
        "colab": {}
      },
      "cell_type": "code",
      "source": [
        "import keras \n",
        "import numpy as np\n",
        "from random import seed\n",
        "from random import randrange\n",
        "from keras.models import Sequential\n",
        "from keras.utils import np_utils\n",
        "from keras.preprocessing.image import ImageDataGenerator\n",
        "from keras.layers import Dense, Activation, Flatten, Dropout, BatchNormalization\n",
        "from keras.layers import Conv2D, MaxPooling2D\n",
        "from keras import regularizers\n",
        "from keras.callbacks import LearningRateScheduler\n",
        "from keras.datasets import cifar10\n",
        "import matplotlib.pyplot as plt"
      ],
      "execution_count": 0,
      "outputs": []
    },
    {
      "metadata": {
        "id": "FSJyddqGexl5",
        "colab_type": "code",
        "colab": {}
      },
      "cell_type": "code",
      "source": [
        "(train_images, train_labels), (test_images, test_labels) = cifar10.load_data()"
      ],
      "execution_count": 0,
      "outputs": []
    },
    {
      "metadata": {
        "id": "XuWVQX3CySIC",
        "colab_type": "text"
      },
      "cell_type": "markdown",
      "source": [
        "## Preprocessing"
      ]
    },
    {
      "metadata": {
        "id": "r_W5QWBBHnCU",
        "colab_type": "code",
        "colab": {}
      },
      "cell_type": "code",
      "source": [
        "# train_images = train_images.reshape((50000, 32 * 32 * 3))\n",
        "train_images = train_images.astype('float32') / 255\n",
        "# test_images = test_images.reshape((10000, 32 * 32 * 3))\n",
        "test_images = test_images.astype('float32') / 255\n",
        "num_classes = 10\n",
        "train_labels = keras.utils.to_categorical(train_labels,num_classes)\n",
        "test_labels = keras.utils.to_categorical(test_labels,num_classes)"
      ],
      "execution_count": 0,
      "outputs": []
    },
    {
      "metadata": {
        "id": "UQKL-VY5wrjW",
        "colab_type": "text"
      },
      "cell_type": "markdown",
      "source": [
        "#Implement K -fold validation"
      ]
    },
    {
      "metadata": {
        "id": "veArbeU_JDcS",
        "colab_type": "code",
        "colab": {}
      },
      "cell_type": "code",
      "source": [
        "def k_fold_cross_split(data,data_label,folds):\n",
        "  new_data = list(data)\n",
        "  new_data_label = list(data_label)\n",
        "  fold_size = int(data.shape[0]/folds)\n",
        "  dataset_split = []\n",
        "  dataset_split_label = []\n",
        "  for i in range(folds):\n",
        "    fold = []\n",
        "    fold1 = []\n",
        "    for j in range(fold_size):\n",
        "      index = randrange(len(new_data))\n",
        "      fold.append(new_data.pop(index))\n",
        "      fold1.append(new_data_label.pop(index))\n",
        "    dataset_split.append(fold)\n",
        "    dataset_split_label.append(fold1) \n",
        "  return dataset_split, dataset_split_label\n",
        "#split train data set into training and validation set, set folds = 5\n",
        "seed(1)\n",
        "num_folds = 5\n",
        "folds_all, folds_all_label = k_fold_cross_split(train_images,train_labels, num_folds)"
      ],
      "execution_count": 0,
      "outputs": []
    },
    {
      "metadata": {
        "id": "QYtbP_vHxqHK",
        "colab_type": "code",
        "outputId": "7aa1a032-8033-4386-c344-3d655001ae28",
        "colab": {
          "base_uri": "https://localhost:8080/",
          "height": 416
        }
      },
      "cell_type": "code",
      "source": [
        "#network architecture \n",
        "network = Sequential()\n",
        "network.add(Conv2D(32, (3, 3), padding='same',input_shape=train_images.shape[1:]))\n",
        "network.add(Activation('softmax'))\n",
        "network.add(Flatten())\n",
        "network.add(Dense(512))\n",
        "network.add(Activation('relu'))\n",
        "network.add(Dropout(0.5))\n",
        "network.add(Dense(10))\n",
        "network.add(Activation('softmax'))\n",
        "network.summary()\n",
        "#compilation step\n",
        "opt = keras.optimizers.rmsprop(lr=0.0001, decay=1e-6)\n",
        "network.compile(optimizer=opt,\n",
        "                loss='categorical_crossentropy',\n",
        "                metrics=['accuracy'])\n",
        "#train the model\n",
        "epochs = 10"
      ],
      "execution_count": 0,
      "outputs": [
        {
          "output_type": "stream",
          "text": [
            "_________________________________________________________________\n",
            "Layer (type)                 Output Shape              Param #   \n",
            "=================================================================\n",
            "conv2d_9 (Conv2D)            (None, 32, 32, 32)        896       \n",
            "_________________________________________________________________\n",
            "activation_22 (Activation)   (None, 32, 32, 32)        0         \n",
            "_________________________________________________________________\n",
            "flatten_8 (Flatten)          (None, 32768)             0         \n",
            "_________________________________________________________________\n",
            "dense_15 (Dense)             (None, 512)               16777728  \n",
            "_________________________________________________________________\n",
            "activation_23 (Activation)   (None, 512)               0         \n",
            "_________________________________________________________________\n",
            "dropout_8 (Dropout)          (None, 512)               0         \n",
            "_________________________________________________________________\n",
            "dense_16 (Dense)             (None, 10)                5130      \n",
            "_________________________________________________________________\n",
            "activation_24 (Activation)   (None, 10)                0         \n",
            "=================================================================\n",
            "Total params: 16,783,754\n",
            "Trainable params: 16,783,754\n",
            "Non-trainable params: 0\n",
            "_________________________________________________________________\n"
          ],
          "name": "stdout"
        }
      ]
    },
    {
      "metadata": {
        "id": "iEBYLavhm0Kv",
        "colab_type": "code",
        "outputId": "b8a722f1-fbca-49e0-fde7-45071b1336c8",
        "colab": {
          "base_uri": "https://localhost:8080/",
          "height": 2362
        }
      },
      "cell_type": "code",
      "source": [
        "num_fold = list(range(5))\n",
        "for i in range(5):\n",
        "  training_images = np.empty((0,32,32,3))\n",
        "  print(training_images.shape)\n",
        "  training_labels = np.empty((0,10))\n",
        "  valid_images = np.array(folds_all[i])\n",
        "  valid_labels = np.array(folds_all_label[i])\n",
        "  valid_index = [i]\n",
        "  training_index = [x for x in num_fold if x not in valid_index]\n",
        "  print(training_index)\n",
        "  for j in training_index:\n",
        "        training_images = np.append(training_images, folds_all[j],axis=0)\n",
        "        training_labels = np.append(training_labels, folds_all_label[j],axis=0)\n",
        "  print(training_images.shape)\n",
        "  print(training_labels.shape)\n",
        "  print(valid_images.shape)\n",
        "  print(valid_labels.shape)\n",
        "  history = network.fit(training_images, training_labels,\n",
        "                     batch_size=128,\n",
        "                     epochs=epochs,\n",
        "                     validation_data=(valid_images, valid_labels),\n",
        "                     shuffle=True)"
      ],
      "execution_count": 0,
      "outputs": [
        {
          "output_type": "stream",
          "text": [
            "(0, 32, 32, 3)\n",
            "[1, 2, 3, 4]\n",
            "(40000, 32, 32, 3)\n",
            "(40000, 10)\n",
            "(10000, 32, 32, 3)\n",
            "(10000, 10)\n",
            "Train on 40000 samples, validate on 10000 samples\n",
            "Epoch 1/10\n",
            "40000/40000 [==============================] - 13s 324us/step - loss: 2.2865 - acc: 0.1264 - val_loss: 2.2441 - val_acc: 0.1792\n",
            "Epoch 2/10\n",
            "40000/40000 [==============================] - 12s 304us/step - loss: 2.2034 - acc: 0.1810 - val_loss: 2.1362 - val_acc: 0.2332\n",
            "Epoch 3/10\n",
            "40000/40000 [==============================] - 12s 304us/step - loss: 2.1259 - acc: 0.2164 - val_loss: 2.0565 - val_acc: 0.2850\n",
            "Epoch 4/10\n",
            "40000/40000 [==============================] - 12s 302us/step - loss: 2.0650 - acc: 0.2407 - val_loss: 1.9988 - val_acc: 0.2961\n",
            "Epoch 5/10\n",
            "40000/40000 [==============================] - 12s 303us/step - loss: 2.0202 - acc: 0.2630 - val_loss: 1.9552 - val_acc: 0.3035\n",
            "Epoch 6/10\n",
            "40000/40000 [==============================] - 12s 303us/step - loss: 1.9931 - acc: 0.2782 - val_loss: 1.9350 - val_acc: 0.3113\n",
            "Epoch 7/10\n",
            "40000/40000 [==============================] - 12s 303us/step - loss: 1.9645 - acc: 0.2882 - val_loss: 1.9106 - val_acc: 0.3144\n",
            "Epoch 8/10\n",
            "40000/40000 [==============================] - 12s 303us/step - loss: 1.9443 - acc: 0.2967 - val_loss: 1.8802 - val_acc: 0.3377\n",
            "Epoch 9/10\n",
            "40000/40000 [==============================] - 12s 303us/step - loss: 1.9250 - acc: 0.3081 - val_loss: 1.8645 - val_acc: 0.3433\n",
            "Epoch 10/10\n",
            "40000/40000 [==============================] - 12s 303us/step - loss: 1.9086 - acc: 0.3156 - val_loss: 1.8498 - val_acc: 0.3512\n",
            "(0, 32, 32, 3)\n",
            "[0, 2, 3, 4]\n",
            "(40000, 32, 32, 3)\n",
            "(40000, 10)\n",
            "(10000, 32, 32, 3)\n",
            "(10000, 10)\n",
            "Train on 40000 samples, validate on 10000 samples\n",
            "Epoch 1/10\n",
            "40000/40000 [==============================] - 12s 303us/step - loss: 1.8944 - acc: 0.3215 - val_loss: 1.8377 - val_acc: 0.3502\n",
            "Epoch 2/10\n",
            "40000/40000 [==============================] - 12s 304us/step - loss: 1.8795 - acc: 0.3248 - val_loss: 1.8222 - val_acc: 0.3503\n",
            "Epoch 3/10\n",
            "40000/40000 [==============================] - 12s 303us/step - loss: 1.8710 - acc: 0.3294 - val_loss: 1.8132 - val_acc: 0.3585\n",
            "Epoch 4/10\n",
            "40000/40000 [==============================] - 12s 303us/step - loss: 1.8591 - acc: 0.3347 - val_loss: 1.7962 - val_acc: 0.3638\n",
            "Epoch 5/10\n",
            "40000/40000 [==============================] - 12s 304us/step - loss: 1.8473 - acc: 0.3411 - val_loss: 1.7938 - val_acc: 0.3677\n",
            "Epoch 6/10\n",
            "40000/40000 [==============================] - 12s 304us/step - loss: 1.8365 - acc: 0.3448 - val_loss: 1.7758 - val_acc: 0.3725\n",
            "Epoch 7/10\n",
            "40000/40000 [==============================] - 12s 302us/step - loss: 1.8278 - acc: 0.3501 - val_loss: 1.7754 - val_acc: 0.3769\n",
            "Epoch 8/10\n",
            "40000/40000 [==============================] - 12s 304us/step - loss: 1.8195 - acc: 0.3504 - val_loss: 1.7565 - val_acc: 0.3782\n",
            "Epoch 9/10\n",
            "40000/40000 [==============================] - 12s 304us/step - loss: 1.8139 - acc: 0.3547 - val_loss: 1.7475 - val_acc: 0.3811\n",
            "Epoch 10/10\n",
            "40000/40000 [==============================] - 12s 305us/step - loss: 1.8003 - acc: 0.3594 - val_loss: 1.7355 - val_acc: 0.3850\n",
            "(0, 32, 32, 3)\n",
            "[0, 1, 3, 4]\n",
            "(40000, 32, 32, 3)\n",
            "(40000, 10)\n",
            "(10000, 32, 32, 3)\n",
            "(10000, 10)\n",
            "Train on 40000 samples, validate on 10000 samples\n",
            "Epoch 1/10\n",
            "40000/40000 [==============================] - 12s 304us/step - loss: 1.7942 - acc: 0.3642 - val_loss: 1.7069 - val_acc: 0.3949\n",
            "Epoch 2/10\n",
            "40000/40000 [==============================] - 12s 304us/step - loss: 1.7872 - acc: 0.3637 - val_loss: 1.7046 - val_acc: 0.4016\n",
            "Epoch 3/10\n",
            "40000/40000 [==============================] - 12s 304us/step - loss: 1.7801 - acc: 0.3667 - val_loss: 1.6954 - val_acc: 0.4078\n",
            "Epoch 4/10\n",
            "40000/40000 [==============================] - 12s 303us/step - loss: 1.7717 - acc: 0.3718 - val_loss: 1.6938 - val_acc: 0.3971\n",
            "Epoch 5/10\n",
            "40000/40000 [==============================] - 12s 302us/step - loss: 1.7632 - acc: 0.3742 - val_loss: 1.6781 - val_acc: 0.4118\n",
            "Epoch 6/10\n",
            "40000/40000 [==============================] - 12s 303us/step - loss: 1.7565 - acc: 0.3766 - val_loss: 1.6723 - val_acc: 0.4126\n",
            "Epoch 7/10\n",
            "40000/40000 [==============================] - 12s 303us/step - loss: 1.7514 - acc: 0.3777 - val_loss: 1.6664 - val_acc: 0.4164\n",
            "Epoch 8/10\n",
            "40000/40000 [==============================] - 12s 303us/step - loss: 1.7405 - acc: 0.3825 - val_loss: 1.6556 - val_acc: 0.4149\n",
            "Epoch 9/10\n",
            "40000/40000 [==============================] - 12s 304us/step - loss: 1.7362 - acc: 0.3853 - val_loss: 1.6525 - val_acc: 0.4234\n",
            "Epoch 10/10\n",
            "40000/40000 [==============================] - 12s 303us/step - loss: 1.7327 - acc: 0.3866 - val_loss: 1.6372 - val_acc: 0.4196\n",
            "(0, 32, 32, 3)\n",
            "[0, 1, 2, 4]\n",
            "(40000, 32, 32, 3)\n",
            "(40000, 10)\n",
            "(10000, 32, 32, 3)\n",
            "(10000, 10)\n",
            "Train on 40000 samples, validate on 10000 samples\n",
            "Epoch 1/10\n",
            "40000/40000 [==============================] - 12s 304us/step - loss: 1.7315 - acc: 0.3829 - val_loss: 1.6330 - val_acc: 0.4306\n",
            "Epoch 2/10\n",
            "40000/40000 [==============================] - 12s 303us/step - loss: 1.7224 - acc: 0.3857 - val_loss: 1.6073 - val_acc: 0.4309\n",
            "Epoch 3/10\n",
            "40000/40000 [==============================] - 12s 304us/step - loss: 1.7175 - acc: 0.3940 - val_loss: 1.6067 - val_acc: 0.4357\n",
            "Epoch 4/10\n",
            "40000/40000 [==============================] - 12s 304us/step - loss: 1.7118 - acc: 0.3929 - val_loss: 1.6092 - val_acc: 0.4386\n",
            "Epoch 5/10\n",
            "40000/40000 [==============================] - 12s 303us/step - loss: 1.7113 - acc: 0.3940 - val_loss: 1.6014 - val_acc: 0.4368\n",
            "Epoch 6/10\n",
            "40000/40000 [==============================] - 12s 303us/step - loss: 1.7022 - acc: 0.3981 - val_loss: 1.6061 - val_acc: 0.4381\n",
            "Epoch 7/10\n",
            "40000/40000 [==============================] - 12s 303us/step - loss: 1.7013 - acc: 0.3967 - val_loss: 1.5904 - val_acc: 0.4400\n",
            "Epoch 8/10\n",
            "40000/40000 [==============================] - 12s 303us/step - loss: 1.6917 - acc: 0.3994 - val_loss: 1.5915 - val_acc: 0.4437\n",
            "Epoch 9/10\n",
            "40000/40000 [==============================] - 12s 301us/step - loss: 1.6875 - acc: 0.3989 - val_loss: 1.5796 - val_acc: 0.4398\n",
            "Epoch 10/10\n",
            "40000/40000 [==============================] - 12s 303us/step - loss: 1.6885 - acc: 0.3992 - val_loss: 1.5687 - val_acc: 0.4465\n",
            "(0, 32, 32, 3)\n",
            "[0, 1, 2, 3]\n",
            "(40000, 32, 32, 3)\n",
            "(40000, 10)\n",
            "(10000, 32, 32, 3)\n",
            "(10000, 10)\n",
            "Train on 40000 samples, validate on 10000 samples\n",
            "Epoch 1/10\n",
            "40000/40000 [==============================] - 12s 303us/step - loss: 1.6783 - acc: 0.4049 - val_loss: 1.5768 - val_acc: 0.4578\n",
            "Epoch 2/10\n",
            "40000/40000 [==============================] - 12s 302us/step - loss: 1.6785 - acc: 0.4045 - val_loss: 1.5764 - val_acc: 0.4547\n",
            "Epoch 3/10\n",
            "40000/40000 [==============================] - 12s 301us/step - loss: 1.6704 - acc: 0.4057 - val_loss: 1.5699 - val_acc: 0.4582\n",
            "Epoch 4/10\n",
            "40000/40000 [==============================] - 12s 302us/step - loss: 1.6678 - acc: 0.4068 - val_loss: 1.5716 - val_acc: 0.4566\n",
            "Epoch 5/10\n",
            "40000/40000 [==============================] - 12s 302us/step - loss: 1.6639 - acc: 0.4080 - val_loss: 1.5613 - val_acc: 0.4537\n",
            "Epoch 6/10\n",
            "40000/40000 [==============================] - 12s 303us/step - loss: 1.6549 - acc: 0.4136 - val_loss: 1.5627 - val_acc: 0.4541\n",
            "Epoch 7/10\n",
            "40000/40000 [==============================] - 12s 305us/step - loss: 1.6542 - acc: 0.4109 - val_loss: 1.5716 - val_acc: 0.4539\n",
            "Epoch 8/10\n",
            "40000/40000 [==============================] - 12s 304us/step - loss: 1.6502 - acc: 0.4135 - val_loss: 1.5520 - val_acc: 0.4609\n",
            "Epoch 9/10\n",
            "40000/40000 [==============================] - 12s 305us/step - loss: 1.6470 - acc: 0.4149 - val_loss: 1.5542 - val_acc: 0.4550\n",
            "Epoch 10/10\n",
            "40000/40000 [==============================] - 12s 303us/step - loss: 1.6439 - acc: 0.4171 - val_loss: 1.5448 - val_acc: 0.4634\n"
          ],
          "name": "stdout"
        }
      ]
    },
    {
      "metadata": {
        "id": "UBRlWuyzx2Lt",
        "colab_type": "code",
        "outputId": "33402326-4a15-436e-8f70-e9b7348e1df4",
        "colab": {
          "base_uri": "https://localhost:8080/",
          "height": 376
        }
      },
      "cell_type": "code",
      "source": [
        "#display result\n",
        "history_dict = history.history\n",
        "loss_values = history_dict['loss']\n",
        "test_loss_values = history_dict['val_loss']\n",
        "epochs_range = range(1, epochs + 1)\n",
        "plt.plot(epochs_range, loss_values, 'bo', label='Training loss')\n",
        "plt.plot(epochs_range, test_loss_values, 'ro', label='Valid loss')\n",
        "plt.title('Training and validation loss')\n",
        "plt.xlabel('Epochs')\n",
        "plt.ylabel('Loss')\n",
        "plt.legend()\n",
        "plt.show()"
      ],
      "execution_count": 0,
      "outputs": [
        {
          "output_type": "display_data",
          "data": {
            "image/png": "[encoded data removed]",
            "text/plain": [
              "<Figure size 576x396 with 1 Axes>"
            ]
          },
          "metadata": {
            "tags": []
          }
        }
      ]
    },
    {
      "metadata": {
        "id": "icS1ivitx7Sh",
        "colab_type": "code",
        "outputId": "f0a06969-58ec-4246-e638-9d08b2c247c0",
        "colab": {
          "base_uri": "https://localhost:8080/",
          "height": 376
        }
      },
      "cell_type": "code",
      "source": [
        "acc_values = history_dict['acc']\n",
        "test_acc_values = history_dict['val_acc']\n",
        "plt.plot(epochs_range, acc_values, 'bo', label='Training accuracy')\n",
        "plt.plot(epochs_range, test_acc_values, 'ro', label='Valid accuracy')\n",
        "plt.title('Training and validation accuracy')\n",
        "plt.xlabel('Epochs')\n",
        "plt.ylabel('Accuracy')\n",
        "plt.legend()\n",
        "plt.show()"
      ],
      "execution_count": 0,
      "outputs": [
        {
          "output_type": "display_data",
          "data": {
            "image/png": "[encoded data removed]",
            "text/plain": [
              "<Figure size 576x396 with 1 Axes>"
            ]
          },
          "metadata": {
            "tags": []
          }
        }
      ]
    },
    {
      "metadata": {
        "id": "N8U3Q8MSl7bR",
        "colab_type": "code",
        "outputId": "a5499d71-7e9e-460f-9f09-ef94660fd20b",
        "colab": {
          "base_uri": "https://localhost:8080/",
          "height": 69
        }
      },
      "cell_type": "code",
      "source": [
        "scores = network.evaluate(test_images, test_labels)\n",
        "print('Test loss:', scores[0])\n",
        "print('Test accuracy:', scores[1])"
      ],
      "execution_count": 0,
      "outputs": [
        {
          "output_type": "stream",
          "text": [
            "10000/10000 [==============================] - 1s 134us/step\n",
            "Test loss: 1.54427253074646\n",
            "Test accuracy: 0.4622\n"
          ],
          "name": "stdout"
        }
      ]
    },
    {
      "metadata": {
        "id": "xGhsvxqhAeq_",
        "colab_type": "text"
      },
      "cell_type": "markdown",
      "source": [
        "## Conclusion"
      ]
    },
    {
      "metadata": {
        "id": "FTlNIhzTAFfM",
        "colab_type": "text"
      },
      "cell_type": "markdown",
      "source": [
        "Compared with network1(the one not using k-fold validation), the accuracy is much higher on test set. The reason is I trained this one at 10 epochs and the test accuracy is 0.46, but on the original one, I trained 30 epochs, and get the same accuracy."
      ]
    },
    {
      "metadata": {
        "id": "0MylWOekAhZ7",
        "colab_type": "code",
        "colab": {}
      },
      "cell_type": "code",
      "source": [
        ""
      ],
      "execution_count": 0,
      "outputs": []
    }
  ]
}