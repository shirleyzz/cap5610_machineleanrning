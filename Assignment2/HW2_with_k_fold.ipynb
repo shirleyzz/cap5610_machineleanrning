{
  "nbformat": 4,
  "nbformat_minor": 0,
  "metadata": {
    "colab": {
      "name": "HW2-with k fold.ipynb",
      "version": "0.3.2",
      "provenance": [],
      "collapsed_sections": [],
      "include_colab_link": true
    },
    "kernelspec": {
      "name": "python3",
      "display_name": "Python 3"
    },
    "accelerator": "GPU"
  },
  "cells": [
    {
      "cell_type": "markdown",
      "metadata": {
        "id": "view-in-github",
        "colab_type": "text"
      },
      "source": [
        "<a href=\"https://colab.research.google.com/github/shirleyzz/cap5610_machineleanrning/blob/master/Assignment2/HW2_with_k_fold.ipynb\" target=\"_parent\"><img src=\"https://colab.research.google.com/assets/colab-badge.svg\" alt=\"Open In Colab\"/></a>"
      ]
    },
    {
      "metadata": {
        "id": "rt44vyY1xW9b",
        "colab_type": "text"
      },
      "cell_type": "markdown",
      "source": [
        "# CIFAR10 data set"
      ]
    },
    {
      "metadata": {
        "id": "l34GNy7tyNks",
        "colab_type": "text"
      },
      "cell_type": "markdown",
      "source": [
        "## Loading the CIFAR10 data set"
      ]
    },
    {
      "metadata": {
        "id": "8yBx1ElGWV8Y",
        "colab_type": "code",
        "outputId": "9d7d0e50-11b3-48b3-e90c-9770dca2eb92",
        "colab": {
          "base_uri": "https://localhost:8080/",
          "height": 34
        }
      },
      "cell_type": "code",
      "source": [
        "import keras \n",
        "import numpy as np\n",
        "from random import seed\n",
        "from random import randrange\n",
        "from keras.models import Sequential\n",
        "from keras.utils import np_utils\n",
        "from keras.preprocessing.image import ImageDataGenerator\n",
        "from keras.layers import Dense, Activation, Flatten, Dropout, BatchNormalization\n",
        "from keras.layers import Conv2D, MaxPooling2D\n",
        "from keras import regularizers\n",
        "from keras.callbacks import LearningRateScheduler\n",
        "from keras.datasets import cifar10\n",
        "import matplotlib.pyplot as plt"
      ],
      "execution_count": 0,
      "outputs": [
        {
          "output_type": "stream",
          "text": [
            "Using TensorFlow backend.\n"
          ],
          "name": "stderr"
        }
      ]
    },
    {
      "metadata": {
        "id": "FSJyddqGexl5",
        "colab_type": "code",
        "outputId": "6d543071-45e8-476e-fcb8-8f2f10de775e",
        "colab": {
          "base_uri": "https://localhost:8080/",
          "height": 52
        }
      },
      "cell_type": "code",
      "source": [
        "(train_images, train_labels), (test_images, test_labels) = cifar10.load_data()"
      ],
      "execution_count": 0,
      "outputs": [
        {
          "output_type": "stream",
          "text": [
            "Downloading data from https://www.cs.toronto.edu/~kriz/cifar-10-python.tar.gz\n",
            "170500096/170498071 [==============================] - 46s 0us/step\n"
          ],
          "name": "stdout"
        }
      ]
    },
    {
      "metadata": {
        "id": "XuWVQX3CySIC",
        "colab_type": "text"
      },
      "cell_type": "markdown",
      "source": [
        "## Preprocessing"
      ]
    },
    {
      "metadata": {
        "id": "r_W5QWBBHnCU",
        "colab_type": "code",
        "colab": {}
      },
      "cell_type": "code",
      "source": [
        "# train_images = train_images.reshape((50000, 32 * 32 * 3))\n",
        "train_images = train_images.astype('float32') / 255\n",
        "# test_images = test_images.reshape((10000, 32 * 32 * 3))\n",
        "test_images = test_images.astype('float32') / 255\n",
        "num_classes = 10\n",
        "train_labels = keras.utils.to_categorical(train_labels,num_classes)\n",
        "test_labels = keras.utils.to_categorical(test_labels,num_classes)"
      ],
      "execution_count": 0,
      "outputs": []
    },
    {
      "metadata": {
        "id": "1LVZVUCvEptS",
        "colab_type": "code",
        "colab": {}
      },
      "cell_type": "code",
      "source": [
        "#split into validation set and training set at the rate of 8:2\n",
        "i = 40000\n",
        "training_images = train_images[:i]\n",
        "valid_images = train_images[:-i]\n",
        "training_labels = train_labels[:i]\n",
        "valid_labels = train_labels[:-i]"
      ],
      "execution_count": 0,
      "outputs": []
    },
    {
      "metadata": {
        "id": "s7jDpzH4mWrv",
        "colab_type": "code",
        "outputId": "2098b387-f81b-4148-af18-6b35a021844d",
        "colab": {
          "base_uri": "https://localhost:8080/",
          "height": 86
        }
      },
      "cell_type": "code",
      "source": [
        "print(training_images.shape)\n",
        "print(training_labels.shape)\n",
        "print(valid_images.shape)\n",
        "print(valid_labels.shape)"
      ],
      "execution_count": 0,
      "outputs": [
        {
          "output_type": "stream",
          "text": [
            "(40000, 32, 32, 3)\n",
            "(40000, 10)\n",
            "(10000, 32, 32, 3)\n",
            "(10000, 10)\n"
          ],
          "name": "stdout"
        }
      ]
    },
    {
      "metadata": {
        "id": "Wn2PHD_kNcdt",
        "colab_type": "code",
        "colab": {}
      },
      "cell_type": "code",
      "source": [
        "# training_images = np.array(training_images)\n",
        "# training_labels = np.array(training_labels)\n",
        "# valid_images = np.array(valid_images)\n",
        "# valid_labels = np.array(valid_labels)"
      ],
      "execution_count": 0,
      "outputs": []
    },
    {
      "metadata": {
        "id": "UQKL-VY5wrjW",
        "colab_type": "text"
      },
      "cell_type": "markdown",
      "source": [
        "#compare with K fold"
      ]
    },
    {
      "metadata": {
        "id": "veArbeU_JDcS",
        "colab_type": "code",
        "colab": {}
      },
      "cell_type": "code",
      "source": [
        "def k_fold_cross_split(data,folds):\n",
        "  new_data = list(data)\n",
        "  fold_size = int(data.shape[0]/folds)\n",
        "  dataset_split = []\n",
        "  for i in range(folds):\n",
        "    fold = []\n",
        "    for j in range(fold_size):\n",
        "      index = randrange(len(new_data))\n",
        "      fold.append(new_data.pop(index))\n",
        "    dataset_split.append(fold)\n",
        "  return dataset_split\n",
        "#split train into training and validation\n",
        "seed(1)\n",
        "num_folds = 5\n",
        "training_images = []\n",
        "training_labels = []\n",
        "folds_all = k_fold_cross_split(train_images, num_folds)\n",
        "folds_all_label = k_fold_cross_split(train_labels,num_folds)\n",
        "folds_all = np.array(folds_all)\n",
        "folds_all_label = np.array(folds_all_label)"
      ],
      "execution_count": 0,
      "outputs": []
    },
    {
      "metadata": {
        "id": "hQiHm9AwmM7_",
        "colab_type": "code",
        "colab": {}
      },
      "cell_type": "code",
      "source": [
        "training_images = np.concatenate((folds_all[0],folds_all[1],folds_all[2],folds_all[3]))\n",
        "training_labels = np.concatenate((folds_all_label[0],folds_all_label[1],folds_all_label[2],folds_all_label[3]))\n",
        "valid_images = folds_all[num_folds-1]\n",
        "valid_labels = folds_all_label[num_folds-1]"
      ],
      "execution_count": 0,
      "outputs": []
    },
    {
      "metadata": {
        "id": "QYtbP_vHxqHK",
        "colab_type": "code",
        "outputId": "22e06de3-ebb3-4ebf-f23c-0de1fc03ff53",
        "colab": {
          "base_uri": "https://localhost:8080/",
          "height": 1704
        }
      },
      "cell_type": "code",
      "source": [
        "#network architecture \n",
        "network = Sequential()\n",
        "network.add(Conv2D(32, (3, 3), padding='same',input_shape=training_images[0].shape))\n",
        "network.add(Activation('softmax'))\n",
        "network.add(Flatten())\n",
        "network.add(Dense(512))\n",
        "network.add(Activation('relu'))\n",
        "network.add(Dropout(0.5))\n",
        "network.add(Dense(10))\n",
        "network.add(Activation('softmax'))\n",
        "network.summary()\n",
        "#compilation step\n",
        "opt = keras.optimizers.rmsprop(lr=0.0001, decay=1e-6)\n",
        "network.compile(optimizer=opt,\n",
        "                loss='categorical_crossentropy',\n",
        "                metrics=['accuracy'])\n",
        "#train the model\n",
        "epochs = 10\n",
        "history = network.fit(training_images, \n",
        "                      training_labels, \n",
        "                      epochs=epochs, \n",
        "                      batch_size=128, \n",
        "                      validation_data=(valid_images, valid_labels))"
      ],
      "execution_count": 0,
      "outputs": [
        {
          "output_type": "stream",
          "text": [
            "WARNING:tensorflow:From /usr/local/lib/python3.6/dist-packages/tensorflow/python/framework/op_def_library.py:263: colocate_with (from tensorflow.python.framework.ops) is deprecated and will be removed in a future version.\n",
            "Instructions for updating:\n",
            "Colocations handled automatically by placer.\n",
            "WARNING:tensorflow:From /usr/local/lib/python3.6/dist-packages/keras/backend/tensorflow_backend.py:3445: calling dropout (from tensorflow.python.ops.nn_ops) with keep_prob is deprecated and will be removed in a future version.\n",
            "Instructions for updating:\n",
            "Please use `rate` instead of `keep_prob`. Rate should be set to `rate = 1 - keep_prob`.\n",
            "_________________________________________________________________\n",
            "Layer (type)                 Output Shape              Param #   \n",
            "=================================================================\n",
            "conv2d_1 (Conv2D)            (None, 32, 32, 32)        896       \n",
            "_________________________________________________________________\n",
            "activation_1 (Activation)    (None, 32, 32, 32)        0         \n",
            "_________________________________________________________________\n",
            "flatten_1 (Flatten)          (None, 32768)             0         \n",
            "_________________________________________________________________\n",
            "dense_1 (Dense)              (None, 512)               16777728  \n",
            "_________________________________________________________________\n",
            "activation_2 (Activation)    (None, 512)               0         \n",
            "_________________________________________________________________\n",
            "dropout_1 (Dropout)          (None, 512)               0         \n",
            "_________________________________________________________________\n",
            "dense_2 (Dense)              (None, 10)                5130      \n",
            "_________________________________________________________________\n",
            "activation_3 (Activation)    (None, 10)                0         \n",
            "=================================================================\n",
            "Total params: 16,783,754\n",
            "Trainable params: 16,783,754\n",
            "Non-trainable params: 0\n",
            "_________________________________________________________________\n",
            "WARNING:tensorflow:From /usr/local/lib/python3.6/dist-packages/tensorflow/python/ops/math_ops.py:3066: to_int32 (from tensorflow.python.ops.math_ops) is deprecated and will be removed in a future version.\n",
            "Instructions for updating:\n",
            "Use tf.cast instead.\n",
            "WARNING:tensorflow:From /usr/local/lib/python3.6/dist-packages/tensorflow/python/ops/math_grad.py:102: div (from tensorflow.python.ops.math_ops) is deprecated and will be removed in a future version.\n",
            "Instructions for updating:\n",
            "Deprecated in favor of operator or tf.math.divide.\n",
            "Train on 41665 samples, validate on 8333 samples\n",
            "Epoch 1/30\n",
            "41665/41665 [==============================] - 18s 423us/step - loss: 2.3063 - acc: 0.0973 - val_loss: 2.3026 - val_acc: 0.0979\n",
            "Epoch 2/30\n",
            "41665/41665 [==============================] - 13s 302us/step - loss: 2.3026 - acc: 0.0989 - val_loss: 2.3026 - val_acc: 0.0979\n",
            "Epoch 3/30\n",
            "41665/41665 [==============================] - 13s 306us/step - loss: 2.3026 - acc: 0.1000 - val_loss: 2.3026 - val_acc: 0.0979\n",
            "Epoch 4/30\n",
            "41665/41665 [==============================] - 13s 306us/step - loss: 2.3026 - acc: 0.1001 - val_loss: 2.3026 - val_acc: 0.0979\n",
            "Epoch 5/30\n",
            "41665/41665 [==============================] - 13s 302us/step - loss: 2.3026 - acc: 0.0987 - val_loss: 2.3026 - val_acc: 0.0979\n",
            "Epoch 6/30\n",
            "41665/41665 [==============================] - 13s 302us/step - loss: 2.3026 - acc: 0.0990 - val_loss: 2.3026 - val_acc: 0.0979\n",
            "Epoch 7/30\n",
            "41665/41665 [==============================] - 13s 302us/step - loss: 2.3026 - acc: 0.1000 - val_loss: 2.3026 - val_acc: 0.0979\n",
            "Epoch 8/30\n",
            "41665/41665 [==============================] - 13s 303us/step - loss: 2.3026 - acc: 0.0990 - val_loss: 2.3026 - val_acc: 0.0979\n",
            "Epoch 9/30\n",
            "41665/41665 [==============================] - 13s 303us/step - loss: 2.3026 - acc: 0.1004 - val_loss: 2.3026 - val_acc: 0.0979\n",
            "Epoch 10/30\n",
            "41665/41665 [==============================] - 13s 302us/step - loss: 2.3026 - acc: 0.0997 - val_loss: 2.3026 - val_acc: 0.0979\n",
            "Epoch 11/30\n",
            "41665/41665 [==============================] - 13s 302us/step - loss: 2.3026 - acc: 0.1004 - val_loss: 2.3026 - val_acc: 0.0979\n",
            "Epoch 12/30\n",
            "41665/41665 [==============================] - 13s 302us/step - loss: 2.3026 - acc: 0.1004 - val_loss: 2.3026 - val_acc: 0.0979\n",
            "Epoch 13/30\n",
            "41665/41665 [==============================] - 13s 301us/step - loss: 2.3026 - acc: 0.0999 - val_loss: 2.3026 - val_acc: 0.0979\n",
            "Epoch 14/30\n",
            "41665/41665 [==============================] - 13s 302us/step - loss: 2.3026 - acc: 0.1003 - val_loss: 2.3026 - val_acc: 0.0979\n",
            "Epoch 15/30\n",
            "41665/41665 [==============================] - 13s 302us/step - loss: 2.3026 - acc: 0.0993 - val_loss: 2.3026 - val_acc: 0.0979\n",
            "Epoch 16/30\n",
            "41665/41665 [==============================] - 13s 302us/step - loss: 2.3026 - acc: 0.1000 - val_loss: 2.3026 - val_acc: 0.0979\n",
            "Epoch 17/30\n",
            "41665/41665 [==============================] - 13s 301us/step - loss: 2.3026 - acc: 0.1004 - val_loss: 2.3027 - val_acc: 0.0979\n",
            "Epoch 18/30\n",
            "41665/41665 [==============================] - 13s 301us/step - loss: 2.3026 - acc: 0.1004 - val_loss: 2.3027 - val_acc: 0.0979\n",
            "Epoch 19/30\n",
            "41665/41665 [==============================] - 13s 302us/step - loss: 2.3026 - acc: 0.1004 - val_loss: 2.3027 - val_acc: 0.0979\n",
            "Epoch 20/30\n",
            "41665/41665 [==============================] - 13s 301us/step - loss: 2.3026 - acc: 0.1004 - val_loss: 2.3027 - val_acc: 0.0979\n",
            "Epoch 21/30\n",
            "41665/41665 [==============================] - 13s 301us/step - loss: 2.3026 - acc: 0.1003 - val_loss: 2.3027 - val_acc: 0.0979\n",
            "Epoch 22/30\n",
            "41665/41665 [==============================] - 13s 301us/step - loss: 2.3026 - acc: 0.1000 - val_loss: 2.3027 - val_acc: 0.0979\n",
            "Epoch 23/30\n",
            "41665/41665 [==============================] - 13s 301us/step - loss: 2.3026 - acc: 0.1004 - val_loss: 2.3027 - val_acc: 0.0979\n",
            "Epoch 24/30\n",
            "41665/41665 [==============================] - 13s 301us/step - loss: 2.3026 - acc: 0.1000 - val_loss: 2.3027 - val_acc: 0.0979\n",
            "Epoch 25/30\n",
            "41665/41665 [==============================] - 13s 301us/step - loss: 2.3026 - acc: 0.0990 - val_loss: 2.3027 - val_acc: 0.0979\n",
            "Epoch 26/30\n",
            "41665/41665 [==============================] - 13s 301us/step - loss: 2.3026 - acc: 0.1002 - val_loss: 2.3027 - val_acc: 0.0979\n",
            "Epoch 27/30\n",
            "41665/41665 [==============================] - 13s 301us/step - loss: 2.3026 - acc: 0.0983 - val_loss: 2.3027 - val_acc: 0.0979\n",
            "Epoch 28/30\n",
            "41665/41665 [==============================] - 13s 301us/step - loss: 2.3026 - acc: 0.1004 - val_loss: 2.3027 - val_acc: 0.0979\n",
            "Epoch 29/30\n",
            "41665/41665 [==============================] - 13s 301us/step - loss: 2.3026 - acc: 0.1004 - val_loss: 2.3027 - val_acc: 0.0979\n",
            "Epoch 30/30\n",
            "41665/41665 [==============================] - 13s 301us/step - loss: 2.3026 - acc: 0.0972 - val_loss: 2.3027 - val_acc: 0.0979\n"
          ],
          "name": "stdout"
        }
      ]
    },
    {
      "metadata": {
        "id": "UBRlWuyzx2Lt",
        "colab_type": "code",
        "outputId": "9f58580c-67e0-43b9-a1ae-8652656c48da",
        "colab": {
          "base_uri": "https://localhost:8080/",
          "height": 376
        }
      },
      "cell_type": "code",
      "source": [
        "#display result\n",
        "history_dict = history.history\n",
        "loss_values = history_dict['loss']\n",
        "test_loss_values = history_dict['val_loss']\n",
        "epochs_range = range(1, epochs + 1)\n",
        "plt.plot(epochs_range, loss_values, 'bo', label='Training loss')\n",
        "plt.plot(epochs_range, test_loss_values, 'ro', label='Valid loss')\n",
        "plt.title('Training and validation loss')\n",
        "plt.xlabel('Epochs')\n",
        "plt.ylabel('Loss')\n",
        "plt.legend()\n",
        "plt.show()"
      ],
      "execution_count": 0,
      "outputs": [
        {
          "output_type": "display_data",
          "data": {
            "image/png": "[encoded data removed]",
            "text/plain": [
              "<Figure size 576x396 with 1 Axes>"
            ]
          },
          "metadata": {
            "tags": []
          }
        }
      ]
    },
    {
      "metadata": {
        "id": "icS1ivitx7Sh",
        "colab_type": "code",
        "outputId": "97280484-6415-4e06-b54d-ec92e3fd52e0",
        "colab": {
          "base_uri": "https://localhost:8080/",
          "height": 376
        }
      },
      "cell_type": "code",
      "source": [
        "acc_values = history_dict['acc']\n",
        "test_acc_values = history_dict['val_acc']\n",
        "plt.plot(epochs_range, acc_values, 'bo', label='Training accuracy')\n",
        "plt.plot(epochs_range, test_acc_values, 'ro', label='Valid accuracy')\n",
        "plt.title('Training and validation accuracy')\n",
        "plt.xlabel('Epochs')\n",
        "plt.ylabel('Accuracy')\n",
        "plt.legend()\n",
        "plt.show()"
      ],
      "execution_count": 0,
      "outputs": [
        {
          "output_type": "display_data",
          "data": {
            "image/png": "[encoded data removed]",
            "text/plain": [
              "<Figure size 576x396 with 1 Axes>"
            ]
          },
          "metadata": {
            "tags": []
          }
        }
      ]
    },
    {
      "metadata": {
        "id": "q6B0eSpslezt",
        "colab_type": "code",
        "colab": {}
      },
      "cell_type": "code",
      "source": [
        "ynew = network.predict_classes(test_images)\n",
        "# show the inputs and predicted outputs\n",
        "print(\"X=%s, Predicted=%s\" % (test_labels[0], ynew[0]))"
      ],
      "execution_count": 0,
      "outputs": []
    },
    {
      "metadata": {
        "id": "N8U3Q8MSl7bR",
        "colab_type": "code",
        "outputId": "4d0da85c-16ce-4294-d031-9c23741e6106",
        "colab": {
          "base_uri": "https://localhost:8080/",
          "height": 69
        }
      },
      "cell_type": "code",
      "source": [
        "scores = network.evaluate(test_images, test_labels, verbose=1)\n",
        "print('Test loss:', scores[0])\n",
        "print('Test accuracy:', scores[1])"
      ],
      "execution_count": 0,
      "outputs": [
        {
          "output_type": "stream",
          "text": [
            "10000/10000 [==============================] - 2s 157us/step\n",
            "Test loss: 2.3025914894104003\n",
            "Test accuracy: 0.1\n"
          ],
          "name": "stdout"
        }
      ]
    },
    {
      "metadata": {
        "id": "YOWO8oLdmQZX",
        "colab_type": "code",
        "colab": {}
      },
      "cell_type": "code",
      "source": [
        ""
      ],
      "execution_count": 0,
      "outputs": []
    }
  ]
}