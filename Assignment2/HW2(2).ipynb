{
  "nbformat": 4,
  "nbformat_minor": 0,
  "metadata": {
    "colab": {
      "name": "HW2(2).ipynb",
      "version": "0.3.2",
      "provenance": [],
      "collapsed_sections": [],
      "include_colab_link": true
    },
    "kernelspec": {
      "name": "python3",
      "display_name": "Python 3"
    },
    "accelerator": "GPU"
  },
  "cells": [
    {
      "cell_type": "markdown",
      "metadata": {
        "id": "view-in-github",
        "colab_type": "text"
      },
      "source": [
        "<a href=\"https://colab.research.google.com/github/shirleyzz/cap5610_machineleanrning/blob/master/Assignment2/HW2(2).ipynb\" target=\"_parent\"><img src=\"https://colab.research.google.com/assets/colab-badge.svg\" alt=\"Open In Colab\"/></a>"
      ]
    },
    {
      "metadata": {
        "id": "rt44vyY1xW9b",
        "colab_type": "text"
      },
      "cell_type": "markdown",
      "source": [
        "# HW2(2)-using data augmentation"
      ]
    },
    {
      "metadata": {
        "id": "l34GNy7tyNks",
        "colab_type": "text"
      },
      "cell_type": "markdown",
      "source": [
        "## Loading the CIFAR10 data set"
      ]
    },
    {
      "metadata": {
        "id": "8yBx1ElGWV8Y",
        "colab_type": "code",
        "colab": {}
      },
      "cell_type": "code",
      "source": [
        "import keras \n",
        "import numpy as np\n",
        "from random import seed\n",
        "from random import randrange\n",
        "from keras.models import Sequential\n",
        "from keras.utils import np_utils\n",
        "from keras.preprocessing.image import ImageDataGenerator\n",
        "from keras.layers import Dense, Activation, Flatten, Dropout, BatchNormalization\n",
        "from keras.layers import Conv2D, MaxPooling2D\n",
        "from keras import regularizers\n",
        "from keras.callbacks import LearningRateScheduler\n",
        "from keras.datasets import cifar10\n",
        "import matplotlib.pyplot as plt"
      ],
      "execution_count": 0,
      "outputs": []
    },
    {
      "metadata": {
        "id": "FSJyddqGexl5",
        "colab_type": "code",
        "colab": {}
      },
      "cell_type": "code",
      "source": [
        "(train_images, train_labels), (test_images, test_labels) = cifar10.load_data()"
      ],
      "execution_count": 0,
      "outputs": []
    },
    {
      "metadata": {
        "id": "XuWVQX3CySIC",
        "colab_type": "text"
      },
      "cell_type": "markdown",
      "source": [
        "## Preprocessing"
      ]
    },
    {
      "metadata": {
        "id": "r_W5QWBBHnCU",
        "colab_type": "code",
        "colab": {}
      },
      "cell_type": "code",
      "source": [
        "# train_images = train_images.reshape((50000, 32 * 32 * 3))\n",
        "train_images = train_images.astype('float32') / 255\n",
        "# test_images = test_images.reshape((10000, 32 * 32 * 3))\n",
        "test_images = test_images.astype('float32') / 255\n",
        "num_classes = 10\n",
        "train_labels = keras.utils.to_categorical(train_labels,num_classes)\n",
        "test_labels = keras.utils.to_categorical(test_labels,num_classes)"
      ],
      "execution_count": 0,
      "outputs": []
    },
    {
      "metadata": {
        "id": "7GT6JLJY4yeE",
        "colab_type": "code",
        "colab": {}
      },
      "cell_type": "code",
      "source": [
        "train_datagen = ImageDataGenerator(\n",
        "    rescale=1./255,\n",
        "    rotation_range=40,\n",
        "    width_shift_range=0.2,\n",
        "    height_shift_range=0.2,\n",
        "    shear_range=0.2,\n",
        "    zoom_range=0.2,\n",
        "    horizontal_flip=True,\n",
        "    fill_mode='nearest')\n",
        "validation_datagen = ImageDataGenerator(rescale=1./255)"
      ],
      "execution_count": 0,
      "outputs": []
    },
    {
      "metadata": {
        "id": "mgiY1mxe5GOv",
        "colab_type": "code",
        "outputId": "b9581958-aa71-49f8-db6b-8bb959cba700",
        "colab": {
          "base_uri": "https://localhost:8080/",
          "height": 416
        }
      },
      "cell_type": "code",
      "source": [
        "#network architecture \n",
        "network = Sequential()\n",
        "network.add(Conv2D(32, (3, 3), padding='same',input_shape=train_images[0].shape))\n",
        "network.add(Activation('softmax'))\n",
        "network.add(Flatten())\n",
        "network.add(Dense(512))\n",
        "network.add(Activation('relu'))\n",
        "network.add(Dropout(0.5))\n",
        "network.add(Dense(10))\n",
        "network.add(Activation('softmax'))\n",
        "network.summary()\n",
        "#compilation step\n",
        "opt = keras.optimizers.rmsprop(lr=0.0001, decay=1e-6)\n",
        "network.compile(optimizer=opt,\n",
        "                loss='categorical_crossentropy',\n",
        "                metrics=['accuracy'])\n",
        "#train the model\n",
        "epochs = 30"
      ],
      "execution_count": 14,
      "outputs": [
        {
          "output_type": "stream",
          "text": [
            "_________________________________________________________________\n",
            "Layer (type)                 Output Shape              Param #   \n",
            "=================================================================\n",
            "conv2d_2 (Conv2D)            (None, 32, 32, 32)        896       \n",
            "_________________________________________________________________\n",
            "activation_4 (Activation)    (None, 32, 32, 32)        0         \n",
            "_________________________________________________________________\n",
            "flatten_2 (Flatten)          (None, 32768)             0         \n",
            "_________________________________________________________________\n",
            "dense_3 (Dense)              (None, 512)               16777728  \n",
            "_________________________________________________________________\n",
            "activation_5 (Activation)    (None, 512)               0         \n",
            "_________________________________________________________________\n",
            "dropout_2 (Dropout)          (None, 512)               0         \n",
            "_________________________________________________________________\n",
            "dense_4 (Dense)              (None, 10)                5130      \n",
            "_________________________________________________________________\n",
            "activation_6 (Activation)    (None, 10)                0         \n",
            "=================================================================\n",
            "Total params: 16,783,754\n",
            "Trainable params: 16,783,754\n",
            "Non-trainable params: 0\n",
            "_________________________________________________________________\n"
          ],
          "name": "stdout"
        }
      ]
    },
    {
      "metadata": {
        "id": "1LVZVUCvEptS",
        "colab_type": "code",
        "colab": {}
      },
      "cell_type": "code",
      "source": [
        "#split into validation set and training set at the rate of 8:2\n",
        "i = 40000\n",
        "training_images = train_images[:i]\n",
        "valid_images = train_images[:-i]\n",
        "training_labels = train_labels[:i]\n",
        "valid_labels = train_labels[:-i]\n",
        "#\n",
        "train_datagen.fit(training_images)\n",
        "validation_datagen.fit(valid_images)"
      ],
      "execution_count": 0,
      "outputs": []
    },
    {
      "metadata": {
        "id": "5qX874ZS48eX",
        "colab_type": "code",
        "outputId": "6d7423ad-f2e0-4213-8e72-98c1b9c24687",
        "colab": {
          "base_uri": "https://localhost:8080/",
          "height": 1163
        }
      },
      "cell_type": "code",
      "source": [
        "history = network.fit_generator(train_datagen.flow(training_images, training_labels,\n",
        "                                     batch_size=128),\n",
        "                        steps_per_epoch=100,\n",
        "                        epochs=epochs,\n",
        "                        validation_data=(valid_images, valid_labels),\n",
        "                        validation_steps=50)"
      ],
      "execution_count": 17,
      "outputs": [
        {
          "output_type": "stream",
          "text": [
            "WARNING:tensorflow:From /usr/local/lib/python3.6/dist-packages/tensorflow/python/ops/math_ops.py:3066: to_int32 (from tensorflow.python.ops.math_ops) is deprecated and will be removed in a future version.\n",
            "Instructions for updating:\n",
            "Use tf.cast instead.\n",
            "WARNING:tensorflow:From /usr/local/lib/python3.6/dist-packages/tensorflow/python/ops/math_grad.py:102: div (from tensorflow.python.ops.math_ops) is deprecated and will be removed in a future version.\n",
            "Instructions for updating:\n",
            "Deprecated in favor of operator or tf.math.divide.\n",
            "Epoch 1/30\n",
            "100/100 [==============================] - 11s 108ms/step - loss: 2.3097 - acc: 0.0969 - val_loss: 2.3026 - val_acc: 0.0944\n",
            "Epoch 2/30\n",
            "100/100 [==============================] - 9s 89ms/step - loss: 2.3026 - acc: 0.0961 - val_loss: 2.3026 - val_acc: 0.1028\n",
            "Epoch 3/30\n",
            "100/100 [==============================] - 9s 89ms/step - loss: 2.3026 - acc: 0.0952 - val_loss: 2.3026 - val_acc: 0.1064\n",
            "Epoch 4/30\n",
            "100/100 [==============================] - 9s 90ms/step - loss: 2.3026 - acc: 0.0972 - val_loss: 2.3026 - val_acc: 0.1095\n",
            "Epoch 5/30\n",
            "100/100 [==============================] - 9s 90ms/step - loss: 2.3026 - acc: 0.1008 - val_loss: 2.3026 - val_acc: 0.1043\n",
            "Epoch 6/30\n",
            "100/100 [==============================] - 9s 91ms/step - loss: 2.3026 - acc: 0.0981 - val_loss: 2.3026 - val_acc: 0.0951\n",
            "Epoch 7/30\n",
            "100/100 [==============================] - 9s 90ms/step - loss: 2.3026 - acc: 0.1020 - val_loss: 2.3026 - val_acc: 0.1083\n",
            "Epoch 8/30\n",
            "100/100 [==============================] - 9s 90ms/step - loss: 2.3026 - acc: 0.0970 - val_loss: 2.3026 - val_acc: 0.1046\n",
            "Epoch 9/30\n",
            "100/100 [==============================] - 9s 90ms/step - loss: 2.3026 - acc: 0.0995 - val_loss: 2.3026 - val_acc: 0.1017\n",
            "Epoch 10/30\n",
            "100/100 [==============================] - 9s 90ms/step - loss: 2.3026 - acc: 0.1029 - val_loss: 2.3026 - val_acc: 0.0969\n",
            "Epoch 11/30\n",
            "100/100 [==============================] - 10s 96ms/step - loss: 2.3026 - acc: 0.1027 - val_loss: 2.3026 - val_acc: 0.0955\n",
            "Epoch 12/30\n",
            "100/100 [==============================] - 9s 89ms/step - loss: 2.3026 - acc: 0.1022 - val_loss: 2.3026 - val_acc: 0.0994\n",
            "Epoch 13/30\n",
            "100/100 [==============================] - 9s 89ms/step - loss: 2.3026 - acc: 0.0956 - val_loss: 2.3026 - val_acc: 0.1144\n",
            "Epoch 14/30\n",
            "100/100 [==============================] - 9s 89ms/step - loss: 2.3026 - acc: 0.1058 - val_loss: 2.3026 - val_acc: 0.0986\n",
            "Epoch 15/30\n",
            "100/100 [==============================] - 9s 90ms/step - loss: 2.3026 - acc: 0.1009 - val_loss: 2.3026 - val_acc: 0.1014\n",
            "Epoch 16/30\n",
            "100/100 [==============================] - 9s 89ms/step - loss: 2.3026 - acc: 0.1018 - val_loss: 2.3026 - val_acc: 0.1037\n",
            "Epoch 17/30\n",
            "100/100 [==============================] - 9s 92ms/step - loss: 2.3026 - acc: 0.1002 - val_loss: 2.3026 - val_acc: 0.1036\n",
            "Epoch 18/30\n",
            "100/100 [==============================] - 9s 90ms/step - loss: 2.3026 - acc: 0.0998 - val_loss: 2.3026 - val_acc: 0.1035\n",
            "Epoch 19/30\n",
            "100/100 [==============================] - 9s 90ms/step - loss: 2.3026 - acc: 0.1048 - val_loss: 2.3026 - val_acc: 0.1032\n",
            "Epoch 20/30\n",
            "100/100 [==============================] - 9s 90ms/step - loss: 2.3026 - acc: 0.1016 - val_loss: 2.3026 - val_acc: 0.1031\n",
            "Epoch 21/30\n",
            "100/100 [==============================] - 9s 89ms/step - loss: 2.3026 - acc: 0.1013 - val_loss: 2.3026 - val_acc: 0.1031\n",
            "Epoch 22/30\n",
            "100/100 [==============================] - 9s 90ms/step - loss: 2.3026 - acc: 0.0976 - val_loss: 2.3026 - val_acc: 0.1049\n",
            "Epoch 23/30\n",
            "100/100 [==============================] - 9s 89ms/step - loss: 2.3026 - acc: 0.1042 - val_loss: 2.3026 - val_acc: 0.1031\n",
            "Epoch 24/30\n",
            "100/100 [==============================] - 9s 89ms/step - loss: 2.3026 - acc: 0.1008 - val_loss: 2.3026 - val_acc: 0.1034\n",
            "Epoch 25/30\n",
            "100/100 [==============================] - 9s 90ms/step - loss: 2.3026 - acc: 0.1002 - val_loss: 2.3026 - val_acc: 0.1035\n",
            "Epoch 26/30\n",
            "100/100 [==============================] - 9s 89ms/step - loss: 2.3026 - acc: 0.0995 - val_loss: 2.3026 - val_acc: 0.1037\n",
            "Epoch 27/30\n",
            "100/100 [==============================] - 9s 91ms/step - loss: 2.3026 - acc: 0.1016 - val_loss: 2.3026 - val_acc: 0.1037\n",
            "Epoch 28/30\n",
            "100/100 [==============================] - 9s 90ms/step - loss: 2.3026 - acc: 0.1029 - val_loss: 2.3026 - val_acc: 0.1034\n",
            "Epoch 29/30\n",
            "100/100 [==============================] - 9s 90ms/step - loss: 2.3026 - acc: 0.1025 - val_loss: 2.3026 - val_acc: 0.1030\n",
            "Epoch 30/30\n",
            "100/100 [==============================] - 9s 89ms/step - loss: 2.3026 - acc: 0.0980 - val_loss: 2.3026 - val_acc: 0.1083\n"
          ],
          "name": "stdout"
        }
      ]
    },
    {
      "metadata": {
        "id": "wIGhA7IF52Vi",
        "colab_type": "code",
        "colab": {
          "base_uri": "https://localhost:8080/",
          "height": 69
        },
        "outputId": "5559b8c6-63c6-4cf4-e7ab-372a591cf9f2"
      },
      "cell_type": "code",
      "source": [
        "scores = network.evaluate(test_images, test_labels, verbose=1)\n",
        "print('Test loss:', scores[0])\n",
        "print('Test accuracy:', scores[1])"
      ],
      "execution_count": 18,
      "outputs": [
        {
          "output_type": "stream",
          "text": [
            "10000/10000 [==============================] - 2s 154us/step\n",
            "Test loss: 2.3027018138885498\n",
            "Test accuracy: 0.1059\n"
          ],
          "name": "stdout"
        }
      ]
    }
  ]
}