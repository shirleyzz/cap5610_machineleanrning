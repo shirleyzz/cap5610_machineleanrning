{
  "nbformat": 4,
  "nbformat_minor": 0,
  "metadata": {
    "colab": {
      "name": "HW2(2).ipynb",
      "version": "0.3.2",
      "provenance": [],
      "collapsed_sections": [],
      "include_colab_link": true
    },
    "kernelspec": {
      "name": "python3",
      "display_name": "Python 3"
    },
    "accelerator": "GPU"
  },
  "cells": [
    {
      "cell_type": "markdown",
      "metadata": {
        "id": "view-in-github",
        "colab_type": "text"
      },
      "source": [
        "<a href=\"https://colab.research.google.com/github/shirleyzz/cap5610_machineleanrning/blob/master/Assignment2/HW2(2).ipynb\" target=\"_parent\"><img src=\"https://colab.research.google.com/assets/colab-badge.svg\" alt=\"Open In Colab\"/></a>"
      ]
    },
    {
      "metadata": {
        "id": "rt44vyY1xW9b",
        "colab_type": "text"
      },
      "cell_type": "markdown",
      "source": [
        "# HW2(2)-using data augmentation"
      ]
    },
    {
      "metadata": {
        "id": "l34GNy7tyNks",
        "colab_type": "text"
      },
      "cell_type": "markdown",
      "source": [
        "## Loading the CIFAR10 data set"
      ]
    },
    {
      "metadata": {
        "id": "8yBx1ElGWV8Y",
        "colab_type": "code",
        "colab": {}
      },
      "cell_type": "code",
      "source": [
        "import keras \n",
        "import numpy as np\n",
        "from random import seed\n",
        "from random import randrange\n",
        "from keras.models import Sequential\n",
        "from keras.utils import np_utils\n",
        "from keras.preprocessing.image import ImageDataGenerator\n",
        "from keras.layers import Dense, Activation, Flatten, Dropout, BatchNormalization\n",
        "from keras.layers import Conv2D, MaxPooling2D\n",
        "from keras import regularizers\n",
        "from keras.callbacks import LearningRateScheduler\n",
        "from keras.datasets import cifar10\n",
        "import matplotlib.pyplot as plt"
      ],
      "execution_count": 0,
      "outputs": []
    },
    {
      "metadata": {
        "id": "FSJyddqGexl5",
        "colab_type": "code",
        "colab": {}
      },
      "cell_type": "code",
      "source": [
        "(train_images, train_labels), (test_images, test_labels) = cifar10.load_data()"
      ],
      "execution_count": 0,
      "outputs": []
    },
    {
      "metadata": {
        "id": "XuWVQX3CySIC",
        "colab_type": "text"
      },
      "cell_type": "markdown",
      "source": [
        "## Preprocessing"
      ]
    },
    {
      "metadata": {
        "id": "r_W5QWBBHnCU",
        "colab_type": "code",
        "colab": {}
      },
      "cell_type": "code",
      "source": [
        "# train_images = train_images.reshape((50000, 32 * 32 * 3))\n",
        "train_images = train_images.astype('float32') / 255\n",
        "# test_images = test_images.reshape((10000, 32 * 32 * 3))\n",
        "test_images = test_images.astype('float32') / 255\n",
        "num_classes = 10\n",
        "train_labels = keras.utils.to_categorical(train_labels,num_classes)\n",
        "test_labels = keras.utils.to_categorical(test_labels,num_classes)"
      ],
      "execution_count": 0,
      "outputs": []
    },
    {
      "metadata": {
        "id": "7GT6JLJY4yeE",
        "colab_type": "code",
        "colab": {}
      },
      "cell_type": "code",
      "source": [
        "train_datagen = ImageDataGenerator(\n",
        "    rotation_range=40,\n",
        "    width_shift_range=0.2,\n",
        "    height_shift_range=0.2,\n",
        "    shear_range=0.2,\n",
        "    zoom_range=0.2,\n",
        "    horizontal_flip=True,\n",
        "    fill_mode='nearest')\n",
        "# validation_datagen = ImageDataGenerator(rescale=1./255)"
      ],
      "execution_count": 0,
      "outputs": []
    },
    {
      "metadata": {
        "id": "mgiY1mxe5GOv",
        "colab_type": "code",
        "outputId": "d1ddc429-d4d7-4350-cd6b-8e5242d563de",
        "colab": {
          "base_uri": "https://localhost:8080/",
          "height": 416
        }
      },
      "cell_type": "code",
      "source": [
        "#network architecture \n",
        "network = Sequential()\n",
        "network.add(Conv2D(32, (3, 3), padding='same',input_shape=train_images[0].shape))\n",
        "network.add(Activation('softmax'))\n",
        "network.add(Flatten())\n",
        "network.add(Dense(512))\n",
        "network.add(Activation('relu'))\n",
        "network.add(Dropout(0.5))\n",
        "network.add(Dense(10))\n",
        "network.add(Activation('softmax'))\n",
        "network.summary()\n",
        "#compilation step\n",
        "opt = keras.optimizers.rmsprop(lr=0.0001, decay=1e-6)\n",
        "network.compile(optimizer=opt,\n",
        "                loss='categorical_crossentropy',\n",
        "                metrics=['accuracy'])\n",
        "#train the model\n",
        "epochs = 30"
      ],
      "execution_count": 25,
      "outputs": [
        {
          "output_type": "stream",
          "text": [
            "_________________________________________________________________\n",
            "Layer (type)                 Output Shape              Param #   \n",
            "=================================================================\n",
            "conv2d_3 (Conv2D)            (None, 32, 32, 32)        896       \n",
            "_________________________________________________________________\n",
            "activation_7 (Activation)    (None, 32, 32, 32)        0         \n",
            "_________________________________________________________________\n",
            "flatten_3 (Flatten)          (None, 32768)             0         \n",
            "_________________________________________________________________\n",
            "dense_5 (Dense)              (None, 512)               16777728  \n",
            "_________________________________________________________________\n",
            "activation_8 (Activation)    (None, 512)               0         \n",
            "_________________________________________________________________\n",
            "dropout_3 (Dropout)          (None, 512)               0         \n",
            "_________________________________________________________________\n",
            "dense_6 (Dense)              (None, 10)                5130      \n",
            "_________________________________________________________________\n",
            "activation_9 (Activation)    (None, 10)                0         \n",
            "=================================================================\n",
            "Total params: 16,783,754\n",
            "Trainable params: 16,783,754\n",
            "Non-trainable params: 0\n",
            "_________________________________________________________________\n"
          ],
          "name": "stdout"
        }
      ]
    },
    {
      "metadata": {
        "id": "1LVZVUCvEptS",
        "colab_type": "code",
        "colab": {}
      },
      "cell_type": "code",
      "source": [
        "#split into validation set and training set at the rate of 8:2\n",
        "i = 40000\n",
        "training_images = train_images[:i]\n",
        "valid_images = train_images[:-i]\n",
        "training_labels = train_labels[:i]\n",
        "valid_labels = train_labels[:-i]\n",
        "#\n",
        "train_datagen.fit(training_images)\n",
        "# validation_datagen.fit(valid_images)"
      ],
      "execution_count": 0,
      "outputs": []
    },
    {
      "metadata": {
        "id": "5qX874ZS48eX",
        "colab_type": "code",
        "outputId": "854455d9-1f47-4f2e-c259-5e2b064af02f",
        "colab": {
          "base_uri": "https://localhost:8080/",
          "height": 1059
        }
      },
      "cell_type": "code",
      "source": [
        "history = network.fit_generator(train_datagen.flow(training_images, training_labels,\n",
        "                                     batch_size=128),\n",
        "                        steps_per_epoch=1000,\n",
        "                        epochs=epochs,\n",
        "                        validation_data=(valid_images, valid_labels),\n",
        "                        validation_steps=50)"
      ],
      "execution_count": 27,
      "outputs": [
        {
          "output_type": "stream",
          "text": [
            "Epoch 1/30\n",
            "1000/1000 [==============================] - 87s 87ms/step - loss: 2.2362 - acc: 0.1504 - val_loss: 2.1174 - val_acc: 0.2363\n",
            "Epoch 2/30\n",
            "1000/1000 [==============================] - 85s 85ms/step - loss: 2.1255 - acc: 0.2028 - val_loss: 2.0352 - val_acc: 0.2700\n",
            "Epoch 3/30\n",
            "1000/1000 [==============================] - 86s 86ms/step - loss: 2.0900 - acc: 0.2241 - val_loss: 1.9975 - val_acc: 0.2741\n",
            "Epoch 4/30\n",
            "1000/1000 [==============================] - 85s 85ms/step - loss: 2.0644 - acc: 0.2379 - val_loss: 1.9649 - val_acc: 0.2863\n",
            "Epoch 5/30\n",
            "1000/1000 [==============================] - 87s 87ms/step - loss: 2.0435 - acc: 0.2512 - val_loss: 1.9289 - val_acc: 0.3006\n",
            "Epoch 6/30\n",
            "1000/1000 [==============================] - 87s 87ms/step - loss: 2.0251 - acc: 0.2618 - val_loss: 1.8943 - val_acc: 0.3138\n",
            "Epoch 7/30\n",
            "1000/1000 [==============================] - 86s 86ms/step - loss: 2.0069 - acc: 0.2706 - val_loss: 1.8731 - val_acc: 0.3311\n",
            "Epoch 8/30\n",
            "1000/1000 [==============================] - 86s 86ms/step - loss: 1.9921 - acc: 0.2776 - val_loss: 1.8494 - val_acc: 0.3454\n",
            "Epoch 9/30\n",
            "1000/1000 [==============================] - 85s 85ms/step - loss: 1.9772 - acc: 0.2847 - val_loss: 1.8208 - val_acc: 0.3578\n",
            "Epoch 10/30\n",
            "1000/1000 [==============================] - 86s 86ms/step - loss: 1.9660 - acc: 0.2888 - val_loss: 1.8088 - val_acc: 0.3646\n",
            "Epoch 11/30\n",
            "1000/1000 [==============================] - 88s 88ms/step - loss: 1.9535 - acc: 0.2936 - val_loss: 1.7925 - val_acc: 0.3690\n",
            "Epoch 12/30\n",
            "1000/1000 [==============================] - 90s 90ms/step - loss: 1.9444 - acc: 0.2963 - val_loss: 1.7736 - val_acc: 0.3710\n",
            "Epoch 13/30\n",
            "1000/1000 [==============================] - 88s 88ms/step - loss: 1.9372 - acc: 0.3002 - val_loss: 1.7621 - val_acc: 0.3732\n",
            "Epoch 14/30\n",
            "1000/1000 [==============================] - 138s 138ms/step - loss: 1.9285 - acc: 0.3039 - val_loss: 1.7441 - val_acc: 0.3809\n",
            "Epoch 15/30\n",
            "1000/1000 [==============================] - 135s 135ms/step - loss: 1.9252 - acc: 0.3049 - val_loss: 1.7490 - val_acc: 0.3842\n",
            "Epoch 16/30\n",
            "1000/1000 [==============================] - 141s 141ms/step - loss: 1.9185 - acc: 0.3090 - val_loss: 1.7348 - val_acc: 0.3901\n",
            "Epoch 17/30\n",
            "1000/1000 [==============================] - 140s 140ms/step - loss: 1.9156 - acc: 0.3104 - val_loss: 1.7335 - val_acc: 0.3908\n",
            "Epoch 18/30\n",
            "1000/1000 [==============================] - 141s 141ms/step - loss: 1.9091 - acc: 0.3122 - val_loss: 1.7201 - val_acc: 0.3908\n",
            "Epoch 19/30\n",
            "1000/1000 [==============================] - 141s 141ms/step - loss: 1.9073 - acc: 0.3126 - val_loss: 1.7164 - val_acc: 0.3914\n",
            "Epoch 20/30\n",
            "1000/1000 [==============================] - 140s 140ms/step - loss: 1.9031 - acc: 0.3168 - val_loss: 1.7062 - val_acc: 0.3951\n",
            "Epoch 21/30\n",
            "1000/1000 [==============================] - 125s 125ms/step - loss: 1.8981 - acc: 0.3178 - val_loss: 1.6996 - val_acc: 0.3980\n",
            "Epoch 22/30\n",
            "1000/1000 [==============================] - 84s 84ms/step - loss: 1.8975 - acc: 0.3179 - val_loss: 1.6959 - val_acc: 0.3998\n",
            "Epoch 23/30\n",
            "1000/1000 [==============================] - 84s 84ms/step - loss: 1.8903 - acc: 0.3202 - val_loss: 1.6885 - val_acc: 0.3995\n",
            "Epoch 24/30\n",
            "1000/1000 [==============================] - 87s 87ms/step - loss: 1.8910 - acc: 0.3211 - val_loss: 1.6993 - val_acc: 0.4013\n",
            "Epoch 25/30\n",
            "1000/1000 [==============================] - 84s 84ms/step - loss: 1.8877 - acc: 0.3226 - val_loss: 1.6830 - val_acc: 0.4039\n",
            "Epoch 26/30\n",
            "1000/1000 [==============================] - 86s 86ms/step - loss: 1.8851 - acc: 0.3215 - val_loss: 1.6711 - val_acc: 0.4036\n",
            "Epoch 27/30\n",
            "1000/1000 [==============================] - 86s 86ms/step - loss: 1.8828 - acc: 0.3217 - val_loss: 1.6805 - val_acc: 0.4071\n",
            "Epoch 28/30\n",
            "1000/1000 [==============================] - 86s 86ms/step - loss: 1.8829 - acc: 0.3239 - val_loss: 1.6914 - val_acc: 0.4037\n",
            "Epoch 29/30\n",
            "1000/1000 [==============================] - 86s 86ms/step - loss: 1.8790 - acc: 0.3257 - val_loss: 1.6774 - val_acc: 0.4071\n",
            "Epoch 30/30\n",
            "1000/1000 [==============================] - 110s 110ms/step - loss: 1.8791 - acc: 0.3259 - val_loss: 1.6715 - val_acc: 0.4058\n"
          ],
          "name": "stdout"
        }
      ]
    },
    {
      "metadata": {
        "id": "wIGhA7IF52Vi",
        "colab_type": "code",
        "outputId": "801e4a27-efcd-4b2a-e251-c1809d125b96",
        "colab": {
          "base_uri": "https://localhost:8080/",
          "height": 69
        }
      },
      "cell_type": "code",
      "source": [
        "scores = network.evaluate(test_images, test_labels)\n",
        "# scores = network.evaluate(test_images, test_labels, verbose=1)\n",
        "print('Test loss:', scores[0])\n",
        "print('Test accuracy:', scores[1])"
      ],
      "execution_count": 28,
      "outputs": [
        {
          "output_type": "stream",
          "text": [
            "10000/10000 [==============================] - 2s 168us/step\n",
            "Test loss: 1.6664636888504027\n",
            "Test accuracy: 0.4145\n"
          ],
          "name": "stdout"
        }
      ]
    },
    {
      "metadata": {
        "id": "754NkoBNl5NE",
        "colab_type": "code",
        "colab": {
          "base_uri": "https://localhost:8080/",
          "height": 376
        },
        "outputId": "a1b572b4-3405-4202-df83-6da082f63e65"
      },
      "cell_type": "code",
      "source": [
        "#display result\n",
        "history_dict = history.history\n",
        "loss_values = history_dict['loss']\n",
        "test_loss_values = history_dict['val_loss']\n",
        "epochs_range = range(1, epochs + 1)\n",
        "plt.plot(epochs_range, loss_values, 'bo', label='Training loss')\n",
        "plt.plot(epochs_range, test_loss_values, 'ro', label='Valid loss')\n",
        "plt.title('Training and validation loss')\n",
        "plt.xlabel('Epochs')\n",
        "plt.ylabel('Loss')\n",
        "plt.legend()\n",
        "plt.show()"
      ],
      "execution_count": 31,
      "outputs": [
        {
          "output_type": "display_data",
          "data": {
            "image/png": "[encoded data removed]",
            "text/plain": [
              "<Figure size 576x396 with 1 Axes>"
            ]
          },
          "metadata": {
            "tags": []
          }
        }
      ]
    },
    {
      "metadata": {
        "id": "fsNAgSRKl-zl",
        "colab_type": "code",
        "colab": {
          "base_uri": "https://localhost:8080/",
          "height": 376
        },
        "outputId": "8e3be36a-193a-4b51-efe7-7c658cf3f1aa"
      },
      "cell_type": "code",
      "source": [
        "acc_values = history_dict['acc']\n",
        "test_acc_values = history_dict['val_acc']\n",
        "plt.plot(epochs_range, acc_values, 'bo', label='Training accuracy')\n",
        "plt.plot(epochs_range, test_acc_values, 'ro', label='Valid accuracy')\n",
        "plt.title('Training and validation accuracy')\n",
        "plt.xlabel('Epochs')\n",
        "plt.ylabel('Accuracy')\n",
        "plt.legend()\n",
        "plt.show()\n"
      ],
      "execution_count": 33,
      "outputs": [
        {
          "output_type": "display_data",
          "data": {
            "image/png": "[encoded data removed]",
            "text/plain": [
              "<Figure size 576x396 with 1 Axes>"
            ]
          },
          "metadata": {
            "tags": []
          }
        }
      ]
    },
    {
      "metadata": {
        "id": "RSNgRybX0kA7",
        "colab_type": "code",
        "colab": {}
      },
      "cell_type": "code",
      "source": [
        ""
      ],
      "execution_count": 0,
      "outputs": []
    }
  ]
}
