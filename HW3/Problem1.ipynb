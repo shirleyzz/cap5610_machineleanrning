{
  "nbformat": 4,
  "nbformat_minor": 0,
  "metadata": {
    "colab": {
      "name": "Problem1.ipynb",
      "version": "0.3.2",
      "provenance": [],
      "collapsed_sections": [],
      "include_colab_link": true
    },
    "kernelspec": {
      "name": "python3",
      "display_name": "Python 3"
    },
    "accelerator": "GPU"
  },
  "cells": [
    {
      "cell_type": "markdown",
      "metadata": {
        "id": "view-in-github",
        "colab_type": "text"
      },
      "source": [
        "<a href=\"https://colab.research.google.com/github/shirleyzz/cap5610_machineleanrning/blob/master/HW3/Problem1.ipynb\" target=\"_parent\"><img src=\"https://colab.research.google.com/assets/colab-badge.svg\" alt=\"Open In Colab\"/></a>"
      ]
    },
    {
      "metadata": {
        "id": "nFVD-Q-MD6Ab",
        "colab_type": "code",
        "outputId": "3e79dfad-33cf-4035-e3b4-279c5132cd9b",
        "colab": {
          "base_uri": "https://localhost:8080/",
          "height": 208
        }
      },
      "cell_type": "code",
      "source": [
        "#Do feature extraction with data augmentation.\n",
        "!wget --no-check-certificate \\\n",
        "    https://storage.googleapis.com/mledu-datasets/cats_and_dogs_filtered.zip \\\n",
        "    -O /tmp/cats_and_dogs_filtered.zip"
      ],
      "execution_count": 0,
      "outputs": [
        {
          "output_type": "stream",
          "text": [
            "--2019-04-14 18:22:19--  https://storage.googleapis.com/mledu-datasets/cats_and_dogs_filtered.zip\n",
            "Resolving storage.googleapis.com (storage.googleapis.com)... 74.125.206.128, 2a00:1450:400c:c0c::80\n",
            "Connecting to storage.googleapis.com (storage.googleapis.com)|74.125.206.128|:443... connected.\n",
            "HTTP request sent, awaiting response... 200 OK\n",
            "Length: 68606236 (65M) [application/zip]\n",
            "Saving to: ‘/tmp/cats_and_dogs_filtered.zip’\n",
            "\n",
            "/tmp/cats_and_dogs_ 100%[===================>]  65.43M  93.1MB/s    in 0.7s    \n",
            "\n",
            "2019-04-14 18:22:20 (93.1 MB/s) - ‘/tmp/cats_and_dogs_filtered.zip’ saved [68606236/68606236]\n",
            "\n"
          ],
          "name": "stdout"
        }
      ]
    },
    {
      "metadata": {
        "id": "BiXhNzigEO3N",
        "colab_type": "code",
        "colab": {}
      },
      "cell_type": "code",
      "source": [
        "import os\n",
        "import zipfile\n",
        "\n",
        "local_zip = '/tmp/cats_and_dogs_filtered.zip'\n",
        "zip_ref = zipfile.ZipFile(local_zip, 'r')\n",
        "zip_ref.extractall('/tmp')\n",
        "zip_ref.close()"
      ],
      "execution_count": 0,
      "outputs": []
    },
    {
      "metadata": {
        "id": "bY5zxbM4ESL6",
        "colab_type": "code",
        "colab": {}
      },
      "cell_type": "code",
      "source": [
        "base_dir = '/tmp/cats_and_dogs_filtered'\n",
        "train_dir = os.path.join(base_dir, 'train')\n",
        "validation_dir = os.path.join(base_dir, 'validation')\n",
        "\n",
        "# Directory with our training cat pictures\n",
        "train_cats_dir = os.path.join(train_dir, 'cats')\n",
        "\n",
        "# Directory with our training dog pictures\n",
        "train_dogs_dir = os.path.join(train_dir, 'dogs')\n",
        "\n",
        "# Directory with our validation cat pictures\n",
        "validation_cats_dir = os.path.join(validation_dir, 'cats')\n",
        "\n",
        "# Directory with our validation dog pictures\n",
        "validation_dogs_dir = os.path.join(validation_dir, 'dogs')"
      ],
      "execution_count": 0,
      "outputs": []
    },
    {
      "metadata": {
        "id": "zyff9oG1EXwY",
        "colab_type": "code",
        "outputId": "e13ab581-9046-43fa-f794-9642e9694a3c",
        "colab": {
          "base_uri": "https://localhost:8080/",
          "height": 141
        }
      },
      "cell_type": "code",
      "source": [
        "from keras.applications import VGG19\n",
        "\n",
        "conv_base = VGG19(\n",
        "    weights='imagenet', \n",
        "    include_top=False, \n",
        "    input_shape=(150, 150, 3))"
      ],
      "execution_count": 0,
      "outputs": [
        {
          "output_type": "stream",
          "text": [
            "Using TensorFlow backend.\n"
          ],
          "name": "stderr"
        },
        {
          "output_type": "stream",
          "text": [
            "WARNING:tensorflow:From /usr/local/lib/python3.6/dist-packages/tensorflow/python/framework/op_def_library.py:263: colocate_with (from tensorflow.python.framework.ops) is deprecated and will be removed in a future version.\n",
            "Instructions for updating:\n",
            "Colocations handled automatically by placer.\n",
            "Downloading data from https://github.com/fchollet/deep-learning-models/releases/download/v0.1/vgg19_weights_tf_dim_ordering_tf_kernels_notop.h5\n",
            "80142336/80134624 [==============================] - 3s 0us/step\n"
          ],
          "name": "stdout"
        }
      ]
    },
    {
      "metadata": {
        "id": "Plbo087rEaof",
        "colab_type": "code",
        "outputId": "73b7316a-809f-4e9e-b0d2-56ba076d9c84",
        "colab": {
          "base_uri": "https://localhost:8080/",
          "height": 903
        }
      },
      "cell_type": "code",
      "source": [
        "conv_base.summary()"
      ],
      "execution_count": 0,
      "outputs": [
        {
          "output_type": "stream",
          "text": [
            "_________________________________________________________________\n",
            "Layer (type)                 Output Shape              Param #   \n",
            "=================================================================\n",
            "input_1 (InputLayer)         (None, 150, 150, 3)       0         \n",
            "_________________________________________________________________\n",
            "block1_conv1 (Conv2D)        (None, 150, 150, 64)      1792      \n",
            "_________________________________________________________________\n",
            "block1_conv2 (Conv2D)        (None, 150, 150, 64)      36928     \n",
            "_________________________________________________________________\n",
            "block1_pool (MaxPooling2D)   (None, 75, 75, 64)        0         \n",
            "_________________________________________________________________\n",
            "block2_conv1 (Conv2D)        (None, 75, 75, 128)       73856     \n",
            "_________________________________________________________________\n",
            "block2_conv2 (Conv2D)        (None, 75, 75, 128)       147584    \n",
            "_________________________________________________________________\n",
            "block2_pool (MaxPooling2D)   (None, 37, 37, 128)       0         \n",
            "_________________________________________________________________\n",
            "block3_conv1 (Conv2D)        (None, 37, 37, 256)       295168    \n",
            "_________________________________________________________________\n",
            "block3_conv2 (Conv2D)        (None, 37, 37, 256)       590080    \n",
            "_________________________________________________________________\n",
            "block3_conv3 (Conv2D)        (None, 37, 37, 256)       590080    \n",
            "_________________________________________________________________\n",
            "block3_conv4 (Conv2D)        (None, 37, 37, 256)       590080    \n",
            "_________________________________________________________________\n",
            "block3_pool (MaxPooling2D)   (None, 18, 18, 256)       0         \n",
            "_________________________________________________________________\n",
            "block4_conv1 (Conv2D)        (None, 18, 18, 512)       1180160   \n",
            "_________________________________________________________________\n",
            "block4_conv2 (Conv2D)        (None, 18, 18, 512)       2359808   \n",
            "_________________________________________________________________\n",
            "block4_conv3 (Conv2D)        (None, 18, 18, 512)       2359808   \n",
            "_________________________________________________________________\n",
            "block4_conv4 (Conv2D)        (None, 18, 18, 512)       2359808   \n",
            "_________________________________________________________________\n",
            "block4_pool (MaxPooling2D)   (None, 9, 9, 512)         0         \n",
            "_________________________________________________________________\n",
            "block5_conv1 (Conv2D)        (None, 9, 9, 512)         2359808   \n",
            "_________________________________________________________________\n",
            "block5_conv2 (Conv2D)        (None, 9, 9, 512)         2359808   \n",
            "_________________________________________________________________\n",
            "block5_conv3 (Conv2D)        (None, 9, 9, 512)         2359808   \n",
            "_________________________________________________________________\n",
            "block5_conv4 (Conv2D)        (None, 9, 9, 512)         2359808   \n",
            "_________________________________________________________________\n",
            "block5_pool (MaxPooling2D)   (None, 4, 4, 512)         0         \n",
            "=================================================================\n",
            "Total params: 20,024,384\n",
            "Trainable params: 20,024,384\n",
            "Non-trainable params: 0\n",
            "_________________________________________________________________\n"
          ],
          "name": "stdout"
        }
      ]
    },
    {
      "metadata": {
        "id": "K3DfVBIfEchR",
        "colab_type": "code",
        "outputId": "0df4c971-2c4c-4f69-86a1-61f2d0fb6a01",
        "colab": {
          "base_uri": "https://localhost:8080/",
          "height": 52
        }
      },
      "cell_type": "code",
      "source": [
        "from keras.preprocessing.image import ImageDataGenerator\n",
        "import numpy as np\n",
        "\n",
        "datagen = ImageDataGenerator(rescale=1./255)\n",
        "batch_size = 20\n",
        "\n",
        "def extract_features(directory, sample_count):\n",
        "  features = np.zeros(shape=(sample_count, 4, 4, 512))\n",
        "  labels = np.zeros(shape=(sample_count))\n",
        "  generator = datagen.flow_from_directory(\n",
        "      directory, target_size=(150, 150),\n",
        "      batch_size=batch_size,\n",
        "      class_mode='binary'\n",
        "  )\n",
        "  i = 0\n",
        "  for input_batch, labels_batch in generator:\n",
        "    features_batch = conv_base.predict(input_batch)\n",
        "    features[i * batch_size : (i + 1) * batch_size] = features_batch\n",
        "    labels[i * batch_size : (i + 1) * batch_size] = labels_batch\n",
        "    i += 1\n",
        "    if i * batch_size >= sample_count:\n",
        "      break\n",
        "  return features, labels\n",
        "\n",
        "train_features, train_labels = extract_features(train_dir, 2000)\n",
        "validation_features, validation_labels = extract_features(validation_dir, 1000)\n",
        "\n",
        "train_features = np.reshape(train_features, (2000, 4 * 4 * 512))\n",
        "validation_features = np.reshape(validation_features, (1000, 4 * 4 * 512))\n",
        "  "
      ],
      "execution_count": 0,
      "outputs": [
        {
          "output_type": "stream",
          "text": [
            "Found 2000 images belonging to 2 classes.\n",
            "Found 1000 images belonging to 2 classes.\n"
          ],
          "name": "stdout"
        }
      ]
    },
    {
      "metadata": {
        "id": "pPhZO9_gEeYG",
        "colab_type": "code",
        "outputId": "c35b8b5a-866f-4e96-a0d9-29f8f213192e",
        "colab": {
          "base_uri": "https://localhost:8080/",
          "height": 1128
        }
      },
      "cell_type": "code",
      "source": [
        "from keras import layers\n",
        "from keras import models\n",
        "from keras import optimizers\n",
        "\n",
        "model = models.Sequential()\n",
        "model.add(layers.Dense(256, activation='relu', input_dim=4 * 4 * 512))\n",
        "model.add(layers.Dropout(0.5))\n",
        "model.add(layers.Dense(512,activation='relu'))\n",
        "model.add(layers.Dense(10))\n",
        "model.add(layers.Dense(1, activation='sigmoid'))\n",
        "\n",
        "model.compile(\n",
        "    loss='binary_crossentropy', \n",
        "    optimizer=optimizers.RMSprop(lr=2e-5), \n",
        "    metrics=['acc'])\n",
        "\n",
        "history = model.fit(\n",
        "    train_features, \n",
        "    train_labels, \n",
        "    epochs=30, \n",
        "    batch_size=20, \n",
        "    validation_data=(validation_features, validation_labels))"
      ],
      "execution_count": 0,
      "outputs": [
        {
          "output_type": "stream",
          "text": [
            "WARNING:tensorflow:From /usr/local/lib/python3.6/dist-packages/tensorflow/python/ops/math_ops.py:3066: to_int32 (from tensorflow.python.ops.math_ops) is deprecated and will be removed in a future version.\n",
            "Instructions for updating:\n",
            "Use tf.cast instead.\n",
            "Train on 2000 samples, validate on 1000 samples\n",
            "Epoch 1/30\n",
            "2000/2000 [==============================] - 2s 982us/step - loss: 0.6476 - acc: 0.6140 - val_loss: 0.5363 - val_acc: 0.7840\n",
            "Epoch 2/30\n",
            "2000/2000 [==============================] - 1s 436us/step - loss: 0.5205 - acc: 0.7560 - val_loss: 0.4383 - val_acc: 0.8260\n",
            "Epoch 3/30\n",
            "2000/2000 [==============================] - 1s 447us/step - loss: 0.4458 - acc: 0.8075 - val_loss: 0.3820 - val_acc: 0.8420\n",
            "Epoch 4/30\n",
            "2000/2000 [==============================] - 1s 450us/step - loss: 0.3900 - acc: 0.8345 - val_loss: 0.3468 - val_acc: 0.8530\n",
            "Epoch 5/30\n",
            "2000/2000 [==============================] - 1s 451us/step - loss: 0.3568 - acc: 0.8400 - val_loss: 0.3288 - val_acc: 0.8560\n",
            "Epoch 6/30\n",
            "2000/2000 [==============================] - 1s 454us/step - loss: 0.3231 - acc: 0.8595 - val_loss: 0.3099 - val_acc: 0.8660\n",
            "Epoch 7/30\n",
            "2000/2000 [==============================] - 1s 446us/step - loss: 0.3059 - acc: 0.8735 - val_loss: 0.3060 - val_acc: 0.8650\n",
            "Epoch 8/30\n",
            "2000/2000 [==============================] - 1s 455us/step - loss: 0.2957 - acc: 0.8770 - val_loss: 0.2930 - val_acc: 0.8740\n",
            "Epoch 9/30\n",
            "2000/2000 [==============================] - 1s 454us/step - loss: 0.2691 - acc: 0.8900 - val_loss: 0.2861 - val_acc: 0.8830\n",
            "Epoch 10/30\n",
            "2000/2000 [==============================] - 1s 446us/step - loss: 0.2714 - acc: 0.8790 - val_loss: 0.2903 - val_acc: 0.8700\n",
            "Epoch 11/30\n",
            "2000/2000 [==============================] - 1s 445us/step - loss: 0.2489 - acc: 0.8940 - val_loss: 0.2908 - val_acc: 0.8680\n",
            "Epoch 12/30\n",
            "2000/2000 [==============================] - 1s 446us/step - loss: 0.2327 - acc: 0.9040 - val_loss: 0.2771 - val_acc: 0.8880\n",
            "Epoch 13/30\n",
            "2000/2000 [==============================] - 1s 447us/step - loss: 0.2260 - acc: 0.9050 - val_loss: 0.2846 - val_acc: 0.8850\n",
            "Epoch 14/30\n",
            "2000/2000 [==============================] - 1s 448us/step - loss: 0.2147 - acc: 0.9155 - val_loss: 0.2710 - val_acc: 0.8880\n",
            "Epoch 15/30\n",
            "2000/2000 [==============================] - 1s 450us/step - loss: 0.2092 - acc: 0.9135 - val_loss: 0.2724 - val_acc: 0.8900\n",
            "Epoch 16/30\n",
            "2000/2000 [==============================] - 1s 450us/step - loss: 0.1947 - acc: 0.9195 - val_loss: 0.2706 - val_acc: 0.8900\n",
            "Epoch 17/30\n",
            "2000/2000 [==============================] - 1s 452us/step - loss: 0.1885 - acc: 0.9225 - val_loss: 0.2732 - val_acc: 0.8930\n",
            "Epoch 18/30\n",
            "2000/2000 [==============================] - 1s 446us/step - loss: 0.1761 - acc: 0.9320 - val_loss: 0.2704 - val_acc: 0.8930\n",
            "Epoch 19/30\n",
            "2000/2000 [==============================] - 1s 454us/step - loss: 0.1721 - acc: 0.9365 - val_loss: 0.2743 - val_acc: 0.8880\n",
            "Epoch 20/30\n",
            "2000/2000 [==============================] - 1s 449us/step - loss: 0.1674 - acc: 0.9375 - val_loss: 0.2745 - val_acc: 0.8930\n",
            "Epoch 21/30\n",
            "2000/2000 [==============================] - 1s 444us/step - loss: 0.1530 - acc: 0.9470 - val_loss: 0.2786 - val_acc: 0.8940\n",
            "Epoch 22/30\n",
            "2000/2000 [==============================] - 1s 450us/step - loss: 0.1509 - acc: 0.9440 - val_loss: 0.2799 - val_acc: 0.8970\n",
            "Epoch 23/30\n",
            "2000/2000 [==============================] - 1s 447us/step - loss: 0.1423 - acc: 0.9470 - val_loss: 0.2838 - val_acc: 0.8920\n",
            "Epoch 24/30\n",
            "2000/2000 [==============================] - 1s 450us/step - loss: 0.1391 - acc: 0.9515 - val_loss: 0.2843 - val_acc: 0.8930\n",
            "Epoch 25/30\n",
            "2000/2000 [==============================] - 1s 448us/step - loss: 0.1286 - acc: 0.9525 - val_loss: 0.2840 - val_acc: 0.8920\n",
            "Epoch 26/30\n",
            "2000/2000 [==============================] - 1s 441us/step - loss: 0.1236 - acc: 0.9580 - val_loss: 0.2884 - val_acc: 0.8930\n",
            "Epoch 27/30\n",
            "2000/2000 [==============================] - 1s 446us/step - loss: 0.1164 - acc: 0.9585 - val_loss: 0.3040 - val_acc: 0.8800\n",
            "Epoch 28/30\n",
            "2000/2000 [==============================] - 1s 451us/step - loss: 0.1101 - acc: 0.9590 - val_loss: 0.2918 - val_acc: 0.8920\n",
            "Epoch 29/30\n",
            "2000/2000 [==============================] - 1s 446us/step - loss: 0.1077 - acc: 0.9595 - val_loss: 0.3015 - val_acc: 0.8880\n",
            "Epoch 30/30\n",
            "2000/2000 [==============================] - 1s 450us/step - loss: 0.0964 - acc: 0.9685 - val_loss: 0.3009 - val_acc: 0.8920\n"
          ],
          "name": "stdout"
        }
      ]
    },
    {
      "metadata": {
        "id": "wGXeTkcKEhoF",
        "colab_type": "code",
        "outputId": "f3be31a3-5628-42bc-f501-8b5b474fd802",
        "colab": {
          "base_uri": "https://localhost:8080/",
          "height": 545
        }
      },
      "cell_type": "code",
      "source": [
        "%matplotlib inline\n",
        "\n",
        "import matplotlib.pyplot as plt\n",
        "\n",
        "acc = history.history['acc']\n",
        "val_acc = history.history['val_acc']\n",
        "\n",
        "loss = history.history['loss']\n",
        "val_loss = history.history['val_loss']\n",
        "\n",
        "epochs = range(1, len(acc) + 1)\n",
        "\n",
        "# training and validation accuracy\n",
        "\n",
        "plt.plot(epochs, acc, 'bo', label='training acc')\n",
        "plt.plot(epochs, val_acc, 'ro', label='validation acc')\n",
        "plt.title('Training and validation accuracy')\n",
        "plt.legend()\n",
        "\n",
        "plt.figure()\n",
        "\n",
        "# training and validation loss\n",
        "\n",
        "plt.plot(epochs, loss, 'bo', label='training loss')\n",
        "plt.plot(epochs, val_loss, 'ro', label='validation loss')\n",
        "plt.title('Training and validation loss')\n",
        "plt.legend()\n",
        "\n",
        "plt.show()"
      ],
      "execution_count": 0,
      "outputs": [
        {
          "output_type": "display_data",
          "data": {
            "image/png": "[encoded data removed]",
            "text/plain": [
              "<Figure size 432x288 with 1 Axes>"
            ]
          },
          "metadata": {
            "tags": []
          }
        },
        {
          "output_type": "display_data",
          "data": {
            "image/png": "[encoded data removed]",
            "text/plain": [
              "<Figure size 432x288 with 1 Axes>"
            ]
          },
          "metadata": {
            "tags": []
          }
        }
      ]
    },
    {
      "metadata": {
        "id": "7Wt6UQbpGaW_",
        "colab_type": "code",
        "colab": {}
      },
      "cell_type": "code",
      "source": [
        ""
      ],
      "execution_count": 0,
      "outputs": []
    }
  ]
}