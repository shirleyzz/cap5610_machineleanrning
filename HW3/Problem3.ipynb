{
  "nbformat": 4,
  "nbformat_minor": 0,
  "metadata": {
    "colab": {
      "name": "Problem3.ipynb",
      "version": "0.3.2",
      "provenance": [],
      "collapsed_sections": [],
      "include_colab_link": true
    },
    "kernelspec": {
      "name": "python3",
      "display_name": "Python 3"
    },
    "accelerator": "GPU"
  },
  "cells": [
    {
      "cell_type": "markdown",
      "metadata": {
        "id": "view-in-github",
        "colab_type": "text"
      },
      "source": [
        "<a href=\"https://colab.research.google.com/github/shirleyzz/cap5610_machineleanrning/blob/master/HW3/Problem3.ipynb\" target=\"_parent\"><img src=\"https://colab.research.google.com/assets/colab-badge.svg\" alt=\"Open In Colab\"/></a>"
      ]
    },
    {
      "metadata": {
        "id": "eQvw-0JTfB1Z",
        "colab_type": "text"
      },
      "cell_type": "markdown",
      "source": [
        "# Visualizing heatmaps of class activation"
      ]
    },
    {
      "metadata": {
        "id": "L2oQNeLx-9Zb",
        "colab_type": "code",
        "colab": {
          "base_uri": "https://localhost:8080/",
          "height": 204
        },
        "outputId": "8aa454a8-58c9-4dd7-f03e-15162adc2dfa"
      },
      "cell_type": "code",
      "source": [
        "!wget --no-check-certificate \\\n",
        "    https://storage.googleapis.com/mledu-datasets/cats_and_dogs_filtered.zip \\\n",
        "    -O /tmp/cats_and_dogs_filtered.zip"
      ],
      "execution_count": 54,
      "outputs": [
        {
          "output_type": "stream",
          "text": [
            "--2019-04-17 03:02:27--  https://storage.googleapis.com/mledu-datasets/cats_and_dogs_filtered.zip\n",
            "Resolving storage.googleapis.com (storage.googleapis.com)... 74.125.195.128, 2607:f8b0:400e:c06::80\n",
            "Connecting to storage.googleapis.com (storage.googleapis.com)|74.125.195.128|:443... connected.\n",
            "HTTP request sent, awaiting response... 200 OK\n",
            "Length: 68606236 (65M) [application/zip]\n",
            "Saving to: ‘/tmp/cats_and_dogs_filtered.zip’\n",
            "\n",
            "/tmp/cats_and_dogs_ 100%[===================>]  65.43M  54.8MB/s    in 1.2s    \n",
            "\n",
            "2019-04-17 03:02:28 (54.8 MB/s) - ‘/tmp/cats_and_dogs_filtered.zip’ saved [68606236/68606236]\n",
            "\n"
          ],
          "name": "stdout"
        }
      ]
    },
    {
      "metadata": {
        "id": "zeDKC7hU_Axg",
        "colab_type": "code",
        "colab": {}
      },
      "cell_type": "code",
      "source": [
        "import os\n",
        "import zipfile\n",
        "local_zip = '/tmp/cats_and_dogs_filtered.zip'\n",
        "zip_ref = zipfile.ZipFile(local_zip, 'r')\n",
        "zip_ref.extractall('/tmp')\n",
        "zip_ref.close()"
      ],
      "execution_count": 0,
      "outputs": []
    },
    {
      "metadata": {
        "id": "iVLRUfFS_C_R",
        "colab_type": "code",
        "colab": {}
      },
      "cell_type": "code",
      "source": [
        "base_dir = '/tmp/cats_and_dogs_filtered'\n",
        "train_dir = os.path.join(base_dir, 'train')\n",
        "validation_dir = os.path.join(base_dir, 'validation')\n",
        "# Directory with our training cat pictures\n",
        "train_cats_dir = os.path.join(train_dir, 'cats')\n",
        "# Directory with our training dog pictures\n",
        "train_dogs_dir = os.path.join(train_dir, 'dogs')\n",
        "# Directory with our validation cat pictures\n",
        "validation_cats_dir = os.path.join(validation_dir, 'cats')\n",
        "# Directory with our validation dog pictures\n",
        "validation_dogs_dir = os.path.join(validation_dir, 'dogs')"
      ],
      "execution_count": 0,
      "outputs": []
    },
    {
      "metadata": {
        "id": "HiZvRGpxIcaw",
        "colab_type": "code",
        "colab": {}
      },
      "cell_type": "code",
      "source": [
        "# for file in os.listdir(validation_cats_dir):\n",
        "#   img_path1 = file\n",
        "#   print(file)"
      ],
      "execution_count": 0,
      "outputs": []
    },
    {
      "metadata": {
        "id": "AT6jdehe_F85",
        "colab_type": "code",
        "colab": {}
      },
      "cell_type": "code",
      "source": [
        "from keras.applications import VGG19\n",
        "conv_base = VGG19(\n",
        "    weights='imagenet', \n",
        "    include_top=False, \n",
        "    input_shape=(150, 150, 3))"
      ],
      "execution_count": 0,
      "outputs": []
    },
    {
      "metadata": {
        "id": "IAr8NwZB_Iop",
        "colab_type": "code",
        "colab": {}
      },
      "cell_type": "code",
      "source": [
        "from keras import layers\n",
        "from keras import models\n",
        "from keras import optimizers\n",
        "model = models.Sequential()\n",
        "model.add(conv_base)\n",
        "model.add(layers.Flatten())\n",
        "model.add(layers.Dense(256, activation='relu'))\n",
        "model.add(layers.Dropout(0.1))\n",
        "model.add(layers.Dense(512,activation='relu'))\n",
        "model.add(layers.Dense(1, activation='sigmoid'))"
      ],
      "execution_count": 0,
      "outputs": []
    },
    {
      "metadata": {
        "id": "zicBK1wL_K4Z",
        "colab_type": "code",
        "colab": {}
      },
      "cell_type": "code",
      "source": [
        "conv_base.trainable = True\n",
        "set_trainable = False\n",
        "for layer in conv_base.layers:\n",
        "  if layer.name == 'block5_conv1':\n",
        "    set_trainable = True\n",
        "  if set_trainable:\n",
        "    layer.trainable = True\n",
        "  else:\n",
        "    layer.trainable = False"
      ],
      "execution_count": 0,
      "outputs": []
    },
    {
      "metadata": {
        "id": "U7hC1AE9_NPh",
        "colab_type": "code",
        "colab": {
          "base_uri": "https://localhost:8080/",
          "height": 3417
        },
        "outputId": "12f56ee5-d8b5-4d76-a287-2c0404c446ed"
      },
      "cell_type": "code",
      "source": [
        "# compile model\n",
        "\n",
        "model.compile(\n",
        "    loss='binary_crossentropy',\n",
        "    #\n",
        "    # choose a smaller learning rate\n",
        "    #\n",
        "    optimizer=optimizers.RMSprop(lr=1e-5), \n",
        "    metrics=['acc'])\n",
        "\n",
        "# train\n",
        "\n",
        "history = model.fit_generator(\n",
        "    train_generator,\n",
        "    steps_per_epoch=100,\n",
        "    epochs=100,\n",
        "    validation_data=validation_generator,\n",
        "    validation_steps=50)"
      ],
      "execution_count": 65,
      "outputs": [
        {
          "output_type": "stream",
          "text": [
            "Epoch 1/100\n",
            "100/100 [==============================] - 22s 219ms/step - loss: 0.5810 - acc: 0.7015 - val_loss: 0.4456 - val_acc: 0.7980\n",
            "Epoch 2/100\n",
            "100/100 [==============================] - 18s 183ms/step - loss: 0.4124 - acc: 0.8210 - val_loss: 0.3182 - val_acc: 0.8620\n",
            "Epoch 3/100\n",
            "100/100 [==============================] - 18s 184ms/step - loss: 0.3478 - acc: 0.8440 - val_loss: 0.2545 - val_acc: 0.8920\n",
            "Epoch 4/100\n",
            "100/100 [==============================] - 18s 185ms/step - loss: 0.3041 - acc: 0.8725 - val_loss: 0.2417 - val_acc: 0.9050\n",
            "Epoch 5/100\n",
            "100/100 [==============================] - 19s 195ms/step - loss: 0.2721 - acc: 0.8875 - val_loss: 0.2263 - val_acc: 0.9100\n",
            "Epoch 6/100\n",
            "100/100 [==============================] - 19s 188ms/step - loss: 0.2599 - acc: 0.8980 - val_loss: 0.3336 - val_acc: 0.8800\n",
            "Epoch 7/100\n",
            "100/100 [==============================] - 19s 187ms/step - loss: 0.2551 - acc: 0.8930 - val_loss: 0.1927 - val_acc: 0.9270\n",
            "Epoch 8/100\n",
            "100/100 [==============================] - 19s 187ms/step - loss: 0.2221 - acc: 0.9035 - val_loss: 0.3263 - val_acc: 0.8870\n",
            "Epoch 9/100\n",
            "100/100 [==============================] - 19s 189ms/step - loss: 0.2241 - acc: 0.9020 - val_loss: 0.1759 - val_acc: 0.9280\n",
            "Epoch 10/100\n",
            "100/100 [==============================] - 20s 196ms/step - loss: 0.2149 - acc: 0.9090 - val_loss: 0.3455 - val_acc: 0.8800\n",
            "Epoch 11/100\n",
            "100/100 [==============================] - 19s 188ms/step - loss: 0.1989 - acc: 0.9175 - val_loss: 0.1581 - val_acc: 0.9290\n",
            "Epoch 12/100\n",
            "100/100 [==============================] - 19s 189ms/step - loss: 0.1913 - acc: 0.9225 - val_loss: 0.2614 - val_acc: 0.9060\n",
            "Epoch 13/100\n",
            "100/100 [==============================] - 19s 189ms/step - loss: 0.1888 - acc: 0.9215 - val_loss: 0.1765 - val_acc: 0.9300\n",
            "Epoch 14/100\n",
            "100/100 [==============================] - 21s 207ms/step - loss: 0.1856 - acc: 0.9245 - val_loss: 0.1748 - val_acc: 0.9280\n",
            "Epoch 15/100\n",
            "100/100 [==============================] - 20s 202ms/step - loss: 0.1636 - acc: 0.9335 - val_loss: 0.1804 - val_acc: 0.9260\n",
            "Epoch 16/100\n",
            "100/100 [==============================] - 19s 188ms/step - loss: 0.1601 - acc: 0.9430 - val_loss: 0.2807 - val_acc: 0.9090\n",
            "Epoch 17/100\n",
            "100/100 [==============================] - 19s 188ms/step - loss: 0.1537 - acc: 0.9390 - val_loss: 0.1953 - val_acc: 0.9320\n",
            "Epoch 18/100\n",
            "100/100 [==============================] - 20s 201ms/step - loss: 0.1323 - acc: 0.9490 - val_loss: 0.1325 - val_acc: 0.9520\n",
            "Epoch 19/100\n",
            "100/100 [==============================] - 19s 189ms/step - loss: 0.1463 - acc: 0.9390 - val_loss: 0.1679 - val_acc: 0.9340\n",
            "Epoch 20/100\n",
            "100/100 [==============================] - 19s 189ms/step - loss: 0.1272 - acc: 0.9490 - val_loss: 0.1464 - val_acc: 0.9480\n",
            "Epoch 21/100\n",
            "100/100 [==============================] - 19s 189ms/step - loss: 0.1299 - acc: 0.9460 - val_loss: 0.1891 - val_acc: 0.9360\n",
            "Epoch 22/100\n",
            "100/100 [==============================] - 20s 202ms/step - loss: 0.1290 - acc: 0.9475 - val_loss: 0.1469 - val_acc: 0.9530\n",
            "Epoch 23/100\n",
            "100/100 [==============================] - 19s 189ms/step - loss: 0.1270 - acc: 0.9460 - val_loss: 0.2339 - val_acc: 0.9240\n",
            "Epoch 24/100\n",
            "100/100 [==============================] - 19s 189ms/step - loss: 0.1264 - acc: 0.9495 - val_loss: 0.1736 - val_acc: 0.9460\n",
            "Epoch 25/100\n",
            "100/100 [==============================] - 19s 189ms/step - loss: 0.1139 - acc: 0.9530 - val_loss: 0.1662 - val_acc: 0.9510\n",
            "Epoch 26/100\n",
            "100/100 [==============================] - 20s 198ms/step - loss: 0.0979 - acc: 0.9620 - val_loss: 0.1530 - val_acc: 0.9450\n",
            "Epoch 27/100\n",
            "100/100 [==============================] - 19s 189ms/step - loss: 0.1165 - acc: 0.9505 - val_loss: 0.1501 - val_acc: 0.9580\n",
            "Epoch 28/100\n",
            "100/100 [==============================] - 19s 190ms/step - loss: 0.0942 - acc: 0.9680 - val_loss: 0.1931 - val_acc: 0.9410\n",
            "Epoch 29/100\n",
            "100/100 [==============================] - 19s 189ms/step - loss: 0.0893 - acc: 0.9660 - val_loss: 0.1817 - val_acc: 0.9460\n",
            "Epoch 30/100\n",
            "100/100 [==============================] - 20s 200ms/step - loss: 0.0913 - acc: 0.9635 - val_loss: 0.1637 - val_acc: 0.9430\n",
            "Epoch 31/100\n",
            "100/100 [==============================] - 21s 207ms/step - loss: 0.0822 - acc: 0.9665 - val_loss: 0.1840 - val_acc: 0.9380\n",
            "Epoch 32/100\n",
            "100/100 [==============================] - 19s 188ms/step - loss: 0.0903 - acc: 0.9630 - val_loss: 0.1672 - val_acc: 0.9440\n",
            "Epoch 33/100\n",
            "100/100 [==============================] - 19s 188ms/step - loss: 0.0732 - acc: 0.9715 - val_loss: 0.1637 - val_acc: 0.9450\n",
            "Epoch 34/100\n",
            "100/100 [==============================] - 19s 190ms/step - loss: 0.0859 - acc: 0.9725 - val_loss: 0.2121 - val_acc: 0.9380\n",
            "Epoch 35/100\n",
            "100/100 [==============================] - 20s 196ms/step - loss: 0.0767 - acc: 0.9730 - val_loss: 0.2122 - val_acc: 0.9450\n",
            "Epoch 36/100\n",
            "100/100 [==============================] - 19s 189ms/step - loss: 0.0931 - acc: 0.9665 - val_loss: 0.1480 - val_acc: 0.9550\n",
            "Epoch 37/100\n",
            "100/100 [==============================] - 19s 189ms/step - loss: 0.0649 - acc: 0.9765 - val_loss: 0.1899 - val_acc: 0.9490\n",
            "Epoch 38/100\n",
            "100/100 [==============================] - 19s 189ms/step - loss: 0.0703 - acc: 0.9715 - val_loss: 0.2158 - val_acc: 0.9340\n",
            "Epoch 39/100\n",
            "100/100 [==============================] - 20s 200ms/step - loss: 0.0718 - acc: 0.9740 - val_loss: 0.1732 - val_acc: 0.9500\n",
            "Epoch 40/100\n",
            "100/100 [==============================] - 19s 189ms/step - loss: 0.0724 - acc: 0.9720 - val_loss: 0.3825 - val_acc: 0.9190\n",
            "Epoch 41/100\n",
            "100/100 [==============================] - 19s 189ms/step - loss: 0.0704 - acc: 0.9730 - val_loss: 0.1680 - val_acc: 0.9560\n",
            "Epoch 42/100\n",
            "100/100 [==============================] - 19s 190ms/step - loss: 0.0535 - acc: 0.9790 - val_loss: 0.1990 - val_acc: 0.9530\n",
            "Epoch 43/100\n",
            "100/100 [==============================] - 20s 202ms/step - loss: 0.0673 - acc: 0.9735 - val_loss: 0.2646 - val_acc: 0.9400\n",
            "Epoch 44/100\n",
            "100/100 [==============================] - 19s 189ms/step - loss: 0.0533 - acc: 0.9790 - val_loss: 0.3011 - val_acc: 0.9310\n",
            "Epoch 45/100\n",
            "100/100 [==============================] - 19s 190ms/step - loss: 0.0596 - acc: 0.9750 - val_loss: 0.2917 - val_acc: 0.9290\n",
            "Epoch 46/100\n",
            "100/100 [==============================] - 20s 196ms/step - loss: 0.0492 - acc: 0.9820 - val_loss: 0.2412 - val_acc: 0.9490\n",
            "Epoch 47/100\n",
            "100/100 [==============================] - 21s 205ms/step - loss: 0.0691 - acc: 0.9715 - val_loss: 0.2181 - val_acc: 0.9410\n",
            "Epoch 48/100\n",
            "100/100 [==============================] - 19s 189ms/step - loss: 0.0526 - acc: 0.9815 - val_loss: 0.2213 - val_acc: 0.9470\n",
            "Epoch 49/100\n",
            "100/100 [==============================] - 19s 189ms/step - loss: 0.0559 - acc: 0.9820 - val_loss: 0.3139 - val_acc: 0.9270\n",
            "Epoch 50/100\n",
            "100/100 [==============================] - 19s 190ms/step - loss: 0.0586 - acc: 0.9760 - val_loss: 0.3122 - val_acc: 0.9270\n",
            "Epoch 51/100\n",
            "100/100 [==============================] - 20s 199ms/step - loss: 0.0565 - acc: 0.9775 - val_loss: 0.2065 - val_acc: 0.9430\n",
            "Epoch 52/100\n",
            "100/100 [==============================] - 19s 191ms/step - loss: 0.0493 - acc: 0.9825 - val_loss: 0.2079 - val_acc: 0.9540\n",
            "Epoch 53/100\n",
            "100/100 [==============================] - 19s 189ms/step - loss: 0.0446 - acc: 0.9850 - val_loss: 0.3005 - val_acc: 0.9350\n",
            "Epoch 54/100\n",
            "100/100 [==============================] - 19s 190ms/step - loss: 0.0423 - acc: 0.9830 - val_loss: 0.3285 - val_acc: 0.9350\n",
            "Epoch 55/100\n",
            "100/100 [==============================] - 19s 194ms/step - loss: 0.0514 - acc: 0.9820 - val_loss: 0.1927 - val_acc: 0.9530\n",
            "Epoch 56/100\n",
            "100/100 [==============================] - 19s 194ms/step - loss: 0.0438 - acc: 0.9835 - val_loss: 0.2207 - val_acc: 0.9570\n",
            "Epoch 57/100\n",
            "100/100 [==============================] - 19s 190ms/step - loss: 0.0440 - acc: 0.9845 - val_loss: 0.3146 - val_acc: 0.9350\n",
            "Epoch 58/100\n",
            "100/100 [==============================] - 19s 190ms/step - loss: 0.0496 - acc: 0.9820 - val_loss: 0.2909 - val_acc: 0.9410\n",
            "Epoch 59/100\n",
            "100/100 [==============================] - 19s 189ms/step - loss: 0.0435 - acc: 0.9830 - val_loss: 0.3285 - val_acc: 0.9360\n",
            "Epoch 60/100\n",
            "100/100 [==============================] - 20s 198ms/step - loss: 0.0396 - acc: 0.9855 - val_loss: 0.5464 - val_acc: 0.9060\n",
            "Epoch 61/100\n",
            "100/100 [==============================] - 19s 189ms/step - loss: 0.0395 - acc: 0.9850 - val_loss: 0.2218 - val_acc: 0.9540\n",
            "Epoch 62/100\n",
            "100/100 [==============================] - 20s 196ms/step - loss: 0.0387 - acc: 0.9885 - val_loss: 0.2613 - val_acc: 0.9560\n",
            "Epoch 63/100\n",
            "100/100 [==============================] - 20s 203ms/step - loss: 0.0368 - acc: 0.9875 - val_loss: 0.3405 - val_acc: 0.9330\n",
            "Epoch 64/100\n",
            "100/100 [==============================] - 20s 200ms/step - loss: 0.0497 - acc: 0.9850 - val_loss: 0.4764 - val_acc: 0.9080\n",
            "Epoch 65/100\n",
            "100/100 [==============================] - 19s 189ms/step - loss: 0.0496 - acc: 0.9825 - val_loss: 0.4098 - val_acc: 0.9270\n",
            "Epoch 66/100\n",
            "100/100 [==============================] - 19s 190ms/step - loss: 0.0407 - acc: 0.9840 - val_loss: 0.2522 - val_acc: 0.9490\n",
            "Epoch 67/100\n",
            "100/100 [==============================] - 19s 191ms/step - loss: 0.0311 - acc: 0.9885 - val_loss: 0.2682 - val_acc: 0.9450\n",
            "Epoch 68/100\n",
            "100/100 [==============================] - 20s 203ms/step - loss: 0.0430 - acc: 0.9895 - val_loss: 0.2583 - val_acc: 0.9470\n",
            "Epoch 69/100\n",
            "100/100 [==============================] - 19s 191ms/step - loss: 0.0359 - acc: 0.9870 - val_loss: 0.5500 - val_acc: 0.9120\n",
            "Epoch 70/100\n",
            "100/100 [==============================] - 19s 191ms/step - loss: 0.0311 - acc: 0.9895 - val_loss: 0.3672 - val_acc: 0.9280\n",
            "Epoch 71/100\n",
            "100/100 [==============================] - 19s 190ms/step - loss: 0.0350 - acc: 0.9880 - val_loss: 0.2985 - val_acc: 0.9530\n",
            "Epoch 72/100\n",
            "100/100 [==============================] - 20s 202ms/step - loss: 0.0370 - acc: 0.9875 - val_loss: 0.2990 - val_acc: 0.9530\n",
            "Epoch 73/100\n",
            "100/100 [==============================] - 19s 190ms/step - loss: 0.0319 - acc: 0.9885 - val_loss: 0.3543 - val_acc: 0.9440\n",
            "Epoch 74/100\n",
            "100/100 [==============================] - 19s 189ms/step - loss: 0.0313 - acc: 0.9880 - val_loss: 0.6037 - val_acc: 0.9100\n",
            "Epoch 75/100\n",
            "100/100 [==============================] - 19s 190ms/step - loss: 0.0369 - acc: 0.9885 - val_loss: 0.2974 - val_acc: 0.9360\n",
            "Epoch 76/100\n",
            "100/100 [==============================] - 20s 199ms/step - loss: 0.0296 - acc: 0.9885 - val_loss: 0.2899 - val_acc: 0.9410\n",
            "Epoch 77/100\n",
            "100/100 [==============================] - 19s 190ms/step - loss: 0.0371 - acc: 0.9895 - val_loss: 0.3317 - val_acc: 0.9380\n",
            "Epoch 78/100\n",
            "100/100 [==============================] - 19s 192ms/step - loss: 0.0384 - acc: 0.9860 - val_loss: 0.2625 - val_acc: 0.9500\n",
            "Epoch 79/100\n",
            "100/100 [==============================] - 20s 203ms/step - loss: 0.0275 - acc: 0.9915 - val_loss: 0.4635 - val_acc: 0.9230\n",
            "Epoch 80/100\n",
            "100/100 [==============================] - 20s 198ms/step - loss: 0.0252 - acc: 0.9890 - val_loss: 0.2250 - val_acc: 0.9560\n",
            "Epoch 81/100\n",
            "100/100 [==============================] - 19s 192ms/step - loss: 0.0345 - acc: 0.9895 - val_loss: 0.2378 - val_acc: 0.9560\n",
            "Epoch 82/100\n",
            "100/100 [==============================] - 19s 190ms/step - loss: 0.0275 - acc: 0.9910 - val_loss: 0.3530 - val_acc: 0.9460\n",
            "Epoch 83/100\n",
            "100/100 [==============================] - 19s 191ms/step - loss: 0.0292 - acc: 0.9895 - val_loss: 0.5096 - val_acc: 0.9300\n",
            "Epoch 84/100\n",
            "100/100 [==============================] - 19s 193ms/step - loss: 0.0292 - acc: 0.9915 - val_loss: 0.3280 - val_acc: 0.9430\n",
            "Epoch 85/100\n",
            "100/100 [==============================] - 20s 196ms/step - loss: 0.0383 - acc: 0.9865 - val_loss: 0.6059 - val_acc: 0.9100\n",
            "Epoch 86/100\n",
            "100/100 [==============================] - 19s 190ms/step - loss: 0.0183 - acc: 0.9920 - val_loss: 0.5134 - val_acc: 0.9200\n",
            "Epoch 87/100\n",
            "100/100 [==============================] - 19s 190ms/step - loss: 0.0362 - acc: 0.9885 - val_loss: 0.3501 - val_acc: 0.9390\n",
            "Epoch 88/100\n",
            "100/100 [==============================] - 19s 190ms/step - loss: 0.0355 - acc: 0.9890 - val_loss: 0.3203 - val_acc: 0.9480\n",
            "Epoch 89/100\n",
            "100/100 [==============================] - 20s 200ms/step - loss: 0.0323 - acc: 0.9895 - val_loss: 0.2502 - val_acc: 0.9470\n",
            "Epoch 90/100\n",
            "100/100 [==============================] - 19s 190ms/step - loss: 0.0282 - acc: 0.9915 - val_loss: 0.2702 - val_acc: 0.9400\n",
            "Epoch 91/100\n",
            "100/100 [==============================] - 19s 190ms/step - loss: 0.0327 - acc: 0.9885 - val_loss: 0.2991 - val_acc: 0.9460\n",
            "Epoch 92/100\n",
            "100/100 [==============================] - 19s 190ms/step - loss: 0.0334 - acc: 0.9885 - val_loss: 0.2901 - val_acc: 0.9410\n",
            "Epoch 93/100\n",
            "100/100 [==============================] - 21s 209ms/step - loss: 0.0246 - acc: 0.9905 - val_loss: 0.3711 - val_acc: 0.9400\n",
            "Epoch 94/100\n",
            "100/100 [==============================] - 19s 189ms/step - loss: 0.0267 - acc: 0.9900 - val_loss: 0.3611 - val_acc: 0.9350\n",
            "Epoch 95/100\n",
            "100/100 [==============================] - 20s 201ms/step - loss: 0.0273 - acc: 0.9920 - val_loss: 0.3414 - val_acc: 0.9450\n",
            "Epoch 96/100\n",
            "100/100 [==============================] - 19s 190ms/step - loss: 0.0192 - acc: 0.9945 - val_loss: 0.4701 - val_acc: 0.9360\n",
            "Epoch 97/100\n",
            "100/100 [==============================] - 20s 202ms/step - loss: 0.0389 - acc: 0.9880 - val_loss: 0.3293 - val_acc: 0.9460\n",
            "Epoch 98/100\n",
            "100/100 [==============================] - 19s 189ms/step - loss: 0.0288 - acc: 0.9885 - val_loss: 0.3483 - val_acc: 0.9400\n",
            "Epoch 99/100\n",
            "100/100 [==============================] - 19s 190ms/step - loss: 0.0229 - acc: 0.9925 - val_loss: 0.3432 - val_acc: 0.9450\n",
            "Epoch 100/100\n",
            "100/100 [==============================] - 19s 190ms/step - loss: 0.0224 - acc: 0.9905 - val_loss: 0.7614 - val_acc: 0.8930\n"
          ],
          "name": "stdout"
        }
      ]
    },
    {
      "metadata": {
        "id": "F4LVNcWto4yb",
        "colab_type": "code",
        "colab": {}
      },
      "cell_type": "code",
      "source": [
        "import cv2\n",
        "from google.colab.patches import cv2_imshow\n",
        "%matplotlib inline\n",
        "from matplotlib import pyplot as plt\n",
        "import numpy as np\n",
        "from keras import backend as K"
      ],
      "execution_count": 0,
      "outputs": []
    },
    {
      "metadata": {
        "id": "dBT4npSsW3xr",
        "colab_type": "code",
        "colab": {}
      },
      "cell_type": "code",
      "source": [
        "\n",
        "def show_superimposed_image(img_path, heatmap):\n",
        "\n",
        "  img = cv2.imread(img_path)\n",
        "  # resize the heatmap to be the same size as the original image\n",
        "  heatmap = cv2.resize(heatmap, (img.shape[1], img.shape[0]))\n",
        "\n",
        "  heatmap = np.uint8(255 * heatmap)\n",
        "\n",
        "  heatmap = cv2.applyColorMap(heatmap, cv2.COLORMAP_JET)\n",
        "\n",
        "  superimposed_img = heatmap * 0.4 + img\n",
        "\n",
        "  cv2_imshow(superimposed_img)"
      ],
      "execution_count": 0,
      "outputs": []
    },
    {
      "metadata": {
        "id": "B4q1bqKsyQyg",
        "colab_type": "code",
        "colab": {}
      },
      "cell_type": "code",
      "source": [
        "def process_image(img_path, idx=0):\n",
        "  img = image.load_img(img_path, target_size=(150, 150))\n",
        "  #\n",
        "  plt.imshow(img)\n",
        "  plt.grid(None)\n",
        "  plt.show()\n",
        "  #\n",
        "  x = image.img_to_array(img)\n",
        "  x = np.expand_dims(x, axis=0)\n",
        "  x = preprocess_input(x)\n",
        "  #\n",
        "  preds = model.predict(x)\n",
        "  print('Predicted:', decode_predictions(preds, top=3)[0])\n",
        "  #\n",
        "  #class_index = np.argmax(preds[0])\n",
        "  class_index = np.argsort(preds[0])[-(1+idx)]\n",
        "  class_output = model.output[:, class_index]\n",
        "  grads = K.gradients(class_output, last_conv_layer.output)[0]\n",
        "  pooled_grads = K.mean(grads, axis=(0, 1, 2))\n",
        "  iterate = K.function([model.input], [pooled_grads, last_conv_layer.output[0]])\n",
        "  pooled_grads_value, conv_layer_output_value = iterate([x])\n",
        "\n",
        "  for i in range(512):\n",
        "    conv_layer_output_value[:, :, i] *= pooled_grads_value[i]\n",
        "\n",
        "  heatmap = np.mean(conv_layer_output_value, axis=-1)\n",
        "  \n",
        "  heatmap = np.maximum(heatmap, 0)\n",
        "  heatmap /= np.max(heatmap)\n",
        "\n",
        "  plt.matshow(heatmap)\n",
        "  plt.grid(None)\n",
        "  plt.show()\n",
        "  #\n",
        "  show_superimposed_image(img_path, heatmap)"
      ],
      "execution_count": 0,
      "outputs": []
    },
    {
      "metadata": {
        "id": "gl-f0pfmJui0",
        "colab_type": "code",
        "colab": {}
      },
      "cell_type": "code",
      "source": [
        "validation_cats_dir\n",
        "img_path1 = os.path.join(validation_cats_dir,'cat1.jpg')"
      ],
      "execution_count": 0,
      "outputs": []
    },
    {
      "metadata": {
        "id": "ZQ7byYUgJyis",
        "colab_type": "code",
        "colab": {
          "base_uri": "https://localhost:8080/",
          "height": 34
        },
        "outputId": "113aeb0f-367c-455e-d889-7303e690d7a5"
      },
      "cell_type": "code",
      "source": [
        "img_path1"
      ],
      "execution_count": 89,
      "outputs": [
        {
          "output_type": "execute_result",
          "data": {
            "text/plain": [
              "'/tmp/cats_and_dogs_filtered/validation/cats/cat1.jpg'"
            ]
          },
          "metadata": {
            "tags": []
          },
          "execution_count": 89
        }
      ]
    },
    {
      "metadata": {
        "id": "ND4H5OG5KgpH",
        "colab_type": "code",
        "colab": {}
      },
      "cell_type": "code",
      "source": [
        "pic = cv2.imread(img_path1)"
      ],
      "execution_count": 0,
      "outputs": []
    },
    {
      "metadata": {
        "id": "Df34V6j4IUaw",
        "colab_type": "code",
        "colab": {}
      },
      "cell_type": "code",
      "source": [
        "from keras.preprocessing import image\n",
        "from keras.applications.vgg19 import preprocess_input, decode_predictions\n",
        "img_path1 = os.path.join(validation_cats_dir,'cat.2200.jpg')\n",
        "# img_path2 = 'tank2.jpg'\n",
        "# img_path3 = 'tank3.jpg'\n",
        "# img_path4 = 'tank4.jpg'\n",
        "# img_path5 = 'tank5.png'\n",
        "# img_path6 = 'elephant.jpg'"
      ],
      "execution_count": 0,
      "outputs": []
    },
    {
      "metadata": {
        "id": "WnPLOYfzXf1t",
        "colab_type": "code",
        "outputId": "b497a1d1-baf2-4076-fb3d-4c519a18a9e1",
        "colab": {
          "base_uri": "https://localhost:8080/",
          "height": 891
        }
      },
      "cell_type": "code",
      "source": [
        "process_image(img_path1)"
      ],
      "execution_count": 92,
      "outputs": [
        {
          "output_type": "display_data",
          "data": {
            "image/png": "[encoded data removed]",
            "text/plain": [
              "<Figure size 432x288 with 1 Axes>"
            ]
          },
          "metadata": {
            "tags": []
          }
        },
        {
          "output_type": "error",
          "ename": "ValueError",
          "evalue": "ignored",
          "traceback": [
            "\u001b[0;31m---------------------------------------------------------------------------\u001b[0m",
            "\u001b[0;31mValueError\u001b[0m                                Traceback (most recent call last)",
            "\u001b[0;32m<ipython-input-92-1635d2728e82>\u001b[0m in \u001b[0;36m<module>\u001b[0;34m()\u001b[0m\n\u001b[0;32m----> 1\u001b[0;31m \u001b[0mprocess_image\u001b[0m\u001b[0;34m(\u001b[0m\u001b[0mimg_path1\u001b[0m\u001b[0;34m)\u001b[0m\u001b[0;34m\u001b[0m\u001b[0;34m\u001b[0m\u001b[0m\n\u001b[0m",
            "\u001b[0;32m<ipython-input-87-ded4c1645585>\u001b[0m in \u001b[0;36mprocess_image\u001b[0;34m(img_path, idx)\u001b[0m\n\u001b[1;32m     11\u001b[0m   \u001b[0;31m#\u001b[0m\u001b[0;34m\u001b[0m\u001b[0;34m\u001b[0m\u001b[0;34m\u001b[0m\u001b[0m\n\u001b[1;32m     12\u001b[0m   \u001b[0mpreds\u001b[0m \u001b[0;34m=\u001b[0m \u001b[0mmodel\u001b[0m\u001b[0;34m.\u001b[0m\u001b[0mpredict\u001b[0m\u001b[0;34m(\u001b[0m\u001b[0mx\u001b[0m\u001b[0;34m)\u001b[0m\u001b[0;34m\u001b[0m\u001b[0;34m\u001b[0m\u001b[0m\n\u001b[0;32m---> 13\u001b[0;31m   \u001b[0mprint\u001b[0m\u001b[0;34m(\u001b[0m\u001b[0;34m'Predicted:'\u001b[0m\u001b[0;34m,\u001b[0m \u001b[0mdecode_predictions\u001b[0m\u001b[0;34m(\u001b[0m\u001b[0mpreds\u001b[0m\u001b[0;34m,\u001b[0m \u001b[0mtop\u001b[0m\u001b[0;34m=\u001b[0m\u001b[0;36m3\u001b[0m\u001b[0;34m)\u001b[0m\u001b[0;34m[\u001b[0m\u001b[0;36m0\u001b[0m\u001b[0;34m]\u001b[0m\u001b[0;34m)\u001b[0m\u001b[0;34m\u001b[0m\u001b[0;34m\u001b[0m\u001b[0m\n\u001b[0m\u001b[1;32m     14\u001b[0m   \u001b[0;31m#\u001b[0m\u001b[0;34m\u001b[0m\u001b[0;34m\u001b[0m\u001b[0;34m\u001b[0m\u001b[0m\n\u001b[1;32m     15\u001b[0m   \u001b[0;31m#class_index = np.argmax(preds[0])\u001b[0m\u001b[0;34m\u001b[0m\u001b[0;34m\u001b[0m\u001b[0;34m\u001b[0m\u001b[0m\n",
            "\u001b[0;32m/usr/local/lib/python3.6/dist-packages/keras/applications/__init__.py\u001b[0m in \u001b[0;36mwrapper\u001b[0;34m(*args, **kwargs)\u001b[0m\n\u001b[1;32m     26\u001b[0m             \u001b[0mkwargs\u001b[0m\u001b[0;34m[\u001b[0m\u001b[0;34m'models'\u001b[0m\u001b[0;34m]\u001b[0m \u001b[0;34m=\u001b[0m \u001b[0mmodels\u001b[0m\u001b[0;34m\u001b[0m\u001b[0;34m\u001b[0m\u001b[0m\n\u001b[1;32m     27\u001b[0m             \u001b[0mkwargs\u001b[0m\u001b[0;34m[\u001b[0m\u001b[0;34m'utils'\u001b[0m\u001b[0;34m]\u001b[0m \u001b[0;34m=\u001b[0m \u001b[0mutils\u001b[0m\u001b[0;34m\u001b[0m\u001b[0;34m\u001b[0m\u001b[0m\n\u001b[0;32m---> 28\u001b[0;31m         \u001b[0;32mreturn\u001b[0m \u001b[0mbase_fun\u001b[0m\u001b[0;34m(\u001b[0m\u001b[0;34m*\u001b[0m\u001b[0margs\u001b[0m\u001b[0;34m,\u001b[0m \u001b[0;34m**\u001b[0m\u001b[0mkwargs\u001b[0m\u001b[0;34m)\u001b[0m\u001b[0;34m\u001b[0m\u001b[0;34m\u001b[0m\u001b[0m\n\u001b[0m\u001b[1;32m     29\u001b[0m \u001b[0;34m\u001b[0m\u001b[0m\n\u001b[1;32m     30\u001b[0m     \u001b[0;32mreturn\u001b[0m \u001b[0mwrapper\u001b[0m\u001b[0;34m\u001b[0m\u001b[0;34m\u001b[0m\u001b[0m\n",
            "\u001b[0;32m/usr/local/lib/python3.6/dist-packages/keras/applications/vgg19.py\u001b[0m in \u001b[0;36mdecode_predictions\u001b[0;34m(*args, **kwargs)\u001b[0m\n\u001b[1;32m     14\u001b[0m \u001b[0;34m@\u001b[0m\u001b[0mkeras_modules_injection\u001b[0m\u001b[0;34m\u001b[0m\u001b[0;34m\u001b[0m\u001b[0m\n\u001b[1;32m     15\u001b[0m \u001b[0;32mdef\u001b[0m \u001b[0mdecode_predictions\u001b[0m\u001b[0;34m(\u001b[0m\u001b[0;34m*\u001b[0m\u001b[0margs\u001b[0m\u001b[0;34m,\u001b[0m \u001b[0;34m**\u001b[0m\u001b[0mkwargs\u001b[0m\u001b[0;34m)\u001b[0m\u001b[0;34m:\u001b[0m\u001b[0;34m\u001b[0m\u001b[0;34m\u001b[0m\u001b[0m\n\u001b[0;32m---> 16\u001b[0;31m     \u001b[0;32mreturn\u001b[0m \u001b[0mvgg19\u001b[0m\u001b[0;34m.\u001b[0m\u001b[0mdecode_predictions\u001b[0m\u001b[0;34m(\u001b[0m\u001b[0;34m*\u001b[0m\u001b[0margs\u001b[0m\u001b[0;34m,\u001b[0m \u001b[0;34m**\u001b[0m\u001b[0mkwargs\u001b[0m\u001b[0;34m)\u001b[0m\u001b[0;34m\u001b[0m\u001b[0;34m\u001b[0m\u001b[0m\n\u001b[0m\u001b[1;32m     17\u001b[0m \u001b[0;34m\u001b[0m\u001b[0m\n\u001b[1;32m     18\u001b[0m \u001b[0;34m\u001b[0m\u001b[0m\n",
            "\u001b[0;32m/usr/local/lib/python3.6/dist-packages/keras_applications/imagenet_utils.py\u001b[0m in \u001b[0;36mdecode_predictions\u001b[0;34m(preds, top, **kwargs)\u001b[0m\n\u001b[1;32m    220\u001b[0m                          \u001b[0;34m'a batch of predictions '\u001b[0m\u001b[0;34m\u001b[0m\u001b[0;34m\u001b[0m\u001b[0m\n\u001b[1;32m    221\u001b[0m                          \u001b[0;34m'(i.e. a 2D array of shape (samples, 1000)). '\u001b[0m\u001b[0;34m\u001b[0m\u001b[0;34m\u001b[0m\u001b[0m\n\u001b[0;32m--> 222\u001b[0;31m                          'Found array with shape: ' + str(preds.shape))\n\u001b[0m\u001b[1;32m    223\u001b[0m     \u001b[0;32mif\u001b[0m \u001b[0mCLASS_INDEX\u001b[0m \u001b[0;32mis\u001b[0m \u001b[0;32mNone\u001b[0m\u001b[0;34m:\u001b[0m\u001b[0;34m\u001b[0m\u001b[0;34m\u001b[0m\u001b[0m\n\u001b[1;32m    224\u001b[0m         fpath = keras_utils.get_file(\n",
            "\u001b[0;31mValueError\u001b[0m: `decode_predictions` expects a batch of predictions (i.e. a 2D array of shape (samples, 1000)). Found array with shape: (1, 1)"
          ]
        }
      ]
    },
    {
      "metadata": {
        "id": "dON-UFdhA0SJ",
        "colab_type": "code",
        "colab": {}
      },
      "cell_type": "code",
      "source": [
        "process_image(img_path2)"
      ],
      "execution_count": 0,
      "outputs": []
    },
    {
      "metadata": {
        "id": "KsHu6bLtBPhp",
        "colab_type": "code",
        "colab": {}
      },
      "cell_type": "code",
      "source": [
        "process_image(img_path3, idx=1)"
      ],
      "execution_count": 0,
      "outputs": []
    },
    {
      "metadata": {
        "id": "GVDES77EBbwp",
        "colab_type": "code",
        "colab": {}
      },
      "cell_type": "code",
      "source": [
        "process_image(img_path4)"
      ],
      "execution_count": 0,
      "outputs": []
    },
    {
      "metadata": {
        "id": "aB1cSfMORxFS",
        "colab_type": "code",
        "colab": {}
      },
      "cell_type": "code",
      "source": [
        "process_image(img_path5)"
      ],
      "execution_count": 0,
      "outputs": []
    },
    {
      "metadata": {
        "id": "__cLdyLXS4sr",
        "colab_type": "code",
        "colab": {}
      },
      "cell_type": "code",
      "source": [
        "process_image(img_path6)"
      ],
      "execution_count": 0,
      "outputs": []
    }
  ]
}