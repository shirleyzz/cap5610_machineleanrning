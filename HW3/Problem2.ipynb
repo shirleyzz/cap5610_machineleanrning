{
  "nbformat": 4,
  "nbformat_minor": 0,
  "metadata": {
    "colab": {
      "name": "Problem2.ipynb",
      "version": "0.3.2",
      "provenance": [],
      "collapsed_sections": [],
      "include_colab_link": true
    },
    "kernelspec": {
      "name": "python3",
      "display_name": "Python 3"
    },
    "accelerator": "GPU"
  },
  "cells": [
    {
      "cell_type": "markdown",
      "metadata": {
        "id": "view-in-github",
        "colab_type": "text"
      },
      "source": [
        "<a href=\"https://colab.research.google.com/github/shirleyzz/cap5610_machineleanrning/blob/master/HW3/Problem2.ipynb\" target=\"_parent\"><img src=\"https://colab.research.google.com/assets/colab-badge.svg\" alt=\"Open In Colab\"/></a>"
      ]
    },
    {
      "metadata": {
        "id": "t3I1jd7cKV6_",
        "colab_type": "text"
      },
      "cell_type": "markdown",
      "source": [
        "Download the example data, a zip. of 2,000 JPG pictures of cats and dogs and extract it locally in ```/tmp```.\n",
        "\n"
      ]
    },
    {
      "metadata": {
        "id": "JWjprHEXJ5Qi",
        "colab_type": "code",
        "outputId": "da432e4c-c51c-415e-971a-d1fa5a01b8c5",
        "colab": {
          "base_uri": "https://localhost:8080/",
          "height": 208
        }
      },
      "cell_type": "code",
      "source": [
        "!wget --no-check-certificate \\\n",
        "    https://storage.googleapis.com/mledu-datasets/cats_and_dogs_filtered.zip \\\n",
        "    -O /tmp/cats_and_dogs_filtered.zip"
      ],
      "execution_count": 9,
      "outputs": [
        {
          "output_type": "stream",
          "text": [
            "--2019-04-14 19:06:54--  https://storage.googleapis.com/mledu-datasets/cats_and_dogs_filtered.zip\n",
            "Resolving storage.googleapis.com (storage.googleapis.com)... 64.233.166.128, 2a00:1450:400c:c08::80\n",
            "Connecting to storage.googleapis.com (storage.googleapis.com)|64.233.166.128|:443... connected.\n",
            "HTTP request sent, awaiting response... 200 OK\n",
            "Length: 68606236 (65M) [application/zip]\n",
            "Saving to: ‘/tmp/cats_and_dogs_filtered.zip’\n",
            "\n",
            "/tmp/cats_and_dogs_ 100%[===================>]  65.43M   139MB/s    in 0.5s    \n",
            "\n",
            "2019-04-14 19:06:54 (139 MB/s) - ‘/tmp/cats_and_dogs_filtered.zip’ saved [68606236/68606236]\n",
            "\n"
          ],
          "name": "stdout"
        }
      ]
    },
    {
      "metadata": {
        "id": "WvoHtdA-K6Rw",
        "colab_type": "code",
        "colab": {}
      },
      "cell_type": "code",
      "source": [
        "import os\n",
        "import zipfile\n",
        "\n",
        "local_zip = '/tmp/cats_and_dogs_filtered.zip'\n",
        "zip_ref = zipfile.ZipFile(local_zip, 'r')\n",
        "zip_ref.extractall('/tmp')\n",
        "zip_ref.close()"
      ],
      "execution_count": 0,
      "outputs": []
    },
    {
      "metadata": {
        "id": "dL8ikM89LlsH",
        "colab_type": "code",
        "colab": {}
      },
      "cell_type": "code",
      "source": [
        "base_dir = '/tmp/cats_and_dogs_filtered'\n",
        "train_dir = os.path.join(base_dir, 'train')\n",
        "validation_dir = os.path.join(base_dir, 'validation')\n",
        "\n",
        "# Directory with our training cat pictures\n",
        "train_cats_dir = os.path.join(train_dir, 'cats')\n",
        "\n",
        "# Directory with our training dog pictures\n",
        "train_dogs_dir = os.path.join(train_dir, 'dogs')\n",
        "\n",
        "# Directory with our validation cat pictures\n",
        "validation_cats_dir = os.path.join(validation_dir, 'cats')\n",
        "\n",
        "# Directory with our validation dog pictures\n",
        "validation_dogs_dir = os.path.join(validation_dir, 'dogs')"
      ],
      "execution_count": 0,
      "outputs": []
    },
    {
      "metadata": {
        "id": "inyP8bcdXnn-",
        "colab_type": "text"
      },
      "cell_type": "markdown",
      "source": [
        "## Build network with VGG16 convolution base and custom densely connected layers"
      ]
    },
    {
      "metadata": {
        "id": "kQ48W5T9rHWu",
        "colab_type": "text"
      },
      "cell_type": "markdown",
      "source": [
        "### Load the convolutional base"
      ]
    },
    {
      "metadata": {
        "id": "Y0FgtANCXm_H",
        "colab_type": "code",
        "colab": {}
      },
      "cell_type": "code",
      "source": [
        "from keras.applications import VGG19\n",
        "conv_base = VGG19(\n",
        "    weights='imagenet', \n",
        "    include_top=False, \n",
        "    input_shape=(150, 150, 3))"
      ],
      "execution_count": 0,
      "outputs": []
    },
    {
      "metadata": {
        "id": "D6OBHOO9q1ou",
        "colab_type": "text"
      },
      "cell_type": "markdown",
      "source": [
        "### Freeze the convolutional base"
      ]
    },
    {
      "metadata": {
        "id": "UleRo4Dpq6Ld",
        "colab_type": "code",
        "colab": {}
      },
      "cell_type": "code",
      "source": [
        "# conv_base.trainable = False"
      ],
      "execution_count": 0,
      "outputs": []
    },
    {
      "metadata": {
        "id": "Qfx6PqhPrb7Q",
        "colab_type": "text"
      },
      "cell_type": "markdown",
      "source": [
        "### Concatenate the convolutional base and densely connected layers"
      ]
    },
    {
      "metadata": {
        "id": "qUpmocDAO3xm",
        "colab_type": "code",
        "colab": {}
      },
      "cell_type": "code",
      "source": [
        "# from keras import layers\n",
        "# from keras import models\n",
        "# from keras import optimizers\n",
        "\n",
        "# model = models.Sequential()\n",
        "# model.add(conv_base)\n",
        "# model.add(layers.Flatten())\n",
        "# model.add(layers.Dense(256, activation='relu'))\n",
        "# #model.add(layers.Dropout(0.1))\n",
        "# model.add(layers.Dense(1, activation='sigmoid'))"
      ],
      "execution_count": 0,
      "outputs": []
    },
    {
      "metadata": {
        "id": "Fh6gZSeAjF7c",
        "colab_type": "code",
        "colab": {}
      },
      "cell_type": "code",
      "source": [
        "# model.summary()"
      ],
      "execution_count": 0,
      "outputs": []
    },
    {
      "metadata": {
        "id": "lOWsxpey8lN0",
        "colab_type": "text"
      },
      "cell_type": "markdown",
      "source": [
        "## Fine-tuning"
      ]
    },
    {
      "metadata": {
        "id": "PwkVMx8N8qMw",
        "colab_type": "code",
        "colab": {}
      },
      "cell_type": "code",
      "source": [
        "conv_base.trainable = True\n",
        "set_trainable = False\n",
        "for layer in conv_base.layers:\n",
        "  if layer.name == 'block5_conv1':\n",
        "    set_trainable = True\n",
        "  if set_trainable:\n",
        "    layer.trainable = True\n",
        "  else:\n",
        "    layer.trainable = False"
      ],
      "execution_count": 0,
      "outputs": []
    },
    {
      "metadata": {
        "id": "DyN-J7rs9cvo",
        "colab_type": "code",
        "colab": {
          "base_uri": "https://localhost:8080/",
          "height": 3490
        },
        "outputId": "c4c98bb1-5b36-410f-9055-b3138a77ceca"
      },
      "cell_type": "code",
      "source": [
        "# compile model\n",
        "\n",
        "model.compile(\n",
        "    loss='binary_crossentropy',\n",
        "    #\n",
        "    # choose a smaller learning rate\n",
        "    #\n",
        "    optimizer=optimizers.RMSprop(lr=1e-5), \n",
        "    metrics=['acc'])\n",
        "\n",
        "# train\n",
        "\n",
        "history = model.fit_generator(\n",
        "    train_generator,\n",
        "    steps_per_epoch=100,\n",
        "    epochs=100,\n",
        "    validation_data=validation_generator,\n",
        "    validation_steps=50)"
      ],
      "execution_count": 14,
      "outputs": [
        {
          "output_type": "stream",
          "text": [
            "Epoch 1/100\n",
            "100/100 [==============================] - 29s 292ms/step - loss: 0.5643 - acc: 0.7100 - val_loss: 0.4776 - val_acc: 0.7780\n",
            "Epoch 2/100\n",
            "100/100 [==============================] - 27s 275ms/step - loss: 0.5190 - acc: 0.7535 - val_loss: 0.4294 - val_acc: 0.8090\n",
            "Epoch 3/100\n",
            "100/100 [==============================] - 27s 275ms/step - loss: 0.4971 - acc: 0.7795 - val_loss: 0.4010 - val_acc: 0.8320\n",
            "Epoch 4/100\n",
            "100/100 [==============================] - 28s 276ms/step - loss: 0.4830 - acc: 0.7865 - val_loss: 0.3939 - val_acc: 0.8290\n",
            "Epoch 5/100\n",
            "100/100 [==============================] - 27s 274ms/step - loss: 0.4617 - acc: 0.7930 - val_loss: 0.3681 - val_acc: 0.8360\n",
            "Epoch 6/100\n",
            "100/100 [==============================] - 27s 275ms/step - loss: 0.4421 - acc: 0.8010 - val_loss: 0.3616 - val_acc: 0.8420\n",
            "Epoch 7/100\n",
            "100/100 [==============================] - 28s 279ms/step - loss: 0.4210 - acc: 0.8125 - val_loss: 0.3416 - val_acc: 0.8560\n",
            "Epoch 8/100\n",
            "100/100 [==============================] - 28s 279ms/step - loss: 0.4316 - acc: 0.8125 - val_loss: 0.3229 - val_acc: 0.8470\n",
            "Epoch 9/100\n",
            "100/100 [==============================] - 28s 279ms/step - loss: 0.4032 - acc: 0.8250 - val_loss: 0.3249 - val_acc: 0.8560\n",
            "Epoch 10/100\n",
            "100/100 [==============================] - 28s 278ms/step - loss: 0.4167 - acc: 0.8125 - val_loss: 0.3251 - val_acc: 0.8570\n",
            "Epoch 11/100\n",
            "100/100 [==============================] - 27s 274ms/step - loss: 0.4013 - acc: 0.8270 - val_loss: 0.3293 - val_acc: 0.8590\n",
            "Epoch 12/100\n",
            "100/100 [==============================] - 28s 275ms/step - loss: 0.3983 - acc: 0.8150 - val_loss: 0.3013 - val_acc: 0.8650\n",
            "Epoch 13/100\n",
            "100/100 [==============================] - 27s 275ms/step - loss: 0.3871 - acc: 0.8270 - val_loss: 0.3074 - val_acc: 0.8750\n",
            "Epoch 14/100\n",
            "100/100 [==============================] - 27s 274ms/step - loss: 0.3718 - acc: 0.8390 - val_loss: 0.3262 - val_acc: 0.8600\n",
            "Epoch 15/100\n",
            "100/100 [==============================] - 27s 274ms/step - loss: 0.3822 - acc: 0.8325 - val_loss: 0.2801 - val_acc: 0.8880\n",
            "Epoch 16/100\n",
            "100/100 [==============================] - 27s 275ms/step - loss: 0.3818 - acc: 0.8325 - val_loss: 0.2988 - val_acc: 0.8640\n",
            "Epoch 17/100\n",
            "100/100 [==============================] - 27s 274ms/step - loss: 0.3557 - acc: 0.8480 - val_loss: 0.2856 - val_acc: 0.8750\n",
            "Epoch 18/100\n",
            "100/100 [==============================] - 28s 275ms/step - loss: 0.3689 - acc: 0.8400 - val_loss: 0.2785 - val_acc: 0.8750\n",
            "Epoch 19/100\n",
            "100/100 [==============================] - 27s 273ms/step - loss: 0.3602 - acc: 0.8530 - val_loss: 0.2936 - val_acc: 0.8680\n",
            "Epoch 20/100\n",
            "100/100 [==============================] - 27s 274ms/step - loss: 0.3608 - acc: 0.8410 - val_loss: 0.2940 - val_acc: 0.8750\n",
            "Epoch 21/100\n",
            "100/100 [==============================] - 28s 279ms/step - loss: 0.3647 - acc: 0.8395 - val_loss: 0.2878 - val_acc: 0.8770\n",
            "Epoch 22/100\n",
            "100/100 [==============================] - 28s 275ms/step - loss: 0.3555 - acc: 0.8390 - val_loss: 0.2941 - val_acc: 0.8710\n",
            "Epoch 23/100\n",
            "100/100 [==============================] - 27s 273ms/step - loss: 0.3457 - acc: 0.8455 - val_loss: 0.2639 - val_acc: 0.8800\n",
            "Epoch 24/100\n",
            "100/100 [==============================] - 27s 275ms/step - loss: 0.3674 - acc: 0.8360 - val_loss: 0.2869 - val_acc: 0.8750\n",
            "Epoch 25/100\n",
            "100/100 [==============================] - 27s 273ms/step - loss: 0.3391 - acc: 0.8575 - val_loss: 0.2836 - val_acc: 0.8790\n",
            "Epoch 26/100\n",
            "100/100 [==============================] - 28s 275ms/step - loss: 0.3381 - acc: 0.8475 - val_loss: 0.2574 - val_acc: 0.8810\n",
            "Epoch 27/100\n",
            "100/100 [==============================] - 27s 273ms/step - loss: 0.3653 - acc: 0.8405 - val_loss: 0.2874 - val_acc: 0.8720\n",
            "Epoch 28/100\n",
            "100/100 [==============================] - 27s 272ms/step - loss: 0.3367 - acc: 0.8580 - val_loss: 0.2631 - val_acc: 0.8840\n",
            "Epoch 29/100\n",
            "100/100 [==============================] - 27s 271ms/step - loss: 0.3518 - acc: 0.8390 - val_loss: 0.2871 - val_acc: 0.8730\n",
            "Epoch 30/100\n",
            "100/100 [==============================] - 27s 271ms/step - loss: 0.3284 - acc: 0.8585 - val_loss: 0.2600 - val_acc: 0.8880\n",
            "Epoch 31/100\n",
            "100/100 [==============================] - 27s 272ms/step - loss: 0.3528 - acc: 0.8385 - val_loss: 0.2617 - val_acc: 0.8870\n",
            "Epoch 32/100\n",
            "100/100 [==============================] - 27s 274ms/step - loss: 0.3343 - acc: 0.8500 - val_loss: 0.3023 - val_acc: 0.8690\n",
            "Epoch 33/100\n",
            "100/100 [==============================] - 27s 273ms/step - loss: 0.3243 - acc: 0.8540 - val_loss: 0.2598 - val_acc: 0.8880\n",
            "Epoch 34/100\n",
            "100/100 [==============================] - 27s 272ms/step - loss: 0.3483 - acc: 0.8470 - val_loss: 0.2560 - val_acc: 0.8900\n",
            "Epoch 35/100\n",
            "100/100 [==============================] - 27s 273ms/step - loss: 0.3378 - acc: 0.8520 - val_loss: 0.2740 - val_acc: 0.8850\n",
            "Epoch 36/100\n",
            "100/100 [==============================] - 27s 273ms/step - loss: 0.3289 - acc: 0.8540 - val_loss: 0.3028 - val_acc: 0.8610\n",
            "Epoch 37/100\n",
            "100/100 [==============================] - 28s 277ms/step - loss: 0.3419 - acc: 0.8505 - val_loss: 0.2482 - val_acc: 0.8960\n",
            "Epoch 38/100\n",
            "100/100 [==============================] - 27s 272ms/step - loss: 0.3298 - acc: 0.8515 - val_loss: 0.2748 - val_acc: 0.8810\n",
            "Epoch 39/100\n",
            "100/100 [==============================] - 27s 273ms/step - loss: 0.3324 - acc: 0.8470 - val_loss: 0.2599 - val_acc: 0.8870\n",
            "Epoch 40/100\n",
            "100/100 [==============================] - 27s 272ms/step - loss: 0.3266 - acc: 0.8650 - val_loss: 0.2849 - val_acc: 0.8780\n",
            "Epoch 41/100\n",
            "100/100 [==============================] - 27s 271ms/step - loss: 0.3270 - acc: 0.8520 - val_loss: 0.2664 - val_acc: 0.8820\n",
            "Epoch 42/100\n",
            "100/100 [==============================] - 27s 271ms/step - loss: 0.3431 - acc: 0.8505 - val_loss: 0.2528 - val_acc: 0.9010\n",
            "Epoch 43/100\n",
            "100/100 [==============================] - 27s 272ms/step - loss: 0.3373 - acc: 0.8460 - val_loss: 0.2905 - val_acc: 0.8770\n",
            "Epoch 44/100\n",
            "100/100 [==============================] - 28s 276ms/step - loss: 0.3258 - acc: 0.8615 - val_loss: 0.2634 - val_acc: 0.8810\n",
            "Epoch 45/100\n",
            "100/100 [==============================] - 27s 272ms/step - loss: 0.3339 - acc: 0.8485 - val_loss: 0.2533 - val_acc: 0.8950\n",
            "Epoch 46/100\n",
            "100/100 [==============================] - 27s 271ms/step - loss: 0.3170 - acc: 0.8705 - val_loss: 0.2513 - val_acc: 0.8880\n",
            "Epoch 47/100\n",
            "100/100 [==============================] - 27s 272ms/step - loss: 0.3180 - acc: 0.8595 - val_loss: 0.2635 - val_acc: 0.8890\n",
            "Epoch 48/100\n",
            "100/100 [==============================] - 27s 274ms/step - loss: 0.3148 - acc: 0.8650 - val_loss: 0.2767 - val_acc: 0.8800\n",
            "Epoch 49/100\n",
            "100/100 [==============================] - 27s 271ms/step - loss: 0.3359 - acc: 0.8505 - val_loss: 0.2576 - val_acc: 0.8840\n",
            "Epoch 50/100\n",
            "100/100 [==============================] - 27s 270ms/step - loss: 0.3234 - acc: 0.8630 - val_loss: 0.2698 - val_acc: 0.8900\n",
            "Epoch 51/100\n",
            "100/100 [==============================] - 27s 272ms/step - loss: 0.3040 - acc: 0.8720 - val_loss: 0.2825 - val_acc: 0.8800\n",
            "Epoch 52/100\n",
            "100/100 [==============================] - 27s 271ms/step - loss: 0.3351 - acc: 0.8555 - val_loss: 0.2327 - val_acc: 0.8980\n",
            "Epoch 53/100\n",
            "100/100 [==============================] - 27s 272ms/step - loss: 0.3015 - acc: 0.8650 - val_loss: 0.2833 - val_acc: 0.8820\n",
            "Epoch 54/100\n",
            "100/100 [==============================] - 27s 272ms/step - loss: 0.3314 - acc: 0.8640 - val_loss: 0.2503 - val_acc: 0.8880\n",
            "Epoch 55/100\n",
            "100/100 [==============================] - 28s 278ms/step - loss: 0.3187 - acc: 0.8670 - val_loss: 0.2490 - val_acc: 0.8920\n",
            "Epoch 56/100\n",
            "100/100 [==============================] - 27s 271ms/step - loss: 0.2996 - acc: 0.8720 - val_loss: 0.2694 - val_acc: 0.8760\n",
            "Epoch 57/100\n",
            "100/100 [==============================] - 27s 270ms/step - loss: 0.3153 - acc: 0.8595 - val_loss: 0.2628 - val_acc: 0.8820\n",
            "Epoch 58/100\n",
            "100/100 [==============================] - 27s 270ms/step - loss: 0.3140 - acc: 0.8675 - val_loss: 0.2455 - val_acc: 0.8830\n",
            "Epoch 59/100\n",
            "100/100 [==============================] - 27s 271ms/step - loss: 0.3234 - acc: 0.8575 - val_loss: 0.2592 - val_acc: 0.8870\n",
            "Epoch 60/100\n",
            "100/100 [==============================] - 27s 272ms/step - loss: 0.3059 - acc: 0.8675 - val_loss: 0.2623 - val_acc: 0.8870\n",
            "Epoch 61/100\n",
            "100/100 [==============================] - 27s 274ms/step - loss: 0.3036 - acc: 0.8770 - val_loss: 0.2783 - val_acc: 0.8830\n",
            "Epoch 62/100\n",
            "100/100 [==============================] - 27s 273ms/step - loss: 0.3278 - acc: 0.8570 - val_loss: 0.2462 - val_acc: 0.9010\n",
            "Epoch 63/100\n",
            "100/100 [==============================] - 28s 277ms/step - loss: 0.3055 - acc: 0.8675 - val_loss: 0.2460 - val_acc: 0.8960\n",
            "Epoch 64/100\n",
            "100/100 [==============================] - 28s 278ms/step - loss: 0.3067 - acc: 0.8815 - val_loss: 0.2688 - val_acc: 0.8770\n",
            "Epoch 65/100\n",
            "100/100 [==============================] - 27s 272ms/step - loss: 0.3108 - acc: 0.8655 - val_loss: 0.2537 - val_acc: 0.8830\n",
            "Epoch 66/100\n",
            "100/100 [==============================] - 27s 271ms/step - loss: 0.2952 - acc: 0.8695 - val_loss: 0.2523 - val_acc: 0.8850\n",
            "Epoch 67/100\n",
            "100/100 [==============================] - 27s 275ms/step - loss: 0.3110 - acc: 0.8670 - val_loss: 0.2556 - val_acc: 0.8900\n",
            "Epoch 68/100\n",
            "100/100 [==============================] - 27s 274ms/step - loss: 0.3026 - acc: 0.8645 - val_loss: 0.2515 - val_acc: 0.8770\n",
            "Epoch 69/100\n",
            "100/100 [==============================] - 27s 274ms/step - loss: 0.3158 - acc: 0.8640 - val_loss: 0.2601 - val_acc: 0.8880\n",
            "Epoch 70/100\n",
            "100/100 [==============================] - 27s 273ms/step - loss: 0.3115 - acc: 0.8740 - val_loss: 0.2388 - val_acc: 0.8890\n",
            "Epoch 71/100\n",
            "100/100 [==============================] - 27s 274ms/step - loss: 0.3034 - acc: 0.8655 - val_loss: 0.2554 - val_acc: 0.8860\n",
            "Epoch 72/100\n",
            "100/100 [==============================] - 27s 270ms/step - loss: 0.3113 - acc: 0.8605 - val_loss: 0.2454 - val_acc: 0.8960\n",
            "Epoch 73/100\n",
            "100/100 [==============================] - 27s 271ms/step - loss: 0.3035 - acc: 0.8680 - val_loss: 0.2604 - val_acc: 0.8860\n",
            "Epoch 74/100\n",
            "100/100 [==============================] - 27s 272ms/step - loss: 0.3035 - acc: 0.8665 - val_loss: 0.2445 - val_acc: 0.8970\n",
            "Epoch 75/100\n",
            "100/100 [==============================] - 27s 272ms/step - loss: 0.3065 - acc: 0.8580 - val_loss: 0.2523 - val_acc: 0.8860\n",
            "Epoch 76/100\n",
            "100/100 [==============================] - 27s 272ms/step - loss: 0.3075 - acc: 0.8700 - val_loss: 0.2741 - val_acc: 0.8870\n",
            "Epoch 77/100\n",
            "100/100 [==============================] - 27s 270ms/step - loss: 0.2983 - acc: 0.8655 - val_loss: 0.2344 - val_acc: 0.8940\n",
            "Epoch 78/100\n",
            "100/100 [==============================] - 28s 277ms/step - loss: 0.3021 - acc: 0.8700 - val_loss: 0.2662 - val_acc: 0.8890\n",
            "Epoch 79/100\n",
            "100/100 [==============================] - 27s 271ms/step - loss: 0.2913 - acc: 0.8750 - val_loss: 0.2597 - val_acc: 0.8770\n",
            "Epoch 80/100\n",
            "100/100 [==============================] - 27s 271ms/step - loss: 0.3011 - acc: 0.8740 - val_loss: 0.2444 - val_acc: 0.8950\n",
            "Epoch 81/100\n",
            "100/100 [==============================] - 27s 271ms/step - loss: 0.2940 - acc: 0.8720 - val_loss: 0.2659 - val_acc: 0.8840\n",
            "Epoch 82/100\n",
            "100/100 [==============================] - 27s 274ms/step - loss: 0.3050 - acc: 0.8685 - val_loss: 0.2328 - val_acc: 0.8880\n",
            "Epoch 83/100\n",
            "100/100 [==============================] - 27s 271ms/step - loss: 0.2964 - acc: 0.8710 - val_loss: 0.2555 - val_acc: 0.8870\n",
            "Epoch 84/100\n",
            "100/100 [==============================] - 27s 271ms/step - loss: 0.3115 - acc: 0.8610 - val_loss: 0.2453 - val_acc: 0.8910\n",
            "Epoch 85/100\n",
            "100/100 [==============================] - 27s 272ms/step - loss: 0.2903 - acc: 0.8760 - val_loss: 0.2514 - val_acc: 0.8900\n",
            "Epoch 86/100\n",
            "100/100 [==============================] - 27s 271ms/step - loss: 0.2985 - acc: 0.8715 - val_loss: 0.2428 - val_acc: 0.8980\n",
            "Epoch 87/100\n",
            "100/100 [==============================] - 27s 271ms/step - loss: 0.2851 - acc: 0.8745 - val_loss: 0.2691 - val_acc: 0.8810\n",
            "Epoch 88/100\n",
            "100/100 [==============================] - 27s 271ms/step - loss: 0.3019 - acc: 0.8605 - val_loss: 0.2320 - val_acc: 0.9000\n",
            "Epoch 89/100\n",
            "100/100 [==============================] - 27s 273ms/step - loss: 0.2912 - acc: 0.8835 - val_loss: 0.2637 - val_acc: 0.8880\n",
            "Epoch 90/100\n",
            "100/100 [==============================] - 27s 272ms/step - loss: 0.2950 - acc: 0.8810 - val_loss: 0.2609 - val_acc: 0.8940\n",
            "Epoch 91/100\n",
            "100/100 [==============================] - 27s 270ms/step - loss: 0.2874 - acc: 0.8740 - val_loss: 0.2460 - val_acc: 0.8910\n",
            "Epoch 92/100\n",
            "100/100 [==============================] - 27s 270ms/step - loss: 0.2924 - acc: 0.8605 - val_loss: 0.2477 - val_acc: 0.8840\n",
            "Epoch 93/100\n",
            "100/100 [==============================] - 27s 274ms/step - loss: 0.2931 - acc: 0.8750 - val_loss: 0.2424 - val_acc: 0.9030\n",
            "Epoch 94/100\n",
            "100/100 [==============================] - 27s 271ms/step - loss: 0.2808 - acc: 0.8745 - val_loss: 0.2567 - val_acc: 0.8890\n",
            "Epoch 95/100\n",
            "100/100 [==============================] - 27s 270ms/step - loss: 0.2979 - acc: 0.8725 - val_loss: 0.2450 - val_acc: 0.9000\n",
            "Epoch 96/100\n",
            "100/100 [==============================] - 27s 270ms/step - loss: 0.3045 - acc: 0.8680 - val_loss: 0.2724 - val_acc: 0.8860\n",
            "Epoch 97/100\n",
            "100/100 [==============================] - 27s 269ms/step - loss: 0.3000 - acc: 0.8710 - val_loss: 0.2413 - val_acc: 0.8950\n",
            "Epoch 98/100\n",
            "100/100 [==============================] - 27s 269ms/step - loss: 0.2891 - acc: 0.8705 - val_loss: 0.2482 - val_acc: 0.8970\n",
            "Epoch 99/100\n",
            "100/100 [==============================] - 27s 272ms/step - loss: 0.2875 - acc: 0.8715 - val_loss: 0.2673 - val_acc: 0.8870\n",
            "Epoch 100/100\n",
            "100/100 [==============================] - 27s 274ms/step - loss: 0.2931 - acc: 0.8745 - val_loss: 0.2577 - val_acc: 0.8870\n"
          ],
          "name": "stdout"
        }
      ]
    },
    {
      "metadata": {
        "id": "eVBQgh5M-Rtz",
        "colab_type": "text"
      },
      "cell_type": "markdown",
      "source": [
        "## Display learning curves during fine-tuning"
      ]
    },
    {
      "metadata": {
        "id": "mbkIw7Ie-NP4",
        "colab_type": "code",
        "colab": {
          "base_uri": "https://localhost:8080/",
          "height": 545
        },
        "outputId": "01b2b1ff-53d8-4458-ff3f-f456da942486"
      },
      "cell_type": "code",
      "source": [
        "%matplotlib inline\n",
        "\n",
        "import matplotlib.pyplot as plt\n",
        "\n",
        "acc = history.history['acc']\n",
        "val_acc = history.history['val_acc']\n",
        "\n",
        "loss = history.history['loss']\n",
        "val_loss = history.history['val_loss']\n",
        "\n",
        "epochs = range(1, len(acc) + 1)\n",
        "\n",
        "# training and validation accuracy\n",
        "\n",
        "plt.plot(epochs, acc, 'bo', label='training acc')\n",
        "plt.plot(epochs, val_acc, 'ro', label='validation acc')\n",
        "plt.title('Training and validation accuracy')\n",
        "plt.legend()\n",
        "\n",
        "plt.figure()\n",
        "\n",
        "# training and validation loss\n",
        "\n",
        "plt.plot(epochs, loss, 'bo', label='training loss')\n",
        "plt.plot(epochs, val_loss, 'ro', label='validation loss')\n",
        "plt.title('Training and validation loss')\n",
        "plt.legend()\n",
        "\n",
        "plt.show()"
      ],
      "execution_count": 18,
      "outputs": [
        {
          "output_type": "display_data",
          "data": {
            "image/png": "[encoded data removed]",
            "text/plain": [
              "<Figure size 432x288 with 1 Axes>"
            ]
          },
          "metadata": {
            "tags": []
          }
        },
        {
          "output_type": "display_data",
          "data": {
            "image/png": "[encoded data removed]",
            "text/plain": [
              "<Figure size 432x288 with 1 Axes>"
            ]
          },
          "metadata": {
            "tags": []
          }
        }
      ]
    },
    {
      "metadata": {
        "id": "obQi6N4ZShdi",
        "colab_type": "text"
      },
      "cell_type": "markdown",
      "source": [
        "This looks like overfitting. I should try  adding dropout for the densely connected layer."
      ]
    },
    {
      "metadata": {
        "id": "he3Nw6TOJwjx",
        "colab_type": "text"
      },
      "cell_type": "markdown",
      "source": [
        "## Print out validation loss and accuracy"
      ]
    },
    {
      "metadata": {
        "id": "SVQtrk7uJdhl",
        "colab_type": "code",
        "colab": {}
      },
      "cell_type": "code",
      "source": [
        "val_loss, val_acc = model.evaluate_generator(validation_generator, steps=50)"
      ],
      "execution_count": 0,
      "outputs": []
    },
    {
      "metadata": {
        "id": "HpdddLi1SUMe",
        "colab_type": "code",
        "colab": {
          "base_uri": "https://localhost:8080/",
          "height": 52
        },
        "outputId": "f786a90d-c17f-460a-c869-2a8c417d1d2c"
      },
      "cell_type": "code",
      "source": [
        "print(\"Validation loss:\", val_loss)\n",
        "print(\"Validation accuracy:\", val_acc)"
      ],
      "execution_count": 20,
      "outputs": [
        {
          "output_type": "stream",
          "text": [
            "Validation loss: 0.2715557439625263\n",
            "Validation accuracy: 0.8780000054836273\n"
          ],
          "name": "stdout"
        }
      ]
    },
    {
      "metadata": {
        "id": "VNEL4CCcS0Oj",
        "colab_type": "code",
        "colab": {}
      },
      "cell_type": "code",
      "source": [
        ""
      ],
      "execution_count": 0,
      "outputs": []
    }
  ]
}