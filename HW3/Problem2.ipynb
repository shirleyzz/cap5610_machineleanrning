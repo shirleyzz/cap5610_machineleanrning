{
  "nbformat": 4,
  "nbformat_minor": 0,
  "metadata": {
    "colab": {
      "name": "Problem2.ipynb",
      "version": "0.3.2",
      "provenance": [],
      "collapsed_sections": [],
      "include_colab_link": true
    },
    "kernelspec": {
      "name": "python3",
      "display_name": "Python 3"
    },
    "accelerator": "GPU"
  },
  "cells": [
    {
      "cell_type": "markdown",
      "metadata": {
        "id": "view-in-github",
        "colab_type": "text"
      },
      "source": [
        "<a href=\"https://colab.research.google.com/github/shirleyzz/cap5610_machineleanrning/blob/master/HW3/Problem2.ipynb\" target=\"_parent\"><img src=\"https://colab.research.google.com/assets/colab-badge.svg\" alt=\"Open In Colab\"/></a>"
      ]
    },
    {
      "metadata": {
        "id": "jYJmFbAQI18_",
        "colab_type": "text"
      },
      "cell_type": "markdown",
      "source": [
        "## Problem 2 Do fine-tuning with data augmentation"
      ]
    },
    {
      "metadata": {
        "id": "JWjprHEXJ5Qi",
        "colab_type": "code",
        "outputId": "3ec2bf77-1582-4b45-aec4-54a3cb2054b7",
        "colab": {
          "base_uri": "https://localhost:8080/",
          "height": 204
        }
      },
      "cell_type": "code",
      "source": [
        "!wget --no-check-certificate \\\n",
        "    https://storage.googleapis.com/mledu-datasets/cats_and_dogs_filtered.zip \\\n",
        "    -O /tmp/cats_and_dogs_filtered.zip"
      ],
      "execution_count": 16,
      "outputs": [
        {
          "output_type": "stream",
          "text": [
            "--2019-04-15 14:45:33--  https://storage.googleapis.com/mledu-datasets/cats_and_dogs_filtered.zip\n",
            "Resolving storage.googleapis.com (storage.googleapis.com)... 173.194.76.128, 2a00:1450:400c:c0a::80\n",
            "Connecting to storage.googleapis.com (storage.googleapis.com)|173.194.76.128|:443... connected.\n",
            "HTTP request sent, awaiting response... 200 OK\n",
            "Length: 68606236 (65M) [application/zip]\n",
            "Saving to: ‘/tmp/cats_and_dogs_filtered.zip’\n",
            "\n",
            "/tmp/cats_and_dogs_ 100%[===================>]  65.43M   100MB/s    in 0.7s    \n",
            "\n",
            "2019-04-15 14:45:34 (100 MB/s) - ‘/tmp/cats_and_dogs_filtered.zip’ saved [68606236/68606236]\n",
            "\n"
          ],
          "name": "stdout"
        }
      ]
    },
    {
      "metadata": {
        "id": "TnKkDxl6fyvf",
        "colab_type": "text"
      },
      "cell_type": "markdown",
      "source": [
        "## Load data"
      ]
    },
    {
      "metadata": {
        "id": "WvoHtdA-K6Rw",
        "colab_type": "code",
        "colab": {}
      },
      "cell_type": "code",
      "source": [
        "import os\n",
        "import zipfile\n",
        "local_zip = '/tmp/cats_and_dogs_filtered.zip'\n",
        "zip_ref = zipfile.ZipFile(local_zip, 'r')\n",
        "zip_ref.extractall('/tmp')\n",
        "zip_ref.close()"
      ],
      "execution_count": 0,
      "outputs": []
    },
    {
      "metadata": {
        "id": "dL8ikM89LlsH",
        "colab_type": "code",
        "colab": {}
      },
      "cell_type": "code",
      "source": [
        "base_dir = '/tmp/cats_and_dogs_filtered'\n",
        "train_dir = os.path.join(base_dir, 'train')\n",
        "validation_dir = os.path.join(base_dir, 'validation')\n",
        "# Directory with our training cat pictures\n",
        "train_cats_dir = os.path.join(train_dir, 'cats')\n",
        "# Directory with our training dog pictures\n",
        "train_dogs_dir = os.path.join(train_dir, 'dogs')\n",
        "# Directory with our validation cat pictures\n",
        "validation_cats_dir = os.path.join(validation_dir, 'cats')\n",
        "# Directory with our validation dog pictures\n",
        "validation_dogs_dir = os.path.join(validation_dir, 'dogs')"
      ],
      "execution_count": 0,
      "outputs": []
    },
    {
      "metadata": {
        "id": "inyP8bcdXnn-",
        "colab_type": "text"
      },
      "cell_type": "markdown",
      "source": [
        "## Build network with VGG19 convolution base and custom densely connected layers"
      ]
    },
    {
      "metadata": {
        "id": "kQ48W5T9rHWu",
        "colab_type": "text"
      },
      "cell_type": "markdown",
      "source": [
        "### Load the convolutional base"
      ]
    },
    {
      "metadata": {
        "id": "Y0FgtANCXm_H",
        "colab_type": "code",
        "colab": {}
      },
      "cell_type": "code",
      "source": [
        "from keras.applications import VGG19\n",
        "conv_base = VGG19(\n",
        "    weights='imagenet', \n",
        "    include_top=False, \n",
        "    input_shape=(150, 150, 3))"
      ],
      "execution_count": 0,
      "outputs": []
    },
    {
      "metadata": {
        "id": "5v6jHHBlZpbz",
        "colab_type": "code",
        "colab": {}
      },
      "cell_type": "code",
      "source": [
        "from keras import layers\n",
        "from keras import models\n",
        "from keras import optimizers\n",
        "model = models.Sequential()\n",
        "model.add(conv_base)\n",
        "model.add(layers.Flatten())\n",
        "model.add(layers.Dense(256, activation='relu'))\n",
        "model.add(layers.Dropout(0.1))\n",
        "model.add(layers.Dense(512,activation='relu'))\n",
        "model.add(layers.Dense(1, activation='sigmoid'))"
      ],
      "execution_count": 0,
      "outputs": []
    },
    {
      "metadata": {
        "id": "UMfGkT7LctDl",
        "colab_type": "code",
        "colab": {
          "base_uri": "https://localhost:8080/",
          "height": 51
        },
        "outputId": "f84b08d2-b7d7-49d7-fc8d-a7b6f8b46289"
      },
      "cell_type": "code",
      "source": [
        "from keras.preprocessing.image import ImageDataGenerator\n",
        "from keras import optimizers\n",
        "\n",
        "# data augmentation\n",
        "\n",
        "train_datagen = ImageDataGenerator(\n",
        "    rescale=1./255, \n",
        "    rotation_range=40,\n",
        "    width_shift_range=0.2,\n",
        "    height_shift_range=0.2,\n",
        "    shear_range=0.2,\n",
        "    zoom_range=0.2,\n",
        "    horizontal_flip=True,\n",
        "    fill_mode='nearest'\n",
        ")\n",
        "\n",
        "train_generator = train_datagen.flow_from_directory(\n",
        "    train_dir,\n",
        "    target_size=(150, 150),\n",
        "    batch_size=20,\n",
        "    class_mode='binary')\n",
        "\n",
        "validation_datagen = ImageDataGenerator(rescale=1./255)\n",
        "\n",
        "validation_generator = validation_datagen.flow_from_directory(\n",
        "    validation_dir,\n",
        "    target_size=(150, 150),\n",
        "    batch_size=20,\n",
        "    class_mode='binary')\n"
      ],
      "execution_count": 21,
      "outputs": [
        {
          "output_type": "stream",
          "text": [
            "Found 2000 images belonging to 2 classes.\n",
            "Found 1000 images belonging to 2 classes.\n"
          ],
          "name": "stdout"
        }
      ]
    },
    {
      "metadata": {
        "id": "lOWsxpey8lN0",
        "colab_type": "text"
      },
      "cell_type": "markdown",
      "source": [
        "## Fine-tuning"
      ]
    },
    {
      "metadata": {
        "id": "PwkVMx8N8qMw",
        "colab_type": "code",
        "colab": {}
      },
      "cell_type": "code",
      "source": [
        "conv_base.trainable = True\n",
        "set_trainable = False\n",
        "for layer in conv_base.layers:\n",
        "  if layer.name == 'block5_conv1':\n",
        "    set_trainable = True\n",
        "  if set_trainable:\n",
        "    layer.trainable = True\n",
        "  else:\n",
        "    layer.trainable = False"
      ],
      "execution_count": 0,
      "outputs": []
    },
    {
      "metadata": {
        "id": "DyN-J7rs9cvo",
        "colab_type": "code",
        "outputId": "59cb36f3-67c4-42bd-a791-e35aae36fd55",
        "colab": {
          "base_uri": "https://localhost:8080/",
          "height": 3468
        }
      },
      "cell_type": "code",
      "source": [
        "# compile model\n",
        "\n",
        "model.compile(\n",
        "    loss='binary_crossentropy',\n",
        "    #\n",
        "    # choose a smaller learning rate\n",
        "    #\n",
        "    optimizer=optimizers.RMSprop(lr=1e-5), \n",
        "    metrics=['acc'])\n",
        "\n",
        "# train\n",
        "\n",
        "history = model.fit_generator(\n",
        "    train_generator,\n",
        "    steps_per_epoch=100,\n",
        "    epochs=100,\n",
        "    validation_data=validation_generator,\n",
        "    validation_steps=50)"
      ],
      "execution_count": 23,
      "outputs": [
        {
          "output_type": "stream",
          "text": [
            "WARNING:tensorflow:From /usr/local/lib/python3.6/dist-packages/tensorflow/python/ops/math_ops.py:3066: to_int32 (from tensorflow.python.ops.math_ops) is deprecated and will be removed in a future version.\n",
            "Instructions for updating:\n",
            "Use tf.cast instead.\n",
            "Epoch 1/100\n",
            "100/100 [==============================] - 32s 320ms/step - loss: 0.5785 - acc: 0.7000 - val_loss: 0.3740 - val_acc: 0.8470\n",
            "Epoch 2/100\n",
            "100/100 [==============================] - 29s 289ms/step - loss: 0.3980 - acc: 0.8220 - val_loss: 0.3525 - val_acc: 0.8440\n",
            "Epoch 3/100\n",
            "100/100 [==============================] - 29s 289ms/step - loss: 0.3347 - acc: 0.8455 - val_loss: 0.3353 - val_acc: 0.8570\n",
            "Epoch 4/100\n",
            "100/100 [==============================] - 29s 289ms/step - loss: 0.2977 - acc: 0.8760 - val_loss: 0.2308 - val_acc: 0.8980\n",
            "Epoch 5/100\n",
            "100/100 [==============================] - 29s 288ms/step - loss: 0.2883 - acc: 0.8805 - val_loss: 0.2143 - val_acc: 0.9100\n",
            "Epoch 6/100\n",
            "100/100 [==============================] - 29s 289ms/step - loss: 0.2610 - acc: 0.8865 - val_loss: 0.2044 - val_acc: 0.9080\n",
            "Epoch 7/100\n",
            "100/100 [==============================] - 29s 289ms/step - loss: 0.2423 - acc: 0.8990 - val_loss: 0.2264 - val_acc: 0.9030\n",
            "Epoch 8/100\n",
            "100/100 [==============================] - 29s 290ms/step - loss: 0.2226 - acc: 0.9110 - val_loss: 0.2476 - val_acc: 0.9050\n",
            "Epoch 9/100\n",
            "100/100 [==============================] - 29s 290ms/step - loss: 0.2237 - acc: 0.9045 - val_loss: 0.1907 - val_acc: 0.9180\n",
            "Epoch 10/100\n",
            "100/100 [==============================] - 29s 291ms/step - loss: 0.2100 - acc: 0.9090 - val_loss: 0.1917 - val_acc: 0.9190\n",
            "Epoch 11/100\n",
            "100/100 [==============================] - 29s 288ms/step - loss: 0.2143 - acc: 0.9105 - val_loss: 0.2111 - val_acc: 0.9210\n",
            "Epoch 12/100\n",
            "100/100 [==============================] - 29s 289ms/step - loss: 0.1802 - acc: 0.9235 - val_loss: 0.1812 - val_acc: 0.9270\n",
            "Epoch 13/100\n",
            "100/100 [==============================] - 29s 290ms/step - loss: 0.1951 - acc: 0.9180 - val_loss: 0.1851 - val_acc: 0.9240\n",
            "Epoch 14/100\n",
            "100/100 [==============================] - 29s 289ms/step - loss: 0.1820 - acc: 0.9240 - val_loss: 0.2142 - val_acc: 0.9200\n",
            "Epoch 15/100\n",
            "100/100 [==============================] - 29s 289ms/step - loss: 0.1644 - acc: 0.9350 - val_loss: 0.2484 - val_acc: 0.9080\n",
            "Epoch 16/100\n",
            "100/100 [==============================] - 29s 289ms/step - loss: 0.1657 - acc: 0.9380 - val_loss: 0.3166 - val_acc: 0.8920\n",
            "Epoch 17/100\n",
            "100/100 [==============================] - 29s 289ms/step - loss: 0.1443 - acc: 0.9425 - val_loss: 0.1755 - val_acc: 0.9350\n",
            "Epoch 18/100\n",
            "100/100 [==============================] - 29s 288ms/step - loss: 0.1527 - acc: 0.9360 - val_loss: 0.1698 - val_acc: 0.9330\n",
            "Epoch 19/100\n",
            "100/100 [==============================] - 29s 288ms/step - loss: 0.1313 - acc: 0.9415 - val_loss: 0.1690 - val_acc: 0.9390\n",
            "Epoch 20/100\n",
            "100/100 [==============================] - 29s 290ms/step - loss: 0.1379 - acc: 0.9490 - val_loss: 0.2268 - val_acc: 0.9230\n",
            "Epoch 21/100\n",
            "100/100 [==============================] - 29s 289ms/step - loss: 0.1218 - acc: 0.9535 - val_loss: 0.2513 - val_acc: 0.9140\n",
            "Epoch 22/100\n",
            "100/100 [==============================] - 29s 287ms/step - loss: 0.1246 - acc: 0.9510 - val_loss: 0.2290 - val_acc: 0.9240\n",
            "Epoch 23/100\n",
            "100/100 [==============================] - 29s 289ms/step - loss: 0.1341 - acc: 0.9445 - val_loss: 0.2282 - val_acc: 0.9210\n",
            "Epoch 24/100\n",
            "100/100 [==============================] - 29s 289ms/step - loss: 0.1139 - acc: 0.9535 - val_loss: 0.1562 - val_acc: 0.9480\n",
            "Epoch 25/100\n",
            "100/100 [==============================] - 29s 288ms/step - loss: 0.0987 - acc: 0.9585 - val_loss: 0.2542 - val_acc: 0.9220\n",
            "Epoch 26/100\n",
            "100/100 [==============================] - 29s 289ms/step - loss: 0.1288 - acc: 0.9525 - val_loss: 0.1601 - val_acc: 0.9440\n",
            "Epoch 27/100\n",
            "100/100 [==============================] - 29s 289ms/step - loss: 0.1098 - acc: 0.9520 - val_loss: 0.1765 - val_acc: 0.9470\n",
            "Epoch 28/100\n",
            "100/100 [==============================] - 29s 288ms/step - loss: 0.0996 - acc: 0.9635 - val_loss: 0.1674 - val_acc: 0.9440\n",
            "Epoch 29/100\n",
            "100/100 [==============================] - 29s 288ms/step - loss: 0.1003 - acc: 0.9615 - val_loss: 0.2225 - val_acc: 0.9300\n",
            "Epoch 30/100\n",
            "100/100 [==============================] - 29s 288ms/step - loss: 0.0935 - acc: 0.9640 - val_loss: 0.2960 - val_acc: 0.9140\n",
            "Epoch 31/100\n",
            "100/100 [==============================] - 29s 288ms/step - loss: 0.0904 - acc: 0.9610 - val_loss: 0.2431 - val_acc: 0.9260\n",
            "Epoch 32/100\n",
            "100/100 [==============================] - 29s 288ms/step - loss: 0.0898 - acc: 0.9655 - val_loss: 0.2003 - val_acc: 0.9400\n",
            "Epoch 33/100\n",
            "100/100 [==============================] - 29s 289ms/step - loss: 0.0931 - acc: 0.9600 - val_loss: 0.2260 - val_acc: 0.9360\n",
            "Epoch 34/100\n",
            "100/100 [==============================] - 29s 289ms/step - loss: 0.0724 - acc: 0.9715 - val_loss: 0.2198 - val_acc: 0.9410\n",
            "Epoch 35/100\n",
            "100/100 [==============================] - 29s 288ms/step - loss: 0.0757 - acc: 0.9710 - val_loss: 0.3205 - val_acc: 0.9180\n",
            "Epoch 36/100\n",
            "100/100 [==============================] - 29s 289ms/step - loss: 0.0822 - acc: 0.9675 - val_loss: 0.2318 - val_acc: 0.9310\n",
            "Epoch 37/100\n",
            "100/100 [==============================] - 29s 289ms/step - loss: 0.0755 - acc: 0.9770 - val_loss: 0.2105 - val_acc: 0.9460\n",
            "Epoch 38/100\n",
            "100/100 [==============================] - 29s 287ms/step - loss: 0.0849 - acc: 0.9670 - val_loss: 0.1964 - val_acc: 0.9450\n",
            "Epoch 39/100\n",
            "100/100 [==============================] - 29s 288ms/step - loss: 0.0617 - acc: 0.9760 - val_loss: 0.2732 - val_acc: 0.9240\n",
            "Epoch 40/100\n",
            "100/100 [==============================] - 29s 285ms/step - loss: 0.0687 - acc: 0.9720 - val_loss: 0.2261 - val_acc: 0.9450\n",
            "Epoch 41/100\n",
            "100/100 [==============================] - 29s 286ms/step - loss: 0.0717 - acc: 0.9705 - val_loss: 0.2063 - val_acc: 0.9480\n",
            "Epoch 42/100\n",
            "100/100 [==============================] - 28s 283ms/step - loss: 0.0664 - acc: 0.9770 - val_loss: 0.1999 - val_acc: 0.9510\n",
            "Epoch 43/100\n",
            "100/100 [==============================] - 28s 282ms/step - loss: 0.0568 - acc: 0.9785 - val_loss: 0.2666 - val_acc: 0.9410\n",
            "Epoch 44/100\n",
            "100/100 [==============================] - 28s 283ms/step - loss: 0.0625 - acc: 0.9770 - val_loss: 0.2164 - val_acc: 0.9450\n",
            "Epoch 45/100\n",
            "100/100 [==============================] - 28s 284ms/step - loss: 0.0570 - acc: 0.9775 - val_loss: 0.2177 - val_acc: 0.9430\n",
            "Epoch 46/100\n",
            "100/100 [==============================] - 28s 283ms/step - loss: 0.0439 - acc: 0.9845 - val_loss: 0.3015 - val_acc: 0.9360\n",
            "Epoch 47/100\n",
            "100/100 [==============================] - 28s 283ms/step - loss: 0.0768 - acc: 0.9745 - val_loss: 0.2823 - val_acc: 0.9320\n",
            "Epoch 48/100\n",
            "100/100 [==============================] - 29s 287ms/step - loss: 0.0505 - acc: 0.9825 - val_loss: 0.2749 - val_acc: 0.9380\n",
            "Epoch 49/100\n",
            "100/100 [==============================] - 28s 282ms/step - loss: 0.0668 - acc: 0.9775 - val_loss: 0.4175 - val_acc: 0.9080\n",
            "Epoch 50/100\n",
            "100/100 [==============================] - 28s 281ms/step - loss: 0.0567 - acc: 0.9810 - val_loss: 0.2593 - val_acc: 0.9390\n",
            "Epoch 51/100\n",
            "100/100 [==============================] - 28s 281ms/step - loss: 0.0555 - acc: 0.9805 - val_loss: 0.2238 - val_acc: 0.9460\n",
            "Epoch 52/100\n",
            "100/100 [==============================] - 28s 283ms/step - loss: 0.0417 - acc: 0.9855 - val_loss: 0.2331 - val_acc: 0.9490\n",
            "Epoch 53/100\n",
            "100/100 [==============================] - 28s 283ms/step - loss: 0.0346 - acc: 0.9880 - val_loss: 0.2562 - val_acc: 0.9460\n",
            "Epoch 54/100\n",
            "100/100 [==============================] - 28s 283ms/step - loss: 0.0586 - acc: 0.9755 - val_loss: 0.2220 - val_acc: 0.9560\n",
            "Epoch 55/100\n",
            "100/100 [==============================] - 28s 285ms/step - loss: 0.0577 - acc: 0.9785 - val_loss: 0.2400 - val_acc: 0.9450\n",
            "Epoch 56/100\n",
            "100/100 [==============================] - 28s 281ms/step - loss: 0.0583 - acc: 0.9800 - val_loss: 0.2345 - val_acc: 0.9470\n",
            "Epoch 57/100\n",
            "100/100 [==============================] - 29s 287ms/step - loss: 0.0336 - acc: 0.9885 - val_loss: 0.2636 - val_acc: 0.9480\n",
            "Epoch 58/100\n",
            "100/100 [==============================] - 29s 288ms/step - loss: 0.0503 - acc: 0.9815 - val_loss: 0.2537 - val_acc: 0.9440\n",
            "Epoch 59/100\n",
            "100/100 [==============================] - 29s 287ms/step - loss: 0.0453 - acc: 0.9845 - val_loss: 0.2434 - val_acc: 0.9520\n",
            "Epoch 60/100\n",
            "100/100 [==============================] - 29s 288ms/step - loss: 0.0484 - acc: 0.9805 - val_loss: 0.2267 - val_acc: 0.9480\n",
            "Epoch 61/100\n",
            "100/100 [==============================] - 29s 287ms/step - loss: 0.0486 - acc: 0.9830 - val_loss: 0.2334 - val_acc: 0.9540\n",
            "Epoch 62/100\n",
            "100/100 [==============================] - 29s 289ms/step - loss: 0.0500 - acc: 0.9820 - val_loss: 0.2607 - val_acc: 0.9480\n",
            "Epoch 63/100\n",
            "100/100 [==============================] - 29s 285ms/step - loss: 0.0439 - acc: 0.9830 - val_loss: 0.2690 - val_acc: 0.9410\n",
            "Epoch 64/100\n",
            "100/100 [==============================] - 28s 284ms/step - loss: 0.0402 - acc: 0.9860 - val_loss: 0.2843 - val_acc: 0.9390\n",
            "Epoch 65/100\n",
            "100/100 [==============================] - 28s 285ms/step - loss: 0.0446 - acc: 0.9850 - val_loss: 0.2236 - val_acc: 0.9460\n",
            "Epoch 66/100\n",
            "100/100 [==============================] - 29s 287ms/step - loss: 0.0438 - acc: 0.9840 - val_loss: 0.2375 - val_acc: 0.9460\n",
            "Epoch 67/100\n",
            "100/100 [==============================] - 28s 284ms/step - loss: 0.0376 - acc: 0.9840 - val_loss: 0.2388 - val_acc: 0.9460\n",
            "Epoch 68/100\n",
            "100/100 [==============================] - 29s 285ms/step - loss: 0.0437 - acc: 0.9835 - val_loss: 0.2408 - val_acc: 0.9480\n",
            "Epoch 69/100\n",
            "100/100 [==============================] - 29s 286ms/step - loss: 0.0344 - acc: 0.9880 - val_loss: 0.4251 - val_acc: 0.9210\n",
            "Epoch 70/100\n",
            "100/100 [==============================] - 29s 286ms/step - loss: 0.0316 - acc: 0.9880 - val_loss: 0.3087 - val_acc: 0.9410\n",
            "Epoch 71/100\n",
            "100/100 [==============================] - 29s 285ms/step - loss: 0.0345 - acc: 0.9845 - val_loss: 0.2611 - val_acc: 0.9490\n",
            "Epoch 72/100\n",
            "100/100 [==============================] - 28s 284ms/step - loss: 0.0376 - acc: 0.9860 - val_loss: 0.3876 - val_acc: 0.9300\n",
            "Epoch 73/100\n",
            "100/100 [==============================] - 29s 286ms/step - loss: 0.0344 - acc: 0.9895 - val_loss: 0.3029 - val_acc: 0.9470\n",
            "Epoch 74/100\n",
            "100/100 [==============================] - 29s 285ms/step - loss: 0.0463 - acc: 0.9830 - val_loss: 0.2880 - val_acc: 0.9510\n",
            "Epoch 75/100\n",
            "100/100 [==============================] - 28s 285ms/step - loss: 0.0332 - acc: 0.9855 - val_loss: 0.4497 - val_acc: 0.9220\n",
            "Epoch 76/100\n",
            "100/100 [==============================] - 28s 284ms/step - loss: 0.0269 - acc: 0.9905 - val_loss: 0.3000 - val_acc: 0.9470\n",
            "Epoch 77/100\n",
            "100/100 [==============================] - 29s 287ms/step - loss: 0.0470 - acc: 0.9900 - val_loss: 0.3832 - val_acc: 0.9350\n",
            "Epoch 78/100\n",
            "100/100 [==============================] - 29s 288ms/step - loss: 0.0174 - acc: 0.9935 - val_loss: 0.3011 - val_acc: 0.9430\n",
            "Epoch 79/100\n",
            "100/100 [==============================] - 29s 287ms/step - loss: 0.0336 - acc: 0.9905 - val_loss: 0.2722 - val_acc: 0.9460\n",
            "Epoch 80/100\n",
            "100/100 [==============================] - 29s 287ms/step - loss: 0.0356 - acc: 0.9885 - val_loss: 0.3525 - val_acc: 0.9320\n",
            "Epoch 81/100\n",
            "100/100 [==============================] - 29s 288ms/step - loss: 0.0245 - acc: 0.9880 - val_loss: 0.2247 - val_acc: 0.9560\n",
            "Epoch 82/100\n",
            "100/100 [==============================] - 29s 286ms/step - loss: 0.0292 - acc: 0.9900 - val_loss: 0.2616 - val_acc: 0.9520\n",
            "Epoch 83/100\n",
            "100/100 [==============================] - 29s 287ms/step - loss: 0.0345 - acc: 0.9880 - val_loss: 0.2616 - val_acc: 0.9460\n",
            "Epoch 84/100\n",
            "100/100 [==============================] - 29s 286ms/step - loss: 0.0379 - acc: 0.9880 - val_loss: 0.4351 - val_acc: 0.9240\n",
            "Epoch 85/100\n",
            "100/100 [==============================] - 29s 286ms/step - loss: 0.0244 - acc: 0.9900 - val_loss: 0.2686 - val_acc: 0.9490\n",
            "Epoch 86/100\n",
            "100/100 [==============================] - 29s 285ms/step - loss: 0.0351 - acc: 0.9880 - val_loss: 0.2759 - val_acc: 0.9510\n",
            "Epoch 87/100\n",
            "100/100 [==============================] - 29s 287ms/step - loss: 0.0273 - acc: 0.9910 - val_loss: 0.3467 - val_acc: 0.9360\n",
            "Epoch 88/100\n",
            "100/100 [==============================] - 29s 288ms/step - loss: 0.0337 - acc: 0.9900 - val_loss: 0.3666 - val_acc: 0.9370\n",
            "Epoch 89/100\n",
            "100/100 [==============================] - 29s 288ms/step - loss: 0.0346 - acc: 0.9880 - val_loss: 0.3250 - val_acc: 0.9390\n",
            "Epoch 90/100\n",
            "100/100 [==============================] - 29s 287ms/step - loss: 0.0297 - acc: 0.9910 - val_loss: 0.3847 - val_acc: 0.9380\n",
            "Epoch 91/100\n",
            "100/100 [==============================] - 29s 289ms/step - loss: 0.0378 - acc: 0.9865 - val_loss: 0.3633 - val_acc: 0.9370\n",
            "Epoch 92/100\n",
            "100/100 [==============================] - 29s 289ms/step - loss: 0.0349 - acc: 0.9890 - val_loss: 0.2907 - val_acc: 0.9540\n",
            "Epoch 93/100\n",
            "100/100 [==============================] - 29s 288ms/step - loss: 0.0207 - acc: 0.9930 - val_loss: 0.8327 - val_acc: 0.8910\n",
            "Epoch 94/100\n",
            "100/100 [==============================] - 29s 288ms/step - loss: 0.0269 - acc: 0.9920 - val_loss: 0.4794 - val_acc: 0.9310\n",
            "Epoch 95/100\n",
            "100/100 [==============================] - 29s 289ms/step - loss: 0.0381 - acc: 0.9885 - val_loss: 0.3029 - val_acc: 0.9480\n",
            "Epoch 96/100\n",
            "100/100 [==============================] - 29s 287ms/step - loss: 0.0288 - acc: 0.9915 - val_loss: 0.4134 - val_acc: 0.9320\n",
            "Epoch 97/100\n",
            "100/100 [==============================] - 29s 289ms/step - loss: 0.0300 - acc: 0.9885 - val_loss: 0.3119 - val_acc: 0.9430\n",
            "Epoch 98/100\n",
            "100/100 [==============================] - 29s 288ms/step - loss: 0.0139 - acc: 0.9950 - val_loss: 0.3131 - val_acc: 0.9480\n",
            "Epoch 99/100\n",
            "100/100 [==============================] - 29s 288ms/step - loss: 0.0200 - acc: 0.9925 - val_loss: 0.4522 - val_acc: 0.9260\n",
            "Epoch 100/100\n",
            "100/100 [==============================] - 29s 288ms/step - loss: 0.0250 - acc: 0.9910 - val_loss: 0.4821 - val_acc: 0.9340\n"
          ],
          "name": "stdout"
        }
      ]
    },
    {
      "metadata": {
        "id": "eVBQgh5M-Rtz",
        "colab_type": "text"
      },
      "cell_type": "markdown",
      "source": [
        "## Display learning curves during fine-tuning"
      ]
    },
    {
      "metadata": {
        "id": "mbkIw7Ie-NP4",
        "colab_type": "code",
        "outputId": "a782323d-3db8-44e8-afeb-fa81f5949fd3",
        "colab": {
          "base_uri": "https://localhost:8080/",
          "height": 545
        }
      },
      "cell_type": "code",
      "source": [
        "%matplotlib inline\n",
        "\n",
        "import matplotlib.pyplot as plt\n",
        "\n",
        "acc = history.history['acc']\n",
        "val_acc = history.history['val_acc']\n",
        "\n",
        "loss = history.history['loss']\n",
        "val_loss = history.history['val_loss']\n",
        "\n",
        "epochs = range(1, len(acc) + 1)\n",
        "\n",
        "# training and validation accuracy\n",
        "\n",
        "plt.plot(epochs, acc, 'bo', label='training acc')\n",
        "plt.plot(epochs, val_acc, 'ro', label='validation acc')\n",
        "plt.title('Training and validation accuracy')\n",
        "plt.legend()\n",
        "\n",
        "plt.figure()\n",
        "\n",
        "# training and validation loss\n",
        "\n",
        "plt.plot(epochs, loss, 'bo', label='training loss')\n",
        "plt.plot(epochs, val_loss, 'ro', label='validation loss')\n",
        "plt.title('Training and validation loss')\n",
        "plt.legend()\n",
        "\n",
        "plt.show()"
      ],
      "execution_count": 24,
      "outputs": [
        {
          "output_type": "display_data",
          "data": {
            "image/png": "[encoded data removed]",
            "text/plain": [
              "<Figure size 432x288 with 1 Axes>"
            ]
          },
          "metadata": {
            "tags": []
          }
        },
        {
          "output_type": "display_data",
          "data": {
            "image/png": "[encoded data removed]",
            "text/plain": [
              "<Figure size 432x288 with 1 Axes>"
            ]
          },
          "metadata": {
            "tags": []
          }
        }
      ]
    },
    {
      "metadata": {
        "id": "obQi6N4ZShdi",
        "colab_type": "text"
      },
      "cell_type": "markdown",
      "source": [
        "This looks like overfitting. I should try  adding dropout for the densely connected layer."
      ]
    },
    {
      "metadata": {
        "id": "he3Nw6TOJwjx",
        "colab_type": "text"
      },
      "cell_type": "markdown",
      "source": [
        "## Print out validation loss and accuracy"
      ]
    },
    {
      "metadata": {
        "id": "SVQtrk7uJdhl",
        "colab_type": "code",
        "colab": {}
      },
      "cell_type": "code",
      "source": [
        "val_loss, val_acc = model.evaluate_generator(validation_generator, steps=50)"
      ],
      "execution_count": 0,
      "outputs": []
    },
    {
      "metadata": {
        "id": "HpdddLi1SUMe",
        "colab_type": "code",
        "outputId": "91692472-eb90-4e09-a824-bdc452fd6f31",
        "colab": {
          "base_uri": "https://localhost:8080/",
          "height": 51
        }
      },
      "cell_type": "code",
      "source": [
        "print(\"Validation loss:\", val_loss)\n",
        "print(\"Validation accuracy:\", val_acc)"
      ],
      "execution_count": 26,
      "outputs": [
        {
          "output_type": "stream",
          "text": [
            "Validation loss: 0.5539577577574164\n",
            "Validation accuracy: 0.928999993801117\n"
          ],
          "name": "stdout"
        }
      ]
    },
    {
      "metadata": {
        "id": "VNEL4CCcS0Oj",
        "colab_type": "code",
        "colab": {}
      },
      "cell_type": "code",
      "source": [
        ""
      ],
      "execution_count": 0,
      "outputs": []
    }
  ]
}