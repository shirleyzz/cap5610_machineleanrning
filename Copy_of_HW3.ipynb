{
  "nbformat": 4,
  "nbformat_minor": 0,
  "metadata": {
    "colab": {
      "name": "Copy of HW3.ipynb",
      "version": "0.3.2",
      "provenance": [],
      "collapsed_sections": [],
      "include_colab_link": true
    },
    "kernelspec": {
      "name": "python3",
      "display_name": "Python 3"
    },
    "accelerator": "GPU"
  },
  "cells": [
    {
      "cell_type": "markdown",
      "metadata": {
        "id": "view-in-github",
        "colab_type": "text"
      },
      "source": [
        "<a href=\"https://colab.research.google.com/github/shirleyzz/cap5610_machineleanrning/blob/master/Copy_of_HW3.ipynb\" target=\"_parent\"><img src=\"https://colab.research.google.com/assets/colab-badge.svg\" alt=\"Open In Colab\"/></a>"
      ]
    },
    {
      "metadata": {
        "id": "YxtoTwJz71fi",
        "colab_type": "code",
        "colab": {}
      },
      "cell_type": "code",
      "source": [
        "from keras.datasets import mnist\n",
        "import numpy as np\n",
        "from keras import backend as K\n",
        "import keras\n",
        "from keras.utils import to_categorical"
      ],
      "execution_count": 0,
      "outputs": []
    },
    {
      "metadata": {
        "id": "bKebYiAev5mF",
        "colab_type": "code",
        "colab": {}
      },
      "cell_type": "code",
      "source": [
        "#load the training and test data using keras\n",
        "(x_train_origin, y_train_origin),(x_test_origin, y_test_origin) = mnist.load_data()"
      ],
      "execution_count": 0,
      "outputs": []
    },
    {
      "metadata": {
        "id": "hVWJ8ysK-CmP",
        "colab_type": "code",
        "colab": {}
      },
      "cell_type": "code",
      "source": [
        "x_train = x_train_origin.reshape((60000, 28 * 28))\n",
        "x_train = x_train_origin.astype('float32') / 255\n",
        "\n",
        "x_test = x_test_origin.reshape((10000, 28 * 28))\n",
        "x_test = x_test_origin.astype('float32') / 255"
      ],
      "execution_count": 0,
      "outputs": []
    },
    {
      "metadata": {
        "id": "8ux2HdzI2GLm",
        "colab_type": "code",
        "colab": {}
      },
      "cell_type": "code",
      "source": [
        "#split into 10 classes with categorial labels\n",
        "x_train = x_train.reshape(x_train.shape[0], -1)\n",
        "x_test = x_test.reshape(x_test.shape[0], -1)\n",
        "y_train = to_categorical(y_train_origin, num_classes=10) \n",
        "y_test = to_categorical(y_test_origin, num_classes=10)"
      ],
      "execution_count": 0,
      "outputs": []
    },
    {
      "metadata": {
        "id": "jlFgDMdB-sHg",
        "colab_type": "text"
      },
      "cell_type": "markdown",
      "source": [
        "So each of the ten classifiers has an input layer consisting of 28 x 28 input neurons and an output layer consisting of a single output neuron.\n"
      ]
    },
    {
      "metadata": {
        "id": "LVDgI6FHHokM",
        "colab_type": "code",
        "colab": {}
      },
      "cell_type": "code",
      "source": [
        "#calculate cross entropy\n",
        "def compute_scores(w,b,X):\n",
        "  return np.dot(X,w.T) + b\n",
        "def softmax(scores):\n",
        "  exp = np.exp(scores)\n",
        "  sum_exp = np.sum(np.exp(scores), axis=1, keepdims=True)\n",
        "  softmax = exp / sum_exp\n",
        "  return softmax\n",
        "def cross_entropy(X, Y, scores):\n",
        "  m = X.shape[0]\n",
        "  loss = - (1 / m) * np.sum(Y * np.log(scores))\n",
        "  return loss"
      ],
      "execution_count": 0,
      "outputs": []
    },
    {
      "metadata": {
        "id": "yPHrzJsge085",
        "colab_type": "code",
        "colab": {}
      },
      "cell_type": "code",
      "source": [
        "#tranforms vector Y of labels to one-hot encoded matrix\n",
        "def one_hot(X, Y, n_classes=10):\n",
        "  m = X.shape[0]\n",
        "  one_hot = np.zeros((m, n_classes))\n",
        "  one_hot[np.arange(m), Y.T] = 1\n",
        "  return one_hot"
      ],
      "execution_count": 0,
      "outputs": []
    },
    {
      "metadata": {
        "id": "THW9q3YPc61M",
        "colab_type": "code",
        "colab": {}
      },
      "cell_type": "code",
      "source": [
        "#initialize w and b\n",
        "def initialize_params_with_zeros(n_classes, n_features):\n",
        "  w = np.random.rand(n_classes, n_features)\n",
        "  b = np.zeros((1, n_classes))\n",
        "  return w,b"
      ],
      "execution_count": 0,
      "outputs": []
    },
    {
      "metadata": {
        "id": "TXSC79lMdoRk",
        "colab_type": "code",
        "colab": {}
      },
      "cell_type": "code",
      "source": [
        "# predict\n",
        "def predict(w,b,X):\n",
        "  scores = compute_scores(w,b,X)\n",
        "  probs = softmax(scores)\n",
        "  preds = np.argmax(probs,axis=1)\n",
        "  print(preds)\n",
        "  #return np.argmax(probs, axis=1)[:, np.newaxis]\n",
        "  return preds"
      ],
      "execution_count": 0,
      "outputs": []
    },
    {
      "metadata": {
        "id": "oFkjcXsbgZie",
        "colab_type": "code",
        "colab": {}
      },
      "cell_type": "code",
      "source": [
        "#training process\n",
        "def train(X_train, Y_train, n_iters=10, learning_rate=0.01,n_classes = 10):\n",
        "  n_samples,n_features = X_train.shape\n",
        "  w, b = initialize_params_with_zeros(n_classes,n_features)\n",
        "  #print(w.shape)\n",
        "  all_losses = []\n",
        "  #theta = np.random.randn(n_samples,1)\n",
        "  #stochastic gradient regression\n",
        "  for item in range(n_iters):\n",
        "    cost = 0.0\n",
        "    for i in range(n_samples):\n",
        "      rand_ind = np.random.randint(0,n_samples)\n",
        "      X_i = X_train[rand_ind,:].reshape(1,n_features)\n",
        "      Y_i = Y_train[rand_ind].reshape(1,1)\n",
        "      y_one_hot = one_hot(X_i,Y_i)\n",
        "      scores = compute_scores(w,b,X_i)\n",
        "      probs = softmax(scores)\n",
        "      loss = cross_entropy(X_i,y_one_hot, probs)\n",
        "      #print(probs.shape)\n",
        "      dw = (1. / n_samples) * np.dot((probs - y_one_hot).T,X_i)\n",
        "      #dw = (1. / n_samples) * np.dot(X_i.T,(probs-y_one_hot))\n",
        "      db = (1. / n_samples) * np.sum(probs - y_one_hot, axis=0)\n",
        "      #db = (1./n_samples)*np.sum(probs - y_one_hot)\n",
        "      w = w - learning_rate * dw\n",
        "      b = b - learning_rate * db\n",
        "    all_losses.append(loss)\n",
        "    print(f'Iteration number: {item}, loss: {np.round(loss, 4)}')\n",
        "  return w, b, all_losses"
      ],
      "execution_count": 0,
      "outputs": []
    },
    {
      "metadata": {
        "colab_type": "code",
        "id": "dkyRZGpS5mza",
        "colab": {}
      },
      "cell_type": "code",
      "source": [
        "def model(X_train, Y_train, X_test, Y_test, num_iters, learning_rate,n_classes):\n",
        "  w, b, loss = train(X_train, Y_train, num_iters, learning_rate, n_classes)\n",
        "  #predict test/train set examples \n",
        "  Y_pred_test = predict(w, b, X_test)\n",
        "  Y_pred_train = predict(w, b, X_train)\n",
        "  #use argmax to return indices of the maximum values along an axis\n",
        "  Y_true_test = np.argmax(Y_test, axis=0)\n",
        "  Y_true_train = np.argmax(Y_train,axis=0)\n",
        "                         \n",
        "\n",
        "  #print train/test Errors\n",
        "  print(\"\")\n",
        "  print(\"train accuracy: {} %\".format(100*sum(Y_pred_train==Y_true_train)/(float(len(Y_train)))))\n",
        "  print(\"test accuracy: {} %\".format(100*sum(Y_pred_test==Y_true_test)/(float(len(Y_test)))))\n",
        " \n",
        "  d = {\"costs\": loss, \"Y_pred_test\": Y_pred_test, \n",
        "        \"Y_pred_train\" : Y_pred_train, \n",
        "        \"w\" : w, \n",
        "        \"b\" : b,\n",
        "        \"learning_rate\" : learning_rate,\n",
        "        \"num_iters\": num_iters}\n",
        "    \n",
        "  return d"
      ],
      "execution_count": 0,
      "outputs": []
    },
    {
      "metadata": {
        "id": "smB0hnnT1moN",
        "colab_type": "code",
        "outputId": "0c0c263d-895d-4398-bf7a-215d67a7620a",
        "colab": {
          "base_uri": "https://localhost:8080/",
          "height": 451
        }
      },
      "cell_type": "code",
      "source": [
        "d = model(x_train, y_train_origin, x_test, y_test_origin, num_iters=20, learning_rate=0.01,n_classes=10)"
      ],
      "execution_count": 214,
      "outputs": [
        {
          "output_type": "stream",
          "text": [
            "Iteration number: 0, loss: 3.327\n",
            "Iteration number: 1, loss: 15.4339\n",
            "Iteration number: 2, loss: 3.7848\n",
            "Iteration number: 3, loss: 1.3359\n",
            "Iteration number: 4, loss: 6.6016\n",
            "Iteration number: 5, loss: 0.2474\n",
            "Iteration number: 6, loss: 2.567\n",
            "Iteration number: 7, loss: 2.6395\n",
            "Iteration number: 8, loss: 0.0626\n",
            "Iteration number: 9, loss: 5.6585\n",
            "Iteration number: 10, loss: 4.2829\n",
            "Iteration number: 11, loss: 3.7496\n",
            "Iteration number: 12, loss: 3.4441\n",
            "Iteration number: 13, loss: 3.4822\n",
            "Iteration number: 14, loss: 5.7809\n",
            "Iteration number: 15, loss: 6.8418\n",
            "Iteration number: 16, loss: 4.6019\n",
            "Iteration number: 17, loss: 8.227\n",
            "Iteration number: 18, loss: 2.5936\n",
            "Iteration number: 19, loss: 4.9434\n",
            "[4 1 1 ... 1 9 0]\n",
            "[6 0 1 ... 3 0 9]\n",
            "\n",
            "train accuracy: 13.116666666666667 %\n",
            "test accuracy: 2.15 %\n"
          ],
          "name": "stdout"
        }
      ]
    },
    {
      "metadata": {
        "id": "nsWFAbpYeGEd",
        "colab_type": "code",
        "colab": {}
      },
      "cell_type": "code",
      "source": [
        ""
      ],
      "execution_count": 0,
      "outputs": []
    }
  ]
}