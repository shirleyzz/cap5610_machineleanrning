{
  "nbformat": 4,
  "nbformat_minor": 0,
  "metadata": {
    "colab": {
      "name": "HW3.ipynb",
      "version": "0.3.2",
      "provenance": [],
      "collapsed_sections": [],
      "include_colab_link": true
    },
    "kernelspec": {
      "name": "python3",
      "display_name": "Python 3"
    }
  },
  "cells": [
    {
      "cell_type": "markdown",
      "metadata": {
        "id": "view-in-github",
        "colab_type": "text"
      },
      "source": [
        "<a href=\"https://colab.research.google.com/github/shirleyzz/cap5610_machineleanrning/blob/master/HW3.ipynb\" target=\"_parent\"><img src=\"https://colab.research.google.com/assets/colab-badge.svg\" alt=\"Open In Colab\"/></a>"
      ]
    },
    {
      "metadata": {
        "id": "YxtoTwJz71fi",
        "colab_type": "code",
        "colab": {}
      },
      "cell_type": "code",
      "source": [
        "#Load the training and test data using Keras\n",
        "from keras.datasets import mnist\n",
        "import numpy as np\n",
        "from keras import backend as K\n",
        "import keras"
      ],
      "execution_count": 0,
      "outputs": []
    },
    {
      "metadata": {
        "id": "bKebYiAev5mF",
        "colab_type": "code",
        "colab": {}
      },
      "cell_type": "code",
      "source": [
        "(x_train_origin, y_train_origin),(x_test_origin, y_test_origin) = mnist.load_data()\n",
        "x_train, x_test = x_train_origin / 255.0, x_test_origin / 255.0"
      ],
      "execution_count": 0,
      "outputs": []
    },
    {
      "metadata": {
        "id": "hVWJ8ysK-CmP",
        "colab_type": "code",
        "colab": {}
      },
      "cell_type": "code",
      "source": [
        "#func = lambda x: 1 if x == 1 else 0\n",
        "#train a classifier that perform 10 output neurons\n",
        "x_train = x_train_origin.reshape((60000, 28 * 28))\n",
        "x_train = x_train_origin.astype('float32') / 255\n",
        "\n",
        "x_test = x_test_origin.reshape((10000, 28 * 28))\n",
        "x_test = x_test_origin.astype('float32') / 255"
      ],
      "execution_count": 0,
      "outputs": []
    },
    {
      "metadata": {
        "id": "8KOwR3sfs2r1",
        "colab_type": "code",
        "colab": {
          "base_uri": "https://localhost:8080/",
          "height": 34
        },
        "outputId": "45128388-7c5c-4a7f-f4ba-5918e484ca61"
      },
      "cell_type": "code",
      "source": [
        "y_train_origin.shape"
      ],
      "execution_count": 21,
      "outputs": [
        {
          "output_type": "execute_result",
          "data": {
            "text/plain": [
              "(60000,)"
            ]
          },
          "metadata": {
            "tags": []
          },
          "execution_count": 21
        }
      ]
    },
    {
      "metadata": {
        "id": "ww42-2p0uSh5",
        "colab_type": "code",
        "colab": {
          "base_uri": "https://localhost:8080/",
          "height": 34
        },
        "outputId": "d3b246d4-380a-4e17-8b26-a3c29064868c"
      },
      "cell_type": "code",
      "source": [
        "y_train_origin"
      ],
      "execution_count": 24,
      "outputs": [
        {
          "output_type": "execute_result",
          "data": {
            "text/plain": [
              "array([5, 0, 4, ..., 5, 6, 8], dtype=uint8)"
            ]
          },
          "metadata": {
            "tags": []
          },
          "execution_count": 24
        }
      ]
    },
    {
      "metadata": {
        "id": "7_DOcx2itpMZ",
        "colab_type": "code",
        "colab": {
          "base_uri": "https://localhost:8080/",
          "height": 34
        },
        "outputId": "f793f85e-d94e-4a7b-cf72-282283cff64d"
      },
      "cell_type": "code",
      "source": [
        "x_train.shape"
      ],
      "execution_count": 22,
      "outputs": [
        {
          "output_type": "execute_result",
          "data": {
            "text/plain": [
              "(60000, 28, 28)"
            ]
          },
          "metadata": {
            "tags": []
          },
          "execution_count": 22
        }
      ]
    },
    {
      "metadata": {
        "id": "AwyLZItxsxNt",
        "colab_type": "code",
        "colab": {}
      },
      "cell_type": "code",
      "source": [
        "#train_labels = to_categorical(train_labels_original)\n",
        "#train_labels = train_labels.reshape((60000, 10, 1))\n",
        "\n",
        "#test_labels = to_categorical(test_labels_original)\n",
        "#test_labels = test_labels.reshape(10000, 10, 1)"
      ],
      "execution_count": 0,
      "outputs": []
    },
    {
      "metadata": {
        "id": "66-egzK-EWVZ",
        "colab_type": "code",
        "colab": {}
      },
      "cell_type": "code",
      "source": [
        "# y_train = np.array([func(y) for y in y_train_origin])\n",
        "# y_test = np.array([func(y) for y in y_test_origin])"
      ],
      "execution_count": 0,
      "outputs": []
    },
    {
      "metadata": {
        "id": "8ux2HdzI2GLm",
        "colab_type": "code",
        "colab": {}
      },
      "cell_type": "code",
      "source": [
        "x_train = x_train.reshape(x_train.shape[0], -1).T\n",
        "x_test = x_test.reshape(x_test.shape[0], -1).T\n",
        "\n",
        "#y_train = y_train.reshape(10,y_train_origin.shape[0])\n",
        "#y_test = y_test.reshape(10,y_test_origin.shape[0])"
      ],
      "execution_count": 0,
      "outputs": []
    },
    {
      "metadata": {
        "id": "jlFgDMdB-sHg",
        "colab_type": "text"
      },
      "cell_type": "markdown",
      "source": [
        "Each of the ten classifiers has an input layer consisting of 28 x 28 input neurons and an output layer consisting of a single output neuron.\n"
      ]
    },
    {
      "metadata": {
        "id": "Aq3CA28OiYav",
        "colab_type": "code",
        "outputId": "870e1f65-aed0-475b-d654-1e0fa0aa2800",
        "colab": {
          "base_uri": "https://localhost:8080/",
          "height": 34
        }
      },
      "cell_type": "code",
      "source": [
        "test_images.shape"
      ],
      "execution_count": 0,
      "outputs": [
        {
          "output_type": "execute_result",
          "data": {
            "text/plain": [
              "(10000, 784)"
            ]
          },
          "metadata": {
            "tags": []
          },
          "execution_count": 66
        }
      ]
    },
    {
      "metadata": {
        "id": "liIVwFkribyf",
        "colab_type": "code",
        "colab": {}
      },
      "cell_type": "code",
      "source": [
        "#convert to labels\n"
      ],
      "execution_count": 0,
      "outputs": []
    },
    {
      "metadata": {
        "id": "1lklLOJC-eYR",
        "colab_type": "code",
        "outputId": "dfbf4cfa-db22-4aa8-c75c-3f631a223a7f",
        "colab": {
          "base_uri": "https://localhost:8080/",
          "height": 34
        }
      },
      "cell_type": "code",
      "source": [
        "train_labels.shape"
      ],
      "execution_count": 0,
      "outputs": [
        {
          "output_type": "execute_result",
          "data": {
            "text/plain": [
              "(60000, 10)"
            ]
          },
          "metadata": {
            "tags": []
          },
          "execution_count": 67
        }
      ]
    },
    {
      "metadata": {
        "id": "gmz8kSBSubIE",
        "colab_type": "code",
        "outputId": "0a3bb468-9492-4367-fd2c-fc875d7ea423",
        "colab": {
          "base_uri": "https://localhost:8080/",
          "height": 34
        }
      },
      "cell_type": "code",
      "source": [
        "test_labels.shape"
      ],
      "execution_count": 0,
      "outputs": [
        {
          "output_type": "execute_result",
          "data": {
            "text/plain": [
              "(10000, 10)"
            ]
          },
          "metadata": {
            "tags": []
          },
          "execution_count": 68
        }
      ]
    },
    {
      "metadata": {
        "id": "Jdf4a9j8-jsO",
        "colab_type": "code",
        "outputId": "f694dcbb-4216-4d93-bbaf-d3e1804f9621",
        "colab": {
          "base_uri": "https://localhost:8080/",
          "height": 214
        }
      },
      "cell_type": "code",
      "source": [
        "import matplotlib.pyplot as plt\n",
        "plt.imshow(train_images_original[5])\n",
        "plt.grid(None)\n",
        "plt.show()"
      ],
      "execution_count": 25,
      "outputs": [
        {
          "output_type": "error",
          "ename": "NameError",
          "evalue": "ignored",
          "traceback": [
            "\u001b[0;31m---------------------------------------------------------------------------\u001b[0m",
            "\u001b[0;31mNameError\u001b[0m                                 Traceback (most recent call last)",
            "\u001b[0;32m<ipython-input-25-38d3e6fd2f6f>\u001b[0m in \u001b[0;36m<module>\u001b[0;34m()\u001b[0m\n\u001b[1;32m      1\u001b[0m \u001b[0;32mimport\u001b[0m \u001b[0mmatplotlib\u001b[0m\u001b[0;34m.\u001b[0m\u001b[0mpyplot\u001b[0m \u001b[0;32mas\u001b[0m \u001b[0mplt\u001b[0m\u001b[0;34m\u001b[0m\u001b[0;34m\u001b[0m\u001b[0m\n\u001b[0;32m----> 2\u001b[0;31m \u001b[0mplt\u001b[0m\u001b[0;34m.\u001b[0m\u001b[0mimshow\u001b[0m\u001b[0;34m(\u001b[0m\u001b[0mtrain_images_original\u001b[0m\u001b[0;34m[\u001b[0m\u001b[0;36m5\u001b[0m\u001b[0;34m]\u001b[0m\u001b[0;34m)\u001b[0m\u001b[0;34m\u001b[0m\u001b[0;34m\u001b[0m\u001b[0m\n\u001b[0m\u001b[1;32m      3\u001b[0m \u001b[0mplt\u001b[0m\u001b[0;34m.\u001b[0m\u001b[0mgrid\u001b[0m\u001b[0;34m(\u001b[0m\u001b[0;32mNone\u001b[0m\u001b[0;34m)\u001b[0m\u001b[0;34m\u001b[0m\u001b[0;34m\u001b[0m\u001b[0m\n\u001b[1;32m      4\u001b[0m \u001b[0mplt\u001b[0m\u001b[0;34m.\u001b[0m\u001b[0mshow\u001b[0m\u001b[0;34m(\u001b[0m\u001b[0;34m)\u001b[0m\u001b[0;34m\u001b[0m\u001b[0;34m\u001b[0m\u001b[0m\n",
            "\u001b[0;31mNameError\u001b[0m: name 'train_images_original' is not defined"
          ]
        }
      ]
    },
    {
      "metadata": {
        "id": "A5GvcFaY_l-6",
        "colab_type": "code",
        "cellView": "both",
        "colab": {}
      },
      "cell_type": "code",
      "source": [
        "#@title\n",
        "class Perceptron(object):\n",
        "  \"\"\"\n",
        "  define hyperparameter:\n",
        "  learning_rate: 0-1, float\n",
        "  n_iter: int, number of iterations\n",
        "  define attributes:\n",
        "  w:weight\n",
        "  errors:\n",
        "  \"\"\"\n",
        "  def __init__(self,learning_rate=0.01,n_iter=10, epochs=10):\n",
        "    self.learning_rate = learning_rate\n",
        "    self.n_iter = n_iter\n",
        "    self.epochs = epochs\n",
        "  def fit(self,X,y):\n",
        "    self.w = np.zeros(1+X.shape[1])\n",
        "    self.errors = []\n",
        "    for i in range(self.n_iter):\n",
        "      error = 0\n",
        "      new_weight = self.stochas_gradient_descent(X,y)\n",
        "      for xi, target in zip(X,y):\n",
        "        self.w[1:] = stochas_gradient_descent(X,y)\n",
        "        update = self.learning_rate * (target - self.predict(xi))\n",
        "        self.w[1:] += update*xi\n",
        "        self.w[0] += update\n",
        "        error += int(update != 0.0)\n",
        "      self.errors.append(error)\n",
        "    return self\n",
        "  def sigmoid(z):\n",
        "    s = 1/(1 + np.exp(-z))\n",
        "    return s\n",
        "  def stochas_gradient_descent(self,X,y):\n",
        "    weight = self.w\n",
        "    m = X.shape[0]\n",
        "    X_b = np.c_[np.ones((m, 1)), X]\n",
        "    weight_path_mgd = []\n",
        "    batch_size = 4\n",
        "    weight_path_mgd.append(self.w)\n",
        "    for epoch in range(self.epochs):\n",
        "      shuffled_indices = np.random.permutation(m)\n",
        "      X_b_shuffled = X_b[shuffled_indices]\n",
        "      y_shuffled = y[shuffled_indices]\n",
        "      for i in range(0, m, batch_size):\n",
        "        xi = X_b_shuffled[i:i+batch_size]\n",
        "        yi = y_shuffled[i:i+batch_size]\n",
        "        gradient = 2/batch_size * xi.T.dot(xi.dot(weight) - yi)\n",
        "        weight = weight - lr * gradient\n",
        "        weight_path_mgd.append(weight)\n",
        "    return weight_path_mgd\n",
        "  def propagate(w, b, X, Y):\n",
        "    m = X.shape[1]\n",
        "    A = sigmoid(np.dot(w.T, X) + b)                                       \n",
        "    cost = -1./m * np.sum(Y * np.log(A) + (1 - Y) * np.log(1-A))  \n",
        "    dw = (1/m)*np.dot(X,(A-Y).T)\n",
        "    db = 1/m*np.sum(A-Y)\n",
        "  \n",
        "    assert(dw.shape == w.shape)\n",
        "    assert(db.dtype == float)\n",
        "\n",
        "    cost = np.squeeze(cost)\n",
        "    assert(cost.shape == ())\n",
        "    grads = {\"dw\": dw,\n",
        "             \"db\": db}\n",
        "    return grads, cost\n",
        "  def predict(self,X):\n",
        "    return np.argmax(sigmoid(X) < 0.5, 0, 1)"
      ],
      "execution_count": 0,
      "outputs": []
    },
    {
      "metadata": {
        "id": "LVDgI6FHHokM",
        "colab_type": "code",
        "colab": {}
      },
      "cell_type": "code",
      "source": [
        "def softmax(x):\n",
        "\"\"\"Compute the softmax of vector x.\"\"\"\n",
        "    exp_x = np.exp(x)\n",
        "    softmax_x = exp_x / np.sum(exp_x)\n",
        "    return softmax_x "
      ],
      "execution_count": 0,
      "outputs": []
    },
    {
      "metadata": {
        "id": "THW9q3YPc61M",
        "colab_type": "code",
        "colab": {}
      },
      "cell_type": "code",
      "source": [
        "def initialize_params_with_zeros(dim):\n",
        "    \"\"\"\n",
        "    This function creates a vector of zeros of shape (dim, 1) for w and initializes b to 0.\n",
        "    \"\"\"\n",
        "   \n",
        "    w = np.zeros((dim,1))\n",
        "    b = 0\n",
        "  \n",
        "    assert(w.shape == (dim, 1))\n",
        "    assert(isinstance(b, float) or isinstance(b, int))\n",
        "    \n",
        "    return w, b"
      ],
      "execution_count": 0,
      "outputs": []
    },
    {
      "metadata": {
        "id": "csh05ZwdzEYI",
        "colab_type": "code",
        "colab": {}
      },
      "cell_type": "code",
      "source": [
        "def propagate(w, b, X, Y):\n",
        "    \n",
        "    m = X.shape[1]\n",
        "    A = softmax(np.dot(w.T, X) + b)\n",
        "    print(A.shape)\n",
        "    print(Y.shape)\n",
        "    loss = (1/m) * np.sum(np.square(Y - A))\n",
        "    #loss = -1./m * np.sum(Y * np.log(A) + (1 - Y) * np.log(1-A)) \n",
        "    \n",
        "    dL = A - Y\n",
        "    dA = A * (1 - A) * dL\n",
        "    \n",
        "    #dw = (1/m)*np.dot(X,dA.T)\n",
        "    #db = 1/m*np.sum(dA)\n",
        "    \n",
        "    dw = (1/m) * np.dot(X, (A - Y).T)\n",
        "    db = (1/m) * np.sum(A - Y)\n",
        "\n",
        "    #cost = np.squeeze(cost)\n",
        "    #assert(cost.shape == ())\n",
        "    grads = {\"dw\": dw,\n",
        "             \"db\": db}\n",
        "    return grads, loss"
      ],
      "execution_count": 0,
      "outputs": []
    },
    {
      "metadata": {
        "id": "MwJQ5NXRdSp1",
        "colab_type": "code",
        "colab": {}
      },
      "cell_type": "code",
      "source": [
        "# GRADED FUNCTION: optimize\n",
        "def optimize(w, b, X, Y, num_iters, learning_rate, print_cost=False):\n",
        "    costs = []\n",
        "    for i in range(num_iters):\n",
        "        # Cost and gradient calculation \n",
        "        grads, cost = propagate(w, b, X, Y)                                 \n",
        "        # Retrieve derivatives from grads\n",
        "        dw = grads[\"dw\"]\n",
        "        db = grads[\"db\"]\n",
        "        # update rule \n",
        "        w = w - learning_rate *  dw    # Update the weight with the gradient descent rule. Need to broadcast\n",
        "        b = b - learning_rate *  db\n",
        "        \n",
        "        # Record the costs\n",
        "        if i % 100 == 0:\n",
        "            costs.append(cost)\n",
        "        # Print the cost every 100 training examples\n",
        "        if print_cost and (i % 100 == 0 or i == num_iters - 1):\n",
        "            print (\"Cost after iteration %i: %f\" % (i, cost))\n",
        "    \n",
        "    params = {\"w\": w,\n",
        "              \"b\": b}\n",
        "    \n",
        "    grads = {\"dw\": dw,\n",
        "             \"db\": db}\n",
        "  \n",
        "    return params, grads, costs"
      ],
      "execution_count": 0,
      "outputs": []
    },
    {
      "metadata": {
        "id": "TXSC79lMdoRk",
        "colab_type": "code",
        "colab": {}
      },
      "cell_type": "code",
      "source": [
        "#  predict\n",
        "def predict(w, b, X):\n",
        "    m = X.shape[1]\n",
        "    Y_pred = np.zeros((1, m))\n",
        "    w = w.reshape(X.shape[0], 1)\n",
        "    \n",
        "    # Compute the prediction vector \"A\" containing the probabilities\n",
        "    A = sigmoid(np.dot(w.T, X) + b)\n",
        "       \n",
        "    for i in range(A.shape[0]):\n",
        "        # Convert probabilities a[0,i] to actual predictions p[0,i]\n",
        "        if A[0][i] <= 0.5:\n",
        "            Y_pred[0, i] = 0\n",
        "        else:\n",
        "            Y_pred[0, i] = 1\n",
        "    assert(Y_pred.shape == (1, m))\n",
        "    \n",
        "    return Y_pred"
      ],
      "execution_count": 0,
      "outputs": []
    },
    {
      "metadata": {
        "id": "AfTknRu9dvQ9",
        "colab_type": "code",
        "colab": {}
      },
      "cell_type": "code",
      "source": [
        "# GRADED FUNCTION: model\n",
        "def model(X_train, Y_train, X_test, Y_test, num_iters=2000, learning_rate=0.5, print_cost=False):\n",
        "    \"\"\"\n",
        "    Builds the logistic regression model by calling the function you've implemented previously\n",
        "    \n",
        "    Arguments:\n",
        "    X_train -- training set represented by a numpy array of shape (num_px * num_px * 3, m_train)\n",
        "    Y_train -- training labels represented by a numpy array (vector) of shape (1, m_train)\n",
        "    X_test -- test set represented by a numpy array of shape (num_px * num_px * 3, m_test)\n",
        "    Y_test -- test labels represented by a numpy array (vector) of shape (1, m_test)\n",
        "    num_iters -- hyperparameter representing the number of iterations to optimize the parameters\n",
        "    learning_rate -- hyperparameter representing the learning rate used in the update rule of optimize()\n",
        "    print_cost -- Set to true to print the cost every 100 iterations\n",
        "    \n",
        "    Returns:\n",
        "    d -- dictionary containing information about the model.\n",
        "    \"\"\"\n",
        "    \n",
        "    ### START CODE HERE ###\n",
        "    # initialize parameters with zeros \n",
        "    w, b = initialize_params_with_zeros(X_train.shape[0])                          \n",
        "\n",
        "    # Gradient descent \n",
        "    parameters, grads, costs = optimize(w, b, X_train, Y_train, num_iters, learning_rate, print_cost=False)     \n",
        "    \n",
        "    # Retrieve parameters w and b from dictionary \"parameters\"\n",
        "    w = parameters[\"w\"]\n",
        "    b = parameters[\"b\"]\n",
        "    \n",
        "    # Predict test/train set examples \n",
        "    Y_pred_test = predict(w, b, X_test)\n",
        "    Y_pred_train = predict(w, b, X_train)\n",
        "\n",
        "    # Print train/test Errors\n",
        "    print(\"\")\n",
        "    print(\"train accuracy: {} %\".format(100 - np.mean(np.abs(Y_pred_train - Y_train)) * 100))\n",
        "    print(\"test accuracy: {} %\".format(100 - np.mean(np.abs(Y_pred_test - Y_test)) * 100))\n",
        "    repr('train accuracy')\n",
        "\n",
        "\n",
        "    \n",
        "    d = {\"costs\": costs,\n",
        "         \"Y_pred_test\": Y_pred_test, \n",
        "         \"Y_pred_train\" : Y_pred_train, \n",
        "         \"w\" : w, \n",
        "         \"b\" : b,\n",
        "         \"learning_rate\" : learning_rate,\n",
        "         \"num_iters\": num_iters}\n",
        "    \n",
        "    return d"
      ],
      "execution_count": 0,
      "outputs": []
    },
    {
      "metadata": {
        "id": "qrQFok5_dxAd",
        "colab_type": "code",
        "outputId": "e80f3a7f-5cef-464b-f854-d12970863a7c",
        "colab": {
          "base_uri": "https://localhost:8080/",
          "height": 408
        }
      },
      "cell_type": "code",
      "source": [
        "d = model(x_train, y_train_origin, x_test, y_test_origin, num_iters=10, learning_rate=0.5, print_cost=True)"
      ],
      "execution_count": 0,
      "outputs": [
        {
          "output_type": "stream",
          "text": [
            "(1, 60000)\n",
            "(1, 60000)\n",
            "(1, 60000)\n",
            "(1, 60000)\n",
            "(1, 60000)\n",
            "(1, 60000)\n",
            "(1, 60000)\n",
            "(1, 60000)\n",
            "(1, 60000)\n",
            "(1, 60000)\n",
            "(1, 60000)\n",
            "(1, 60000)\n",
            "(1, 60000)\n",
            "(1, 60000)\n",
            "(1, 60000)\n",
            "(1, 60000)\n",
            "(1, 60000)\n",
            "(1, 60000)\n",
            "(1, 60000)\n",
            "(1, 60000)\n",
            "\n",
            "train accuracy: 88.76333333333334 %\n",
            "test accuracy: 88.65 %\n"
          ],
          "name": "stdout"
        }
      ]
    },
    {
      "metadata": {
        "id": "nsWFAbpYeGEd",
        "colab_type": "code",
        "colab": {}
      },
      "cell_type": "code",
      "source": [
        ""
      ],
      "execution_count": 0,
      "outputs": []
    }
  ]
}